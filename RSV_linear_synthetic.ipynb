{
 "cells": [
  {
   "cell_type": "code",
   "execution_count": 1,
   "id": "e075bbfc",
   "metadata": {},
   "outputs": [],
   "source": [
    "# limit the number of threads used by xgboost models\n",
    "import os\n",
    "os.environ[\"OMP_NUM_THREADS\"] = \"8\"\n",
    "os.environ[\"OPENBLAS_NUM_THREADS\"] = \"8\"\n",
    "os.environ[\"MKL_NUM_THREADS\"] = \"8\"\n",
    "os.environ[\"VECLIB_MAXIMUM_THREADS\"] = \"8\"\n",
    "os.environ[\"NUMEXPR_NUM_THREADS\"] = \"8\"\n",
    "\n",
    "# standard libaries\n",
    "import sys\n",
    "import copy\n",
    "import dill\n",
    "from collections import defaultdict\n",
    "import numpy as np\n",
    "import pandas as pd\n",
    "import xgboost\n",
    "from sklearn.model_selection import train_test_split\n",
    "from sklearn.linear_model import LinearRegression\n",
    "import matplotlib.pyplot as plt\n",
    "import seaborn as sns\n",
    "import shap\n",
    "from graphviz import Digraph\n",
    "\n",
    "# flow specific packages\n",
    "if '../' not in sys.path:\n",
    "    sys.path = ['../'] + sys.path\n",
    "from flow import Node, CreditFlow, Graph, get_source_nodes, topo_sort, flatten_graph, eval_graph, boundary_graph, single_source_graph, viz_graph, save_graph, hcluster_graph\n",
    "from flow import ParallelCreditFlow, GraphExplainer, translator\n",
    "from flow import group_nodes, build_feature_graph\n",
    "from flow import CausalLinks, create_xgboost_f, create_linear_f\n",
    "from flow import edge_credits2edge_credit\n",
    "from on_manifold import OnManifoldExplainer, IndExplainer, FeatureAttribution\n",
    "from linear_evaluation import get_error, get_indirect_effect_flow, get_effect_asv, get_effect_ind, get_effect_manifold, get_direct_effect_flow\n",
    "from linear_evaluation import get_direct_effect_ground_truth, get_indirect_effect_ground_truth\n",
    "\n",
    "np.random.seed(42)"
   ]
  },
  {
   "cell_type": "markdown",
   "id": "4e9c296e",
   "metadata": {},
   "source": [
    "## Simple chain with linear model as per the paper"
   ]
  },
  {
   "cell_type": "markdown",
   "id": "8641a1e6",
   "metadata": {},
   "source": [
    "### Synthetic data"
   ]
  },
  {
   "cell_type": "code",
   "execution_count": 2,
   "id": "0dcc18ee",
   "metadata": {},
   "outputs": [
    {
     "data": {
      "text/html": [
       "<div>\n",
       "<style scoped>\n",
       "    .dataframe tbody tr th:only-of-type {\n",
       "        vertical-align: middle;\n",
       "    }\n",
       "\n",
       "    .dataframe tbody tr th {\n",
       "        vertical-align: top;\n",
       "    }\n",
       "\n",
       "    .dataframe thead th {\n",
       "        text-align: right;\n",
       "    }\n",
       "</style>\n",
       "<table border=\"1\" class=\"dataframe\">\n",
       "  <thead>\n",
       "    <tr style=\"text-align: right;\">\n",
       "      <th></th>\n",
       "      <th>X1</th>\n",
       "      <th>X2</th>\n",
       "      <th>X3</th>\n",
       "      <th>X4</th>\n",
       "      <th>X5</th>\n",
       "    </tr>\n",
       "  </thead>\n",
       "  <tbody>\n",
       "    <tr>\n",
       "      <th>0</th>\n",
       "      <td>0</td>\n",
       "      <td>0</td>\n",
       "      <td>0</td>\n",
       "      <td>0</td>\n",
       "      <td>0</td>\n",
       "    </tr>\n",
       "    <tr>\n",
       "      <th>1</th>\n",
       "      <td>1</td>\n",
       "      <td>1</td>\n",
       "      <td>5</td>\n",
       "      <td>1</td>\n",
       "      <td>1</td>\n",
       "    </tr>\n",
       "  </tbody>\n",
       "</table>\n",
       "</div>"
      ],
      "text/plain": [
       "   X1  X2  X3  X4  X5\n",
       "0   0   0   0   0   0\n",
       "1   1   1   5   1   1"
      ]
     },
     "execution_count": 2,
     "metadata": {},
     "output_type": "execute_result"
    }
   ],
   "source": [
    "#n = 100\n",
    "#x1 = np.random.randn(n)\n",
    "#x2 = np.random.randn(n)\n",
    "# x3 = 5*x1\n",
    "# x4 = x2\n",
    "# x5 = x2\n",
    "\n",
    "x1 = [0,1]\n",
    "x2 = [0,1]\n",
    "x3 = map(lambda x: x * 5, x1)\n",
    "x4 = map(lambda x: x, x2)\n",
    "x5 = map(lambda x: x, x2)\n",
    "\n",
    "X = pd.DataFrame.from_dict({'X1': x1, 'X2': x2, 'X3': x3, 'X4': x4, 'X5': x5}).loc[:, ['X1', 'X2', 'X3', 'X4', 'X5']]\n",
    "X"
   ]
  },
  {
   "cell_type": "markdown",
   "id": "a7d856f9",
   "metadata": {},
   "source": [
    "y has connection to and dependent on x1, x3, x4, x5; and x2 has no direct connection with y"
   ]
  },
  {
   "cell_type": "code",
   "execution_count": null,
   "id": "05602bf6",
   "metadata": {},
   "outputs": [],
   "source": [
    "# y = lambda x: x[:, 0] + x[:, 2] + x[:, 3]*2 + x[:, 4]*2\n",
    "# y_d = pd.DataFrame.from_dict({'Y': list(y(np.array(X)))})\n",
    "# pd.concat((X, y_d), 1)"
   ]
  },
  {
   "cell_type": "markdown",
   "id": "c93d883e",
   "metadata": {},
   "source": [
    "### Causal graph"
   ]
  },
  {
   "cell_type": "code",
   "execution_count": 3,
   "id": "ca4a2600",
   "metadata": {},
   "outputs": [],
   "source": [
    "## setting up enviroment for graph viz\n",
    "os.environ[\"PATH\"] += os.pathsep + 'C:/Users/vivianjiang/anaconda3/pkgs/graphviz-2.38-hfd603c8_2/Library/bin'"
   ]
  },
  {
   "cell_type": "code",
   "execution_count": 4,
   "id": "f21f59f0",
   "metadata": {},
   "outputs": [
    {
     "name": "stderr",
     "output_type": "stream",
     "text": [
      "0it [00:00, ?it/s]\n"
     ]
    },
    {
     "data": {
      "image/svg+xml": [
       "<?xml version=\"1.0\" encoding=\"UTF-8\" standalone=\"no\"?>\r\n",
       "<!DOCTYPE svg PUBLIC \"-//W3C//DTD SVG 1.1//EN\"\r\n",
       " \"http://www.w3.org/Graphics/SVG/1.1/DTD/svg11.dtd\">\r\n",
       "<!-- Generated by graphviz version 2.38.0 (20140413.2041)\r\n",
       " -->\r\n",
       "<!-- Pages: 1 -->\r\n",
       "<svg width=\"244pt\" height=\"188pt\"\r\n",
       " viewBox=\"0.00 0.00 244.00 188.00\" xmlns=\"http://www.w3.org/2000/svg\" xmlns:xlink=\"http://www.w3.org/1999/xlink\">\r\n",
       "<g id=\"graph0\" class=\"graph\" transform=\"scale(1 1) rotate(0) translate(4 184)\">\r\n",
       "<polygon fill=\"white\" stroke=\"none\" points=\"-4,4 -4,-184 240,-184 240,4 -4,4\"/>\r\n",
       "<!-- X3 -->\r\n",
       "<g id=\"node1\" class=\"node\"><title>X3</title>\r\n",
       "<ellipse fill=\"none\" stroke=\"black\" cx=\"27\" cy=\"-90\" rx=\"27\" ry=\"18\"/>\r\n",
       "<text text-anchor=\"middle\" x=\"27\" y=\"-86.3\" font-family=\"Times New Roman,serif\" font-size=\"14.00\">X3</text>\r\n",
       "</g>\r\n",
       "<!-- Y -->\r\n",
       "<g id=\"node2\" class=\"node\"><title>Y</title>\r\n",
       "<ellipse fill=\"none\" stroke=\"black\" cx=\"109\" cy=\"-162\" rx=\"27\" ry=\"18\"/>\r\n",
       "<text text-anchor=\"middle\" x=\"109\" y=\"-158.3\" font-family=\"Times New Roman,serif\" font-size=\"14.00\">Y</text>\r\n",
       "</g>\r\n",
       "<!-- X3&#45;&gt;Y -->\r\n",
       "<g id=\"edge1\" class=\"edge\"><title>X3&#45;&gt;Y</title>\r\n",
       "<path fill=\"none\" stroke=\"black\" d=\"M43.2006,-104.83C55.1828,-115.058 71.6915,-129.151 85.1751,-140.662\"/>\r\n",
       "<polygon fill=\"black\" stroke=\"black\" points=\"83.234,-143.606 93.1121,-147.437 87.7789,-138.283 83.234,-143.606\"/>\r\n",
       "</g>\r\n",
       "<!-- X1 -->\r\n",
       "<g id=\"node3\" class=\"node\"><title>X1</title>\r\n",
       "<ellipse fill=\"none\" stroke=\"black\" cx=\"82\" cy=\"-18\" rx=\"27\" ry=\"18\"/>\r\n",
       "<text text-anchor=\"middle\" x=\"82\" y=\"-14.3\" font-family=\"Times New Roman,serif\" font-size=\"14.00\">X1</text>\r\n",
       "</g>\r\n",
       "<!-- X1&#45;&gt;X3 -->\r\n",
       "<g id=\"edge2\" class=\"edge\"><title>X1&#45;&gt;X3</title>\r\n",
       "<path fill=\"none\" stroke=\"black\" d=\"M70.0658,-34.189C62.7864,-43.4536 53.3374,-55.4797 45.1456,-65.9056\"/>\r\n",
       "<polygon fill=\"black\" stroke=\"black\" points=\"42.337,-63.8151 38.9109,-73.8407 47.8413,-68.1399 42.337,-63.8151\"/>\r\n",
       "</g>\r\n",
       "<!-- X1&#45;&gt;Y -->\r\n",
       "<g id=\"edge3\" class=\"edge\"><title>X1&#45;&gt;Y</title>\r\n",
       "<path fill=\"none\" stroke=\"black\" d=\"M85.2568,-36.1285C89.8585,-60.3298 98.312,-104.789 103.791,-133.607\"/>\r\n",
       "<polygon fill=\"black\" stroke=\"black\" points=\"100.425,-134.641 105.732,-143.811 107.302,-133.333 100.425,-134.641\"/>\r\n",
       "</g>\r\n",
       "<!-- X4 -->\r\n",
       "<g id=\"node4\" class=\"node\"><title>X4</title>\r\n",
       "<ellipse fill=\"none\" stroke=\"black\" cx=\"137\" cy=\"-90\" rx=\"27\" ry=\"18\"/>\r\n",
       "<text text-anchor=\"middle\" x=\"137\" y=\"-86.3\" font-family=\"Times New Roman,serif\" font-size=\"14.00\">X4</text>\r\n",
       "</g>\r\n",
       "<!-- X1&#45;&gt;X4 -->\r\n",
       "<g id=\"edge4\" class=\"edge\"><title>X1&#45;&gt;X4</title>\r\n",
       "<path fill=\"none\" stroke=\"black\" d=\"M93.9342,-34.189C101.214,-43.4536 110.663,-55.4797 118.854,-65.9056\"/>\r\n",
       "<polygon fill=\"black\" stroke=\"black\" points=\"116.159,-68.1399 125.089,-73.8407 121.663,-63.8151 116.159,-68.1399\"/>\r\n",
       "</g>\r\n",
       "<!-- X4&#45;&gt;Y -->\r\n",
       "<g id=\"edge5\" class=\"edge\"><title>X4&#45;&gt;Y</title>\r\n",
       "<path fill=\"none\" stroke=\"black\" d=\"M130.364,-107.589C127.087,-115.784 123.056,-125.86 119.382,-135.045\"/>\r\n",
       "<polygon fill=\"black\" stroke=\"black\" points=\"116.052,-133.945 115.588,-144.53 122.552,-136.545 116.052,-133.945\"/>\r\n",
       "</g>\r\n",
       "<!-- X5 -->\r\n",
       "<g id=\"node5\" class=\"node\"><title>X5</title>\r\n",
       "<ellipse fill=\"none\" stroke=\"black\" cx=\"209\" cy=\"-90\" rx=\"27\" ry=\"18\"/>\r\n",
       "<text text-anchor=\"middle\" x=\"209\" y=\"-86.3\" font-family=\"Times New Roman,serif\" font-size=\"14.00\">X5</text>\r\n",
       "</g>\r\n",
       "<!-- X5&#45;&gt;Y -->\r\n",
       "<g id=\"edge6\" class=\"edge\"><title>X5&#45;&gt;Y</title>\r\n",
       "<path fill=\"none\" stroke=\"black\" d=\"M191.122,-103.515C175.718,-114.298 153.259,-130.019 135.72,-142.296\"/>\r\n",
       "<polygon fill=\"black\" stroke=\"black\" points=\"133.246,-139.756 127.06,-148.358 137.26,-145.49 133.246,-139.756\"/>\r\n",
       "</g>\r\n",
       "<!-- X2 -->\r\n",
       "<g id=\"node6\" class=\"node\"><title>X2</title>\r\n",
       "<ellipse fill=\"none\" stroke=\"black\" cx=\"181\" cy=\"-18\" rx=\"27\" ry=\"18\"/>\r\n",
       "<text text-anchor=\"middle\" x=\"181\" y=\"-14.3\" font-family=\"Times New Roman,serif\" font-size=\"14.00\">X2</text>\r\n",
       "</g>\r\n",
       "<!-- X2&#45;&gt;X4 -->\r\n",
       "<g id=\"edge7\" class=\"edge\"><title>X2&#45;&gt;X4</title>\r\n",
       "<path fill=\"none\" stroke=\"black\" d=\"M171.016,-34.8841C165.503,-43.655 158.537,-54.7363 152.347,-64.5838\"/>\r\n",
       "<polygon fill=\"black\" stroke=\"black\" points=\"149.303,-62.8498 146.945,-73.1788 155.23,-66.575 149.303,-62.8498\"/>\r\n",
       "</g>\r\n",
       "<!-- X2&#45;&gt;X5 -->\r\n",
       "<g id=\"edge8\" class=\"edge\"><title>X2&#45;&gt;X5</title>\r\n",
       "<path fill=\"none\" stroke=\"black\" d=\"M187.636,-35.589C190.913,-43.7836 194.944,-53.8605 198.618,-63.0452\"/>\r\n",
       "<polygon fill=\"black\" stroke=\"black\" points=\"195.448,-64.5452 202.412,-72.5301 201.948,-61.9454 195.448,-64.5452\"/>\r\n",
       "</g>\r\n",
       "</g>\r\n",
       "</svg>\r\n"
      ],
      "text/plain": [
       "<graphviz.files.Source at 0x1d841634190>"
      ]
     },
     "metadata": {},
     "output_type": "display_data"
    }
   ],
   "source": [
    "causal_links = CausalLinks()\n",
    "target_name = 'Y'\n",
    "feature_names = list(X.columns)\n",
    "\n",
    "# build causal links\n",
    "## causal_links.add_causes_effects(feature_names, target_name, lambda *args: f(np.vstack(args).T))\n",
    "causal_links.add_causes_effects(['X1','X3','X4','X5'], target_name, lambda x: x)\n",
    "causal_links.add_causes_effects('X1', 'X3', lambda x: x)\n",
    "causal_links.add_causes_effects('X1', 'X4', lambda x: x)\n",
    "causal_links.add_causes_effects('X2', 'X4', lambda x: x)\n",
    "causal_links.add_causes_effects('X2', 'X5', lambda x: x)\n",
    "causal_graph = build_feature_graph(X.fillna(X.mean()), causal_links, target_name=target_name)\n",
    "\n",
    "causal_graph.draw()"
   ]
  },
  {
   "cell_type": "markdown",
   "id": "43738f53",
   "metadata": {},
   "source": [
    "### (1) Calculate overall SHAP value by feeding foreground and background sample through linear equation and calculate impact"
   ]
  },
  {
   "cell_type": "code",
   "execution_count": 5,
   "id": "faaa2e44",
   "metadata": {},
   "outputs": [
    {
     "data": {
      "text/html": [
       "<div>\n",
       "<style scoped>\n",
       "    .dataframe tbody tr th:only-of-type {\n",
       "        vertical-align: middle;\n",
       "    }\n",
       "\n",
       "    .dataframe tbody tr th {\n",
       "        vertical-align: top;\n",
       "    }\n",
       "\n",
       "    .dataframe thead th {\n",
       "        text-align: right;\n",
       "    }\n",
       "</style>\n",
       "<table border=\"1\" class=\"dataframe\">\n",
       "  <thead>\n",
       "    <tr style=\"text-align: right;\">\n",
       "      <th></th>\n",
       "      <th>Y</th>\n",
       "    </tr>\n",
       "  </thead>\n",
       "  <tbody>\n",
       "    <tr>\n",
       "      <th>0</th>\n",
       "      <td>10</td>\n",
       "    </tr>\n",
       "  </tbody>\n",
       "</table>\n",
       "</div>"
      ],
      "text/plain": [
       "    Y\n",
       "0  10"
      ]
     },
     "execution_count": 5,
     "metadata": {},
     "output_type": "execute_result"
    }
   ],
   "source": [
    "background = X.iloc[[0]]\n",
    "foreground = X.iloc[[1]]\n",
    "\n",
    "y = lambda x: x[:, 0] + x[:, 2] + x[:, 3]*2 + x[:, 4]*2\n",
    "\n",
    "y_bg = pd.DataFrame.from_dict({'Y': list(y(np.array(background)))})\n",
    "y_fg = pd.DataFrame.from_dict({'Y': list(y(np.array(foreground)))})\n",
    "\n",
    "shap_0 = y_fg-y_bg \n",
    "\n",
    "shap_0"
   ]
  },
  {
   "cell_type": "markdown",
   "id": "7ac28d99",
   "metadata": {},
   "source": [
    "### (2) Calculate contribution of super node to X1, X2"
   ]
  },
  {
   "cell_type": "code",
   "execution_count": 38,
   "id": "32433ad8",
   "metadata": {},
   "outputs": [],
   "source": [
    "## Define source nodes\n",
    "source_node = ['X1','X2']"
   ]
  },
  {
   "cell_type": "code",
   "execution_count": null,
   "id": "00fd81cc",
   "metadata": {},
   "outputs": [],
   "source": [
    "## Contribution of edge (0,2)\n",
    "## case 1: edge (0,2) is inactive & edge (0,1) is inactive\n",
    "\n",
    "## case 2: edge (0,2) is inactive & edge (0,1) is active"
   ]
  },
  {
   "cell_type": "code",
   "execution_count": null,
   "id": "1d389bbd",
   "metadata": {},
   "outputs": [],
   "source": []
  },
  {
   "cell_type": "code",
   "execution_count": 35,
   "id": "c3e70d92",
   "metadata": {},
   "outputs": [],
   "source": [
    "# Generates 2^n from elements\n",
    "def powerset(elements: set):\n",
    "    result = [[]]\n",
    "    for a in elements:\n",
    "        result += [r + [a] for r in result]\n",
    "    return result\n",
    "\n",
    "#def brute_shap(xf: list, xb: list, model: any, features: set):\n",
    "def brute_shap(xf: list, xb: list, features: set):\n",
    "    phi = [0] * len(features)\n",
    "    for idx, feature in enumerate(features):\n",
    "        \n",
    "        # cause = causal.loc[causal.cause == feature, 0]\n",
    "        # effect = causal.loc[causal.cause == feature, 1]\n",
    "        \n",
    "        for S in powerset(features.difference({feature})):\n",
    "            S = set(S)\n",
    "            hs = pd.DataFrame([xf[j].item() if j in S else xb[j].item() for j in features]).transpose()  # Hybrid samples\n",
    "            hsi = pd.DataFrame([xf[j].item() if j in S.union({feature}) else xb[j].item() for j in features]).transpose()\n",
    "            hs.columns = features\n",
    "            hsi.columns = features\n",
    "            #fxs = model.predict(hs).item()  # Predictions\n",
    "            #fxsi = model.predict(hsi).item()\n",
    "            \n",
    "            y = lambda x: x[:, 0] + x[:, 2] + x[:, 3]*2 + x[:, 4]*2\n",
    "            \n",
    "            fxs = pd.DataFrame.from_dict({'Y': list(y(np.array(hs)))})\n",
    "            fxsi = pd.DataFrame.from_dict({'Y': list(y(np.array(hsi)))})\n",
    "\n",
    "            phi[idx] += W(len(S), len(features)) * (fxsi - fxs)  # Calculate phi contribution\n",
    "            \n",
    "            print(W(len(S), len(features)))\n",
    "    return phi"
   ]
  },
  {
   "cell_type": "code",
   "execution_count": 39,
   "id": "acb22b4c",
   "metadata": {},
   "outputs": [
    {
     "ename": "IndexError",
     "evalue": "index 2 is out of bounds for axis 1 with size 2",
     "output_type": "error",
     "traceback": [
      "\u001b[1;31m---------------------------------------------------------------------------\u001b[0m",
      "\u001b[1;31mIndexError\u001b[0m                                Traceback (most recent call last)",
      "\u001b[1;32m<ipython-input-39-207c56e7f173>\u001b[0m in \u001b[0;36m<module>\u001b[1;34m\u001b[0m\n\u001b[1;32m----> 1\u001b[1;33m \u001b[0mprint\u001b[0m\u001b[1;33m(\u001b[0m\u001b[0mbrute_shap\u001b[0m\u001b[1;33m(\u001b[0m\u001b[0mforeground\u001b[0m\u001b[1;33m,\u001b[0m \u001b[0mbackground\u001b[0m\u001b[1;33m,\u001b[0m \u001b[0mset\u001b[0m\u001b[1;33m(\u001b[0m\u001b[0msource_node\u001b[0m\u001b[1;33m)\u001b[0m\u001b[1;33m)\u001b[0m\u001b[1;33m)\u001b[0m\u001b[1;33m\u001b[0m\u001b[1;33m\u001b[0m\u001b[0m\n\u001b[0m",
      "\u001b[1;32m<ipython-input-35-42ab945ed061>\u001b[0m in \u001b[0;36mbrute_shap\u001b[1;34m(xf, xb, features)\u001b[0m\n\u001b[0;32m     25\u001b[0m             \u001b[0my\u001b[0m \u001b[1;33m=\u001b[0m \u001b[1;32mlambda\u001b[0m \u001b[0mx\u001b[0m\u001b[1;33m:\u001b[0m \u001b[0mx\u001b[0m\u001b[1;33m[\u001b[0m\u001b[1;33m:\u001b[0m\u001b[1;33m,\u001b[0m \u001b[1;36m0\u001b[0m\u001b[1;33m]\u001b[0m \u001b[1;33m+\u001b[0m \u001b[0mx\u001b[0m\u001b[1;33m[\u001b[0m\u001b[1;33m:\u001b[0m\u001b[1;33m,\u001b[0m \u001b[1;36m2\u001b[0m\u001b[1;33m]\u001b[0m \u001b[1;33m+\u001b[0m \u001b[0mx\u001b[0m\u001b[1;33m[\u001b[0m\u001b[1;33m:\u001b[0m\u001b[1;33m,\u001b[0m \u001b[1;36m3\u001b[0m\u001b[1;33m]\u001b[0m\u001b[1;33m*\u001b[0m\u001b[1;36m2\u001b[0m \u001b[1;33m+\u001b[0m \u001b[0mx\u001b[0m\u001b[1;33m[\u001b[0m\u001b[1;33m:\u001b[0m\u001b[1;33m,\u001b[0m \u001b[1;36m4\u001b[0m\u001b[1;33m]\u001b[0m\u001b[1;33m*\u001b[0m\u001b[1;36m2\u001b[0m\u001b[1;33m\u001b[0m\u001b[1;33m\u001b[0m\u001b[0m\n\u001b[0;32m     26\u001b[0m \u001b[1;33m\u001b[0m\u001b[0m\n\u001b[1;32m---> 27\u001b[1;33m             \u001b[0mfxs\u001b[0m \u001b[1;33m=\u001b[0m \u001b[0mpd\u001b[0m\u001b[1;33m.\u001b[0m\u001b[0mDataFrame\u001b[0m\u001b[1;33m.\u001b[0m\u001b[0mfrom_dict\u001b[0m\u001b[1;33m(\u001b[0m\u001b[1;33m{\u001b[0m\u001b[1;34m'Y'\u001b[0m\u001b[1;33m:\u001b[0m \u001b[0mlist\u001b[0m\u001b[1;33m(\u001b[0m\u001b[0my\u001b[0m\u001b[1;33m(\u001b[0m\u001b[0mnp\u001b[0m\u001b[1;33m.\u001b[0m\u001b[0marray\u001b[0m\u001b[1;33m(\u001b[0m\u001b[0mhs\u001b[0m\u001b[1;33m)\u001b[0m\u001b[1;33m)\u001b[0m\u001b[1;33m)\u001b[0m\u001b[1;33m}\u001b[0m\u001b[1;33m)\u001b[0m\u001b[1;33m\u001b[0m\u001b[1;33m\u001b[0m\u001b[0m\n\u001b[0m\u001b[0;32m     28\u001b[0m             \u001b[0mfxsi\u001b[0m \u001b[1;33m=\u001b[0m \u001b[0mpd\u001b[0m\u001b[1;33m.\u001b[0m\u001b[0mDataFrame\u001b[0m\u001b[1;33m.\u001b[0m\u001b[0mfrom_dict\u001b[0m\u001b[1;33m(\u001b[0m\u001b[1;33m{\u001b[0m\u001b[1;34m'Y'\u001b[0m\u001b[1;33m:\u001b[0m \u001b[0mlist\u001b[0m\u001b[1;33m(\u001b[0m\u001b[0my\u001b[0m\u001b[1;33m(\u001b[0m\u001b[0mnp\u001b[0m\u001b[1;33m.\u001b[0m\u001b[0marray\u001b[0m\u001b[1;33m(\u001b[0m\u001b[0mhsi\u001b[0m\u001b[1;33m)\u001b[0m\u001b[1;33m)\u001b[0m\u001b[1;33m)\u001b[0m\u001b[1;33m}\u001b[0m\u001b[1;33m)\u001b[0m\u001b[1;33m\u001b[0m\u001b[1;33m\u001b[0m\u001b[0m\n\u001b[0;32m     29\u001b[0m \u001b[1;33m\u001b[0m\u001b[0m\n",
      "\u001b[1;32m<ipython-input-35-42ab945ed061>\u001b[0m in \u001b[0;36m<lambda>\u001b[1;34m(x)\u001b[0m\n\u001b[0;32m     23\u001b[0m             \u001b[1;31m#fxsi = model.predict(hsi).item()\u001b[0m\u001b[1;33m\u001b[0m\u001b[1;33m\u001b[0m\u001b[1;33m\u001b[0m\u001b[0m\n\u001b[0;32m     24\u001b[0m \u001b[1;33m\u001b[0m\u001b[0m\n\u001b[1;32m---> 25\u001b[1;33m             \u001b[0my\u001b[0m \u001b[1;33m=\u001b[0m \u001b[1;32mlambda\u001b[0m \u001b[0mx\u001b[0m\u001b[1;33m:\u001b[0m \u001b[0mx\u001b[0m\u001b[1;33m[\u001b[0m\u001b[1;33m:\u001b[0m\u001b[1;33m,\u001b[0m \u001b[1;36m0\u001b[0m\u001b[1;33m]\u001b[0m \u001b[1;33m+\u001b[0m \u001b[0mx\u001b[0m\u001b[1;33m[\u001b[0m\u001b[1;33m:\u001b[0m\u001b[1;33m,\u001b[0m \u001b[1;36m2\u001b[0m\u001b[1;33m]\u001b[0m \u001b[1;33m+\u001b[0m \u001b[0mx\u001b[0m\u001b[1;33m[\u001b[0m\u001b[1;33m:\u001b[0m\u001b[1;33m,\u001b[0m \u001b[1;36m3\u001b[0m\u001b[1;33m]\u001b[0m\u001b[1;33m*\u001b[0m\u001b[1;36m2\u001b[0m \u001b[1;33m+\u001b[0m \u001b[0mx\u001b[0m\u001b[1;33m[\u001b[0m\u001b[1;33m:\u001b[0m\u001b[1;33m,\u001b[0m \u001b[1;36m4\u001b[0m\u001b[1;33m]\u001b[0m\u001b[1;33m*\u001b[0m\u001b[1;36m2\u001b[0m\u001b[1;33m\u001b[0m\u001b[1;33m\u001b[0m\u001b[0m\n\u001b[0m\u001b[0;32m     26\u001b[0m \u001b[1;33m\u001b[0m\u001b[0m\n\u001b[0;32m     27\u001b[0m             \u001b[0mfxs\u001b[0m \u001b[1;33m=\u001b[0m \u001b[0mpd\u001b[0m\u001b[1;33m.\u001b[0m\u001b[0mDataFrame\u001b[0m\u001b[1;33m.\u001b[0m\u001b[0mfrom_dict\u001b[0m\u001b[1;33m(\u001b[0m\u001b[1;33m{\u001b[0m\u001b[1;34m'Y'\u001b[0m\u001b[1;33m:\u001b[0m \u001b[0mlist\u001b[0m\u001b[1;33m(\u001b[0m\u001b[0my\u001b[0m\u001b[1;33m(\u001b[0m\u001b[0mnp\u001b[0m\u001b[1;33m.\u001b[0m\u001b[0marray\u001b[0m\u001b[1;33m(\u001b[0m\u001b[0mhs\u001b[0m\u001b[1;33m)\u001b[0m\u001b[1;33m)\u001b[0m\u001b[1;33m)\u001b[0m\u001b[1;33m}\u001b[0m\u001b[1;33m)\u001b[0m\u001b[1;33m\u001b[0m\u001b[1;33m\u001b[0m\u001b[0m\n",
      "\u001b[1;31mIndexError\u001b[0m: index 2 is out of bounds for axis 1 with size 2"
     ]
    }
   ],
   "source": [
    "print(brute_shap(foreground, background, set(source_node)))"
   ]
  }
 ],
 "metadata": {
  "kernelspec": {
   "display_name": "Python 3 (ipykernel)",
   "language": "python",
   "name": "python3"
  },
  "language_info": {
   "codemirror_mode": {
    "name": "ipython",
    "version": 3
   },
   "file_extension": ".py",
   "mimetype": "text/x-python",
   "name": "python",
   "nbconvert_exporter": "python",
   "pygments_lexer": "ipython3",
   "version": "3.8.5"
  }
 },
 "nbformat": 4,
 "nbformat_minor": 5
}
