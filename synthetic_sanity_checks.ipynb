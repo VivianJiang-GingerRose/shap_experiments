{
 "cells": [
  {
   "cell_type": "markdown",
   "id": "fffe5a40",
   "metadata": {},
   "source": [
    "## Synthetic sanity check examples"
   ]
  },
  {
   "cell_type": "markdown",
   "id": "549710e1",
   "metadata": {},
   "source": [
    "In this notebook, we show 2 synthetic sanity check examples: the chain dataset and the linear random graph example. The Latter example is used in the main text of the Shapley Flow paper"
   ]
  },
  {
   "cell_type": "code",
   "execution_count": 1,
   "id": "49cd954c",
   "metadata": {},
   "outputs": [],
   "source": [
    "# limit the number of threads used by xgboost models\n",
    "import os\n",
    "os.environ[\"OMP_NUM_THREADS\"] = \"8\"\n",
    "os.environ[\"OPENBLAS_NUM_THREADS\"] = \"8\"\n",
    "os.environ[\"MKL_NUM_THREADS\"] = \"8\"\n",
    "os.environ[\"VECLIB_MAXIMUM_THREADS\"] = \"8\"\n",
    "os.environ[\"NUMEXPR_NUM_THREADS\"] = \"8\"\n",
    "\n",
    "# standard libaries\n",
    "import sys\n",
    "import copy\n",
    "import dill\n",
    "from collections import defaultdict\n",
    "import numpy as np\n",
    "import pandas as pd\n",
    "import xgboost\n",
    "from sklearn.model_selection import train_test_split\n",
    "from sklearn.linear_model import LinearRegression\n",
    "import matplotlib.pyplot as plt\n",
    "import seaborn as sns\n",
    "import shap\n",
    "from graphviz import Digraph\n",
    "\n",
    "# flow specific packages\n",
    "if '../' not in sys.path:\n",
    "    sys.path = ['../'] + sys.path\n",
    "from flow import Node, CreditFlow, Graph, get_source_nodes, topo_sort, flatten_graph, eval_graph, boundary_graph, single_source_graph, viz_graph, save_graph, hcluster_graph\n",
    "from flow import ParallelCreditFlow, GraphExplainer, translator\n",
    "from flow import group_nodes, build_feature_graph\n",
    "from flow import CausalLinks, create_xgboost_f, create_linear_f\n",
    "from flow import edge_credits2edge_credit\n",
    "from on_manifold import OnManifoldExplainer, IndExplainer, FeatureAttribution\n",
    "from linear_evaluation import get_error, get_indirect_effect_flow, get_effect_asv, get_effect_ind, get_effect_manifold, get_direct_effect_flow\n",
    "from linear_evaluation import get_direct_effect_ground_truth, get_indirect_effect_ground_truth\n",
    "\n",
    "np.random.seed(42)"
   ]
  },
  {
   "cell_type": "markdown",
   "id": "00df3423",
   "metadata": {},
   "source": [
    "## The chain experiment"
   ]
  },
  {
   "cell_type": "code",
   "execution_count": 2,
   "id": "6a7cd6c1",
   "metadata": {},
   "outputs": [
    {
     "data": {
      "text/html": [
       "<div>\n",
       "<style scoped>\n",
       "    .dataframe tbody tr th:only-of-type {\n",
       "        vertical-align: middle;\n",
       "    }\n",
       "\n",
       "    .dataframe tbody tr th {\n",
       "        vertical-align: top;\n",
       "    }\n",
       "\n",
       "    .dataframe thead th {\n",
       "        text-align: right;\n",
       "    }\n",
       "</style>\n",
       "<table border=\"1\" class=\"dataframe\">\n",
       "  <thead>\n",
       "    <tr style=\"text-align: right;\">\n",
       "      <th></th>\n",
       "      <th>X1</th>\n",
       "      <th>X2</th>\n",
       "      <th>X3</th>\n",
       "      <th>X4</th>\n",
       "      <th>f</th>\n",
       "    </tr>\n",
       "  </thead>\n",
       "  <tbody>\n",
       "    <tr>\n",
       "      <th>0</th>\n",
       "      <td>0.496714</td>\n",
       "      <td>0.496714</td>\n",
       "      <td>0.496714</td>\n",
       "      <td>0.496714</td>\n",
       "      <td>0.496714</td>\n",
       "    </tr>\n",
       "    <tr>\n",
       "      <th>1</th>\n",
       "      <td>-0.138264</td>\n",
       "      <td>-0.138264</td>\n",
       "      <td>-0.138264</td>\n",
       "      <td>-0.138264</td>\n",
       "      <td>-0.138264</td>\n",
       "    </tr>\n",
       "    <tr>\n",
       "      <th>2</th>\n",
       "      <td>0.647689</td>\n",
       "      <td>0.647689</td>\n",
       "      <td>0.647689</td>\n",
       "      <td>0.647689</td>\n",
       "      <td>0.647689</td>\n",
       "    </tr>\n",
       "    <tr>\n",
       "      <th>3</th>\n",
       "      <td>1.523030</td>\n",
       "      <td>1.523030</td>\n",
       "      <td>1.523030</td>\n",
       "      <td>1.523030</td>\n",
       "      <td>1.523030</td>\n",
       "    </tr>\n",
       "    <tr>\n",
       "      <th>4</th>\n",
       "      <td>-0.234153</td>\n",
       "      <td>-0.234153</td>\n",
       "      <td>-0.234153</td>\n",
       "      <td>-0.234153</td>\n",
       "      <td>-0.234153</td>\n",
       "    </tr>\n",
       "    <tr>\n",
       "      <th>...</th>\n",
       "      <td>...</td>\n",
       "      <td>...</td>\n",
       "      <td>...</td>\n",
       "      <td>...</td>\n",
       "      <td>...</td>\n",
       "    </tr>\n",
       "    <tr>\n",
       "      <th>95</th>\n",
       "      <td>-1.463515</td>\n",
       "      <td>-1.463515</td>\n",
       "      <td>-1.463515</td>\n",
       "      <td>-1.463515</td>\n",
       "      <td>-1.463515</td>\n",
       "    </tr>\n",
       "    <tr>\n",
       "      <th>96</th>\n",
       "      <td>0.296120</td>\n",
       "      <td>0.296120</td>\n",
       "      <td>0.296120</td>\n",
       "      <td>0.296120</td>\n",
       "      <td>0.296120</td>\n",
       "    </tr>\n",
       "    <tr>\n",
       "      <th>97</th>\n",
       "      <td>0.261055</td>\n",
       "      <td>0.261055</td>\n",
       "      <td>0.261055</td>\n",
       "      <td>0.261055</td>\n",
       "      <td>0.261055</td>\n",
       "    </tr>\n",
       "    <tr>\n",
       "      <th>98</th>\n",
       "      <td>0.005113</td>\n",
       "      <td>0.005113</td>\n",
       "      <td>0.005113</td>\n",
       "      <td>0.005113</td>\n",
       "      <td>0.005113</td>\n",
       "    </tr>\n",
       "    <tr>\n",
       "      <th>99</th>\n",
       "      <td>-0.234587</td>\n",
       "      <td>-0.234587</td>\n",
       "      <td>-0.234587</td>\n",
       "      <td>-0.234587</td>\n",
       "      <td>-0.234587</td>\n",
       "    </tr>\n",
       "  </tbody>\n",
       "</table>\n",
       "<p>100 rows × 5 columns</p>\n",
       "</div>"
      ],
      "text/plain": [
       "          X1        X2        X3        X4         f\n",
       "0   0.496714  0.496714  0.496714  0.496714  0.496714\n",
       "1  -0.138264 -0.138264 -0.138264 -0.138264 -0.138264\n",
       "2   0.647689  0.647689  0.647689  0.647689  0.647689\n",
       "3   1.523030  1.523030  1.523030  1.523030  1.523030\n",
       "4  -0.234153 -0.234153 -0.234153 -0.234153 -0.234153\n",
       "..       ...       ...       ...       ...       ...\n",
       "95 -1.463515 -1.463515 -1.463515 -1.463515 -1.463515\n",
       "96  0.296120  0.296120  0.296120  0.296120  0.296120\n",
       "97  0.261055  0.261055  0.261055  0.261055  0.261055\n",
       "98  0.005113  0.005113  0.005113  0.005113  0.005113\n",
       "99 -0.234587 -0.234587 -0.234587 -0.234587 -0.234587\n",
       "\n",
       "[100 rows x 5 columns]"
      ]
     },
     "execution_count": 2,
     "metadata": {},
     "output_type": "execute_result"
    }
   ],
   "source": [
    "n = 100\n",
    "x1 = np.random.randn(n)\n",
    "x4 = x3 = x2 = x1\n",
    " \n",
    "X = pd.DataFrame.from_dict({'X1': x1, 'X2': x2, 'X3': x3, 'X4': x4}).loc[:, ['X1', 'X2', 'X3', 'X4']]\n",
    "f = lambda x: x[:, 3] # f only depend on X4\n",
    "f_d = pd.DataFrame.from_dict({'f': list(f(np.array(X)))})\n",
    "pd.concat((X, f_d), 1)"
   ]
  },
  {
   "cell_type": "markdown",
   "id": "2a92333a",
   "metadata": {},
   "source": [
    "Assume the following causal graph with f only depends on $X_4$ (despite having connection to all 4 variables)"
   ]
  },
  {
   "cell_type": "code",
   "execution_count": 3,
   "id": "c138f480",
   "metadata": {},
   "outputs": [],
   "source": [
    "## setting up enviroment for graph viz\n",
    "os.environ[\"PATH\"] += os.pathsep + 'C:/Users/vivianjiang/anaconda3/pkgs/graphviz-2.38-hfd603c8_2/Library/bin'"
   ]
  },
  {
   "cell_type": "code",
   "execution_count": 4,
   "id": "9acb36c9",
   "metadata": {},
   "outputs": [
    {
     "name": "stderr",
     "output_type": "stream",
     "text": [
      "0it [00:00, ?it/s]\n"
     ]
    },
    {
     "data": {
      "image/svg+xml": [
       "<?xml version=\"1.0\" encoding=\"UTF-8\" standalone=\"no\"?>\r\n",
       "<!DOCTYPE svg PUBLIC \"-//W3C//DTD SVG 1.1//EN\"\r\n",
       " \"http://www.w3.org/Graphics/SVG/1.1/DTD/svg11.dtd\">\r\n",
       "<!-- Generated by graphviz version 2.38.0 (20140413.2041)\r\n",
       " -->\r\n",
       "<!-- Pages: 1 -->\r\n",
       "<svg width=\"140pt\" height=\"332pt\"\r\n",
       " viewBox=\"0.00 0.00 139.99 332.00\" xmlns=\"http://www.w3.org/2000/svg\" xmlns:xlink=\"http://www.w3.org/1999/xlink\">\r\n",
       "<g id=\"graph0\" class=\"graph\" transform=\"scale(1 1) rotate(0) translate(4 328)\">\r\n",
       "<polygon fill=\"white\" stroke=\"none\" points=\"-4,4 -4,-328 135.994,-328 135.994,4 -4,4\"/>\r\n",
       "<!-- X2 -->\r\n",
       "<g id=\"node1\" class=\"node\"><title>X2</title>\r\n",
       "<ellipse fill=\"none\" stroke=\"black\" cx=\"77.9944\" cy=\"-90\" rx=\"27\" ry=\"18\"/>\r\n",
       "<text text-anchor=\"middle\" x=\"77.9944\" y=\"-86.3\" font-family=\"Times New Roman,serif\" font-size=\"14.00\">X2</text>\r\n",
       "</g>\r\n",
       "<!-- X3 -->\r\n",
       "<g id=\"node2\" class=\"node\"><title>X3</title>\r\n",
       "<ellipse fill=\"none\" stroke=\"black\" cx=\"39.9944\" cy=\"-162\" rx=\"27\" ry=\"18\"/>\r\n",
       "<text text-anchor=\"middle\" x=\"39.9944\" y=\"-158.3\" font-family=\"Times New Roman,serif\" font-size=\"14.00\">X3</text>\r\n",
       "</g>\r\n",
       "<!-- X2&#45;&gt;X3 -->\r\n",
       "<g id=\"edge1\" class=\"edge\"><title>X2&#45;&gt;X3</title>\r\n",
       "<path fill=\"none\" stroke=\"black\" d=\"M69.1809,-107.235C64.5767,-115.717 58.8394,-126.286 53.673,-135.803\"/>\r\n",
       "<polygon fill=\"black\" stroke=\"black\" points=\"50.4551,-134.394 48.7601,-144.853 56.607,-137.734 50.4551,-134.394\"/>\r\n",
       "</g>\r\n",
       "<!-- f -->\r\n",
       "<g id=\"node3\" class=\"node\"><title>f</title>\r\n",
       "<ellipse fill=\"none\" stroke=\"black\" cx=\"66.9944\" cy=\"-306\" rx=\"27\" ry=\"18\"/>\r\n",
       "<text text-anchor=\"middle\" x=\"66.9944\" y=\"-302.3\" font-family=\"Times New Roman,serif\" font-size=\"14.00\">f</text>\r\n",
       "</g>\r\n",
       "<!-- X2&#45;&gt;f -->\r\n",
       "<g id=\"edge2\" class=\"edge\"><title>X2&#45;&gt;f</title>\r\n",
       "<path fill=\"none\" stroke=\"black\" d=\"M78.6643,-108.438C79.603,-138.029 80.709,-199.94 75.9944,-252 75.225,-260.496 73.8576,-269.682 72.4174,-277.982\"/>\r\n",
       "<polygon fill=\"black\" stroke=\"black\" points=\"68.9594,-277.435 70.5937,-287.903 75.8441,-278.7 68.9594,-277.435\"/>\r\n",
       "</g>\r\n",
       "<!-- X3&#45;&gt;f -->\r\n",
       "<g id=\"edge3\" class=\"edge\"><title>X3&#45;&gt;f</title>\r\n",
       "<path fill=\"none\" stroke=\"black\" d=\"M26.4871,-177.687C11.835,-195.494 -7.9641,-226.312 3.9944,-252 11.0522,-267.161 24.818,-279.534 37.6861,-288.501\"/>\r\n",
       "<polygon fill=\"black\" stroke=\"black\" points=\"36.0699,-291.626 46.3579,-294.157 39.8942,-285.763 36.0699,-291.626\"/>\r\n",
       "</g>\r\n",
       "<!-- X4 -->\r\n",
       "<g id=\"node4\" class=\"node\"><title>X4</title>\r\n",
       "<ellipse fill=\"none\" stroke=\"black\" cx=\"39.9944\" cy=\"-234\" rx=\"27\" ry=\"18\"/>\r\n",
       "<text text-anchor=\"middle\" x=\"39.9944\" y=\"-230.3\" font-family=\"Times New Roman,serif\" font-size=\"14.00\">X4</text>\r\n",
       "</g>\r\n",
       "<!-- X3&#45;&gt;X4 -->\r\n",
       "<g id=\"edge4\" class=\"edge\"><title>X3&#45;&gt;X4</title>\r\n",
       "<path fill=\"none\" stroke=\"black\" d=\"M39.9944,-180.303C39.9944,-188.017 39.9944,-197.288 39.9944,-205.888\"/>\r\n",
       "<polygon fill=\"black\" stroke=\"black\" points=\"36.4945,-205.896 39.9944,-215.896 43.4945,-205.896 36.4945,-205.896\"/>\r\n",
       "</g>\r\n",
       "<!-- X4&#45;&gt;f -->\r\n",
       "<g id=\"edge7\" class=\"edge\"><title>X4&#45;&gt;f</title>\r\n",
       "<path fill=\"none\" stroke=\"black\" d=\"M46.393,-251.589C49.508,-259.665 53.3281,-269.569 56.829,-278.645\"/>\r\n",
       "<polygon fill=\"black\" stroke=\"black\" points=\"53.5899,-279.973 60.4541,-288.044 60.1209,-277.454 53.5899,-279.973\"/>\r\n",
       "</g>\r\n",
       "<!-- X1 -->\r\n",
       "<g id=\"node5\" class=\"node\"><title>X1</title>\r\n",
       "<ellipse fill=\"none\" stroke=\"black\" cx=\"104.994\" cy=\"-18\" rx=\"27\" ry=\"18\"/>\r\n",
       "<text text-anchor=\"middle\" x=\"104.994\" y=\"-14.3\" font-family=\"Times New Roman,serif\" font-size=\"14.00\">X1</text>\r\n",
       "</g>\r\n",
       "<!-- X1&#45;&gt;X2 -->\r\n",
       "<g id=\"edge5\" class=\"edge\"><title>X1&#45;&gt;X2</title>\r\n",
       "<path fill=\"none\" stroke=\"black\" d=\"M98.5958,-35.589C95.4808,-43.6648 91.6607,-53.5688 88.1598,-62.6453\"/>\r\n",
       "<polygon fill=\"black\" stroke=\"black\" points=\"84.8679,-61.4542 84.5346,-72.0438 91.3989,-63.9733 84.8679,-61.4542\"/>\r\n",
       "</g>\r\n",
       "<!-- X1&#45;&gt;f -->\r\n",
       "<g id=\"edge6\" class=\"edge\"><title>X1&#45;&gt;f</title>\r\n",
       "<path fill=\"none\" stroke=\"black\" d=\"M108.648,-36.0925C110.67,-46.4315 112.975,-59.9098 113.994,-72 120.765,-152.31 115.518,-174.914 91.9944,-252 89.1466,-261.332 84.9238,-271.111 80.7559,-279.691\"/>\r\n",
       "<polygon fill=\"black\" stroke=\"black\" points=\"77.5474,-278.28 76.1498,-288.782 83.7916,-281.444 77.5474,-278.28\"/>\r\n",
       "</g>\r\n",
       "</g>\r\n",
       "</svg>\r\n"
      ],
      "text/plain": [
       "<graphviz.files.Source at 0x15de5358190>"
      ]
     },
     "metadata": {},
     "output_type": "display_data"
    }
   ],
   "source": [
    "causal_links = CausalLinks()\n",
    "target_name = 'f'\n",
    "feature_names = list(X.columns)\n",
    "\n",
    "# build causal links\n",
    "causal_links.add_causes_effects(feature_names, target_name, lambda *args: f(np.vstack(args).T))\n",
    "causal_links.add_causes_effects('X1', 'X2', lambda x: x)\n",
    "causal_links.add_causes_effects('X2', 'X3', lambda x: x)\n",
    "causal_links.add_causes_effects('X3', 'X4', lambda x: x)\n",
    "causal_graph = build_feature_graph(X.fillna(X.mean()), causal_links, target_name=target_name)\n",
    "\n",
    "causal_graph.draw()"
   ]
  },
  {
   "cell_type": "markdown",
   "id": "c658cbd1",
   "metadata": {},
   "source": [
    "## Explanation settings"
   ]
  },
  {
   "cell_type": "code",
   "execution_count": 5,
   "id": "341ba71f",
   "metadata": {},
   "outputs": [],
   "source": [
    "nsamples = 100 # number of foreground samples to explain\n",
    "nruns = 100 # number of monte carlo samples\n",
    "sample_ind = 1\n",
    "bg = X.fillna(X.mean()).sample(1) # background sample, no need for multiple sample because of the linearity axiom\n",
    "fg = X[:nsamples] # foreground samples to explain"
   ]
  },
  {
   "cell_type": "markdown",
   "id": "a61c3445",
   "metadata": {},
   "source": [
    "## Explain"
   ]
  },
  {
   "cell_type": "code",
   "execution_count": 7,
   "id": "539c5382",
   "metadata": {},
   "outputs": [
    {
     "name": "stderr",
     "output_type": "stream",
     "text": [
      "manifold bg samples: 100%|███████████████████████████████████████████████████████████| 100/100 [00:01<00:00, 56.12it/s]\n"
     ]
    }
   ],
   "source": [
    "explainer = OnManifoldExplainer(f, pd.concat([bg, X]), nruns=nruns, sigma_sq=1e-10) # small sigma only awards exact match\n",
    "cf_on_manifold = explainer.shap_values(fg)"
   ]
  },
  {
   "cell_type": "code",
   "execution_count": 6,
   "id": "e8880760",
   "metadata": {},
   "outputs": [
    {
     "name": "stderr",
     "output_type": "stream",
     "text": [
      "100%|█████████████████████████████████████████████████████████████████████████████| 100/100 [00:00<00:00, 15872.48it/s]\n"
     ]
    }
   ],
   "source": [
    "explainer = IndExplainer(f, bg, nruns=nruns)\n",
    "cf_ind = explainer.shap_values(fg)"
   ]
  },
  {
   "cell_type": "code",
   "execution_count": 7,
   "id": "deda8329",
   "metadata": {},
   "outputs": [
    {
     "name": "stderr",
     "output_type": "stream",
     "text": [
      "manifold bg samples: 100%|███████████████████████████████████████████████████████████| 100/100 [00:03<00:00, 28.08it/s]\n"
     ]
    }
   ],
   "source": [
    "# second way of implemeting ASV beside using flow\n",
    "explainer = OnManifoldExplainer(f, pd.concat([bg, X]), nruns=nruns, orderings=[[0, 1, 2, 3]], sigma_sq=1e-10)\n",
    "cf_asv = explainer.shap_values(fg)"
   ]
  },
  {
   "cell_type": "code",
   "execution_count": 8,
   "id": "0c6a9562",
   "metadata": {},
   "outputs": [
    {
     "name": "stderr",
     "output_type": "stream",
     "text": [
      "bruteforce sampling: 100%|█████████████████████████████████████████████████████████| 100/100 [00:00<00:00, 4359.80it/s]\n"
     ]
    }
   ],
   "source": [
    "cf_flow = GraphExplainer(causal_graph, bg, nruns=nruns).shap_values(fg, rankdir='LR')"
   ]
  },
  {
   "cell_type": "markdown",
   "id": "d6a13e8b",
   "metadata": {},
   "source": [
    "## Sample explanation visualization"
   ]
  },
  {
   "cell_type": "code",
   "execution_count": 9,
   "id": "08668a65",
   "metadata": {},
   "outputs": [
    {
     "name": "stdout",
     "output_type": "stream",
     "text": [
      "Shapley Flow\n"
     ]
    },
    {
     "data": {
      "image/svg+xml": [
       "<?xml version=\"1.0\" encoding=\"UTF-8\" standalone=\"no\"?>\r\n",
       "<!DOCTYPE svg PUBLIC \"-//W3C//DTD SVG 1.1//EN\"\r\n",
       " \"http://www.w3.org/Graphics/SVG/1.1/DTD/svg11.dtd\">\r\n",
       "<!-- Generated by graphviz version 2.38.0 (20140413.2041)\r\n",
       " -->\r\n",
       "<!-- Pages: 1 -->\r\n",
       "<svg width=\"522pt\" height=\"114pt\"\r\n",
       " viewBox=\"0.00 0.00 522.00 114.00\" xmlns=\"http://www.w3.org/2000/svg\" xmlns:xlink=\"http://www.w3.org/1999/xlink\">\r\n",
       "<g id=\"graph0\" class=\"graph\" transform=\"scale(1 1) rotate(0) translate(4 110)\">\r\n",
       "<polygon fill=\"white\" stroke=\"none\" points=\"-4,4 -4,-110 518,-110 518,4 -4,4\"/>\r\n",
       "<!-- X1 -->\r\n",
       "<g id=\"node1\" class=\"node\"><title>X1</title>\r\n",
       "<ellipse fill=\"none\" stroke=\"black\" cx=\"27\" cy=\"-54\" rx=\"27\" ry=\"18\"/>\r\n",
       "<text text-anchor=\"middle\" x=\"27\" y=\"-50.3\" font-family=\"Times New Roman,serif\" font-size=\"14.00\">X1</text>\r\n",
       "</g>\r\n",
       "<!-- f -->\r\n",
       "<g id=\"node2\" class=\"node\"><title>f</title>\r\n",
       "<ellipse fill=\"none\" stroke=\"black\" cx=\"487\" cy=\"-48\" rx=\"27\" ry=\"18\"/>\r\n",
       "<text text-anchor=\"middle\" x=\"487\" y=\"-44.3\" font-family=\"Times New Roman,serif\" font-size=\"14.00\">f</text>\r\n",
       "</g>\r\n",
       "<!-- X1&#45;&gt;f -->\r\n",
       "<g id=\"edge1\" class=\"edge\"><title>X1&#45;&gt;f</title>\r\n",
       "<path fill=\"none\" stroke=\"#ff0051\" stroke-width=\"0.05\" d=\"M52.6832,-59.8695C103.685,-71.3914 224.5,-95.5547 327,-92 359.058,-90.8882 367.06,-89.9644 399,-87 418.158,-85.222 424.182,-89.2582 442,-82 449.376,-78.9955 456.567,-74.3964 462.927,-69.5425\"/>\r\n",
       "<polygon fill=\"#ff0051\" stroke=\"#ff0051\" stroke-width=\"0.05\" points=\"465.518,-71.9436 471.024,-62.8915 461.075,-66.5346 465.518,-71.9436\"/>\r\n",
       "<text text-anchor=\"middle\" x=\"257\" y=\"-94.8\" font-family=\"Times New Roman,serif\" font-size=\"14.00\" fill=\"#ff0051\">0.00</text>\r\n",
       "</g>\r\n",
       "<!-- X2 -->\r\n",
       "<g id=\"node3\" class=\"node\"><title>X2</title>\r\n",
       "<ellipse fill=\"none\" stroke=\"black\" cx=\"142\" cy=\"-29\" rx=\"27\" ry=\"18\"/>\r\n",
       "<text text-anchor=\"middle\" x=\"142\" y=\"-25.3\" font-family=\"Times New Roman,serif\" font-size=\"14.00\">X2</text>\r\n",
       "</g>\r\n",
       "<!-- X1&#45;&gt;X2 -->\r\n",
       "<g id=\"edge2\" class=\"edge\"><title>X1&#45;&gt;X2</title>\r\n",
       "<path fill=\"none\" stroke=\"#ff0051\" stroke-width=\"5\" d=\"M52.1193,-47.0485C58.5531,-45.2967 65.5185,-43.4919 72,-42 82.8928,-39.4927 94.8347,-37.1137 105.677,-35.0928\"/>\r\n",
       "<polygon fill=\"#ff0051\" stroke=\"#ff0051\" stroke-width=\"5\" points=\"106.611,-39.3697 115.665,-33.2724 105.042,-30.7615 106.611,-39.3697\"/>\r\n",
       "<text text-anchor=\"middle\" x=\"84.5\" y=\"-45.8\" font-family=\"Times New Roman,serif\" font-size=\"14.00\" fill=\"#ff0051\">0.46</text>\r\n",
       "</g>\r\n",
       "<!-- X2&#45;&gt;f -->\r\n",
       "<g id=\"edge3\" class=\"edge\"><title>X2&#45;&gt;f</title>\r\n",
       "<path fill=\"none\" stroke=\"#ff0051\" stroke-width=\"0.05\" d=\"M165.087,-38.5539C172.004,-41.2679 179.731,-44.0202 187,-46 278.592,-70.9446 304.3,-78.5751 399,-72 418.25,-70.6635 423.37,-71.0255 442,-66 446.213,-64.8634 450.563,-63.4285 454.814,-61.8669\"/>\r\n",
       "<polygon fill=\"#ff0051\" stroke=\"#ff0051\" stroke-width=\"0.05\" points=\"456.418,-64.9965 464.439,-58.0742 453.852,-58.4839 456.418,-64.9965\"/>\r\n",
       "<text text-anchor=\"middle\" x=\"314.5\" y=\"-76.8\" font-family=\"Times New Roman,serif\" font-size=\"14.00\" fill=\"#ff0051\">0.00</text>\r\n",
       "</g>\r\n",
       "<!-- X3 -->\r\n",
       "<g id=\"node4\" class=\"node\"><title>X3</title>\r\n",
       "<ellipse fill=\"none\" stroke=\"black\" cx=\"257\" cy=\"-23\" rx=\"27\" ry=\"18\"/>\r\n",
       "<text text-anchor=\"middle\" x=\"257\" y=\"-19.3\" font-family=\"Times New Roman,serif\" font-size=\"14.00\">X3</text>\r\n",
       "</g>\r\n",
       "<!-- X2&#45;&gt;X3 -->\r\n",
       "<g id=\"edge4\" class=\"edge\"><title>X2&#45;&gt;X3</title>\r\n",
       "<path fill=\"none\" stroke=\"#ff0051\" stroke-width=\"5\" d=\"M168.924,-27.6235C183.891,-26.8288 202.953,-25.8167 219.424,-24.9421\"/>\r\n",
       "<polygon fill=\"#ff0051\" stroke=\"#ff0051\" stroke-width=\"5\" points=\"220.051,-29.2901 229.805,-24.3909 219.587,-20.5524 220.051,-29.2901\"/>\r\n",
       "<text text-anchor=\"middle\" x=\"199.5\" y=\"-30.8\" font-family=\"Times New Roman,serif\" font-size=\"14.00\" fill=\"#ff0051\">0.46</text>\r\n",
       "</g>\r\n",
       "<!-- X3&#45;&gt;f -->\r\n",
       "<g id=\"edge5\" class=\"edge\"><title>X3&#45;&gt;f</title>\r\n",
       "<path fill=\"none\" stroke=\"#ff0051\" stroke-width=\"0.05\" d=\"M280.031,-32.7664C286.946,-35.489 294.686,-38.1928 302,-40 362.627,-54.9797 379.614,-54.8299 442,-52 444.548,-51.8844 447.176,-51.7314 449.821,-51.5526\"/>\r\n",
       "<polygon fill=\"#ff0051\" stroke=\"#ff0051\" stroke-width=\"0.05\" points=\"450.271,-55.0282 459.968,-50.7599 449.726,-48.0494 450.271,-55.0282\"/>\r\n",
       "<text text-anchor=\"middle\" x=\"372\" y=\"-56.8\" font-family=\"Times New Roman,serif\" font-size=\"14.00\" fill=\"#ff0051\">0.00</text>\r\n",
       "</g>\r\n",
       "<!-- X4 -->\r\n",
       "<g id=\"node5\" class=\"node\"><title>X4</title>\r\n",
       "<ellipse fill=\"none\" stroke=\"black\" cx=\"372\" cy=\"-18\" rx=\"27\" ry=\"18\"/>\r\n",
       "<text text-anchor=\"middle\" x=\"372\" y=\"-14.3\" font-family=\"Times New Roman,serif\" font-size=\"14.00\">X4</text>\r\n",
       "</g>\r\n",
       "<!-- X3&#45;&gt;X4 -->\r\n",
       "<g id=\"edge6\" class=\"edge\"><title>X3&#45;&gt;X4</title>\r\n",
       "<path fill=\"none\" stroke=\"#ff0051\" stroke-width=\"5\" d=\"M284.208,-21.8403C299.184,-21.1777 318.19,-20.3367 334.596,-19.6108\"/>\r\n",
       "<polygon fill=\"#ff0051\" stroke=\"#ff0051\" stroke-width=\"5\" points=\"335.137,-23.9662 344.934,-19.1534 334.75,-15.2248 335.137,-23.9662\"/>\r\n",
       "<text text-anchor=\"middle\" x=\"314.5\" y=\"-24.8\" font-family=\"Times New Roman,serif\" font-size=\"14.00\" fill=\"#ff0051\">0.46</text>\r\n",
       "</g>\r\n",
       "<!-- X4&#45;&gt;f -->\r\n",
       "<g id=\"edge7\" class=\"edge\"><title>X4&#45;&gt;f</title>\r\n",
       "<path fill=\"none\" stroke=\"#ff0051\" stroke-width=\"5\" d=\"M397.241,-24.4358C413.071,-28.6383 433.981,-34.1895 451.529,-38.8484\"/>\r\n",
       "<polygon fill=\"#ff0051\" stroke=\"#ff0051\" stroke-width=\"5\" points=\"450.621,-43.1338 461.409,-41.4714 452.866,-34.6768 450.621,-43.1338\"/>\r\n",
       "<text text-anchor=\"middle\" x=\"429.5\" y=\"-38.8\" font-family=\"Times New Roman,serif\" font-size=\"14.00\" fill=\"#ff0051\">0.46</text>\r\n",
       "</g>\r\n",
       "</g>\r\n",
       "</svg>\r\n"
      ],
      "text/plain": [
       "<graphviz.files.Source at 0x15dde025100>"
      ]
     },
     "metadata": {},
     "output_type": "display_data"
    }
   ],
   "source": [
    "print('Shapley Flow')\n",
    "cf_flow.fold_noise = True\n",
    "g = cf_flow.draw(sample_ind, show_fg_val=False)"
   ]
  },
  {
   "cell_type": "markdown",
   "id": "26d7909c",
   "metadata": {},
   "source": [
    "Observe that only Shapley Flow captures the direct and indirect effect of features for this simple chain dataset"
   ]
  },
  {
   "cell_type": "code",
   "execution_count": 12,
   "id": "9a715df7",
   "metadata": {},
   "outputs": [
    {
     "name": "stdout",
     "output_type": "stream",
     "text": [
      "On manifold SHAP\n"
     ]
    },
    {
     "data": {
      "image/png": "[encoded data removed]",
      "text/plain": [
       "<Figure size 432x288 with 1 Axes>"
      ]
     },
     "metadata": {
      "needs_background": "light"
     },
     "output_type": "display_data"
    },
    {
     "data": {
      "text/html": [
       "<div>\n",
       "<style scoped>\n",
       "    .dataframe tbody tr th:only-of-type {\n",
       "        vertical-align: middle;\n",
       "    }\n",
       "\n",
       "    .dataframe tbody tr th {\n",
       "        vertical-align: top;\n",
       "    }\n",
       "\n",
       "    .dataframe thead th {\n",
       "        text-align: right;\n",
       "    }\n",
       "</style>\n",
       "<table border=\"1\" class=\"dataframe\">\n",
       "  <thead>\n",
       "    <tr style=\"text-align: right;\">\n",
       "      <th></th>\n",
       "      <th>X1</th>\n",
       "      <th>X2</th>\n",
       "      <th>X3</th>\n",
       "      <th>X4</th>\n",
       "    </tr>\n",
       "  </thead>\n",
       "  <tbody>\n",
       "    <tr>\n",
       "      <th>1</th>\n",
       "      <td>0.115861</td>\n",
       "      <td>0.115861</td>\n",
       "      <td>0.115861</td>\n",
       "      <td>0.115861</td>\n",
       "    </tr>\n",
       "  </tbody>\n",
       "</table>\n",
       "</div>"
      ],
      "text/plain": [
       "         X1        X2        X3        X4\n",
       "1  0.115861  0.115861  0.115861  0.115861"
      ]
     },
     "execution_count": 12,
     "metadata": {},
     "output_type": "execute_result"
    }
   ],
   "source": [
    "print('On manifold SHAP')\n",
    "cf_on_manifold.draw(sample_ind, show=False)\n",
    "plt.tight_layout()\n",
    "plt.show()\n",
    "cf_on_manifold.print(sample_ind)"
   ]
  },
  {
   "cell_type": "markdown",
   "id": "b688a0fb",
   "metadata": {},
   "source": [
    "On manifold SHAP equally divide the influence."
   ]
  },
  {
   "cell_type": "code",
   "execution_count": 13,
   "id": "f73790bc",
   "metadata": {},
   "outputs": [
    {
     "name": "stdout",
     "output_type": "stream",
     "text": [
      "Independent SHAP\n"
     ]
    },
    {
     "data": {
      "image/png": "[encoded data removed]",
      "text/plain": [
       "<Figure size 432x288 with 1 Axes>"
      ]
     },
     "metadata": {
      "needs_background": "light"
     },
     "output_type": "display_data"
    },
    {
     "data": {
      "text/html": [
       "<div>\n",
       "<style scoped>\n",
       "    .dataframe tbody tr th:only-of-type {\n",
       "        vertical-align: middle;\n",
       "    }\n",
       "\n",
       "    .dataframe tbody tr th {\n",
       "        vertical-align: top;\n",
       "    }\n",
       "\n",
       "    .dataframe thead th {\n",
       "        text-align: right;\n",
       "    }\n",
       "</style>\n",
       "<table border=\"1\" class=\"dataframe\">\n",
       "  <thead>\n",
       "    <tr style=\"text-align: right;\">\n",
       "      <th></th>\n",
       "      <th>X1</th>\n",
       "      <th>X2</th>\n",
       "      <th>X3</th>\n",
       "      <th>X4</th>\n",
       "    </tr>\n",
       "  </thead>\n",
       "  <tbody>\n",
       "    <tr>\n",
       "      <th>1</th>\n",
       "      <td>0.0</td>\n",
       "      <td>0.0</td>\n",
       "      <td>0.0</td>\n",
       "      <td>0.463442</td>\n",
       "    </tr>\n",
       "  </tbody>\n",
       "</table>\n",
       "</div>"
      ],
      "text/plain": [
       "    X1   X2   X3        X4\n",
       "1  0.0  0.0  0.0  0.463442"
      ]
     },
     "execution_count": 13,
     "metadata": {},
     "output_type": "execute_result"
    }
   ],
   "source": [
    "print('Independent SHAP')\n",
    "cf_ind.draw(sample_ind, show=False)\n",
    "plt.tight_layout()\n",
    "plt.show()\n",
    "cf_ind.print(sample_ind)"
   ]
  },
  {
   "cell_type": "markdown",
   "id": "a2aafc71",
   "metadata": {},
   "source": [
    "Independent SHAP only shows the direct impact."
   ]
  },
  {
   "cell_type": "code",
   "execution_count": 14,
   "id": "47f391ca",
   "metadata": {},
   "outputs": [
    {
     "name": "stdout",
     "output_type": "stream",
     "text": [
      "ASV (note: only non-zero attribution nodes are shown)\n"
     ]
    },
    {
     "data": {
      "image/svg+xml": [
       "<?xml version=\"1.0\" encoding=\"UTF-8\" standalone=\"no\"?>\r\n",
       "<!DOCTYPE svg PUBLIC \"-//W3C//DTD SVG 1.1//EN\"\r\n",
       " \"http://www.w3.org/Graphics/SVG/1.1/DTD/svg11.dtd\">\r\n",
       "<!-- Generated by graphviz version 2.38.0 (20140413.2041)\r\n",
       " -->\r\n",
       "<!-- Pages: 1 -->\r\n",
       "<svg width=\"177pt\" height=\"44pt\"\r\n",
       " viewBox=\"0.00 0.00 177.00 44.00\" xmlns=\"http://www.w3.org/2000/svg\" xmlns:xlink=\"http://www.w3.org/1999/xlink\">\r\n",
       "<g id=\"graph0\" class=\"graph\" transform=\"scale(1 1) rotate(0) translate(4 40)\">\r\n",
       "<polygon fill=\"white\" stroke=\"none\" points=\"-4,4 -4,-40 173,-40 173,4 -4,4\"/>\r\n",
       "<!-- X1 -->\r\n",
       "<g id=\"node1\" class=\"node\"><title>X1</title>\r\n",
       "<ellipse fill=\"none\" stroke=\"black\" cx=\"27\" cy=\"-18\" rx=\"27\" ry=\"18\"/>\r\n",
       "<text text-anchor=\"middle\" x=\"27\" y=\"-14.3\" font-family=\"Times New Roman,serif\" font-size=\"14.00\">X1</text>\r\n",
       "</g>\r\n",
       "<!-- f -->\r\n",
       "<g id=\"node2\" class=\"node\"><title>f</title>\r\n",
       "<ellipse fill=\"none\" stroke=\"black\" cx=\"142\" cy=\"-18\" rx=\"27\" ry=\"18\"/>\r\n",
       "<text text-anchor=\"middle\" x=\"142\" y=\"-14.3\" font-family=\"Times New Roman,serif\" font-size=\"14.00\">f</text>\r\n",
       "</g>\r\n",
       "<!-- X1&#45;&gt;f -->\r\n",
       "<g id=\"edge1\" class=\"edge\"><title>X1&#45;&gt;f</title>\r\n",
       "<path fill=\"none\" stroke=\"#ff0051\" stroke-width=\"5\" d=\"M54.2085,-18C69.1836,-18 88.1896,-18 104.596,-18\"/>\r\n",
       "<polygon fill=\"#ff0051\" stroke=\"#ff0051\" stroke-width=\"5\" points=\"104.934,-22.3751 114.934,-18 104.934,-13.6251 104.934,-22.3751\"/>\r\n",
       "<text text-anchor=\"middle\" x=\"84.5\" y=\"-21.8\" font-family=\"Times New Roman,serif\" font-size=\"14.00\" fill=\"#ff0051\">0.46</text>\r\n",
       "</g>\r\n",
       "</g>\r\n",
       "</svg>\r\n"
      ],
      "text/plain": [
       "<graphviz.files.Source at 0x20886441340>"
      ]
     },
     "metadata": {},
     "output_type": "display_data"
    },
    {
     "data": {
      "text/html": [
       "<div>\n",
       "<style scoped>\n",
       "    .dataframe tbody tr th:only-of-type {\n",
       "        vertical-align: middle;\n",
       "    }\n",
       "\n",
       "    .dataframe tbody tr th {\n",
       "        vertical-align: top;\n",
       "    }\n",
       "\n",
       "    .dataframe thead th {\n",
       "        text-align: right;\n",
       "    }\n",
       "</style>\n",
       "<table border=\"1\" class=\"dataframe\">\n",
       "  <thead>\n",
       "    <tr style=\"text-align: right;\">\n",
       "      <th></th>\n",
       "      <th>X1</th>\n",
       "      <th>X2</th>\n",
       "      <th>X3</th>\n",
       "      <th>X4</th>\n",
       "    </tr>\n",
       "  </thead>\n",
       "  <tbody>\n",
       "    <tr>\n",
       "      <th>1</th>\n",
       "      <td>0.463442</td>\n",
       "      <td>0.0</td>\n",
       "      <td>0.0</td>\n",
       "      <td>0.0</td>\n",
       "    </tr>\n",
       "  </tbody>\n",
       "</table>\n",
       "</div>"
      ],
      "text/plain": [
       "         X1   X2   X3   X4\n",
       "1  0.463442  0.0  0.0  0.0"
      ]
     },
     "execution_count": 14,
     "metadata": {},
     "output_type": "execute_result"
    }
   ],
   "source": [
    "print('ASV (note: only non-zero attribution nodes are shown)')\n",
    "cf_flow.fold_noise = False\n",
    "cf_flow.draw_asv(sample_ind, show_fg_val=False)\n",
    "# alternative implementation of ASV\n",
    "cf_asv.print(sample_ind)"
   ]
  },
  {
   "cell_type": "markdown",
   "id": "d5041c4a",
   "metadata": {},
   "source": [
    "ASV only shows the indirect impact"
   ]
  },
  {
   "cell_type": "markdown",
   "id": "c1806bf1",
   "metadata": {},
   "source": [
    "## Linear random graph example"
   ]
  },
  {
   "cell_type": "markdown",
   "id": "a5d12d93",
   "metadata": {},
   "source": [
    "### Dataset and Model"
   ]
  },
  {
   "cell_type": "code",
   "execution_count": 16,
   "id": "44b4ef0e",
   "metadata": {},
   "outputs": [
    {
     "name": "stdout",
     "output_type": "stream",
     "text": [
      "10 nodes\n"
     ]
    },
    {
     "data": {
      "image/svg+xml": [
       "<?xml version=\"1.0\" encoding=\"UTF-8\" standalone=\"no\"?>\r\n",
       "<!DOCTYPE svg PUBLIC \"-//W3C//DTD SVG 1.1//EN\"\r\n",
       " \"http://www.w3.org/Graphics/SVG/1.1/DTD/svg11.dtd\">\r\n",
       "<!-- Generated by graphviz version 2.38.0 (20140413.2041)\r\n",
       " -->\r\n",
       "<!-- Pages: 1 -->\r\n",
       "<svg width=\"554pt\" height=\"260pt\"\r\n",
       " viewBox=\"0.00 0.00 554.22 260.00\" xmlns=\"http://www.w3.org/2000/svg\" xmlns:xlink=\"http://www.w3.org/1999/xlink\">\r\n",
       "<g id=\"graph0\" class=\"graph\" transform=\"scale(1 1) rotate(0) translate(4 256)\">\r\n",
       "<polygon fill=\"white\" stroke=\"none\" points=\"-4,4 -4,-256 550.216,-256 550.216,4 -4,4\"/>\r\n",
       "<!-- j -->\r\n",
       "<g id=\"node1\" class=\"node\"><title>j</title>\r\n",
       "<ellipse fill=\"none\" stroke=\"black\" cx=\"41.2161\" cy=\"-90\" rx=\"27\" ry=\"18\"/>\r\n",
       "<text text-anchor=\"middle\" x=\"41.2161\" y=\"-86.3\" font-family=\"Times New Roman,serif\" font-size=\"14.00\">j</text>\r\n",
       "</g>\r\n",
       "<!-- Y -->\r\n",
       "<g id=\"node2\" class=\"node\"><title>Y</title>\r\n",
       "<ellipse fill=\"none\" stroke=\"black\" cx=\"287.216\" cy=\"-234\" rx=\"27\" ry=\"18\"/>\r\n",
       "<text text-anchor=\"middle\" x=\"287.216\" y=\"-230.3\" font-family=\"Times New Roman,serif\" font-size=\"14.00\">Y</text>\r\n",
       "</g>\r\n",
       "<!-- j&#45;&gt;Y -->\r\n",
       "<g id=\"edge1\" class=\"edge\"><title>j&#45;&gt;Y</title>\r\n",
       "<path fill=\"none\" stroke=\"black\" d=\"M44.4747,-108.106C49.225,-128.294 60.023,-161.456 82.2161,-180 130.269,-220.151 205.139,-230.335 249.862,-232.655\"/>\r\n",
       "<polygon fill=\"black\" stroke=\"black\" points=\"249.872,-236.158 260.007,-233.073 250.16,-229.164 249.872,-236.158\"/>\r\n",
       "</g>\r\n",
       "<!-- b -->\r\n",
       "<g id=\"node3\" class=\"node\"><title>b</title>\r\n",
       "<ellipse fill=\"none\" stroke=\"black\" cx=\"117.216\" cy=\"-18\" rx=\"27\" ry=\"18\"/>\r\n",
       "<text text-anchor=\"middle\" x=\"117.216\" y=\"-14.3\" font-family=\"Times New Roman,serif\" font-size=\"14.00\">b</text>\r\n",
       "</g>\r\n",
       "<!-- b&#45;&gt;j -->\r\n",
       "<g id=\"edge2\" class=\"edge\"><title>b&#45;&gt;j</title>\r\n",
       "<path fill=\"none\" stroke=\"black\" d=\"M101.836,-33.1655C91.0201,-43.128 76.3593,-56.6313 64.165,-67.8629\"/>\r\n",
       "<polygon fill=\"black\" stroke=\"black\" points=\"61.5573,-65.5063 56.573,-74.8555 66.2997,-70.6552 61.5573,-65.5063\"/>\r\n",
       "</g>\r\n",
       "<!-- b&#45;&gt;Y -->\r\n",
       "<g id=\"edge3\" class=\"edge\"><title>b&#45;&gt;Y</title>\r\n",
       "<path fill=\"none\" stroke=\"black\" d=\"M91.0384,-23.1723C64.2497,-28.9882 23.9723,-42.3741 5.21614,-72 -3.34244,-85.5185 0.5065,-92.7089 5.21614,-108 16.6098,-144.993 22.2356,-158.194 54.2161,-180 114.089,-220.825 200.739,-230.613 249.746,-232.712\"/>\r\n",
       "<polygon fill=\"black\" stroke=\"black\" points=\"249.787,-236.215 259.901,-233.059 250.026,-229.219 249.787,-236.215\"/>\r\n",
       "</g>\r\n",
       "<!-- h -->\r\n",
       "<g id=\"node4\" class=\"node\"><title>h</title>\r\n",
       "<ellipse fill=\"none\" stroke=\"black\" cx=\"375.216\" cy=\"-90\" rx=\"27\" ry=\"18\"/>\r\n",
       "<text text-anchor=\"middle\" x=\"375.216\" y=\"-86.3\" font-family=\"Times New Roman,serif\" font-size=\"14.00\">h</text>\r\n",
       "</g>\r\n",
       "<!-- b&#45;&gt;h -->\r\n",
       "<g id=\"edge4\" class=\"edge\"><title>b&#45;&gt;h</title>\r\n",
       "<path fill=\"none\" stroke=\"black\" d=\"M137.849,-29.636C142.801,-31.9374 148.13,-34.2135 153.216,-36 162.096,-39.1187 280.091,-66.8049 340.335,-80.8717\"/>\r\n",
       "<polygon fill=\"black\" stroke=\"black\" points=\"339.645,-84.3046 350.179,-83.1689 341.236,-77.4878 339.645,-84.3046\"/>\r\n",
       "</g>\r\n",
       "<!-- i -->\r\n",
       "<g id=\"node5\" class=\"node\"><title>i</title>\r\n",
       "<ellipse fill=\"none\" stroke=\"black\" cx=\"367.216\" cy=\"-162\" rx=\"27\" ry=\"18\"/>\r\n",
       "<text text-anchor=\"middle\" x=\"367.216\" y=\"-158.3\" font-family=\"Times New Roman,serif\" font-size=\"14.00\">i</text>\r\n",
       "</g>\r\n",
       "<!-- b&#45;&gt;i -->\r\n",
       "<g id=\"edge5\" class=\"edge\"><title>b&#45;&gt;i</title>\r\n",
       "<path fill=\"none\" stroke=\"black\" d=\"M128.349,-34.8122C143.086,-54.632 170.891,-88.3783 202.216,-108 242.539,-133.258 296.008,-147.535 330.994,-154.759\"/>\r\n",
       "<polygon fill=\"black\" stroke=\"black\" points=\"330.735,-158.276 341.223,-156.779 332.091,-151.408 330.735,-158.276\"/>\r\n",
       "</g>\r\n",
       "<!-- g -->\r\n",
       "<g id=\"node6\" class=\"node\"><title>g</title>\r\n",
       "<ellipse fill=\"none\" stroke=\"black\" cx=\"265.216\" cy=\"-90\" rx=\"27\" ry=\"18\"/>\r\n",
       "<text text-anchor=\"middle\" x=\"265.216\" y=\"-86.3\" font-family=\"Times New Roman,serif\" font-size=\"14.00\">g</text>\r\n",
       "</g>\r\n",
       "<!-- b&#45;&gt;g -->\r\n",
       "<g id=\"edge6\" class=\"edge\"><title>b&#45;&gt;g</title>\r\n",
       "<path fill=\"none\" stroke=\"black\" d=\"M138.737,-29.1786C163.947,-41.1022 205.898,-60.9443 234.518,-74.4808\"/>\r\n",
       "<polygon fill=\"black\" stroke=\"black\" points=\"233.133,-77.6974 243.67,-78.8091 236.126,-71.3695 233.133,-77.6974\"/>\r\n",
       "</g>\r\n",
       "<!-- h&#45;&gt;Y -->\r\n",
       "<g id=\"edge7\" class=\"edge\"><title>h&#45;&gt;Y</title>\r\n",
       "<path fill=\"none\" stroke=\"black\" d=\"M361.519,-105.579C352.289,-115.84 340.205,-130.16 331.216,-144 318.146,-164.124 306.279,-188.682 298.171,-206.899\"/>\r\n",
       "<polygon fill=\"black\" stroke=\"black\" points=\"294.861,-205.734 294.071,-216.299 301.277,-208.533 294.861,-205.734\"/>\r\n",
       "</g>\r\n",
       "<!-- h&#45;&gt;i -->\r\n",
       "<g id=\"edge8\" class=\"edge\"><title>h&#45;&gt;i</title>\r\n",
       "<path fill=\"none\" stroke=\"black\" d=\"M373.239,-108.303C372.357,-116.017 371.298,-125.288 370.315,-133.888\"/>\r\n",
       "<polygon fill=\"black\" stroke=\"black\" points=\"366.829,-133.563 369.171,-143.896 373.784,-134.358 366.829,-133.563\"/>\r\n",
       "</g>\r\n",
       "<!-- i&#45;&gt;Y -->\r\n",
       "<g id=\"edge9\" class=\"edge\"><title>i&#45;&gt;Y</title>\r\n",
       "<path fill=\"none\" stroke=\"black\" d=\"M351.411,-176.83C339.796,-186.992 323.822,-200.97 310.715,-212.439\"/>\r\n",
       "<polygon fill=\"black\" stroke=\"black\" points=\"308.21,-209.98 302.989,-219.199 312.819,-215.248 308.21,-209.98\"/>\r\n",
       "</g>\r\n",
       "<!-- g&#45;&gt;Y -->\r\n",
       "<g id=\"edge10\" class=\"edge\"><title>g&#45;&gt;Y</title>\r\n",
       "<path fill=\"none\" stroke=\"black\" d=\"M267.87,-108.129C271.619,-132.33 278.507,-176.789 282.972,-205.607\"/>\r\n",
       "<polygon fill=\"black\" stroke=\"black\" points=\"279.563,-206.465 284.553,-215.811 286.481,-205.393 279.563,-206.465\"/>\r\n",
       "</g>\r\n",
       "<!-- f -->\r\n",
       "<g id=\"node7\" class=\"node\"><title>f</title>\r\n",
       "<ellipse fill=\"none\" stroke=\"black\" cx=\"189.216\" cy=\"-18\" rx=\"27\" ry=\"18\"/>\r\n",
       "<text text-anchor=\"middle\" x=\"189.216\" y=\"-14.3\" font-family=\"Times New Roman,serif\" font-size=\"14.00\">f</text>\r\n",
       "</g>\r\n",
       "<!-- f&#45;&gt;j -->\r\n",
       "<g id=\"edge11\" class=\"edge\"><title>f&#45;&gt;j</title>\r\n",
       "<path fill=\"none\" stroke=\"black\" d=\"M167.696,-29.1786C142.486,-41.1022 100.534,-60.9443 71.9139,-74.4808\"/>\r\n",
       "<polygon fill=\"black\" stroke=\"black\" points=\"70.306,-71.3695 62.7626,-78.8091 73.2989,-77.6974 70.306,-71.3695\"/>\r\n",
       "</g>\r\n",
       "<!-- f&#45;&gt;Y -->\r\n",
       "<g id=\"edge12\" class=\"edge\"><title>f&#45;&gt;Y</title>\r\n",
       "<path fill=\"none\" stroke=\"black\" d=\"M190.097,-36.0887C191.404,-54.2751 194.589,-83.7167 202.216,-108 212.937,-142.133 217.87,-150.572 238.216,-180 245.899,-191.113 255.802,-202.266 264.692,-211.454\"/>\r\n",
       "<polygon fill=\"black\" stroke=\"black\" points=\"262.321,-214.034 271.85,-218.666 267.289,-209.103 262.321,-214.034\"/>\r\n",
       "</g>\r\n",
       "<!-- f&#45;&gt;h -->\r\n",
       "<g id=\"edge13\" class=\"edge\"><title>f&#45;&gt;h</title>\r\n",
       "<path fill=\"none\" stroke=\"black\" d=\"M212.397,-27.724C245.295,-40.1048 305.66,-62.823 342.926,-76.8479\"/>\r\n",
       "<polygon fill=\"black\" stroke=\"black\" points=\"341.735,-80.1393 352.327,-80.3859 344.201,-73.5879 341.735,-80.1393\"/>\r\n",
       "</g>\r\n",
       "<!-- f&#45;&gt;i -->\r\n",
       "<g id=\"edge14\" class=\"edge\"><title>f&#45;&gt;i</title>\r\n",
       "<path fill=\"none\" stroke=\"black\" d=\"M192.729,-36.0343C197.647,-55.8423 208.417,-88.3278 229.216,-108 257.527,-134.777 300.801,-148.435 331.329,-155.116\"/>\r\n",
       "<polygon fill=\"black\" stroke=\"black\" points=\"330.655,-158.551 341.153,-157.123 332.056,-151.692 330.655,-158.551\"/>\r\n",
       "</g>\r\n",
       "<!-- f&#45;&gt;g -->\r\n",
       "<g id=\"edge15\" class=\"edge\"><title>f&#45;&gt;g</title>\r\n",
       "<path fill=\"none\" stroke=\"black\" d=\"M204.596,-33.1655C215.412,-43.128 230.073,-56.6313 242.267,-67.8629\"/>\r\n",
       "<polygon fill=\"black\" stroke=\"black\" points=\"240.133,-70.6552 249.859,-74.8555 244.875,-65.5063 240.133,-70.6552\"/>\r\n",
       "</g>\r\n",
       "<!-- c -->\r\n",
       "<g id=\"node8\" class=\"node\"><title>c</title>\r\n",
       "<ellipse fill=\"none\" stroke=\"black\" cx=\"284.216\" cy=\"-18\" rx=\"27\" ry=\"18\"/>\r\n",
       "<text text-anchor=\"middle\" x=\"284.216\" y=\"-14.3\" font-family=\"Times New Roman,serif\" font-size=\"14.00\">c</text>\r\n",
       "</g>\r\n",
       "<!-- c&#45;&gt;Y -->\r\n",
       "<g id=\"edge16\" class=\"edge\"><title>c&#45;&gt;Y</title>\r\n",
       "<path fill=\"none\" stroke=\"black\" d=\"M265.32,-31.0597C252.473,-40.4624 236.531,-54.7929 229.216,-72 222.957,-86.7248 225.768,-92.376 229.216,-108 237.4,-145.08 257.731,-184.232 272.001,-208.632\"/>\r\n",
       "<polygon fill=\"black\" stroke=\"black\" points=\"269.003,-210.437 277.136,-217.226 275.012,-206.847 269.003,-210.437\"/>\r\n",
       "</g>\r\n",
       "<!-- c&#45;&gt;h -->\r\n",
       "<g id=\"edge17\" class=\"edge\"><title>c&#45;&gt;h</title>\r\n",
       "<path fill=\"none\" stroke=\"black\" d=\"M301.333,-32.1665C315.06,-42.7259 334.526,-57.6999 350.031,-69.6272\"/>\r\n",
       "<polygon fill=\"black\" stroke=\"black\" points=\"348.116,-72.5696 358.176,-75.8926 352.384,-67.0212 348.116,-72.5696\"/>\r\n",
       "</g>\r\n",
       "<!-- c&#45;&gt;i -->\r\n",
       "<g id=\"edge18\" class=\"edge\"><title>c&#45;&gt;i</title>\r\n",
       "<path fill=\"none\" stroke=\"black\" d=\"M293.576,-35.0132C307.96,-59.6221 335.617,-106.939 352.64,-136.063\"/>\r\n",
       "<polygon fill=\"black\" stroke=\"black\" points=\"349.695,-137.96 357.763,-144.827 355.739,-134.428 349.695,-137.96\"/>\r\n",
       "</g>\r\n",
       "<!-- c&#45;&gt;g -->\r\n",
       "<g id=\"edge19\" class=\"edge\"><title>c&#45;&gt;g</title>\r\n",
       "<path fill=\"none\" stroke=\"black\" d=\"M279.617,-35.945C277.47,-43.8554 274.863,-53.4602 272.46,-62.3121\"/>\r\n",
       "<polygon fill=\"black\" stroke=\"black\" points=\"269.015,-61.6433 269.773,-72.211 275.771,-63.477 269.015,-61.6433\"/>\r\n",
       "</g>\r\n",
       "<!-- a -->\r\n",
       "<g id=\"node9\" class=\"node\"><title>a</title>\r\n",
       "<ellipse fill=\"none\" stroke=\"black\" cx=\"519.216\" cy=\"-18\" rx=\"27\" ry=\"18\"/>\r\n",
       "<text text-anchor=\"middle\" x=\"519.216\" y=\"-14.3\" font-family=\"Times New Roman,serif\" font-size=\"14.00\">a</text>\r\n",
       "</g>\r\n",
       "<!-- a&#45;&gt;Y -->\r\n",
       "<g id=\"edge20\" class=\"edge\"><title>a&#45;&gt;Y</title>\r\n",
       "<path fill=\"none\" stroke=\"black\" d=\"M516.896,-36.0119C511.548,-68.6527 495.334,-140.342 452.216,-180 416.743,-212.627 361.059,-225.174 324.346,-229.996\"/>\r\n",
       "<polygon fill=\"black\" stroke=\"black\" points=\"323.587,-226.561 314.067,-231.21 324.408,-233.513 323.587,-226.561\"/>\r\n",
       "</g>\r\n",
       "<!-- a&#45;&gt;h -->\r\n",
       "<g id=\"edge21\" class=\"edge\"><title>a&#45;&gt;h</title>\r\n",
       "<path fill=\"none\" stroke=\"black\" d=\"M497.968,-29.3287C473.614,-41.1676 433.498,-60.6688 405.788,-74.1385\"/>\r\n",
       "<polygon fill=\"black\" stroke=\"black\" points=\"404.015,-71.1091 396.551,-78.6289 407.075,-77.4047 404.015,-71.1091\"/>\r\n",
       "</g>\r\n",
       "<!-- a&#45;&gt;i -->\r\n",
       "<g id=\"edge22\" class=\"edge\"><title>a&#45;&gt;i</title>\r\n",
       "<path fill=\"none\" stroke=\"black\" d=\"M508.55,-34.6503C495.304,-53.406 471.364,-85.1582 446.216,-108 430.886,-121.924 411.621,-134.923 395.953,-144.563\"/>\r\n",
       "<polygon fill=\"black\" stroke=\"black\" points=\"393.963,-141.676 387.201,-149.832 397.573,-147.673 393.963,-141.676\"/>\r\n",
       "</g>\r\n",
       "<!-- d -->\r\n",
       "<g id=\"node10\" class=\"node\"><title>d</title>\r\n",
       "<ellipse fill=\"none\" stroke=\"black\" cx=\"375.216\" cy=\"-18\" rx=\"27\" ry=\"18\"/>\r\n",
       "<text text-anchor=\"middle\" x=\"375.216\" y=\"-14.3\" font-family=\"Times New Roman,serif\" font-size=\"14.00\">d</text>\r\n",
       "</g>\r\n",
       "<!-- d&#45;&gt;Y -->\r\n",
       "<g id=\"edge23\" class=\"edge\"><title>d&#45;&gt;Y</title>\r\n",
       "<path fill=\"none\" stroke=\"black\" d=\"M393.025,-31.5707C404.908,-41.1221 419.534,-55.4184 426.216,-72 444.56,-117.519 435.787,-143.289 403.216,-180 382.201,-203.687 348.463,-217.449 322.777,-224.983\"/>\r\n",
       "<polygon fill=\"black\" stroke=\"black\" points=\"321.737,-221.639 313.022,-227.663 323.592,-228.389 321.737,-221.639\"/>\r\n",
       "</g>\r\n",
       "<!-- d&#45;&gt;h -->\r\n",
       "<g id=\"edge24\" class=\"edge\"><title>d&#45;&gt;h</title>\r\n",
       "<path fill=\"none\" stroke=\"black\" d=\"M375.216,-36.3034C375.216,-44.0173 375.216,-53.2875 375.216,-61.8876\"/>\r\n",
       "<polygon fill=\"black\" stroke=\"black\" points=\"371.716,-61.8956 375.216,-71.8957 378.716,-61.8957 371.716,-61.8956\"/>\r\n",
       "</g>\r\n",
       "<!-- d&#45;&gt;i -->\r\n",
       "<g id=\"edge25\" class=\"edge\"><title>d&#45;&gt;i</title>\r\n",
       "<path fill=\"none\" stroke=\"black\" d=\"M388.967,-33.9312C397.177,-43.8997 406.835,-57.7531 411.216,-72 415.919,-87.2933 416.649,-92.9506 411.216,-108 406.945,-119.832 398.755,-130.889 390.588,-139.81\"/>\r\n",
       "<polygon fill=\"black\" stroke=\"black\" points=\"387.99,-137.461 383.516,-147.065 393.002,-142.347 387.99,-137.461\"/>\r\n",
       "</g>\r\n",
       "<!-- d&#45;&gt;g -->\r\n",
       "<g id=\"edge26\" class=\"edge\"><title>d&#45;&gt;g</title>\r\n",
       "<path fill=\"none\" stroke=\"black\" d=\"M356.056,-31.1931C338.547,-42.3347 312.457,-58.9378 292.723,-71.4957\"/>\r\n",
       "<polygon fill=\"black\" stroke=\"black\" points=\"290.715,-68.625 284.157,-76.9467 294.473,-74.5307 290.715,-68.625\"/>\r\n",
       "</g>\r\n",
       "<!-- e -->\r\n",
       "<g id=\"node11\" class=\"node\"><title>e</title>\r\n",
       "<ellipse fill=\"none\" stroke=\"black\" cx=\"447.216\" cy=\"-18\" rx=\"27\" ry=\"18\"/>\r\n",
       "<text text-anchor=\"middle\" x=\"447.216\" y=\"-14.3\" font-family=\"Times New Roman,serif\" font-size=\"14.00\">e</text>\r\n",
       "</g>\r\n",
       "<!-- e&#45;&gt;Y -->\r\n",
       "<g id=\"edge27\" class=\"edge\"><title>e&#45;&gt;Y</title>\r\n",
       "<path fill=\"none\" stroke=\"black\" d=\"M450.907,-35.9699C456.851,-68.2215 464.578,-138.816 429.216,-180 402.689,-210.895 356.343,-223.805 323.833,-229.185\"/>\r\n",
       "<polygon fill=\"black\" stroke=\"black\" points=\"323.181,-225.743 313.807,-230.68 324.214,-232.667 323.181,-225.743\"/>\r\n",
       "</g>\r\n",
       "<!-- e&#45;&gt;h -->\r\n",
       "<g id=\"edge28\" class=\"edge\"><title>e&#45;&gt;h</title>\r\n",
       "<path fill=\"none\" stroke=\"black\" d=\"M432.646,-33.1655C422.466,-43.0624 408.692,-56.4538 397.186,-67.6409\"/>\r\n",
       "<polygon fill=\"black\" stroke=\"black\" points=\"394.742,-65.135 390.012,-74.6153 399.622,-70.1539 394.742,-65.135\"/>\r\n",
       "</g>\r\n",
       "<!-- e&#45;&gt;i -->\r\n",
       "<g id=\"edge29\" class=\"edge\"><title>e&#45;&gt;i</title>\r\n",
       "<path fill=\"none\" stroke=\"black\" d=\"M446.207,-36.2018C444.44,-55.0099 439.579,-85.4696 426.216,-108 418.19,-121.532 405.575,-133.543 394.066,-142.695\"/>\r\n",
       "<polygon fill=\"black\" stroke=\"black\" points=\"391.819,-140.006 385.962,-148.835 396.046,-145.586 391.819,-140.006\"/>\r\n",
       "</g>\r\n",
       "<!-- e&#45;&gt;g -->\r\n",
       "<g id=\"edge30\" class=\"edge\"><title>e&#45;&gt;g</title>\r\n",
       "<path fill=\"none\" stroke=\"black\" d=\"M426.043,-29.3989C421.208,-31.6612 416.065,-33.9801 411.216,-36 373.085,-51.8838 328.312,-67.7354 298.498,-77.9061\"/>\r\n",
       "<polygon fill=\"black\" stroke=\"black\" points=\"297.339,-74.6035 288.992,-81.1294 299.587,-81.2328 297.339,-74.6035\"/>\r\n",
       "</g>\r\n",
       "</g>\r\n",
       "</svg>\r\n"
      ],
      "text/plain": [
       "<graphviz.files.Source at 0x16580002ac0>"
      ]
     },
     "metadata": {},
     "output_type": "display_data"
    }
   ],
   "source": [
    "def build_random_linear_graph(n_nodes=10):\n",
    "    nodes = []\n",
    "    name = 'a'\n",
    "    for _ in range(n_nodes):\n",
    "        len_args = 0 if len(nodes) == 0 else np.random.choice(len(nodes))\n",
    "        args = [nodes[i] for i in np.random.choice(len(nodes), len_args, replace=False)]\n",
    "        weights, b = np.random.randn(len_args), np.random.randn() # linear model weight and bias\n",
    "        node = Node(name, lambda *args: sum([w * arg for w, arg in zip(weights, args)]) + b, args)\n",
    "        name = chr(ord(name) + 1)\n",
    "        nodes.append(node)\n",
    "\n",
    "    print(len(nodes), \"nodes\")\n",
    "    args = nodes # all nodes are input to Y\n",
    "    weights, b = np.random.randn(len(args)), np.random.randn()\n",
    "    n_irrelevant_features = 3 # np.random.choice(len(nodes)) # todo: use random later for more graphs\n",
    "    if n_irrelevant_features != 0:\n",
    "        drop_features = np.random.choice(len(nodes), n_irrelevant_features, replace=False)\n",
    "        weights[drop_features] = 0\n",
    "    \n",
    "    target_node = Node('Y', lambda *args: sum([w * arg for w, arg in zip(weights, args)]) + b, \n",
    "                       args, is_target_node=True)\n",
    "    nodes.append(target_node)\n",
    "    \n",
    "    graph = Graph(nodes)\n",
    "    return graph\n",
    "\n",
    "graph = build_random_linear_graph()\n",
    "graph.draw()"
   ]
  },
  {
   "cell_type": "code",
   "execution_count": 17,
   "id": "e4d4c1e9",
   "metadata": {},
   "outputs": [
    {
     "data": {
      "text/html": [
       "<div>\n",
       "<style scoped>\n",
       "    .dataframe tbody tr th:only-of-type {\n",
       "        vertical-align: middle;\n",
       "    }\n",
       "\n",
       "    .dataframe tbody tr th {\n",
       "        vertical-align: top;\n",
       "    }\n",
       "\n",
       "    .dataframe thead th {\n",
       "        text-align: right;\n",
       "    }\n",
       "</style>\n",
       "<table border=\"1\" class=\"dataframe\">\n",
       "  <thead>\n",
       "    <tr style=\"text-align: right;\">\n",
       "      <th></th>\n",
       "      <th>a</th>\n",
       "      <th>b</th>\n",
       "      <th>c</th>\n",
       "      <th>d</th>\n",
       "      <th>e</th>\n",
       "      <th>f</th>\n",
       "      <th>g</th>\n",
       "      <th>h</th>\n",
       "      <th>i</th>\n",
       "      <th>j</th>\n",
       "      <th>Y</th>\n",
       "    </tr>\n",
       "  </thead>\n",
       "  <tbody>\n",
       "    <tr>\n",
       "      <th>0</th>\n",
       "      <td>-0.587154</td>\n",
       "      <td>-1.160325</td>\n",
       "      <td>-0.019623</td>\n",
       "      <td>-0.016536</td>\n",
       "      <td>1.770168</td>\n",
       "      <td>-0.011724</td>\n",
       "      <td>-1.783746</td>\n",
       "      <td>-3.519216</td>\n",
       "      <td>0.054351</td>\n",
       "      <td>-1.306730</td>\n",
       "      <td>-4.403898</td>\n",
       "    </tr>\n",
       "    <tr>\n",
       "      <th>1</th>\n",
       "      <td>-0.532172</td>\n",
       "      <td>0.851354</td>\n",
       "      <td>0.828455</td>\n",
       "      <td>0.252060</td>\n",
       "      <td>-2.640898</td>\n",
       "      <td>-0.460832</td>\n",
       "      <td>-0.304800</td>\n",
       "      <td>3.027210</td>\n",
       "      <td>-2.224545</td>\n",
       "      <td>-1.153746</td>\n",
       "      <td>7.398649</td>\n",
       "    </tr>\n",
       "    <tr>\n",
       "      <th>2</th>\n",
       "      <td>0.385473</td>\n",
       "      <td>-0.620364</td>\n",
       "      <td>-0.926713</td>\n",
       "      <td>-0.376132</td>\n",
       "      <td>-0.323438</td>\n",
       "      <td>-0.373430</td>\n",
       "      <td>-1.147198</td>\n",
       "      <td>-0.621615</td>\n",
       "      <td>0.255586</td>\n",
       "      <td>-1.265667</td>\n",
       "      <td>-2.115968</td>\n",
       "    </tr>\n",
       "    <tr>\n",
       "      <th>3</th>\n",
       "      <td>0.412981</td>\n",
       "      <td>-0.736412</td>\n",
       "      <td>1.287982</td>\n",
       "      <td>1.749224</td>\n",
       "      <td>0.110390</td>\n",
       "      <td>0.003881</td>\n",
       "      <td>-1.668771</td>\n",
       "      <td>-0.191484</td>\n",
       "      <td>0.071051</td>\n",
       "      <td>-1.274492</td>\n",
       "      <td>-1.430981</td>\n",
       "    </tr>\n",
       "    <tr>\n",
       "      <th>4</th>\n",
       "      <td>-0.292955</td>\n",
       "      <td>0.579504</td>\n",
       "      <td>-0.422812</td>\n",
       "      <td>-1.018250</td>\n",
       "      <td>0.507421</td>\n",
       "      <td>1.622175</td>\n",
       "      <td>-2.899721</td>\n",
       "      <td>-4.615311</td>\n",
       "      <td>-4.265526</td>\n",
       "      <td>-1.174419</td>\n",
       "      <td>4.141029</td>\n",
       "    </tr>\n",
       "    <tr>\n",
       "      <th>...</th>\n",
       "      <td>...</td>\n",
       "      <td>...</td>\n",
       "      <td>...</td>\n",
       "      <td>...</td>\n",
       "      <td>...</td>\n",
       "      <td>...</td>\n",
       "      <td>...</td>\n",
       "      <td>...</td>\n",
       "      <td>...</td>\n",
       "      <td>...</td>\n",
       "      <td>...</td>\n",
       "    </tr>\n",
       "    <tr>\n",
       "      <th>995</th>\n",
       "      <td>-0.284290</td>\n",
       "      <td>0.328652</td>\n",
       "      <td>-0.479051</td>\n",
       "      <td>-0.333779</td>\n",
       "      <td>0.520488</td>\n",
       "      <td>0.957234</td>\n",
       "      <td>-2.201961</td>\n",
       "      <td>-3.363571</td>\n",
       "      <td>-3.037740</td>\n",
       "      <td>-1.193496</td>\n",
       "      <td>2.346837</td>\n",
       "    </tr>\n",
       "    <tr>\n",
       "      <th>996</th>\n",
       "      <td>0.753404</td>\n",
       "      <td>0.900229</td>\n",
       "      <td>-1.773504</td>\n",
       "      <td>-1.012273</td>\n",
       "      <td>-0.817928</td>\n",
       "      <td>-0.582887</td>\n",
       "      <td>0.020210</td>\n",
       "      <td>-0.166147</td>\n",
       "      <td>-1.261848</td>\n",
       "      <td>-1.150029</td>\n",
       "      <td>1.670886</td>\n",
       "    </tr>\n",
       "    <tr>\n",
       "      <th>997</th>\n",
       "      <td>-2.063885</td>\n",
       "      <td>-0.622378</td>\n",
       "      <td>-0.690387</td>\n",
       "      <td>-0.789347</td>\n",
       "      <td>-0.533855</td>\n",
       "      <td>0.389342</td>\n",
       "      <td>-2.141011</td>\n",
       "      <td>-1.560918</td>\n",
       "      <td>-2.280738</td>\n",
       "      <td>-1.265820</td>\n",
       "      <td>2.511916</td>\n",
       "    </tr>\n",
       "    <tr>\n",
       "      <th>998</th>\n",
       "      <td>0.754062</td>\n",
       "      <td>0.478090</td>\n",
       "      <td>0.004093</td>\n",
       "      <td>0.102075</td>\n",
       "      <td>-0.653880</td>\n",
       "      <td>0.826249</td>\n",
       "      <td>-2.031501</td>\n",
       "      <td>-1.362037</td>\n",
       "      <td>-2.485987</td>\n",
       "      <td>-1.182132</td>\n",
       "      <td>3.228005</td>\n",
       "    </tr>\n",
       "    <tr>\n",
       "      <th>999</th>\n",
       "      <td>0.237761</td>\n",
       "      <td>-0.250468</td>\n",
       "      <td>0.793169</td>\n",
       "      <td>-1.113519</td>\n",
       "      <td>0.863947</td>\n",
       "      <td>0.085957</td>\n",
       "      <td>-1.417154</td>\n",
       "      <td>-3.078784</td>\n",
       "      <td>-0.854127</td>\n",
       "      <td>-1.237537</td>\n",
       "      <td>-0.803719</td>\n",
       "    </tr>\n",
       "  </tbody>\n",
       "</table>\n",
       "<p>1000 rows × 11 columns</p>\n",
       "</div>"
      ],
      "text/plain": [
       "            a         b         c         d         e         f         g  \\\n",
       "0   -0.587154 -1.160325 -0.019623 -0.016536  1.770168 -0.011724 -1.783746   \n",
       "1   -0.532172  0.851354  0.828455  0.252060 -2.640898 -0.460832 -0.304800   \n",
       "2    0.385473 -0.620364 -0.926713 -0.376132 -0.323438 -0.373430 -1.147198   \n",
       "3    0.412981 -0.736412  1.287982  1.749224  0.110390  0.003881 -1.668771   \n",
       "4   -0.292955  0.579504 -0.422812 -1.018250  0.507421  1.622175 -2.899721   \n",
       "..        ...       ...       ...       ...       ...       ...       ...   \n",
       "995 -0.284290  0.328652 -0.479051 -0.333779  0.520488  0.957234 -2.201961   \n",
       "996  0.753404  0.900229 -1.773504 -1.012273 -0.817928 -0.582887  0.020210   \n",
       "997 -2.063885 -0.622378 -0.690387 -0.789347 -0.533855  0.389342 -2.141011   \n",
       "998  0.754062  0.478090  0.004093  0.102075 -0.653880  0.826249 -2.031501   \n",
       "999  0.237761 -0.250468  0.793169 -1.113519  0.863947  0.085957 -1.417154   \n",
       "\n",
       "            h         i         j         Y  \n",
       "0   -3.519216  0.054351 -1.306730 -4.403898  \n",
       "1    3.027210 -2.224545 -1.153746  7.398649  \n",
       "2   -0.621615  0.255586 -1.265667 -2.115968  \n",
       "3   -0.191484  0.071051 -1.274492 -1.430981  \n",
       "4   -4.615311 -4.265526 -1.174419  4.141029  \n",
       "..        ...       ...       ...       ...  \n",
       "995 -3.363571 -3.037740 -1.193496  2.346837  \n",
       "996 -0.166147 -1.261848 -1.150029  1.670886  \n",
       "997 -1.560918 -2.280738 -1.265820  2.511916  \n",
       "998 -1.362037 -2.485987 -1.182132  3.228005  \n",
       "999 -3.078784 -0.854127 -1.237537 -0.803719  \n",
       "\n",
       "[1000 rows x 11 columns]"
      ]
     },
     "execution_count": 17,
     "metadata": {},
     "output_type": "execute_result"
    }
   ],
   "source": [
    "# build a linear dataset according to the graph\n",
    "n = 1000 # number of examples\n",
    "sources = get_source_nodes(graph)\n",
    "target_node = [node for node in graph if node.is_target_node][0]\n",
    "d = dict((node.name, np.random.randn(n)) for node in sources)\n",
    "eval_graph(graph, d)\n",
    "\n",
    "X_linear = pd.DataFrame.from_dict({node.name:node.val for node in graph if not node.is_target_node}).loc[:,[node.name for node in target_node.args]]\n",
    "f = lambda x: target_node.f(*[x[:,i] for i in range(x.shape[1])])\n",
    "f_d = pd.DataFrame.from_dict({'Y': list(f(np.array(X_linear)))})\n",
    "pd.concat((X_linear, f_d), 1)"
   ]
  },
  {
   "cell_type": "markdown",
   "id": "2d7b5e86",
   "metadata": {},
   "source": [
    "### Explanation settings"
   ]
  },
  {
   "cell_type": "code",
   "execution_count": 18,
   "id": "c47d2093",
   "metadata": {},
   "outputs": [],
   "source": [
    "nsamples = 100 # paper: 1000 samples\n",
    "sample_ind = 10 # example to visualize\n",
    "bg = X_linear.fillna(X_linear.mean()).sample(1) # background sample, no need for multiple sample because of the linearity axiom\n",
    "fg = X_linear[:nsamples] # foreground samples to explain"
   ]
  },
  {
   "cell_type": "markdown",
   "id": "746cf314",
   "metadata": {},
   "source": [
    "### Explain"
   ]
  },
  {
   "cell_type": "markdown",
   "id": "ff1eb9ec",
   "metadata": {},
   "source": [
    "Linear models only need 1 Monte Carlo sampling run for SHAP to converge."
   ]
  },
  {
   "cell_type": "code",
   "execution_count": 19,
   "id": "5b5ac1fc",
   "metadata": {},
   "outputs": [
    {
     "name": "stderr",
     "output_type": "stream",
     "text": [
      "bruteforce sampling: 100%|██████████████████████████████████████████████████████████████| 1/1 [00:00<00:00, 334.21it/s]\n"
     ]
    }
   ],
   "source": [
    "cf_flow_linear = GraphExplainer(graph, bg, nruns=1).shap_values(fg)"
   ]
  },
  {
   "cell_type": "code",
   "execution_count": 20,
   "id": "345f3805",
   "metadata": {},
   "outputs": [
    {
     "name": "stderr",
     "output_type": "stream",
     "text": [
      "manifold bg samples: 100%|███████████████████████████████████████████████████████████| 100/100 [00:02<00:00, 36.50it/s]\n"
     ]
    }
   ],
   "source": [
    "bg_on_manifold = X_linear.fillna(X_linear.mean()).sample(100) # used to learn conditional dependence\n",
    "explainer = OnManifoldExplainer(f, pd.concat([bg, bg_on_manifold]), nruns=10) # need > 1 run b/c conditional expectation is non-linear\n",
    "cf_on_manifold_linear = explainer.shap_values(fg)"
   ]
  },
  {
   "cell_type": "code",
   "execution_count": 21,
   "id": "3d4e9e95",
   "metadata": {},
   "outputs": [
    {
     "name": "stderr",
     "output_type": "stream",
     "text": [
      "100%|███████████████████████████████████████████████████████████████████████████████████| 1/1 [00:00<00:00, 334.21it/s]\n"
     ]
    }
   ],
   "source": [
    "explainer = IndExplainer(f, bg, nruns=1)\n",
    "cf_ind_linear = explainer.shap_values(fg)"
   ]
  },
  {
   "cell_type": "markdown",
   "id": "f89ea02a",
   "metadata": {},
   "source": [
    "### Sample explanation visualization"
   ]
  },
  {
   "cell_type": "code",
   "execution_count": 22,
   "id": "a94d3d6c",
   "metadata": {},
   "outputs": [
    {
     "name": "stdout",
     "output_type": "stream",
     "text": [
      "Shapley Flow\n"
     ]
    },
    {
     "data": {
      "image/svg+xml": [
       "<?xml version=\"1.0\" encoding=\"UTF-8\" standalone=\"no\"?>\r\n",
       "<!DOCTYPE svg PUBLIC \"-//W3C//DTD SVG 1.1//EN\"\r\n",
       " \"http://www.w3.org/Graphics/SVG/1.1/DTD/svg11.dtd\">\r\n",
       "<!-- Generated by graphviz version 2.38.0 (20140413.2041)\r\n",
       " -->\r\n",
       "<!-- Pages: 1 -->\r\n",
       "<svg width=\"1058pt\" height=\"326pt\"\r\n",
       " viewBox=\"0.00 0.00 1057.62 326.00\" xmlns=\"http://www.w3.org/2000/svg\" xmlns:xlink=\"http://www.w3.org/1999/xlink\">\r\n",
       "<g id=\"graph0\" class=\"graph\" transform=\"scale(1 1) rotate(0) translate(4 322)\">\r\n",
       "<polygon fill=\"white\" stroke=\"none\" points=\"-4,4 -4,-322 1053.62,-322 1053.62,4 -4,4\"/>\r\n",
       "<!-- h -->\r\n",
       "<g id=\"node1\" class=\"node\"><title>h</title>\r\n",
       "<ellipse fill=\"none\" stroke=\"black\" cx=\"523.619\" cy=\"-213\" rx=\"38.1938\" ry=\"18\"/>\r\n",
       "<text text-anchor=\"middle\" x=\"523.619\" y=\"-209.3\" font-family=\"Times New Roman,serif\" font-size=\"14.00\">h: &#45;3.25</text>\r\n",
       "</g>\r\n",
       "<!-- Y -->\r\n",
       "<g id=\"node2\" class=\"node\"><title>Y</title>\r\n",
       "<ellipse fill=\"none\" stroke=\"black\" cx=\"73.6185\" cy=\"-18\" rx=\"40.0939\" ry=\"18\"/>\r\n",
       "<text text-anchor=\"middle\" x=\"73.6185\" y=\"-14.3\" font-family=\"Times New Roman,serif\" font-size=\"14.00\">Y: &#45;8.19</text>\r\n",
       "</g>\r\n",
       "<!-- h&#45;&gt;Y -->\r\n",
       "<g id=\"edge1\" class=\"edge\"><title>h&#45;&gt;Y</title>\r\n",
       "<path fill=\"none\" stroke=\"#ff0051\" stroke-width=\"0.05\" d=\"M558.079,-204.615C578.774,-199.135 605,-190.281 625.619,-177 664.27,-152.103 707.629,-120.943 676.619,-87 661.644,-70.6094 499.529,-72.5804 477.619,-69 449.213,-64.3583 442.996,-58.8131 414.619,-54 311.861,-36.5713 190.11,-26.6087 123.442,-22.0537\"/>\r\n",
       "<polygon fill=\"#ff0051\" stroke=\"#ff0051\" stroke-width=\"0.05\" points=\"123.439,-18.5457 113.227,-21.3687 122.97,-25.53 123.439,-18.5457\"/>\r\n",
       "<text text-anchor=\"middle\" x=\"700.119\" y=\"-101.3\" font-family=\"Times New Roman,serif\" font-size=\"14.00\" fill=\"#ff0051\">0.00</text>\r\n",
       "</g>\r\n",
       "<!-- i -->\r\n",
       "<g id=\"node3\" class=\"node\"><title>i</title>\r\n",
       "<ellipse fill=\"none\" stroke=\"black\" cx=\"635.619\" cy=\"-105\" rx=\"32.4942\" ry=\"18\"/>\r\n",
       "<text text-anchor=\"middle\" x=\"635.619\" y=\"-101.3\" font-family=\"Times New Roman,serif\" font-size=\"14.00\">i: 1.61</text>\r\n",
       "</g>\r\n",
       "<!-- h&#45;&gt;i -->\r\n",
       "<g id=\"edge2\" class=\"edge\"><title>h&#45;&gt;i</title>\r\n",
       "<path fill=\"none\" stroke=\"#ff0051\" stroke-width=\"0.05\" d=\"M546.433,-198.232C555.184,-192.33 564.91,-184.961 572.619,-177 585.995,-163.185 584.03,-155.537 596.619,-141 600.663,-136.33 605.306,-131.675 609.945,-127.355\"/>\r\n",
       "<polygon fill=\"#ff0051\" stroke=\"#ff0051\" stroke-width=\"0.05\" points=\"612.53,-129.738 617.643,-120.459 607.859,-124.525 612.53,-129.738\"/>\r\n",
       "<text text-anchor=\"middle\" x=\"609.119\" y=\"-155.3\" font-family=\"Times New Roman,serif\" font-size=\"14.00\" fill=\"#ff0051\">0.00</text>\r\n",
       "</g>\r\n",
       "<!-- i&#45;&gt;Y -->\r\n",
       "<g id=\"edge3\" class=\"edge\"><title>i&#45;&gt;Y</title>\r\n",
       "<path fill=\"none\" stroke=\"#008bfb\" stroke-width=\"3.27382\" d=\"M605.583,-97.5786C588.623,-94.1085 567.002,-89.9443 547.619,-87 475.997,-76.1209 457.405,-78.7344 385.619,-69 291.323,-56.2131 181.565,-37.7981 120.594,-27.253\"/>\r\n",
       "<polygon fill=\"#008bfb\" stroke=\"#008bfb\" stroke-width=\"3.27382\" points=\"120.966,-23.7653 110.515,-25.5045 119.769,-30.6623 120.966,-23.7653\"/>\r\n",
       "<text text-anchor=\"middle\" x=\"400.119\" y=\"-57.8\" font-family=\"Times New Roman,serif\" font-size=\"14.00\" fill=\"#008bfb\">&#45;6.39</text>\r\n",
       "</g>\r\n",
       "<!-- c -->\r\n",
       "<g id=\"node4\" class=\"node\"><title>c</title>\r\n",
       "<ellipse fill=\"none\" stroke=\"black\" cx=\"259.619\" cy=\"-300\" rx=\"38.1938\" ry=\"18\"/>\r\n",
       "<text text-anchor=\"middle\" x=\"259.619\" y=\"-296.3\" font-family=\"Times New Roman,serif\" font-size=\"14.00\">c: &#45;1.11</text>\r\n",
       "</g>\r\n",
       "<!-- c&#45;&gt;h -->\r\n",
       "<g id=\"edge4\" class=\"edge\"><title>c&#45;&gt;h</title>\r\n",
       "<path fill=\"none\" stroke=\"#ff0051\" stroke-width=\"0.05\" d=\"M294.169,-292.08C310.885,-288.833 331.261,-285.023 349.619,-282 406.304,-272.666 426.752,-290.7 477.619,-264 484.006,-260.647 494.79,-249.085 504.312,-237.922\"/>\r\n",
       "<polygon fill=\"#ff0051\" stroke=\"#ff0051\" stroke-width=\"0.05\" points=\"507.215,-239.906 510.941,-229.988 501.844,-235.418 507.215,-239.906\"/>\r\n",
       "<text text-anchor=\"middle\" x=\"506.119\" y=\"-252.8\" font-family=\"Times New Roman,serif\" font-size=\"14.00\" fill=\"#ff0051\">0.00</text>\r\n",
       "</g>\r\n",
       "<!-- c&#45;&gt;Y -->\r\n",
       "<g id=\"edge5\" class=\"edge\"><title>c&#45;&gt;Y</title>\r\n",
       "<path fill=\"none\" stroke=\"#008bfb\" stroke-width=\"0.310416\" d=\"M225.259,-291.883C193.473,-283.313 147.884,-265.533 125.619,-231 87.9306,-172.547 77.5544,-88.9489 74.7,-46.2994\"/>\r\n",
       "<polygon fill=\"#008bfb\" stroke=\"#008bfb\" stroke-width=\"0.310416\" points=\"78.1838,-45.9174 74.1125,-36.136 71.1955,-46.3214 78.1838,-45.9174\"/>\r\n",
       "<text text-anchor=\"middle\" x=\"114.119\" y=\"-155.3\" font-family=\"Times New Roman,serif\" font-size=\"14.00\" fill=\"#008bfb\">&#45;0.52</text>\r\n",
       "</g>\r\n",
       "<!-- c&#45;&gt;i -->\r\n",
       "<g id=\"edge6\" class=\"edge\"><title>c&#45;&gt;i</title>\r\n",
       "<path fill=\"none\" stroke=\"#ff0051\" stroke-width=\"0.05\" d=\"M224.426,-292.805C195.183,-285.883 160.344,-272.445 173.619,-249 228.697,-151.721 312.527,-222.542 414.619,-177 436.765,-167.121 433.85,-151.685 455.619,-141 499.373,-119.523 555.175,-111.216 592.963,-108.009\"/>\r\n",
       "<polygon fill=\"#ff0051\" stroke=\"#ff0051\" stroke-width=\"0.05\" points=\"593.414,-111.484 603.119,-107.232 592.881,-104.505 593.414,-111.484\"/>\r\n",
       "<text text-anchor=\"middle\" x=\"263.119\" y=\"-209.3\" font-family=\"Times New Roman,serif\" font-size=\"14.00\" fill=\"#ff0051\">0.00</text>\r\n",
       "</g>\r\n",
       "<!-- g -->\r\n",
       "<g id=\"node5\" class=\"node\"><title>g</title>\r\n",
       "<ellipse fill=\"none\" stroke=\"black\" cx=\"502.619\" cy=\"-159\" rx=\"38.1938\" ry=\"18\"/>\r\n",
       "<text text-anchor=\"middle\" x=\"502.619\" y=\"-155.3\" font-family=\"Times New Roman,serif\" font-size=\"14.00\">g: &#45;3.18</text>\r\n",
       "</g>\r\n",
       "<!-- c&#45;&gt;g -->\r\n",
       "<g id=\"edge7\" class=\"edge\"><title>c&#45;&gt;g</title>\r\n",
       "<path fill=\"none\" stroke=\"#ff0051\" stroke-width=\"0.05\" d=\"M262.035,-281.848C264.196,-271.483 268.219,-258.486 275.619,-249 303.611,-213.118 320.244,-211.599 362.619,-195 401.819,-179.645 415.034,-188.194 455.619,-177 458.536,-176.195 461.53,-175.295 464.527,-174.339\"/>\r\n",
       "<polygon fill=\"#ff0051\" stroke=\"#ff0051\" stroke-width=\"0.05\" points=\"465.652,-177.653 474.014,-171.148 463.42,-171.018 465.652,-177.653\"/>\r\n",
       "<text text-anchor=\"middle\" x=\"288.119\" y=\"-252.8\" font-family=\"Times New Roman,serif\" font-size=\"14.00\" fill=\"#ff0051\">0.00</text>\r\n",
       "</g>\r\n",
       "<!-- g&#45;&gt;Y -->\r\n",
       "<g id=\"edge8\" class=\"edge\"><title>g&#45;&gt;Y</title>\r\n",
       "<path fill=\"none\" stroke=\"#008bfb\" stroke-width=\"0.151276\" d=\"M489.365,-142.005C474.502,-125.272 448.766,-99.7076 420.619,-87 366.252,-62.4554 346.283,-79.7979 287.619,-69 228.216,-58.0663 160.446,-41.5348 117.373,-30.5099\"/>\r\n",
       "<polygon fill=\"#008bfb\" stroke=\"#008bfb\" stroke-width=\"0.151276\" points=\"118.064,-27.0737 107.507,-27.9702 116.319,-33.8527 118.064,-27.0737\"/>\r\n",
       "<text text-anchor=\"middle\" x=\"485.119\" y=\"-101.3\" font-family=\"Times New Roman,serif\" font-size=\"14.00\" fill=\"#008bfb\">&#45;0.20</text>\r\n",
       "</g>\r\n",
       "<!-- d -->\r\n",
       "<g id=\"node6\" class=\"node\"><title>d</title>\r\n",
       "<ellipse fill=\"none\" stroke=\"black\" cx=\"110.619\" cy=\"-300\" rx=\"35.9954\" ry=\"18\"/>\r\n",
       "<text text-anchor=\"middle\" x=\"110.619\" y=\"-296.3\" font-family=\"Times New Roman,serif\" font-size=\"14.00\">d: 0.16</text>\r\n",
       "</g>\r\n",
       "<!-- d&#45;&gt;h -->\r\n",
       "<g id=\"edge9\" class=\"edge\"><title>d&#45;&gt;h</title>\r\n",
       "<path fill=\"none\" stroke=\"#ff0051\" stroke-width=\"0.05\" d=\"M144.111,-293.313C197.63,-284.175 297.204,-266.946 304.619,-264 315.96,-259.494 316.265,-253.475 327.619,-249 370.853,-231.959 384.872,-239.178 430.619,-231 446.109,-228.231 463.041,-225.151 478.162,-222.382\"/>\r\n",
       "<polygon fill=\"#ff0051\" stroke=\"#ff0051\" stroke-width=\"0.05\" points=\"479.097,-225.769 488.301,-220.523 477.834,-218.884 479.097,-225.769\"/>\r\n",
       "<text text-anchor=\"middle\" x=\"340.119\" y=\"-252.8\" font-family=\"Times New Roman,serif\" font-size=\"14.00\" fill=\"#ff0051\">0.00</text>\r\n",
       "</g>\r\n",
       "<!-- d&#45;&gt;Y -->\r\n",
       "<g id=\"edge10\" class=\"edge\"><title>d&#45;&gt;Y</title>\r\n",
       "<path fill=\"none\" stroke=\"#ff0051\" stroke-width=\"0.05\" d=\"M81.9798,-288.826C57.7693,-278.472 24.8246,-259.81 10.6185,-231 -21.0219,-166.834 26.771,-83.765 55.1287,-43.3025\"/>\r\n",
       "<polygon fill=\"#ff0051\" stroke=\"#ff0051\" stroke-width=\"0.05\" points=\"58.024,-45.2711 61.0181,-35.1081 52.3398,-41.1858 58.024,-45.2711\"/>\r\n",
       "<text text-anchor=\"middle\" x=\"19.1185\" y=\"-155.3\" font-family=\"Times New Roman,serif\" font-size=\"14.00\" fill=\"#ff0051\">0.00</text>\r\n",
       "</g>\r\n",
       "<!-- d&#45;&gt;i -->\r\n",
       "<g id=\"edge11\" class=\"edge\"><title>d&#45;&gt;i</title>\r\n",
       "<path fill=\"none\" stroke=\"#008bfb\" stroke-width=\"0.0582985\" d=\"M112.919,-281.665C116.985,-258.249 127.723,-216.927 154.619,-195 186.235,-169.224 205.098,-187.107 244.619,-177 296.505,-163.73 307.282,-152.367 359.619,-141 422.647,-127.311 439.634,-131.119 503.619,-123 533.939,-119.153 568.167,-114.742 594.171,-111.378\"/>\r\n",
       "<polygon fill=\"#008bfb\" stroke=\"#008bfb\" stroke-width=\"0.0582985\" points=\"594.951,-114.807 604.418,-110.052 594.052,-107.865 594.951,-114.807\"/>\r\n",
       "<text text-anchor=\"middle\" x=\"169.119\" y=\"-209.3\" font-family=\"Times New Roman,serif\" font-size=\"14.00\" fill=\"#008bfb\">&#45;0.02</text>\r\n",
       "</g>\r\n",
       "<!-- d&#45;&gt;g -->\r\n",
       "<g id=\"edge12\" class=\"edge\"><title>d&#45;&gt;g</title>\r\n",
       "<path fill=\"none\" stroke=\"#ff0051\" stroke-width=\"0.05\" d=\"M129.334,-284.406C160.425,-261.042 225.557,-215.763 288.619,-195 359.526,-171.654 382.885,-193.817 455.619,-177 458.649,-176.299 461.752,-175.462 464.848,-174.539\"/>\r\n",
       "<polygon fill=\"#ff0051\" stroke=\"#ff0051\" stroke-width=\"0.05\" points=\"466.186,-177.785 474.616,-171.367 464.023,-171.127 466.186,-177.785\"/>\r\n",
       "<text text-anchor=\"middle\" x=\"192.119\" y=\"-252.8\" font-family=\"Times New Roman,serif\" font-size=\"14.00\" fill=\"#ff0051\">0.00</text>\r\n",
       "</g>\r\n",
       "<!-- e -->\r\n",
       "<g id=\"node7\" class=\"node\"><title>e</title>\r\n",
       "<ellipse fill=\"none\" stroke=\"black\" cx=\"392.619\" cy=\"-300\" rx=\"34.394\" ry=\"18\"/>\r\n",
       "<text text-anchor=\"middle\" x=\"392.619\" y=\"-296.3\" font-family=\"Times New Roman,serif\" font-size=\"14.00\">e: 1.04</text>\r\n",
       "</g>\r\n",
       "<!-- e&#45;&gt;h -->\r\n",
       "<g id=\"edge13\" class=\"edge\"><title>e&#45;&gt;h</title>\r\n",
       "<path fill=\"none\" stroke=\"#ff0051\" stroke-width=\"0.05\" d=\"M425.889,-294.884C461.189,-289.752 513.519,-279.695 525.619,-264 530.616,-257.517 531.664,-249.034 530.993,-240.9\"/>\r\n",
       "<polygon fill=\"#ff0051\" stroke=\"#ff0051\" stroke-width=\"0.05\" points=\"534.437,-240.277 529.391,-230.962 527.527,-241.391 534.437,-240.277\"/>\r\n",
       "<text text-anchor=\"middle\" x=\"544.119\" y=\"-252.8\" font-family=\"Times New Roman,serif\" font-size=\"14.00\" fill=\"#ff0051\">0.00</text>\r\n",
       "</g>\r\n",
       "<!-- e&#45;&gt;Y -->\r\n",
       "<g id=\"edge14\" class=\"edge\"><title>e&#45;&gt;Y</title>\r\n",
       "<path fill=\"none\" stroke=\"#008bfb\" stroke-width=\"0.579604\" d=\"M361.411,-292.178C309.878,-280.38 210.047,-255.108 183.619,-231 175.996,-224.047 113.726,-99.7397 86.3966,-44.7756\"/>\r\n",
       "<polygon fill=\"#008bfb\" stroke=\"#008bfb\" stroke-width=\"0.579604\" points=\"89.4547,-43.0645 81.8713,-35.6656 83.1856,-46.1786 89.4547,-43.0645\"/>\r\n",
       "<text text-anchor=\"middle\" x=\"167.119\" y=\"-155.3\" font-family=\"Times New Roman,serif\" font-size=\"14.00\" fill=\"#008bfb\">&#45;1.05</text>\r\n",
       "</g>\r\n",
       "<!-- e&#45;&gt;i -->\r\n",
       "<g id=\"edge15\" class=\"edge\"><title>e&#45;&gt;i</title>\r\n",
       "<path fill=\"none\" stroke=\"#008bfb\" stroke-width=\"0.117504\" d=\"M396.661,-281.909C403.166,-258.386 418.306,-216.507 447.619,-195 483.323,-168.803 507.766,-199.984 545.619,-177 562.944,-166.48 558.271,-154.241 573.619,-141 582.129,-133.657 592.417,-127.115 602.145,-121.731\"/>\r\n",
       "<polygon fill=\"#008bfb\" stroke=\"#008bfb\" stroke-width=\"0.117504\" points=\"604.017,-124.7 611.225,-116.935 600.748,-118.511 604.017,-124.7\"/>\r\n",
       "<text text-anchor=\"middle\" x=\"462.119\" y=\"-209.3\" font-family=\"Times New Roman,serif\" font-size=\"14.00\" fill=\"#008bfb\">&#45;0.13</text>\r\n",
       "</g>\r\n",
       "<!-- e&#45;&gt;g -->\r\n",
       "<g id=\"edge16\" class=\"edge\"><title>e&#45;&gt;g</title>\r\n",
       "<path fill=\"none\" stroke=\"#ff0051\" stroke-width=\"0.0515994\" d=\"M382.982,-282.625C371.26,-260.323 355.389,-220.286 375.619,-195 398.385,-166.542 420.636,-187.218 455.619,-177 458.523,-176.152 461.509,-175.219 464.499,-174.24\"/>\r\n",
       "<polygon fill=\"#ff0051\" stroke=\"#ff0051\" stroke-width=\"0.0515994\" points=\"465.641,-177.549 473.975,-171.007 463.38,-170.924 465.641,-177.549\"/>\r\n",
       "<text text-anchor=\"middle\" x=\"387.119\" y=\"-252.8\" font-family=\"Times New Roman,serif\" font-size=\"14.00\" fill=\"#ff0051\">0.00</text>\r\n",
       "</g>\r\n",
       "<!-- f -->\r\n",
       "<g id=\"node8\" class=\"node\"><title>f</title>\r\n",
       "<ellipse fill=\"none\" stroke=\"black\" cx=\"635.619\" cy=\"-300\" rx=\"33.5952\" ry=\"18\"/>\r\n",
       "<text text-anchor=\"middle\" x=\"635.619\" y=\"-296.3\" font-family=\"Times New Roman,serif\" font-size=\"14.00\">f: 0.54</text>\r\n",
       "</g>\r\n",
       "<!-- f&#45;&gt;h -->\r\n",
       "<g id=\"edge17\" class=\"edge\"><title>f&#45;&gt;h</title>\r\n",
       "<path fill=\"none\" stroke=\"#ff0051\" stroke-width=\"0.05\" d=\"M618.232,-284.453C605.94,-274.299 588.981,-260.551 573.619,-249 567.068,-244.075 559.912,-238.931 553.114,-234.15\"/>\r\n",
       "<polygon fill=\"#ff0051\" stroke=\"#ff0051\" stroke-width=\"0.05\" points=\"554.972,-231.179 544.767,-228.332 550.969,-236.922 554.972,-231.179\"/>\r\n",
       "<text text-anchor=\"middle\" x=\"606.119\" y=\"-252.8\" font-family=\"Times New Roman,serif\" font-size=\"14.00\" fill=\"#ff0051\">0.00</text>\r\n",
       "</g>\r\n",
       "<!-- f&#45;&gt;Y -->\r\n",
       "<g id=\"edge18\" class=\"edge\"><title>f&#45;&gt;Y</title>\r\n",
       "<path fill=\"none\" stroke=\"#008bfb\" stroke-width=\"0.978541\" d=\"M661.894,-288.297C667.395,-286.145 673.177,-283.948 678.619,-282 703.232,-273.189 713.149,-278.917 734.619,-264 749.952,-253.346 754.503,-248.642 760.619,-231 765.858,-215.882 769.537,-208.284 760.619,-195 748.842,-177.458 728.395,-194.542 716.619,-177 694.323,-143.79 743.674,-116.462 716.619,-87 700.703,-69.6694 528.663,-73.7536 505.619,-69 484.971,-64.7409 481.255,-58.3116 460.619,-54 341.575,-29.1277 198.285,-21.9291 123.927,-19.8467\"/>\r\n",
       "<polygon fill=\"#008bfb\" stroke=\"#008bfb\" stroke-width=\"0.978541\" points=\"123.99,-16.3472 113.902,-19.5855 123.808,-23.3449 123.99,-16.3472\"/>\r\n",
       "<text text-anchor=\"middle\" x=\"731.119\" y=\"-155.3\" font-family=\"Times New Roman,serif\" font-size=\"14.00\" fill=\"#008bfb\">&#45;1.84</text>\r\n",
       "</g>\r\n",
       "<!-- f&#45;&gt;i -->\r\n",
       "<g id=\"edge19\" class=\"edge\"><title>f&#45;&gt;i</title>\r\n",
       "<path fill=\"none\" stroke=\"#ff0051\" stroke-width=\"2.04252\" d=\"M635.619,-281.873C635.619,-248.323 635.619,-173.707 635.619,-133.287\"/>\r\n",
       "<polygon fill=\"#ff0051\" stroke=\"#ff0051\" stroke-width=\"2.04252\" points=\"639.119,-133.089 635.619,-123.089 632.119,-133.089 639.119,-133.089\"/>\r\n",
       "<text text-anchor=\"middle\" x=\"648.119\" y=\"-209.3\" font-family=\"Times New Roman,serif\" font-size=\"14.00\" fill=\"#ff0051\">3.95</text>\r\n",
       "</g>\r\n",
       "<!-- f&#45;&gt;g -->\r\n",
       "<g id=\"edge20\" class=\"edge\"><title>f&#45;&gt;g</title>\r\n",
       "<path fill=\"none\" stroke=\"#008bfb\" stroke-width=\"0.0964364\" d=\"M601.89,-297.825C552.511,-295.315 464.259,-287.567 444.619,-264 423.24,-238.349 451.927,-203.666 476.014,-181.559\"/>\r\n",
       "<polygon fill=\"#008bfb\" stroke=\"#008bfb\" stroke-width=\"0.0964364\" points=\"478.429,-184.096 483.603,-174.851 473.793,-178.851 478.429,-184.096\"/>\r\n",
       "<text text-anchor=\"middle\" x=\"459.119\" y=\"-252.8\" font-family=\"Times New Roman,serif\" font-size=\"14.00\" fill=\"#008bfb\">&#45;0.09</text>\r\n",
       "</g>\r\n",
       "<!-- j -->\r\n",
       "<g id=\"node9\" class=\"node\"><title>j</title>\r\n",
       "<ellipse fill=\"none\" stroke=\"black\" cx=\"790.619\" cy=\"-159\" rx=\"35.9954\" ry=\"18\"/>\r\n",
       "<text text-anchor=\"middle\" x=\"790.619\" y=\"-155.3\" font-family=\"Times New Roman,serif\" font-size=\"14.00\">j: &#45;1.39</text>\r\n",
       "</g>\r\n",
       "<!-- f&#45;&gt;j -->\r\n",
       "<g id=\"edge21\" class=\"edge\"><title>f&#45;&gt;j</title>\r\n",
       "<path fill=\"none\" stroke=\"#ff0051\" stroke-width=\"0.05\" d=\"M660.71,-287.754C666.495,-285.536 672.692,-283.449 678.619,-282 716.379,-272.768 826.584,-292.867 852.619,-264 875.711,-238.395 843.756,-202.905 817.816,-180.709\"/>\r\n",
       "<polygon fill=\"#ff0051\" stroke=\"#ff0051\" stroke-width=\"0.05\" points=\"819.965,-177.945 810.026,-174.274 815.506,-183.341 819.965,-177.945\"/>\r\n",
       "<text text-anchor=\"middle\" x=\"873.119\" y=\"-252.8\" font-family=\"Times New Roman,serif\" font-size=\"14.00\" fill=\"#ff0051\">0.00</text>\r\n",
       "</g>\r\n",
       "<!-- j&#45;&gt;Y -->\r\n",
       "<g id=\"edge22\" class=\"edge\"><title>j&#45;&gt;Y</title>\r\n",
       "<path fill=\"none\" stroke=\"#008bfb\" stroke-width=\"0.120283\" d=\"M793.295,-141.001C794.802,-124.694 794.055,-100.599 779.619,-87 748.586,-57.7681 630.855,-74.7961 588.619,-69 551.48,-63.9035 542.79,-58.8527 505.619,-54 368.161,-36.0547 204.817,-25.8118 124.033,-21.479\"/>\r\n",
       "<polygon fill=\"#008bfb\" stroke=\"#008bfb\" stroke-width=\"0.120283\" points=\"123.831,-17.9635 113.66,-20.9309 123.462,-24.9538 123.831,-17.9635\"/>\r\n",
       "<text text-anchor=\"middle\" x=\"809.119\" y=\"-101.3\" font-family=\"Times New Roman,serif\" font-size=\"14.00\" fill=\"#008bfb\">&#45;0.14</text>\r\n",
       "</g>\r\n",
       "<!-- a -->\r\n",
       "<g id=\"node10\" class=\"node\"><title>a</title>\r\n",
       "<ellipse fill=\"none\" stroke=\"black\" cx=\"845.619\" cy=\"-300\" rx=\"34.394\" ry=\"18\"/>\r\n",
       "<text text-anchor=\"middle\" x=\"845.619\" y=\"-296.3\" font-family=\"Times New Roman,serif\" font-size=\"14.00\">a: 1.04</text>\r\n",
       "</g>\r\n",
       "<!-- a&#45;&gt;h -->\r\n",
       "<g id=\"edge23\" class=\"edge\"><title>a&#45;&gt;h</title>\r\n",
       "<path fill=\"none\" stroke=\"#ff0051\" stroke-width=\"0.05\" d=\"M837.151,-282.544C830.299,-271.059 819.511,-256.495 805.619,-249 767.904,-228.652 656.052,-236.983 613.619,-231 598.794,-228.91 582.701,-226.058 568.277,-223.287\"/>\r\n",
       "<polygon fill=\"#ff0051\" stroke=\"#ff0051\" stroke-width=\"0.05\" points=\"568.598,-219.783 558.112,-221.296 567.252,-226.653 568.598,-219.783\"/>\r\n",
       "<text text-anchor=\"middle\" x=\"836.119\" y=\"-252.8\" font-family=\"Times New Roman,serif\" font-size=\"14.00\" fill=\"#ff0051\">0.00</text>\r\n",
       "</g>\r\n",
       "<!-- a&#45;&gt;Y -->\r\n",
       "<g id=\"edge24\" class=\"edge\"><title>a&#45;&gt;Y</title>\r\n",
       "<path fill=\"none\" stroke=\"#ff0051\" stroke-width=\"0.0609597\" d=\"M880.214,-299.657C915.756,-298.62 971.051,-292.057 1008.62,-264 1022,-254.003 1022.49,-247.189 1026.62,-231 1050.67,-136.685 952.86,-120.893 861.619,-87 725.545,-36.454 276.753,-23.0166 124.593,-19.8696\"/>\r\n",
       "<polygon fill=\"#ff0051\" stroke=\"#ff0051\" stroke-width=\"0.0609597\" points=\"124.226,-16.3616 114.158,-19.6604 124.086,-23.3602 124.226,-16.3616\"/>\r\n",
       "<text text-anchor=\"middle\" x=\"1037.12\" y=\"-155.3\" font-family=\"Times New Roman,serif\" font-size=\"14.00\" fill=\"#ff0051\">0.02</text>\r\n",
       "</g>\r\n",
       "<!-- a&#45;&gt;i -->\r\n",
       "<g id=\"edge25\" class=\"edge\"><title>a&#45;&gt;i</title>\r\n",
       "<path fill=\"none\" stroke=\"#008bfb\" stroke-width=\"0.240531\" d=\"M880.173,-299.503C927.787,-298.688 1005.57,-291.098 985.619,-249 962.011,-199.183 931.491,-206.017 884.619,-177 861.642,-162.776 860.741,-150.957 835.619,-141 774.017,-116.586 752.306,-137.363 687.619,-123 682.477,-121.858 677.123,-120.414 671.89,-118.851\"/>\r\n",
       "<polygon fill=\"#008bfb\" stroke=\"#008bfb\" stroke-width=\"0.240531\" points=\"672.652,-115.421 662.062,-115.748 670.545,-122.096 672.652,-115.421\"/>\r\n",
       "<text text-anchor=\"middle\" x=\"990.119\" y=\"-209.3\" font-family=\"Times New Roman,serif\" font-size=\"14.00\" fill=\"#008bfb\">&#45;0.38</text>\r\n",
       "</g>\r\n",
       "<!-- b -->\r\n",
       "<g id=\"node11\" class=\"node\"><title>b</title>\r\n",
       "<ellipse fill=\"none\" stroke=\"black\" cx=\"725.619\" cy=\"-300\" rx=\"38.1938\" ry=\"18\"/>\r\n",
       "<text text-anchor=\"middle\" x=\"725.619\" y=\"-296.3\" font-family=\"Times New Roman,serif\" font-size=\"14.00\">b: &#45;2.19</text>\r\n",
       "</g>\r\n",
       "<!-- b&#45;&gt;h -->\r\n",
       "<g id=\"edge26\" class=\"edge\"><title>b&#45;&gt;h</title>\r\n",
       "<path fill=\"none\" stroke=\"#ff0051\" stroke-width=\"0.05\" d=\"M701,-286.083C680.354,-275.485 649.945,-260.421 622.619,-249 603.601,-241.052 582.072,-233.298 563.958,-227.116\"/>\r\n",
       "<polygon fill=\"#ff0051\" stroke=\"#ff0051\" stroke-width=\"0.05\" points=\"564.878,-223.733 554.284,-223.852 562.641,-230.365 564.878,-223.733\"/>\r\n",
       "<text text-anchor=\"middle\" x=\"667.119\" y=\"-252.8\" font-family=\"Times New Roman,serif\" font-size=\"14.00\" fill=\"#ff0051\">0.00</text>\r\n",
       "</g>\r\n",
       "<!-- b&#45;&gt;Y -->\r\n",
       "<g id=\"edge27\" class=\"edge\"><title>b&#45;&gt;Y</title>\r\n",
       "<path fill=\"none\" stroke=\"#ff0051\" stroke-width=\"0.05\" d=\"M758.806,-290.764C772.327,-287.647 788.152,-284.3 802.619,-282 842.975,-275.584 950.363,-284.66 985.619,-264 1013.51,-247.656 1029.19,-219.935 1008.62,-195 981.826,-162.525 952.687,-196.959 915.619,-177 866.361,-150.479 878.112,-111.084 827.619,-87 788.939,-68.5511 678.012,-75.2656 635.619,-69 602.421,-64.0936 594.867,-58.543 561.619,-54 402.547,-32.2649 212.34,-23.5455 123.693,-20.4705\"/>\r\n",
       "<polygon fill=\"#ff0051\" stroke=\"#ff0051\" stroke-width=\"0.05\" points=\"123.762,-16.9709 113.65,-20.1314 123.526,-23.967 123.762,-16.9709\"/>\r\n",
       "<text text-anchor=\"middle\" x=\"928.119\" y=\"-155.3\" font-family=\"Times New Roman,serif\" font-size=\"14.00\" fill=\"#ff0051\">0.00</text>\r\n",
       "</g>\r\n",
       "<!-- b&#45;&gt;i -->\r\n",
       "<g id=\"edge28\" class=\"edge\"><title>b&#45;&gt;i</title>\r\n",
       "<path fill=\"none\" stroke=\"#008bfb\" stroke-width=\"5\" d=\"M732.643,-282.082C735.735,-272.276 737.985,-259.776 734.619,-249 719.606,-200.94 682.147,-154.817 657.853,-128.499\"/>\r\n",
       "<polygon fill=\"#008bfb\" stroke=\"#008bfb\" stroke-width=\"5\" points=\"660.817,-125.265 650.776,-120.987 654.449,-131.266 660.817,-125.265\"/>\r\n",
       "<text text-anchor=\"middle\" x=\"742.119\" y=\"-209.3\" font-family=\"Times New Roman,serif\" font-size=\"14.00\" fill=\"#008bfb\">&#45;9.81</text>\r\n",
       "</g>\r\n",
       "<!-- b&#45;&gt;g -->\r\n",
       "<g id=\"edge29\" class=\"edge\"><title>b&#45;&gt;g</title>\r\n",
       "<path fill=\"none\" stroke=\"#008bfb\" stroke-width=\"0.106439\" d=\"M715.513,-282.237C708.028,-271.214 696.858,-257.336 683.619,-249 656.435,-231.885 642.195,-245.673 613.619,-231 591.446,-219.615 591.382,-208.788 570.619,-195 560.524,-188.297 548.984,-181.924 538.313,-176.499\"/>\r\n",
       "<polygon fill=\"#008bfb\" stroke=\"#008bfb\" stroke-width=\"0.106439\" points=\"539.731,-173.296 529.217,-171.991 536.622,-179.568 539.731,-173.296\"/>\r\n",
       "<text text-anchor=\"middle\" x=\"716.119\" y=\"-252.8\" font-family=\"Times New Roman,serif\" font-size=\"14.00\" fill=\"#008bfb\">&#45;0.11</text>\r\n",
       "</g>\r\n",
       "<!-- b&#45;&gt;j -->\r\n",
       "<g id=\"edge30\" class=\"edge\"><title>b&#45;&gt;j</title>\r\n",
       "<path fill=\"none\" stroke=\"#008bfb\" stroke-width=\"0.120283\" d=\"M758.836,-290.945C772.361,-287.854 788.181,-284.478 802.619,-282 834.837,-276.47 926.963,-288.489 948.619,-264 965.383,-245.042 926.538,-223.252 876.619,-195 861.773,-186.598 844.506,-179.162 829.356,-173.329\"/>\r\n",
       "<polygon fill=\"#008bfb\" stroke=\"#008bfb\" stroke-width=\"0.120283\" points=\"830.345,-169.962 819.753,-169.733 827.891,-176.517 830.345,-169.962\"/>\r\n",
       "<text text-anchor=\"middle\" x=\"967.119\" y=\"-252.8\" font-family=\"Times New Roman,serif\" font-size=\"14.00\" fill=\"#008bfb\">&#45;0.14</text>\r\n",
       "</g>\r\n",
       "</g>\r\n",
       "</svg>\r\n"
      ],
      "text/plain": [
       "<graphviz.files.Source at 0x165ff9e7430>"
      ]
     },
     "metadata": {},
     "output_type": "display_data"
    },
    {
     "data": {
      "text/plain": [
       "<AGraph <Swig Object of type 'Agraph_t *' at 0x0000016587BFDB40>>"
      ]
     },
     "execution_count": 22,
     "metadata": {},
     "output_type": "execute_result"
    }
   ],
   "source": [
    "print(\"Shapley Flow\")\n",
    "cf_flow_linear.fold_noise = True\n",
    "cf_flow_linear.draw(sample_ind)"
   ]
  },
  {
   "cell_type": "code",
   "execution_count": 23,
   "id": "9c1488dd",
   "metadata": {},
   "outputs": [
    {
     "name": "stdout",
     "output_type": "stream",
     "text": [
      "On manifold SHAP\n"
     ]
    },
    {
     "data": {
      "image/png": "[encoded data removed]",
      "text/plain": [
       "<Figure size 432x288 with 1 Axes>"
      ]
     },
     "metadata": {
      "needs_background": "light"
     },
     "output_type": "display_data"
    }
   ],
   "source": [
    "print(\"On manifold SHAP\")\n",
    "cf_on_manifold_linear.draw(sample_ind)"
   ]
  },
  {
   "cell_type": "code",
   "execution_count": 24,
   "id": "7bf5e6fa",
   "metadata": {},
   "outputs": [
    {
     "name": "stdout",
     "output_type": "stream",
     "text": [
      "Independent SHAP\n"
     ]
    },
    {
     "data": {
      "image/png": "[encoded data removed]",
      "text/plain": [
       "<Figure size 432x288 with 1 Axes>"
      ]
     },
     "metadata": {
      "needs_background": "light"
     },
     "output_type": "display_data"
    }
   ],
   "source": [
    "print(\"Independent SHAP\")\n",
    "cf_ind_linear.draw(sample_ind)"
   ]
  },
  {
   "cell_type": "code",
   "execution_count": 25,
   "id": "4ec1b60e",
   "metadata": {},
   "outputs": [
    {
     "name": "stdout",
     "output_type": "stream",
     "text": [
      "ASV (note: only non-zero attribution nodes are shown)\n"
     ]
    },
    {
     "data": {
      "image/svg+xml": [
       "<?xml version=\"1.0\" encoding=\"UTF-8\" standalone=\"no\"?>\r\n",
       "<!DOCTYPE svg PUBLIC \"-//W3C//DTD SVG 1.1//EN\"\r\n",
       " \"http://www.w3.org/Graphics/SVG/1.1/DTD/svg11.dtd\">\r\n",
       "<!-- Generated by graphviz version 2.38.0 (20140413.2041)\r\n",
       " -->\r\n",
       "<!-- Pages: 1 -->\r\n",
       "<svg width=\"422pt\" height=\"131pt\"\r\n",
       " viewBox=\"0.00 0.00 422.00 131.00\" xmlns=\"http://www.w3.org/2000/svg\" xmlns:xlink=\"http://www.w3.org/1999/xlink\">\r\n",
       "<g id=\"graph0\" class=\"graph\" transform=\"scale(1 1) rotate(0) translate(4 127)\">\r\n",
       "<polygon fill=\"white\" stroke=\"none\" points=\"-4,4 -4,-127 418,-127 418,4 -4,4\"/>\r\n",
       "<!-- c -->\r\n",
       "<g id=\"node1\" class=\"node\"><title>c</title>\r\n",
       "<ellipse fill=\"none\" stroke=\"black\" cx=\"27\" cy=\"-105\" rx=\"27\" ry=\"18\"/>\r\n",
       "<text text-anchor=\"middle\" x=\"27\" y=\"-101.3\" font-family=\"Times New Roman,serif\" font-size=\"14.00\">c</text>\r\n",
       "</g>\r\n",
       "<!-- Y -->\r\n",
       "<g id=\"node2\" class=\"node\"><title>Y</title>\r\n",
       "<ellipse fill=\"none\" stroke=\"black\" cx=\"243\" cy=\"-18\" rx=\"27\" ry=\"18\"/>\r\n",
       "<text text-anchor=\"middle\" x=\"243\" y=\"-14.3\" font-family=\"Times New Roman,serif\" font-size=\"14.00\">Y</text>\r\n",
       "</g>\r\n",
       "<!-- c&#45;&gt;Y -->\r\n",
       "<g id=\"edge1\" class=\"edge\"><title>c&#45;&gt;Y</title>\r\n",
       "<path fill=\"none\" stroke=\"#008bfb\" stroke-width=\"0.303915\" d=\"M44.664,-91.3144C60.9476,-80.1285 86.1361,-64.0826 110,-54 141.789,-40.569 180.078,-31.1473 207.394,-25.489\"/>\r\n",
       "<polygon fill=\"#008bfb\" stroke=\"#008bfb\" stroke-width=\"0.303915\" points=\"208.173,-28.9026 217.289,-23.5042 206.796,-22.0393 208.173,-28.9026\"/>\r\n",
       "<text text-anchor=\"middle\" x=\"124.5\" y=\"-57.8\" font-family=\"Times New Roman,serif\" font-size=\"14.00\" fill=\"#008bfb\">&#45;0.52</text>\r\n",
       "</g>\r\n",
       "<!-- d -->\r\n",
       "<g id=\"node3\" class=\"node\"><title>d</title>\r\n",
       "<ellipse fill=\"none\" stroke=\"black\" cx=\"99\" cy=\"-105\" rx=\"27\" ry=\"18\"/>\r\n",
       "<text text-anchor=\"middle\" x=\"99\" y=\"-101.3\" font-family=\"Times New Roman,serif\" font-size=\"14.00\">d</text>\r\n",
       "</g>\r\n",
       "<!-- d&#45;&gt;Y -->\r\n",
       "<g id=\"edge2\" class=\"edge\"><title>d&#45;&gt;Y</title>\r\n",
       "<path fill=\"none\" stroke=\"#008bfb\" stroke-width=\"0.0580914\" d=\"M114.793,-90.1223C127.504,-79.3913 146.133,-64.6222 164,-54 178.563,-45.3424 195.652,-37.5117 210.204,-31.4634\"/>\r\n",
       "<polygon fill=\"#008bfb\" stroke=\"#008bfb\" stroke-width=\"0.0580914\" points=\"211.856,-34.5705 219.811,-27.5726 209.228,-28.0824 211.856,-34.5705\"/>\r\n",
       "<text text-anchor=\"middle\" x=\"178.5\" y=\"-57.8\" font-family=\"Times New Roman,serif\" font-size=\"14.00\" fill=\"#008bfb\">&#45;0.02</text>\r\n",
       "</g>\r\n",
       "<!-- e -->\r\n",
       "<g id=\"node4\" class=\"node\"><title>e</title>\r\n",
       "<ellipse fill=\"none\" stroke=\"black\" cx=\"171\" cy=\"-105\" rx=\"27\" ry=\"18\"/>\r\n",
       "<text text-anchor=\"middle\" x=\"171\" y=\"-101.3\" font-family=\"Times New Roman,serif\" font-size=\"14.00\">e</text>\r\n",
       "</g>\r\n",
       "<!-- e&#45;&gt;Y -->\r\n",
       "<g id=\"edge3\" class=\"edge\"><title>e&#45;&gt;Y</title>\r\n",
       "<path fill=\"none\" stroke=\"#008bfb\" stroke-width=\"0.630644\" d=\"M182.584,-88.384C190.158,-78.3695 200.393,-65.1949 210,-54 213.739,-49.6428 217.85,-45.1017 221.863,-40.7896\"/>\r\n",
       "<polygon fill=\"#008bfb\" stroke=\"#008bfb\" stroke-width=\"0.630644\" points=\"224.555,-43.0366 228.88,-33.3646 219.468,-38.2286 224.555,-43.0366\"/>\r\n",
       "<text text-anchor=\"middle\" x=\"224.5\" y=\"-57.8\" font-family=\"Times New Roman,serif\" font-size=\"14.00\" fill=\"#008bfb\">&#45;1.18</text>\r\n",
       "</g>\r\n",
       "<!-- f -->\r\n",
       "<g id=\"node5\" class=\"node\"><title>f</title>\r\n",
       "<ellipse fill=\"none\" stroke=\"black\" cx=\"243\" cy=\"-105\" rx=\"27\" ry=\"18\"/>\r\n",
       "<text text-anchor=\"middle\" x=\"243\" y=\"-101.3\" font-family=\"Times New Roman,serif\" font-size=\"14.00\">f</text>\r\n",
       "</g>\r\n",
       "<!-- f&#45;&gt;Y -->\r\n",
       "<g id=\"edge4\" class=\"edge\"><title>f&#45;&gt;Y</title>\r\n",
       "<path fill=\"none\" stroke=\"#ff0051\" stroke-width=\"1.04214\" d=\"M243,-86.799C243,-75.1626 243,-59.5479 243,-46.2368\"/>\r\n",
       "<polygon fill=\"#ff0051\" stroke=\"#ff0051\" stroke-width=\"1.04214\" points=\"246.5,-46.1754 243,-36.1754 239.5,-46.1755 246.5,-46.1754\"/>\r\n",
       "<text text-anchor=\"middle\" x=\"255.5\" y=\"-57.8\" font-family=\"Times New Roman,serif\" font-size=\"14.00\" fill=\"#ff0051\">2.02</text>\r\n",
       "</g>\r\n",
       "<!-- a -->\r\n",
       "<g id=\"node6\" class=\"node\"><title>a</title>\r\n",
       "<ellipse fill=\"none\" stroke=\"black\" cx=\"315\" cy=\"-105\" rx=\"27\" ry=\"18\"/>\r\n",
       "<text text-anchor=\"middle\" x=\"315\" y=\"-101.3\" font-family=\"Times New Roman,serif\" font-size=\"14.00\">a</text>\r\n",
       "</g>\r\n",
       "<!-- a&#45;&gt;Y -->\r\n",
       "<g id=\"edge5\" class=\"edge\"><title>a&#45;&gt;Y</title>\r\n",
       "<path fill=\"none\" stroke=\"#008bfb\" stroke-width=\"0.225089\" d=\"M302.128,-88.8037C291.07,-75.7495 274.964,-56.7354 262.353,-41.8473\"/>\r\n",
       "<polygon fill=\"#008bfb\" stroke=\"#008bfb\" stroke-width=\"0.225089\" points=\"264.895,-39.433 255.761,-34.0647 259.554,-43.9574 264.895,-39.433\"/>\r\n",
       "<text text-anchor=\"middle\" x=\"297.5\" y=\"-57.8\" font-family=\"Times New Roman,serif\" font-size=\"14.00\" fill=\"#008bfb\">&#45;0.36</text>\r\n",
       "</g>\r\n",
       "<!-- b -->\r\n",
       "<g id=\"node7\" class=\"node\"><title>b</title>\r\n",
       "<ellipse fill=\"none\" stroke=\"black\" cx=\"387\" cy=\"-105\" rx=\"27\" ry=\"18\"/>\r\n",
       "<text text-anchor=\"middle\" x=\"387\" y=\"-101.3\" font-family=\"Times New Roman,serif\" font-size=\"14.00\">b</text>\r\n",
       "</g>\r\n",
       "<!-- b&#45;&gt;Y -->\r\n",
       "<g id=\"edge6\" class=\"edge\"><title>b&#45;&gt;Y</title>\r\n",
       "<path fill=\"none\" stroke=\"#008bfb\" stroke-width=\"5\" d=\"M370.03,-90.8376C355.971,-80.2339 335.248,-65.2859 316,-54 302.731,-46.22 287.466,-38.6956 274.337,-32.63\"/>\r\n",
       "<polygon fill=\"#008bfb\" stroke=\"#008bfb\" stroke-width=\"5\" points=\"276.127,-28.6381 265.213,-28.4883 272.51,-36.6056 276.127,-28.6381\"/>\r\n",
       "<text text-anchor=\"middle\" x=\"356\" y=\"-57.8\" font-family=\"Times New Roman,serif\" font-size=\"14.00\" fill=\"#008bfb\">&#45;10.06</text>\r\n",
       "</g>\r\n",
       "</g>\r\n",
       "</svg>\r\n"
      ],
      "text/plain": [
       "<graphviz.files.Source at 0x165ffeaa610>"
      ]
     },
     "metadata": {},
     "output_type": "display_data"
    },
    {
     "data": {
      "text/plain": [
       "<AGraph <Swig Object of type 'Agraph_t *' at 0x00000165880BFCF0>>"
      ]
     },
     "execution_count": 25,
     "metadata": {},
     "output_type": "execute_result"
    }
   ],
   "source": [
    "print('ASV (note: only non-zero attribution nodes are shown)')\n",
    "cf_flow_linear.fold_noise = False\n",
    "cf_flow_linear.draw_asv(sample_ind, show_fg_val=False)"
   ]
  },
  {
   "cell_type": "markdown",
   "id": "d70cacfe",
   "metadata": {},
   "source": [
    "### Calculate difference with the ground truth"
   ]
  },
  {
   "cell_type": "code",
   "execution_count": 26,
   "id": "b7237c0e",
   "metadata": {},
   "outputs": [],
   "source": [
    "gt = get_direct_effect_ground_truth(cf_flow_linear.graph)\n",
    "theta_ind = get_effect_ind(cf_ind_linear)\n",
    "theta_manifold = get_effect_manifold(cf_on_manifold_linear)\n",
    "theta_asv = get_effect_asv(cf_flow_linear)\n",
    "theta_flow = get_direct_effect_flow(cf_flow_linear)\n",
    "\n",
    "gt_indirect = get_indirect_effect_ground_truth(cf_flow_linear.graph)\n",
    "theta_flow_indirect = get_indirect_effect_flow(cf_flow_linear)"
   ]
  },
  {
   "cell_type": "markdown",
   "id": "01f24887",
   "metadata": {},
   "source": [
    "### Direct effect"
   ]
  },
  {
   "cell_type": "markdown",
   "id": "b0c2089d",
   "metadata": {},
   "source": [
    "Note that both Independent SHAP and Shapley Flow makes no error."
   ]
  },
  {
   "cell_type": "code",
   "execution_count": 27,
   "id": "2084288e",
   "metadata": {},
   "outputs": [
    {
     "data": {
      "image/png": "[encoded data removed]",
      "text/plain": [
       "<Figure size 432x288 with 1 Axes>"
      ]
     },
     "metadata": {
      "needs_background": "light"
     },
     "output_type": "display_data"
    },
    {
     "name": "stdout",
     "output_type": "stream",
     "text": [
      "       ind: 0.0 ($\\pm$ 0.0)\n",
      "  manifold: 0.6 ($\\pm$ 0.7)\n",
      "       asv: 1.2 ($\\pm$ 2.0)\n",
      "      flow: 0.0 ($\\pm$ 0.0)\n"
     ]
    }
   ],
   "source": [
    "errors = {\n",
    "    'ind': get_error(gt, theta_ind),\n",
    "    'manifold': get_error(gt, theta_manifold),\n",
    "    'asv': get_error(gt, theta_asv),\n",
    "    'flow': get_error(gt, theta_flow)\n",
    "}\n",
    "\n",
    "bins=np.histogram(np.hstack(list(errors.values())), bins=40)[1] #get the bin edges\n",
    "for k, v in errors.items():\n",
    "    plt.hist(v, bins, label=k, alpha=0.5, weights=np.zeros_like(v) + 100. / v.size)\n",
    "\n",
    "plt.legend(fontsize=15)\n",
    "plt.xlabel('Difference with ground truth direct effect', fontsize=15)\n",
    "plt.ylabel('Percentage', fontsize=15)\n",
    "plt.tight_layout()\n",
    "plt.show()\n",
    "\n",
    "for k, v in errors.items():\n",
    "    print(f\"{k:>10s}: {np.abs(v).mean().round(1)} ($\\pm$ {np.abs(v).std().round(1)})\")\n"
   ]
  },
  {
   "cell_type": "markdown",
   "id": "3fae698a",
   "metadata": {},
   "source": [
    "### Indirect effect"
   ]
  },
  {
   "cell_type": "markdown",
   "id": "51f4e9e9",
   "metadata": {},
   "source": [
    "Note that only Shapley Flow has 0 error. ASV makes error on non-source nodes."
   ]
  },
  {
   "cell_type": "code",
   "execution_count": 28,
   "id": "1f2f1628",
   "metadata": {},
   "outputs": [
    {
     "data": {
      "image/png": "[encoded data removed]",
      "text/plain": [
       "<Figure size 432x288 with 1 Axes>"
      ]
     },
     "metadata": {
      "needs_background": "light"
     },
     "output_type": "display_data"
    },
    {
     "name": "stdout",
     "output_type": "stream",
     "text": [
      "       ind: 0.9 ($\\pm$ 1.8)\n",
      "  manifold: 1.1 ($\\pm$ 1.5)\n",
      "       asv: 0.3 ($\\pm$ 1.2)\n",
      "      flow: 0.0 ($\\pm$ 0.0)\n"
     ]
    }
   ],
   "source": [
    "errors = {\n",
    "    'ind': get_error(gt_indirect, theta_ind),\n",
    "    'manifold': get_error(gt_indirect, theta_manifold),\n",
    "    'asv': get_error(gt_indirect, theta_asv),\n",
    "    'flow': get_error(gt_indirect, theta_flow_indirect)\n",
    "}\n",
    "\n",
    "bins=np.histogram(np.hstack(list(errors.values())), bins=40)[1] #get the bin edges\n",
    "for k, v in errors.items():\n",
    "    plt.hist(v, bins, label=k, alpha=0.5, weights=np.zeros_like(v) + 100. / v.size)\n",
    "\n",
    "plt.legend(fontsize=15)\n",
    "plt.xlabel('Difference with ground truth indirect effect', fontsize=15)\n",
    "plt.ylabel('Percentage', fontsize=15)\n",
    "plt.tight_layout()\n",
    "plt.show()\n",
    "\n",
    "for k, v in errors.items():\n",
    "    print(f\"{k:>10s}: {np.abs(v).mean().round(1)} ($\\pm$ {np.abs(v).std().round(1)})\")"
   ]
  },
  {
   "cell_type": "markdown",
   "id": "56d66c23",
   "metadata": {},
   "source": [
    "### Indirect effect on source nodes"
   ]
  },
  {
   "cell_type": "markdown",
   "id": "f893e387",
   "metadata": {},
   "source": [
    "Note that both ASV and Shapley Flow makes no error."
   ]
  },
  {
   "cell_type": "code",
   "execution_count": 29,
   "id": "cd3c2c39",
   "metadata": {},
   "outputs": [
    {
     "data": {
      "image/png": "[encoded data removed]",
      "text/plain": [
       "<Figure size 432x288 with 1 Axes>"
      ]
     },
     "metadata": {
      "needs_background": "light"
     },
     "output_type": "display_data"
    },
    {
     "name": "stdout",
     "output_type": "stream",
     "text": [
      "       ind: 1.5 ($\\pm$ 2.1)\n",
      "  manifold: 1.4 ($\\pm$ 1.7)\n",
      "       asv: 0.0 ($\\pm$ 0.0)\n",
      "      flow: 0.0 ($\\pm$ 0.0)\n"
     ]
    }
   ],
   "source": [
    "sources = get_source_nodes(graph)\n",
    "errors = {\n",
    "    'ind': get_error(gt_indirect, theta_ind, sources),\n",
    "    'manifold': get_error(gt_indirect, theta_manifold, sources),\n",
    "    'asv': get_error(gt_indirect, theta_asv, sources),\n",
    "    'flow': get_error(gt_indirect, theta_flow_indirect, sources)\n",
    "}\n",
    "\n",
    "bins=np.histogram(np.hstack(list(errors.values())), bins=40)[1] #get the bin edges\n",
    "for k, v in errors.items():\n",
    "    plt.hist(v, bins, label=k, alpha=0.5, weights=np.zeros_like(v) + 100. / v.size)\n",
    "\n",
    "plt.legend(fontsize=15)\n",
    "plt.ylabel('Percentage', fontsize=15)\n",
    "plt.xlabel('Difference with ground truth source nodes only', fontsize=15)\n",
    "plt.show()\n",
    "\n",
    "for k, v in errors.items():\n",
    "    print(f\"{k:>10s}: {np.abs(v).mean().round(1)} ($\\pm$ {np.abs(v).std().round(1)})\")"
   ]
  }
 ],
 "metadata": {
  "kernelspec": {
   "display_name": "Python 3 (ipykernel)",
   "language": "python",
   "name": "python3"
  },
  "language_info": {
   "codemirror_mode": {
    "name": "ipython",
    "version": 3
   },
   "file_extension": ".py",
   "mimetype": "text/x-python",
   "name": "python",
   "nbconvert_exporter": "python",
   "pygments_lexer": "ipython3",
   "version": "3.8.5"
  }
 },
 "nbformat": 4,
 "nbformat_minor": 5
}
