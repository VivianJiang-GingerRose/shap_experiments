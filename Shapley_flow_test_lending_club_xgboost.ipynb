{
 "cells": [
  {
   "cell_type": "code",
   "execution_count": 1,
   "id": "ec4a4c99",
   "metadata": {},
   "outputs": [],
   "source": [
    "import os\n",
    "os.environ[\"OMP_NUM_THREADS\"] = \"8\"\n",
    "os.environ[\"OPENBLAS_NUM_THREADS\"] = \"8\"\n",
    "os.environ[\"MKL_NUM_THREADS\"] = \"8\"\n",
    "os.environ[\"VECLIB_MAXIMUM_THREADS\"] = \"8\"\n",
    "os.environ[\"NUMEXPR_NUM_THREADS\"] = \"8\"\n",
    "\n",
    "# standard libaries\n",
    "import sys\n",
    "import copy\n",
    "import dill\n",
    "from collections import defaultdict\n",
    "import numpy as np\n",
    "import pandas as pd\n",
    "import xgboost\n",
    "from sklearn.model_selection import train_test_split\n",
    "import matplotlib.pyplot as plt\n",
    "import seaborn as sns\n",
    "import shap\n",
    "\n",
    "# flow specific packages\n",
    "if '../' not in sys.path:\n",
    "    sys.path = ['../'] + sys.path\n",
    "from flow import Node, CreditFlow, Graph, get_source_nodes, topo_sort, flatten_graph, eval_graph, boundary_graph, single_source_graph, viz_graph, save_graph, hcluster_graph\n",
    "from flow import ParallelCreditFlow, GraphExplainer, translator\n",
    "from flow import group_nodes, build_feature_graph\n",
    "from flow import CausalLinks, create_xgboost_f\n",
    "from flow import edge_credits2edge_credit, node_dict2str_dict\n",
    "from on_manifold import OnManifoldExplainer, IndExplainer\n",
    "\n",
    "np.random.seed(42) # fix for reproducibility"
   ]
  },
  {
   "cell_type": "markdown",
   "id": "36357903",
   "metadata": {},
   "source": [
    "## Dataset"
   ]
  },
  {
   "cell_type": "code",
   "execution_count": 2,
   "id": "4a65b517",
   "metadata": {},
   "outputs": [
    {
     "name": "stdout",
     "output_type": "stream",
     "text": [
      "(940948, 17)\n"
     ]
    }
   ],
   "source": [
    "df = pd.read_csv('C:\\gitlab\\shaply_flow\\data\\lending_club_2012131415161718_credcard_debtconsol_input.csv')  \n",
    "print(df.shape)"
   ]
  },
  {
   "cell_type": "code",
   "execution_count": 3,
   "id": "9755814e",
   "metadata": {},
   "outputs": [
    {
     "name": "stdout",
     "output_type": "stream",
     "text": [
      "(940948, 16)\n"
     ]
    },
    {
     "data": {
      "text/html": [
       "<div>\n",
       "<style scoped>\n",
       "    .dataframe tbody tr th:only-of-type {\n",
       "        vertical-align: middle;\n",
       "    }\n",
       "\n",
       "    .dataframe tbody tr th {\n",
       "        vertical-align: top;\n",
       "    }\n",
       "\n",
       "    .dataframe thead th {\n",
       "        text-align: right;\n",
       "    }\n",
       "</style>\n",
       "<table border=\"1\" class=\"dataframe\">\n",
       "  <thead>\n",
       "    <tr style=\"text-align: right;\">\n",
       "      <th></th>\n",
       "      <th>term_36m</th>\n",
       "      <th>term_60m</th>\n",
       "      <th>grade_n</th>\n",
       "      <th>sub_grade_n</th>\n",
       "      <th>revol_util_n</th>\n",
       "      <th>int_rate_n</th>\n",
       "      <th>installment_n</th>\n",
       "      <th>tot_hi_cred_lim_n</th>\n",
       "      <th>emp_length_n</th>\n",
       "      <th>dti_n</th>\n",
       "      <th>avg_cur_bal_n</th>\n",
       "      <th>all_util_n</th>\n",
       "      <th>acc_open_past_24mths_n</th>\n",
       "      <th>annual_inc_n</th>\n",
       "      <th>loan_amnt_n</th>\n",
       "      <th>cover</th>\n",
       "    </tr>\n",
       "  </thead>\n",
       "  <tbody>\n",
       "    <tr>\n",
       "      <th>0</th>\n",
       "      <td>1</td>\n",
       "      <td>0</td>\n",
       "      <td>6</td>\n",
       "      <td>67</td>\n",
       "      <td>83.7</td>\n",
       "      <td>10.65</td>\n",
       "      <td>162.87</td>\n",
       "      <td>-1.0</td>\n",
       "      <td>10.0</td>\n",
       "      <td>27.65</td>\n",
       "      <td>-1</td>\n",
       "      <td>100</td>\n",
       "      <td>-1</td>\n",
       "      <td>24000.0</td>\n",
       "      <td>5000</td>\n",
       "      <td>4.800000</td>\n",
       "    </tr>\n",
       "    <tr>\n",
       "      <th>1</th>\n",
       "      <td>0</td>\n",
       "      <td>1</td>\n",
       "      <td>5</td>\n",
       "      <td>51</td>\n",
       "      <td>85.6</td>\n",
       "      <td>15.96</td>\n",
       "      <td>170.08</td>\n",
       "      <td>-1.0</td>\n",
       "      <td>8.0</td>\n",
       "      <td>23.51</td>\n",
       "      <td>-1</td>\n",
       "      <td>100</td>\n",
       "      <td>-1</td>\n",
       "      <td>47004.0</td>\n",
       "      <td>7000</td>\n",
       "      <td>6.714857</td>\n",
       "    </tr>\n",
       "    <tr>\n",
       "      <th>2</th>\n",
       "      <td>0</td>\n",
       "      <td>1</td>\n",
       "      <td>5</td>\n",
       "      <td>55</td>\n",
       "      <td>20.6</td>\n",
       "      <td>14.65</td>\n",
       "      <td>153.45</td>\n",
       "      <td>-1.0</td>\n",
       "      <td>5.0</td>\n",
       "      <td>16.12</td>\n",
       "      <td>-1</td>\n",
       "      <td>100</td>\n",
       "      <td>-1</td>\n",
       "      <td>72000.0</td>\n",
       "      <td>6500</td>\n",
       "      <td>11.076923</td>\n",
       "    </tr>\n",
       "    <tr>\n",
       "      <th>3</th>\n",
       "      <td>1</td>\n",
       "      <td>0</td>\n",
       "      <td>6</td>\n",
       "      <td>61</td>\n",
       "      <td>67.1</td>\n",
       "      <td>12.69</td>\n",
       "      <td>402.54</td>\n",
       "      <td>-1.0</td>\n",
       "      <td>10.0</td>\n",
       "      <td>10.78</td>\n",
       "      <td>-1</td>\n",
       "      <td>100</td>\n",
       "      <td>-1</td>\n",
       "      <td>75000.0</td>\n",
       "      <td>12000</td>\n",
       "      <td>6.250000</td>\n",
       "    </tr>\n",
       "    <tr>\n",
       "      <th>4</th>\n",
       "      <td>1</td>\n",
       "      <td>0</td>\n",
       "      <td>5</td>\n",
       "      <td>59</td>\n",
       "      <td>91.7</td>\n",
       "      <td>13.49</td>\n",
       "      <td>305.38</td>\n",
       "      <td>-1.0</td>\n",
       "      <td>0.5</td>\n",
       "      <td>10.08</td>\n",
       "      <td>-1</td>\n",
       "      <td>100</td>\n",
       "      <td>-1</td>\n",
       "      <td>30000.0</td>\n",
       "      <td>9000</td>\n",
       "      <td>3.333333</td>\n",
       "    </tr>\n",
       "  </tbody>\n",
       "</table>\n",
       "</div>"
      ],
      "text/plain": [
       "   term_36m  term_60m  grade_n  sub_grade_n  revol_util_n  int_rate_n  \\\n",
       "0         1         0        6           67          83.7       10.65   \n",
       "1         0         1        5           51          85.6       15.96   \n",
       "2         0         1        5           55          20.6       14.65   \n",
       "3         1         0        6           61          67.1       12.69   \n",
       "4         1         0        5           59          91.7       13.49   \n",
       "\n",
       "   installment_n  tot_hi_cred_lim_n  emp_length_n  dti_n  avg_cur_bal_n  \\\n",
       "0         162.87               -1.0          10.0  27.65             -1   \n",
       "1         170.08               -1.0           8.0  23.51             -1   \n",
       "2         153.45               -1.0           5.0  16.12             -1   \n",
       "3         402.54               -1.0          10.0  10.78             -1   \n",
       "4         305.38               -1.0           0.5  10.08             -1   \n",
       "\n",
       "   all_util_n  acc_open_past_24mths_n  annual_inc_n  loan_amnt_n      cover  \n",
       "0         100                      -1       24000.0         5000   4.800000  \n",
       "1         100                      -1       47004.0         7000   6.714857  \n",
       "2         100                      -1       72000.0         6500  11.076923  \n",
       "3         100                      -1       75000.0        12000   6.250000  \n",
       "4         100                      -1       30000.0         9000   3.333333  "
      ]
     },
     "execution_count": 3,
     "metadata": {},
     "output_type": "execute_result"
    }
   ],
   "source": [
    "X, y = df.loc[:,'term_36m':'cover'],df.iloc[:,16]\n",
    "X_display,y_display = df.loc[:,'term_36m':'cover'],df.iloc[:,16]\n",
    "\n",
    "xgb_full = xgboost.DMatrix(X, label=y)\n",
    "\n",
    "# create a train/test split\n",
    "X_train, X_test, y_train, y_test = train_test_split(X, y, test_size=0.2, random_state=42)\n",
    "xgb_train = xgboost.DMatrix(X_train, label=y_train)\n",
    "xgb_test = xgboost.DMatrix(X_test, label=y_test)\n",
    "\n",
    "print(X.shape)\n",
    "X_display.head()"
   ]
  },
  {
   "cell_type": "markdown",
   "id": "1dde3e84",
   "metadata": {},
   "source": [
    "## Explanation settings"
   ]
  },
  {
   "cell_type": "code",
   "execution_count": 4,
   "id": "379e0193",
   "metadata": {},
   "outputs": [],
   "source": [
    "n_bg = 1000 # number of sampled background samples\n",
    "nsamples = 100000 # number of fg samples to explain\n",
    "nruns = 100 # paper: 10,000, number of monte carlo samplings\n",
    "bg = X.fillna(X.mean()).sample(n_bg) # background samples\n",
    "fg = X[:nsamples] # foreground samples to explain\n",
    "sample_ind = 100 # sample to show"
   ]
  },
  {
   "cell_type": "markdown",
   "id": "85126c62",
   "metadata": {},
   "source": [
    "## Training"
   ]
  },
  {
   "cell_type": "code",
   "execution_count": 5,
   "id": "279af4bd",
   "metadata": {},
   "outputs": [
    {
     "name": "stdout",
     "output_type": "stream",
     "text": [
      "[11:45:09] WARNING: ..\\src\\learner.cc:1061: Starting in XGBoost 1.3.0, the default evaluation metric used with the objective 'binary:logistic' was changed from 'error' to 'logloss'. Explicitly set eval_metric if you'd like to restore the old behavior.\n",
      "[0]\ttest-logloss:0.65994\n",
      "[1000]\ttest-logloss:0.47626\n",
      "[2000]\ttest-logloss:0.47593\n",
      "[2999]\ttest-logloss:0.47580\n"
     ]
    }
   ],
   "source": [
    "params = {\n",
    "    \"eta\": 0.1,\n",
    "    \"max_depth\": 2,\n",
    "    'objective':'binary:logistic', # output probability\n",
    "    \"subsample\": 0.9\n",
    "}\n",
    "model = xgboost.train(params, xgb_train, 3000, evals = [(xgb_test, \"test\")], verbose_eval=1000)\n",
    "\n",
    "# workaround from https://github.com/slundberg/shap/issues/1215\n",
    "mybooster = model\n",
    "\n",
    "model_bytearray = mybooster.save_raw()[4:]\n",
    "def myfun(self=None):\n",
    "    return model_bytearray\n",
    "mybooster.save_raw = myfun"
   ]
  },
  {
   "cell_type": "markdown",
   "id": "1c7ab6c8",
   "metadata": {},
   "source": [
    "## Ind Shap"
   ]
  },
  {
   "cell_type": "code",
   "execution_count": 6,
   "id": "00a733d1",
   "metadata": {},
   "outputs": [],
   "source": [
    "## setting up enviroment for graph viz\n",
    "os.environ[\"PATH\"] += os.pathsep + 'C:/Users/vivianjiang/anaconda3/pkgs/graphviz-2.38-hfd603c8_2/Library/bin'"
   ]
  },
  {
   "cell_type": "code",
   "execution_count": 7,
   "id": "bdd201fb",
   "metadata": {},
   "outputs": [
    {
     "name": "stderr",
     "output_type": "stream",
     "text": [
      "0it [00:00, ?it/s]\n"
     ]
    },
    {
     "data": {
      "image/svg+xml": [
       "<?xml version=\"1.0\" encoding=\"UTF-8\" standalone=\"no\"?>\r\n",
       "<!DOCTYPE svg PUBLIC \"-//W3C//DTD SVG 1.1//EN\"\r\n",
       " \"http://www.w3.org/Graphics/SVG/1.1/DTD/svg11.dtd\">\r\n",
       "<!-- Generated by graphviz version 2.38.0 (20140413.2041)\r\n",
       " -->\r\n",
       "<!-- Pages: 1 -->\r\n",
       "<svg width=\"2044pt\" height=\"116pt\"\r\n",
       " viewBox=\"0.00 0.00 2043.64 116.00\" xmlns=\"http://www.w3.org/2000/svg\" xmlns:xlink=\"http://www.w3.org/1999/xlink\">\r\n",
       "<g id=\"graph0\" class=\"graph\" transform=\"scale(1 1) rotate(0) translate(4 112)\">\r\n",
       "<polygon fill=\"white\" stroke=\"none\" points=\"-4,4 -4,-112 2039.64,-112 2039.64,4 -4,4\"/>\r\n",
       "<!-- Outcome -->\r\n",
       "<g id=\"node1\" class=\"node\"><title>Outcome</title>\r\n",
       "<ellipse fill=\"none\" stroke=\"black\" cx=\"985.446\" cy=\"-90\" rx=\"44.393\" ry=\"18\"/>\r\n",
       "<text text-anchor=\"middle\" x=\"985.446\" y=\"-86.3\" font-family=\"Times New Roman,serif\" font-size=\"14.00\">Outcome</text>\r\n",
       "</g>\r\n",
       "<!-- term_36m -->\r\n",
       "<g id=\"node2\" class=\"node\"><title>term_36m</title>\r\n",
       "<ellipse fill=\"none\" stroke=\"black\" cx=\"47.4458\" cy=\"-18\" rx=\"47.3916\" ry=\"18\"/>\r\n",
       "<text text-anchor=\"middle\" x=\"47.4458\" y=\"-14.3\" font-family=\"Times New Roman,serif\" font-size=\"14.00\">term_36m</text>\r\n",
       "</g>\r\n",
       "<!-- term_36m&#45;&gt;Outcome -->\r\n",
       "<g id=\"edge1\" class=\"edge\"><title>term_36m&#45;&gt;Outcome</title>\r\n",
       "<path fill=\"none\" stroke=\"black\" d=\"M81.5009,-30.5428C88.9834,-32.6881 96.9208,-34.6698 104.446,-36 264.55,-64.3023 764.623,-82.1021 930.998,-87.3629\"/>\r\n",
       "<polygon fill=\"black\" stroke=\"black\" points=\"931.362,-90.876 941.467,-87.6913 931.582,-83.8794 931.362,-90.876\"/>\r\n",
       "</g>\r\n",
       "<!-- term_60m -->\r\n",
       "<g id=\"node3\" class=\"node\"><title>term_60m</title>\r\n",
       "<ellipse fill=\"none\" stroke=\"black\" cx=\"160.446\" cy=\"-18\" rx=\"47.3916\" ry=\"18\"/>\r\n",
       "<text text-anchor=\"middle\" x=\"160.446\" y=\"-14.3\" font-family=\"Times New Roman,serif\" font-size=\"14.00\">term_60m</text>\r\n",
       "</g>\r\n",
       "<!-- term_60m&#45;&gt;Outcome -->\r\n",
       "<g id=\"edge2\" class=\"edge\"><title>term_60m&#45;&gt;Outcome</title>\r\n",
       "<path fill=\"none\" stroke=\"black\" d=\"M194.813,-30.5795C202.206,-32.6948 210.028,-34.655 217.446,-36 481.58,-83.8936 804.003,-89.2594 930.656,-89.3487\"/>\r\n",
       "<polygon fill=\"black\" stroke=\"black\" points=\"930.869,-92.8487 940.868,-89.3446 930.866,-85.8487 930.869,-92.8487\"/>\r\n",
       "</g>\r\n",
       "<!-- grade_n -->\r\n",
       "<g id=\"node4\" class=\"node\"><title>grade_n</title>\r\n",
       "<ellipse fill=\"none\" stroke=\"black\" cx=\"266.446\" cy=\"-18\" rx=\"40.0939\" ry=\"18\"/>\r\n",
       "<text text-anchor=\"middle\" x=\"266.446\" y=\"-14.3\" font-family=\"Times New Roman,serif\" font-size=\"14.00\">grade_n</text>\r\n",
       "</g>\r\n",
       "<!-- grade_n&#45;&gt;Outcome -->\r\n",
       "<g id=\"edge3\" class=\"edge\"><title>grade_n&#45;&gt;Outcome</title>\r\n",
       "<path fill=\"none\" stroke=\"black\" d=\"M295.641,-30.4888C302.078,-32.6375 308.924,-34.6342 315.446,-36 540.264,-83.0828 815.502,-89.0949 930.682,-89.3597\"/>\r\n",
       "<polygon fill=\"black\" stroke=\"black\" points=\"930.992,-92.8599 940.995,-89.3688 930.998,-85.8599 930.992,-92.8599\"/>\r\n",
       "</g>\r\n",
       "<!-- sub_grade_n -->\r\n",
       "<g id=\"node5\" class=\"node\"><title>sub_grade_n</title>\r\n",
       "<ellipse fill=\"none\" stroke=\"black\" cx=\"382.446\" cy=\"-18\" rx=\"57.6901\" ry=\"18\"/>\r\n",
       "<text text-anchor=\"middle\" x=\"382.446\" y=\"-14.3\" font-family=\"Times New Roman,serif\" font-size=\"14.00\">sub_grade_n</text>\r\n",
       "</g>\r\n",
       "<!-- sub_grade_n&#45;&gt;Outcome -->\r\n",
       "<g id=\"edge4\" class=\"edge\"><title>sub_grade_n&#45;&gt;Outcome</title>\r\n",
       "<path fill=\"none\" stroke=\"black\" d=\"M424.053,-30.585C432.413,-32.6214 441.172,-34.5496 449.446,-36 624.292,-66.6482 834.561,-80.9863 931.576,-86.3507\"/>\r\n",
       "<polygon fill=\"black\" stroke=\"black\" points=\"931.547,-89.8542 941.722,-86.9017 931.927,-82.8645 931.547,-89.8542\"/>\r\n",
       "</g>\r\n",
       "<!-- revol_util_n -->\r\n",
       "<g id=\"node6\" class=\"node\"><title>revol_util_n</title>\r\n",
       "<ellipse fill=\"none\" stroke=\"black\" cx=\"512.446\" cy=\"-18\" rx=\"53.8905\" ry=\"18\"/>\r\n",
       "<text text-anchor=\"middle\" x=\"512.446\" y=\"-14.3\" font-family=\"Times New Roman,serif\" font-size=\"14.00\">revol_util_n</text>\r\n",
       "</g>\r\n",
       "<!-- revol_util_n&#45;&gt;Outcome -->\r\n",
       "<g id=\"edge5\" class=\"edge\"><title>revol_util_n&#45;&gt;Outcome</title>\r\n",
       "<path fill=\"none\" stroke=\"black\" d=\"M551.572,-30.4354C559.433,-32.4841 567.668,-34.4552 575.446,-36 702.444,-61.2232 854.054,-77.2165 932.523,-84.4628\"/>\r\n",
       "<polygon fill=\"black\" stroke=\"black\" points=\"932.365,-87.9627 942.641,-85.3859 933.001,-80.9917 932.365,-87.9627\"/>\r\n",
       "</g>\r\n",
       "<!-- int_rate_n -->\r\n",
       "<g id=\"node7\" class=\"node\"><title>int_rate_n</title>\r\n",
       "<ellipse fill=\"none\" stroke=\"black\" cx=\"631.446\" cy=\"-18\" rx=\"46.5926\" ry=\"18\"/>\r\n",
       "<text text-anchor=\"middle\" x=\"631.446\" y=\"-14.3\" font-family=\"Times New Roman,serif\" font-size=\"14.00\">int_rate_n</text>\r\n",
       "</g>\r\n",
       "<!-- int_rate_n&#45;&gt;Outcome -->\r\n",
       "<g id=\"edge6\" class=\"edge\"><title>int_rate_n&#45;&gt;Outcome</title>\r\n",
       "<path fill=\"none\" stroke=\"black\" d=\"M666.222,-30.2552C673.209,-32.3188 680.53,-34.3414 687.446,-36 773.187,-56.562 874.553,-72.9386 934.227,-81.7829\"/>\r\n",
       "<polygon fill=\"black\" stroke=\"black\" points=\"933.752,-85.2505 944.154,-83.2416 934.769,-78.3249 933.752,-85.2505\"/>\r\n",
       "</g>\r\n",
       "<!-- installment_n -->\r\n",
       "<g id=\"node8\" class=\"node\"><title>installment_n</title>\r\n",
       "<ellipse fill=\"none\" stroke=\"black\" cx=\"754.446\" cy=\"-18\" rx=\"57.6901\" ry=\"18\"/>\r\n",
       "<text text-anchor=\"middle\" x=\"754.446\" y=\"-14.3\" font-family=\"Times New Roman,serif\" font-size=\"14.00\">installment_n</text>\r\n",
       "</g>\r\n",
       "<!-- installment_n&#45;&gt;Outcome -->\r\n",
       "<g id=\"edge7\" class=\"edge\"><title>installment_n&#45;&gt;Outcome</title>\r\n",
       "<path fill=\"none\" stroke=\"black\" d=\"M794.419,-31.1132C835.304,-43.5026 898.674,-62.7055 941.084,-75.5571\"/>\r\n",
       "<polygon fill=\"black\" stroke=\"black\" points=\"940.273,-78.9683 950.858,-78.5188 942.303,-72.2691 940.273,-78.9683\"/>\r\n",
       "</g>\r\n",
       "<!-- tot_hi_cred_lim_n -->\r\n",
       "<g id=\"node9\" class=\"node\"><title>tot_hi_cred_lim_n</title>\r\n",
       "<ellipse fill=\"none\" stroke=\"black\" cx=\"907.446\" cy=\"-18\" rx=\"77.1866\" ry=\"18\"/>\r\n",
       "<text text-anchor=\"middle\" x=\"907.446\" y=\"-14.3\" font-family=\"Times New Roman,serif\" font-size=\"14.00\">tot_hi_cred_lim_n</text>\r\n",
       "</g>\r\n",
       "<!-- tot_hi_cred_lim_n&#45;&gt;Outcome -->\r\n",
       "<g id=\"edge8\" class=\"edge\"><title>tot_hi_cred_lim_n&#45;&gt;Outcome</title>\r\n",
       "<path fill=\"none\" stroke=\"black\" d=\"M925.931,-35.589C936.154,-44.7634 949.005,-56.2971 960.148,-66.2967\"/>\r\n",
       "<polygon fill=\"black\" stroke=\"black\" points=\"958.117,-69.1768 967.897,-73.2511 962.792,-63.9671 958.117,-69.1768\"/>\r\n",
       "</g>\r\n",
       "<!-- emp_length_n -->\r\n",
       "<g id=\"node10\" class=\"node\"><title>emp_length_n</title>\r\n",
       "<ellipse fill=\"none\" stroke=\"black\" cx=\"1064.45\" cy=\"-18\" rx=\"61.99\" ry=\"18\"/>\r\n",
       "<text text-anchor=\"middle\" x=\"1064.45\" y=\"-14.3\" font-family=\"Times New Roman,serif\" font-size=\"14.00\">emp_length_n</text>\r\n",
       "</g>\r\n",
       "<!-- emp_length_n&#45;&gt;Outcome -->\r\n",
       "<g id=\"edge9\" class=\"edge\"><title>emp_length_n&#45;&gt;Outcome</title>\r\n",
       "<path fill=\"none\" stroke=\"black\" d=\"M1046.12,-35.2354C1035.61,-44.5549 1022.24,-56.3946 1010.74,-66.5898\"/>\r\n",
       "<polygon fill=\"black\" stroke=\"black\" points=\"1008.29,-64.0827 1003.13,-73.3342 1012.93,-69.3219 1008.29,-64.0827\"/>\r\n",
       "</g>\r\n",
       "<!-- dti_n -->\r\n",
       "<g id=\"node11\" class=\"node\"><title>dti_n</title>\r\n",
       "<ellipse fill=\"none\" stroke=\"black\" cx=\"1173.45\" cy=\"-18\" rx=\"29.4969\" ry=\"18\"/>\r\n",
       "<text text-anchor=\"middle\" x=\"1173.45\" y=\"-14.3\" font-family=\"Times New Roman,serif\" font-size=\"14.00\">dti_n</text>\r\n",
       "</g>\r\n",
       "<!-- dti_n&#45;&gt;Outcome -->\r\n",
       "<g id=\"edge10\" class=\"edge\"><title>dti_n&#45;&gt;Outcome</title>\r\n",
       "<path fill=\"none\" stroke=\"black\" d=\"M1150.67,-29.5507C1145.68,-31.7578 1140.41,-34.0155 1135.45,-36 1099.84,-50.2258 1058.75,-64.6068 1028.59,-74.7922\"/>\r\n",
       "<polygon fill=\"black\" stroke=\"black\" points=\"1027.17,-71.5774 1018.8,-78.0792 1029.39,-78.2131 1027.17,-71.5774\"/>\r\n",
       "</g>\r\n",
       "<!-- avg_cur_bal_n -->\r\n",
       "<g id=\"node12\" class=\"node\"><title>avg_cur_bal_n</title>\r\n",
       "<ellipse fill=\"none\" stroke=\"black\" cx=\"1285.45\" cy=\"-18\" rx=\"64.9885\" ry=\"18\"/>\r\n",
       "<text text-anchor=\"middle\" x=\"1285.45\" y=\"-14.3\" font-family=\"Times New Roman,serif\" font-size=\"14.00\">avg_cur_bal_n</text>\r\n",
       "</g>\r\n",
       "<!-- avg_cur_bal_n&#45;&gt;Outcome -->\r\n",
       "<g id=\"edge11\" class=\"edge\"><title>avg_cur_bal_n&#45;&gt;Outcome</title>\r\n",
       "<path fill=\"none\" stroke=\"black\" d=\"M1237.25,-30.2467C1181.11,-43.3445 1088.97,-64.8453 1033.08,-77.886\"/>\r\n",
       "<polygon fill=\"black\" stroke=\"black\" points=\"1032.02,-74.5378 1023.08,-80.2186 1033.61,-81.3547 1032.02,-74.5378\"/>\r\n",
       "</g>\r\n",
       "<!-- all_util_n -->\r\n",
       "<g id=\"node13\" class=\"node\"><title>all_util_n</title>\r\n",
       "<ellipse fill=\"none\" stroke=\"black\" cx=\"1412.45\" cy=\"-18\" rx=\"43.5923\" ry=\"18\"/>\r\n",
       "<text text-anchor=\"middle\" x=\"1412.45\" y=\"-14.3\" font-family=\"Times New Roman,serif\" font-size=\"14.00\">all_util_n</text>\r\n",
       "</g>\r\n",
       "<!-- all_util_n&#45;&gt;Outcome -->\r\n",
       "<g id=\"edge12\" class=\"edge\"><title>all_util_n&#45;&gt;Outcome</title>\r\n",
       "<path fill=\"none\" stroke=\"black\" d=\"M1380.46,-30.2226C1373.59,-32.3619 1366.32,-34.4222 1359.45,-36 1246.59,-61.8992 1111.5,-77.2847 1038.53,-84.339\"/>\r\n",
       "<polygon fill=\"black\" stroke=\"black\" points=\"1037.85,-80.888 1028.22,-85.3196 1038.51,-87.8565 1037.85,-80.888\"/>\r\n",
       "</g>\r\n",
       "<!-- acc_open_past_24mths_n -->\r\n",
       "<g id=\"node14\" class=\"node\"><title>acc_open_past_24mths_n</title>\r\n",
       "<ellipse fill=\"none\" stroke=\"black\" cx=\"1580.45\" cy=\"-18\" rx=\"106.681\" ry=\"18\"/>\r\n",
       "<text text-anchor=\"middle\" x=\"1580.45\" y=\"-14.3\" font-family=\"Times New Roman,serif\" font-size=\"14.00\">acc_open_past_24mths_n</text>\r\n",
       "</g>\r\n",
       "<!-- acc_open_past_24mths_n&#45;&gt;Outcome -->\r\n",
       "<g id=\"edge13\" class=\"edge\"><title>acc_open_past_24mths_n&#45;&gt;Outcome</title>\r\n",
       "<path fill=\"none\" stroke=\"black\" d=\"M1504.41,-30.6427C1491.42,-32.5162 1478.06,-34.3723 1465.45,-36 1310.28,-56.0285 1126.27,-75.02 1037.92,-83.8438\"/>\r\n",
       "<polygon fill=\"black\" stroke=\"black\" points=\"1037.49,-80.3695 1027.89,-84.8435 1038.18,-87.335 1037.49,-80.3695\"/>\r\n",
       "</g>\r\n",
       "<!-- annual_inc_n -->\r\n",
       "<g id=\"node15\" class=\"node\"><title>annual_inc_n</title>\r\n",
       "<ellipse fill=\"none\" stroke=\"black\" cx=\"1763.45\" cy=\"-18\" rx=\"58.4896\" ry=\"18\"/>\r\n",
       "<text text-anchor=\"middle\" x=\"1763.45\" y=\"-14.3\" font-family=\"Times New Roman,serif\" font-size=\"14.00\">annual_inc_n</text>\r\n",
       "</g>\r\n",
       "<!-- annual_inc_n&#45;&gt;Outcome -->\r\n",
       "<g id=\"edge14\" class=\"edge\"><title>annual_inc_n&#45;&gt;Outcome</title>\r\n",
       "<path fill=\"none\" stroke=\"black\" d=\"M1721.87,-30.7435C1713.5,-32.7668 1704.74,-34.6497 1696.45,-36 1453.68,-75.5373 1159.41,-85.6287 1039.86,-88.1653\"/>\r\n",
       "<polygon fill=\"black\" stroke=\"black\" points=\"1039.79,-84.666 1029.86,-88.3684 1039.93,-91.6646 1039.79,-84.666\"/>\r\n",
       "</g>\r\n",
       "<!-- loan_amnt_n -->\r\n",
       "<g id=\"node16\" class=\"node\"><title>loan_amnt_n</title>\r\n",
       "<ellipse fill=\"none\" stroke=\"black\" cx=\"1897.45\" cy=\"-18\" rx=\"57.6901\" ry=\"18\"/>\r\n",
       "<text text-anchor=\"middle\" x=\"1897.45\" y=\"-14.3\" font-family=\"Times New Roman,serif\" font-size=\"14.00\">loan_amnt_n</text>\r\n",
       "</g>\r\n",
       "<!-- loan_amnt_n&#45;&gt;Outcome -->\r\n",
       "<g id=\"edge15\" class=\"edge\"><title>loan_amnt_n&#45;&gt;Outcome</title>\r\n",
       "<path fill=\"none\" stroke=\"black\" d=\"M1856.24,-30.7342C1847.77,-32.7844 1838.86,-34.6799 1830.45,-36 1534.65,-82.3894 1174.6,-88.5112 1039.81,-89.0762\"/>\r\n",
       "<polygon fill=\"black\" stroke=\"black\" points=\"1039.73,-85.5764 1029.74,-89.1097 1039.76,-92.5764 1039.73,-85.5764\"/>\r\n",
       "</g>\r\n",
       "<!-- cover -->\r\n",
       "<g id=\"node17\" class=\"node\"><title>cover</title>\r\n",
       "<ellipse fill=\"none\" stroke=\"black\" cx=\"2004.45\" cy=\"-18\" rx=\"31.3957\" ry=\"18\"/>\r\n",
       "<text text-anchor=\"middle\" x=\"2004.45\" y=\"-14.3\" font-family=\"Times New Roman,serif\" font-size=\"14.00\">cover</text>\r\n",
       "</g>\r\n",
       "<!-- cover&#45;&gt;Outcome -->\r\n",
       "<g id=\"edge16\" class=\"edge\"><title>cover&#45;&gt;Outcome</title>\r\n",
       "<path fill=\"none\" stroke=\"black\" d=\"M1981.64,-30.2979C1976.13,-32.572 1970.18,-34.6698 1964.45,-36 1786.53,-77.278 1218.94,-86.5948 1040.02,-88.5286\"/>\r\n",
       "<polygon fill=\"black\" stroke=\"black\" points=\"1039.76,-85.0311 1029.79,-88.6356 1039.83,-92.0307 1039.76,-85.0311\"/>\r\n",
       "</g>\r\n",
       "</g>\r\n",
       "</svg>\r\n"
      ],
      "text/plain": [
       "<graphviz.files.Source at 0x1b7940274c0>"
      ]
     },
     "metadata": {},
     "output_type": "display_data"
    }
   ],
   "source": [
    "causal_links = CausalLinks()\n",
    "categorical_feature_names = []\n",
    "display_translator = translator(X.columns, X, X_display)\n",
    "target_name = 'Outcome'\n",
    "feature_names = list(X.columns)\n",
    "\n",
    "# build causal links\n",
    "causal_links.add_causes_effects(feature_names, target_name, create_xgboost_f(feature_names, model))\n",
    "graph = build_feature_graph(X.fillna(X.mean()), causal_links, categorical_feature_names, display_translator, target_name)\n",
    "graph.draw()"
   ]
  },
  {
   "cell_type": "code",
   "execution_count": null,
   "id": "23282553",
   "metadata": {},
   "outputs": [
    {
     "name": "stdout",
     "output_type": "stream",
     "text": [
      "bg 0/1000\n"
     ]
    },
    {
     "name": "stderr",
     "output_type": "stream",
     "text": [
      "bruteforce sampling: 100%|███████████████████████████████████████████████████████████| 100/100 [15:42<00:00,  9.42s/it]\n"
     ]
    },
    {
     "name": "stdout",
     "output_type": "stream",
     "text": [
      "bg 1/1000\n"
     ]
    },
    {
     "name": "stderr",
     "output_type": "stream",
     "text": [
      "bruteforce sampling: 100%|███████████████████████████████████████████████████████████| 100/100 [15:52<00:00,  9.52s/it]\n"
     ]
    },
    {
     "name": "stdout",
     "output_type": "stream",
     "text": [
      "bg 2/1000\n"
     ]
    },
    {
     "name": "stderr",
     "output_type": "stream",
     "text": [
      "bruteforce sampling: 100%|███████████████████████████████████████████████████████████| 100/100 [15:36<00:00,  9.36s/it]\n"
     ]
    },
    {
     "name": "stdout",
     "output_type": "stream",
     "text": [
      "bg 3/1000\n"
     ]
    },
    {
     "name": "stderr",
     "output_type": "stream",
     "text": [
      "bruteforce sampling: 100%|███████████████████████████████████████████████████████████| 100/100 [15:31<00:00,  9.32s/it]\n"
     ]
    },
    {
     "name": "stdout",
     "output_type": "stream",
     "text": [
      "bg 4/1000\n"
     ]
    },
    {
     "name": "stderr",
     "output_type": "stream",
     "text": [
      "bruteforce sampling: 100%|███████████████████████████████████████████████████████████| 100/100 [15:59<00:00,  9.60s/it]\n"
     ]
    },
    {
     "name": "stdout",
     "output_type": "stream",
     "text": [
      "bg 5/1000\n"
     ]
    },
    {
     "name": "stderr",
     "output_type": "stream",
     "text": [
      "bruteforce sampling: 100%|███████████████████████████████████████████████████████████| 100/100 [16:59<00:00, 10.20s/it]\n"
     ]
    },
    {
     "name": "stdout",
     "output_type": "stream",
     "text": [
      "bg 6/1000\n"
     ]
    },
    {
     "name": "stderr",
     "output_type": "stream",
     "text": [
      "bruteforce sampling: 100%|███████████████████████████████████████████████████████████| 100/100 [16:28<00:00,  9.89s/it]\n"
     ]
    },
    {
     "name": "stdout",
     "output_type": "stream",
     "text": [
      "bg 7/1000\n"
     ]
    },
    {
     "name": "stderr",
     "output_type": "stream",
     "text": [
      "bruteforce sampling: 100%|███████████████████████████████████████████████████████████| 100/100 [18:05<00:00, 10.85s/it]\n"
     ]
    },
    {
     "name": "stdout",
     "output_type": "stream",
     "text": [
      "bg 8/1000\n"
     ]
    },
    {
     "name": "stderr",
     "output_type": "stream",
     "text": [
      "bruteforce sampling: 100%|███████████████████████████████████████████████████████████| 100/100 [16:45<00:00, 10.06s/it]\n"
     ]
    },
    {
     "name": "stdout",
     "output_type": "stream",
     "text": [
      "bg 9/1000\n"
     ]
    },
    {
     "name": "stderr",
     "output_type": "stream",
     "text": [
      "bruteforce sampling: 100%|███████████████████████████████████████████████████████████| 100/100 [17:32<00:00, 10.53s/it]\n"
     ]
    },
    {
     "name": "stdout",
     "output_type": "stream",
     "text": [
      "bg 10/1000\n"
     ]
    },
    {
     "name": "stderr",
     "output_type": "stream",
     "text": [
      "bruteforce sampling: 100%|███████████████████████████████████████████████████████████| 100/100 [18:35<00:00, 11.15s/it]\n"
     ]
    },
    {
     "name": "stdout",
     "output_type": "stream",
     "text": [
      "bg 11/1000\n"
     ]
    },
    {
     "name": "stderr",
     "output_type": "stream",
     "text": [
      "bruteforce sampling: 100%|███████████████████████████████████████████████████████████| 100/100 [18:08<00:00, 10.89s/it]\n"
     ]
    },
    {
     "name": "stdout",
     "output_type": "stream",
     "text": [
      "bg 12/1000\n"
     ]
    },
    {
     "name": "stderr",
     "output_type": "stream",
     "text": [
      "bruteforce sampling: 100%|███████████████████████████████████████████████████████████| 100/100 [17:41<00:00, 10.61s/it]\n"
     ]
    },
    {
     "name": "stdout",
     "output_type": "stream",
     "text": [
      "bg 13/1000\n"
     ]
    },
    {
     "name": "stderr",
     "output_type": "stream",
     "text": [
      "bruteforce sampling: 100%|███████████████████████████████████████████████████████████| 100/100 [17:59<00:00, 10.80s/it]\n"
     ]
    },
    {
     "name": "stdout",
     "output_type": "stream",
     "text": [
      "bg 14/1000\n"
     ]
    },
    {
     "name": "stderr",
     "output_type": "stream",
     "text": [
      "bruteforce sampling: 100%|███████████████████████████████████████████████████████████| 100/100 [18:55<00:00, 11.36s/it]\n"
     ]
    },
    {
     "name": "stdout",
     "output_type": "stream",
     "text": [
      "bg 15/1000\n"
     ]
    },
    {
     "name": "stderr",
     "output_type": "stream",
     "text": [
      "bruteforce sampling: 100%|███████████████████████████████████████████████████████████| 100/100 [17:56<00:00, 10.76s/it]\n"
     ]
    },
    {
     "name": "stdout",
     "output_type": "stream",
     "text": [
      "bg 16/1000\n"
     ]
    },
    {
     "name": "stderr",
     "output_type": "stream",
     "text": [
      "bruteforce sampling: 100%|███████████████████████████████████████████████████████████| 100/100 [17:43<00:00, 10.64s/it]\n"
     ]
    },
    {
     "name": "stdout",
     "output_type": "stream",
     "text": [
      "bg 17/1000\n"
     ]
    },
    {
     "name": "stderr",
     "output_type": "stream",
     "text": [
      "bruteforce sampling: 100%|███████████████████████████████████████████████████████████| 100/100 [18:15<00:00, 10.95s/it]\n"
     ]
    },
    {
     "name": "stdout",
     "output_type": "stream",
     "text": [
      "bg 18/1000\n"
     ]
    },
    {
     "name": "stderr",
     "output_type": "stream",
     "text": [
      "bruteforce sampling: 100%|███████████████████████████████████████████████████████████| 100/100 [17:56<00:00, 10.76s/it]\n"
     ]
    },
    {
     "name": "stdout",
     "output_type": "stream",
     "text": [
      "bg 19/1000\n"
     ]
    },
    {
     "name": "stderr",
     "output_type": "stream",
     "text": [
      "bruteforce sampling: 100%|███████████████████████████████████████████████████████████| 100/100 [18:06<00:00, 10.86s/it]\n"
     ]
    },
    {
     "name": "stdout",
     "output_type": "stream",
     "text": [
      "bg 20/1000\n"
     ]
    },
    {
     "name": "stderr",
     "output_type": "stream",
     "text": [
      "bruteforce sampling: 100%|███████████████████████████████████████████████████████████| 100/100 [15:31<00:00,  9.31s/it]\n"
     ]
    },
    {
     "name": "stdout",
     "output_type": "stream",
     "text": [
      "bg 21/1000\n"
     ]
    },
    {
     "name": "stderr",
     "output_type": "stream",
     "text": [
      "bruteforce sampling: 100%|███████████████████████████████████████████████████████████| 100/100 [15:02<00:00,  9.03s/it]\n"
     ]
    },
    {
     "name": "stdout",
     "output_type": "stream",
     "text": [
      "bg 22/1000\n"
     ]
    },
    {
     "name": "stderr",
     "output_type": "stream",
     "text": [
      "bruteforce sampling: 100%|███████████████████████████████████████████████████████████| 100/100 [15:01<00:00,  9.02s/it]\n"
     ]
    },
    {
     "name": "stdout",
     "output_type": "stream",
     "text": [
      "bg 23/1000\n"
     ]
    },
    {
     "name": "stderr",
     "output_type": "stream",
     "text": [
      "bruteforce sampling: 100%|███████████████████████████████████████████████████████████| 100/100 [14:59<00:00,  8.99s/it]\n"
     ]
    },
    {
     "name": "stdout",
     "output_type": "stream",
     "text": [
      "bg 24/1000\n"
     ]
    },
    {
     "name": "stderr",
     "output_type": "stream",
     "text": [
      "bruteforce sampling: 100%|█████████████████████████████████████████████████████████| 100/100 [1:28:26<00:00, 53.07s/it]\n"
     ]
    },
    {
     "name": "stdout",
     "output_type": "stream",
     "text": [
      "bg 25/1000\n"
     ]
    },
    {
     "name": "stderr",
     "output_type": "stream",
     "text": [
      "bruteforce sampling: 100%|█████████████████████████████████████████████████████████| 100/100 [1:34:03<00:00, 56.44s/it]\n"
     ]
    },
    {
     "name": "stdout",
     "output_type": "stream",
     "text": [
      "bg 26/1000\n"
     ]
    },
    {
     "name": "stderr",
     "output_type": "stream",
     "text": [
      "bruteforce sampling: 100%|█████████████████████████████████████████████████████████| 100/100 [1:32:58<00:00, 55.78s/it]\n"
     ]
    },
    {
     "name": "stdout",
     "output_type": "stream",
     "text": [
      "bg 27/1000\n"
     ]
    },
    {
     "name": "stderr",
     "output_type": "stream",
     "text": [
      "bruteforce sampling: 100%|█████████████████████████████████████████████████████████| 100/100 [1:34:57<00:00, 56.98s/it]\n"
     ]
    },
    {
     "name": "stdout",
     "output_type": "stream",
     "text": [
      "bg 28/1000\n"
     ]
    },
    {
     "name": "stderr",
     "output_type": "stream",
     "text": [
      "bruteforce sampling: 100%|█████████████████████████████████████████████████████████| 100/100 [1:36:01<00:00, 57.61s/it]\n"
     ]
    },
    {
     "name": "stdout",
     "output_type": "stream",
     "text": [
      "bg 29/1000\n"
     ]
    },
    {
     "name": "stderr",
     "output_type": "stream",
     "text": [
      "bruteforce sampling: 100%|█████████████████████████████████████████████████████████| 100/100 [1:37:35<00:00, 58.56s/it]\n"
     ]
    },
    {
     "name": "stdout",
     "output_type": "stream",
     "text": [
      "bg 30/1000\n"
     ]
    },
    {
     "name": "stderr",
     "output_type": "stream",
     "text": [
      "bruteforce sampling: 100%|█████████████████████████████████████████████████████████| 100/100 [1:36:43<00:00, 58.03s/it]\n"
     ]
    },
    {
     "name": "stdout",
     "output_type": "stream",
     "text": [
      "bg 31/1000\n"
     ]
    },
    {
     "name": "stderr",
     "output_type": "stream",
     "text": [
      "bruteforce sampling: 100%|█████████████████████████████████████████████████████████| 100/100 [1:38:00<00:00, 58.81s/it]\n"
     ]
    },
    {
     "name": "stdout",
     "output_type": "stream",
     "text": [
      "bg 32/1000\n"
     ]
    },
    {
     "name": "stderr",
     "output_type": "stream",
     "text": [
      "bruteforce sampling: 100%|█████████████████████████████████████████████████████████| 100/100 [1:36:45<00:00, 58.05s/it]\n"
     ]
    },
    {
     "name": "stdout",
     "output_type": "stream",
     "text": [
      "bg 33/1000\n"
     ]
    },
    {
     "name": "stderr",
     "output_type": "stream",
     "text": [
      "bruteforce sampling: 100%|███████████████████████████████████████████████████████████| 100/100 [46:47<00:00, 28.08s/it]\n"
     ]
    },
    {
     "name": "stdout",
     "output_type": "stream",
     "text": [
      "bg 34/1000\n"
     ]
    },
    {
     "name": "stderr",
     "output_type": "stream",
     "text": [
      "bruteforce sampling: 100%|███████████████████████████████████████████████████████████| 100/100 [18:02<00:00, 10.83s/it]\n"
     ]
    },
    {
     "name": "stdout",
     "output_type": "stream",
     "text": [
      "bg 35/1000\n"
     ]
    },
    {
     "name": "stderr",
     "output_type": "stream",
     "text": [
      "bruteforce sampling: 100%|███████████████████████████████████████████████████████████| 100/100 [17:57<00:00, 10.77s/it]\n"
     ]
    },
    {
     "name": "stdout",
     "output_type": "stream",
     "text": [
      "bg 36/1000\n"
     ]
    },
    {
     "name": "stderr",
     "output_type": "stream",
     "text": [
      "bruteforce sampling: 100%|███████████████████████████████████████████████████████████| 100/100 [17:29<00:00, 10.50s/it]\n"
     ]
    },
    {
     "name": "stdout",
     "output_type": "stream",
     "text": [
      "bg 37/1000\n"
     ]
    },
    {
     "name": "stderr",
     "output_type": "stream",
     "text": [
      "bruteforce sampling: 100%|███████████████████████████████████████████████████████████| 100/100 [17:43<00:00, 10.64s/it]\n"
     ]
    },
    {
     "name": "stdout",
     "output_type": "stream",
     "text": [
      "bg 38/1000\n"
     ]
    },
    {
     "name": "stderr",
     "output_type": "stream",
     "text": [
      "bruteforce sampling: 100%|███████████████████████████████████████████████████████████| 100/100 [17:48<00:00, 10.69s/it]\n"
     ]
    },
    {
     "name": "stdout",
     "output_type": "stream",
     "text": [
      "bg 39/1000\n"
     ]
    },
    {
     "name": "stderr",
     "output_type": "stream",
     "text": [
      "bruteforce sampling: 100%|███████████████████████████████████████████████████████████| 100/100 [17:24<00:00, 10.45s/it]\n"
     ]
    },
    {
     "name": "stdout",
     "output_type": "stream",
     "text": [
      "bg 40/1000\n"
     ]
    },
    {
     "name": "stderr",
     "output_type": "stream",
     "text": [
      "bruteforce sampling: 100%|███████████████████████████████████████████████████████████| 100/100 [18:53<00:00, 11.34s/it]\n"
     ]
    },
    {
     "name": "stdout",
     "output_type": "stream",
     "text": [
      "bg 41/1000\n"
     ]
    },
    {
     "name": "stderr",
     "output_type": "stream",
     "text": [
      "bruteforce sampling: 100%|███████████████████████████████████████████████████████████| 100/100 [20:34<00:00, 12.34s/it]\n"
     ]
    },
    {
     "name": "stdout",
     "output_type": "stream",
     "text": [
      "bg 42/1000\n"
     ]
    },
    {
     "name": "stderr",
     "output_type": "stream",
     "text": [
      "bruteforce sampling: 100%|███████████████████████████████████████████████████████████| 100/100 [15:54<00:00,  9.54s/it]\n"
     ]
    },
    {
     "name": "stdout",
     "output_type": "stream",
     "text": [
      "bg 43/1000\n"
     ]
    },
    {
     "name": "stderr",
     "output_type": "stream",
     "text": [
      "bruteforce sampling: 100%|███████████████████████████████████████████████████████████| 100/100 [15:54<00:00,  9.55s/it]\n"
     ]
    },
    {
     "name": "stdout",
     "output_type": "stream",
     "text": [
      "bg 44/1000\n"
     ]
    },
    {
     "name": "stderr",
     "output_type": "stream",
     "text": [
      "bruteforce sampling: 100%|███████████████████████████████████████████████████████████| 100/100 [16:43<00:00, 10.03s/it]\n"
     ]
    },
    {
     "name": "stdout",
     "output_type": "stream",
     "text": [
      "bg 45/1000\n"
     ]
    },
    {
     "name": "stderr",
     "output_type": "stream",
     "text": [
      "bruteforce sampling: 100%|███████████████████████████████████████████████████████████| 100/100 [16:21<00:00,  9.81s/it]\n"
     ]
    },
    {
     "name": "stdout",
     "output_type": "stream",
     "text": [
      "bg 46/1000\n"
     ]
    },
    {
     "name": "stderr",
     "output_type": "stream",
     "text": [
      "bruteforce sampling: 100%|███████████████████████████████████████████████████████████| 100/100 [15:45<00:00,  9.45s/it]\n"
     ]
    },
    {
     "name": "stdout",
     "output_type": "stream",
     "text": [
      "bg 47/1000\n"
     ]
    },
    {
     "name": "stderr",
     "output_type": "stream",
     "text": [
      "bruteforce sampling: 100%|███████████████████████████████████████████████████████████| 100/100 [15:47<00:00,  9.47s/it]\n"
     ]
    },
    {
     "name": "stdout",
     "output_type": "stream",
     "text": [
      "bg 48/1000\n"
     ]
    },
    {
     "name": "stderr",
     "output_type": "stream",
     "text": [
      "bruteforce sampling: 100%|███████████████████████████████████████████████████████████| 100/100 [17:43<00:00, 10.64s/it]\n"
     ]
    },
    {
     "name": "stdout",
     "output_type": "stream",
     "text": [
      "bg 49/1000\n"
     ]
    },
    {
     "name": "stderr",
     "output_type": "stream",
     "text": [
      "bruteforce sampling: 100%|███████████████████████████████████████████████████████████| 100/100 [18:35<00:00, 11.15s/it]\n"
     ]
    },
    {
     "name": "stdout",
     "output_type": "stream",
     "text": [
      "bg 50/1000\n"
     ]
    },
    {
     "name": "stderr",
     "output_type": "stream",
     "text": [
      "bruteforce sampling: 100%|███████████████████████████████████████████████████████████| 100/100 [19:06<00:00, 11.47s/it]\n"
     ]
    },
    {
     "name": "stdout",
     "output_type": "stream",
     "text": [
      "bg 51/1000\n"
     ]
    },
    {
     "name": "stderr",
     "output_type": "stream",
     "text": [
      "bruteforce sampling: 100%|███████████████████████████████████████████████████████████| 100/100 [17:45<00:00, 10.66s/it]\n"
     ]
    },
    {
     "name": "stdout",
     "output_type": "stream",
     "text": [
      "bg 52/1000\n"
     ]
    },
    {
     "name": "stderr",
     "output_type": "stream",
     "text": [
      "bruteforce sampling: 100%|███████████████████████████████████████████████████████████| 100/100 [16:58<00:00, 10.19s/it]\n"
     ]
    },
    {
     "name": "stdout",
     "output_type": "stream",
     "text": [
      "bg 53/1000\n"
     ]
    },
    {
     "name": "stderr",
     "output_type": "stream",
     "text": [
      "bruteforce sampling: 100%|███████████████████████████████████████████████████████████| 100/100 [17:03<00:00, 10.24s/it]\n"
     ]
    },
    {
     "name": "stdout",
     "output_type": "stream",
     "text": [
      "bg 54/1000\n"
     ]
    },
    {
     "name": "stderr",
     "output_type": "stream",
     "text": [
      "bruteforce sampling: 100%|███████████████████████████████████████████████████████████| 100/100 [16:56<00:00, 10.16s/it]\n"
     ]
    },
    {
     "name": "stdout",
     "output_type": "stream",
     "text": [
      "bg 55/1000\n"
     ]
    },
    {
     "name": "stderr",
     "output_type": "stream",
     "text": [
      "bruteforce sampling: 100%|███████████████████████████████████████████████████████████| 100/100 [17:16<00:00, 10.36s/it]\n"
     ]
    },
    {
     "name": "stdout",
     "output_type": "stream",
     "text": [
      "bg 56/1000\n"
     ]
    },
    {
     "name": "stderr",
     "output_type": "stream",
     "text": [
      "bruteforce sampling: 100%|███████████████████████████████████████████████████████████| 100/100 [17:20<00:00, 10.41s/it]\n"
     ]
    },
    {
     "name": "stdout",
     "output_type": "stream",
     "text": [
      "bg 57/1000\n"
     ]
    },
    {
     "name": "stderr",
     "output_type": "stream",
     "text": [
      "bruteforce sampling: 100%|███████████████████████████████████████████████████████████| 100/100 [17:11<00:00, 10.31s/it]\n"
     ]
    },
    {
     "name": "stdout",
     "output_type": "stream",
     "text": [
      "bg 58/1000\n"
     ]
    },
    {
     "name": "stderr",
     "output_type": "stream",
     "text": [
      "bruteforce sampling: 100%|███████████████████████████████████████████████████████████| 100/100 [51:50<00:00, 31.11s/it]\n"
     ]
    },
    {
     "name": "stdout",
     "output_type": "stream",
     "text": [
      "bg 59/1000\n"
     ]
    },
    {
     "name": "stderr",
     "output_type": "stream",
     "text": [
      "bruteforce sampling: 100%|█████████████████████████████████████████████████████████| 100/100 [1:34:52<00:00, 56.92s/it]\n"
     ]
    },
    {
     "name": "stdout",
     "output_type": "stream",
     "text": [
      "bg 60/1000\n"
     ]
    },
    {
     "name": "stderr",
     "output_type": "stream",
     "text": [
      "bruteforce sampling: 100%|█████████████████████████████████████████████████████████| 100/100 [1:34:42<00:00, 56.83s/it]\n"
     ]
    },
    {
     "name": "stdout",
     "output_type": "stream",
     "text": [
      "bg 61/1000\n"
     ]
    },
    {
     "name": "stderr",
     "output_type": "stream",
     "text": [
      "bruteforce sampling: 100%|█████████████████████████████████████████████████████████| 100/100 [1:36:30<00:00, 57.91s/it]\n"
     ]
    },
    {
     "name": "stdout",
     "output_type": "stream",
     "text": [
      "bg 62/1000\n"
     ]
    },
    {
     "name": "stderr",
     "output_type": "stream",
     "text": [
      "bruteforce sampling: 100%|█████████████████████████████████████████████████████████| 100/100 [1:35:31<00:00, 57.31s/it]\n"
     ]
    },
    {
     "name": "stdout",
     "output_type": "stream",
     "text": [
      "bg 63/1000\n"
     ]
    },
    {
     "name": "stderr",
     "output_type": "stream",
     "text": [
      "bruteforce sampling: 100%|█████████████████████████████████████████████████████████| 100/100 [1:42:32<00:00, 61.52s/it]\n"
     ]
    },
    {
     "name": "stdout",
     "output_type": "stream",
     "text": [
      "bg 64/1000\n"
     ]
    },
    {
     "name": "stderr",
     "output_type": "stream",
     "text": [
      "bruteforce sampling: 100%|█████████████████████████████████████████████████████████| 100/100 [1:42:24<00:00, 61.45s/it]\n"
     ]
    },
    {
     "name": "stdout",
     "output_type": "stream",
     "text": [
      "bg 65/1000\n"
     ]
    },
    {
     "name": "stderr",
     "output_type": "stream",
     "text": [
      "bruteforce sampling: 100%|████████████████████████████████████████████████████████| 100/100 [6:00:34<00:00, 216.35s/it]\n"
     ]
    },
    {
     "name": "stdout",
     "output_type": "stream",
     "text": [
      "bg 66/1000\n"
     ]
    },
    {
     "name": "stderr",
     "output_type": "stream",
     "text": [
      "bruteforce sampling: 100%|███████████████████████████████████████████████████████████| 100/100 [16:46<00:00, 10.06s/it]\n"
     ]
    },
    {
     "name": "stdout",
     "output_type": "stream",
     "text": [
      "bg 67/1000\n"
     ]
    },
    {
     "name": "stderr",
     "output_type": "stream",
     "text": [
      "bruteforce sampling: 100%|███████████████████████████████████████████████████████████| 100/100 [16:54<00:00, 10.14s/it]\n"
     ]
    },
    {
     "name": "stdout",
     "output_type": "stream",
     "text": [
      "bg 68/1000\n"
     ]
    },
    {
     "name": "stderr",
     "output_type": "stream",
     "text": [
      "bruteforce sampling: 100%|███████████████████████████████████████████████████████████| 100/100 [16:25<00:00,  9.85s/it]\n"
     ]
    },
    {
     "name": "stdout",
     "output_type": "stream",
     "text": [
      "bg 69/1000\n"
     ]
    },
    {
     "name": "stderr",
     "output_type": "stream",
     "text": [
      "bruteforce sampling: 100%|███████████████████████████████████████████████████████████| 100/100 [16:38<00:00,  9.99s/it]\n"
     ]
    },
    {
     "name": "stdout",
     "output_type": "stream",
     "text": [
      "bg 70/1000\n"
     ]
    },
    {
     "name": "stderr",
     "output_type": "stream",
     "text": [
      "bruteforce sampling: 100%|███████████████████████████████████████████████████████████| 100/100 [18:08<00:00, 10.88s/it]\n"
     ]
    },
    {
     "name": "stdout",
     "output_type": "stream",
     "text": [
      "bg 71/1000\n"
     ]
    },
    {
     "name": "stderr",
     "output_type": "stream",
     "text": [
      "bruteforce sampling: 100%|███████████████████████████████████████████████████████████| 100/100 [22:50<00:00, 13.71s/it]\n"
     ]
    },
    {
     "name": "stdout",
     "output_type": "stream",
     "text": [
      "bg 72/1000\n"
     ]
    },
    {
     "name": "stderr",
     "output_type": "stream",
     "text": [
      "bruteforce sampling: 100%|███████████████████████████████████████████████████████████| 100/100 [19:34<00:00, 11.74s/it]\n"
     ]
    },
    {
     "name": "stdout",
     "output_type": "stream",
     "text": [
      "bg 73/1000\n"
     ]
    },
    {
     "name": "stderr",
     "output_type": "stream",
     "text": [
      "bruteforce sampling: 100%|███████████████████████████████████████████████████████████| 100/100 [16:45<00:00, 10.05s/it]\n"
     ]
    },
    {
     "name": "stdout",
     "output_type": "stream",
     "text": [
      "bg 74/1000\n"
     ]
    },
    {
     "name": "stderr",
     "output_type": "stream",
     "text": [
      "bruteforce sampling: 100%|███████████████████████████████████████████████████████████| 100/100 [17:16<00:00, 10.36s/it]\n"
     ]
    },
    {
     "name": "stdout",
     "output_type": "stream",
     "text": [
      "bg 75/1000\n"
     ]
    },
    {
     "name": "stderr",
     "output_type": "stream",
     "text": [
      "bruteforce sampling: 100%|███████████████████████████████████████████████████████████| 100/100 [15:30<00:00,  9.31s/it]\n"
     ]
    },
    {
     "name": "stdout",
     "output_type": "stream",
     "text": [
      "bg 76/1000\n"
     ]
    },
    {
     "name": "stderr",
     "output_type": "stream",
     "text": [
      "bruteforce sampling: 100%|███████████████████████████████████████████████████████████| 100/100 [15:28<00:00,  9.29s/it]\n"
     ]
    },
    {
     "name": "stdout",
     "output_type": "stream",
     "text": [
      "bg 77/1000\n"
     ]
    },
    {
     "name": "stderr",
     "output_type": "stream",
     "text": [
      "bruteforce sampling: 100%|███████████████████████████████████████████████████████████| 100/100 [15:30<00:00,  9.30s/it]\n"
     ]
    },
    {
     "name": "stdout",
     "output_type": "stream",
     "text": [
      "bg 78/1000\n"
     ]
    },
    {
     "name": "stderr",
     "output_type": "stream",
     "text": [
      "bruteforce sampling: 100%|███████████████████████████████████████████████████████████| 100/100 [15:30<00:00,  9.31s/it]\n"
     ]
    },
    {
     "name": "stdout",
     "output_type": "stream",
     "text": [
      "bg 79/1000\n"
     ]
    },
    {
     "name": "stderr",
     "output_type": "stream",
     "text": [
      "bruteforce sampling: 100%|███████████████████████████████████████████████████████████| 100/100 [15:24<00:00,  9.25s/it]\n"
     ]
    },
    {
     "name": "stdout",
     "output_type": "stream",
     "text": [
      "bg 80/1000\n"
     ]
    },
    {
     "name": "stderr",
     "output_type": "stream",
     "text": [
      "bruteforce sampling: 100%|███████████████████████████████████████████████████████████| 100/100 [15:24<00:00,  9.25s/it]\n"
     ]
    },
    {
     "name": "stdout",
     "output_type": "stream",
     "text": [
      "bg 81/1000\n"
     ]
    },
    {
     "name": "stderr",
     "output_type": "stream",
     "text": [
      "bruteforce sampling: 100%|███████████████████████████████████████████████████████████| 100/100 [15:25<00:00,  9.25s/it]\n"
     ]
    },
    {
     "name": "stdout",
     "output_type": "stream",
     "text": [
      "bg 82/1000\n"
     ]
    },
    {
     "name": "stderr",
     "output_type": "stream",
     "text": [
      "bruteforce sampling: 100%|███████████████████████████████████████████████████████████| 100/100 [16:01<00:00,  9.61s/it]\n"
     ]
    },
    {
     "name": "stdout",
     "output_type": "stream",
     "text": [
      "bg 83/1000\n"
     ]
    },
    {
     "name": "stderr",
     "output_type": "stream",
     "text": [
      "bruteforce sampling: 100%|███████████████████████████████████████████████████████████| 100/100 [16:18<00:00,  9.79s/it]\n"
     ]
    },
    {
     "name": "stdout",
     "output_type": "stream",
     "text": [
      "bg 84/1000\n"
     ]
    },
    {
     "name": "stderr",
     "output_type": "stream",
     "text": [
      "bruteforce sampling: 100%|███████████████████████████████████████████████████████████| 100/100 [17:55<00:00, 10.76s/it]\n"
     ]
    },
    {
     "name": "stdout",
     "output_type": "stream",
     "text": [
      "bg 85/1000\n"
     ]
    },
    {
     "name": "stderr",
     "output_type": "stream",
     "text": [
      "bruteforce sampling: 100%|███████████████████████████████████████████████████████████| 100/100 [18:49<00:00, 11.29s/it]\n"
     ]
    },
    {
     "name": "stdout",
     "output_type": "stream",
     "text": [
      "bg 86/1000\n"
     ]
    },
    {
     "name": "stderr",
     "output_type": "stream",
     "text": [
      "bruteforce sampling: 100%|███████████████████████████████████████████████████████████| 100/100 [20:36<00:00, 12.37s/it]\n"
     ]
    },
    {
     "name": "stdout",
     "output_type": "stream",
     "text": [
      "bg 87/1000\n"
     ]
    },
    {
     "name": "stderr",
     "output_type": "stream",
     "text": [
      "bruteforce sampling: 100%|███████████████████████████████████████████████████████████| 100/100 [20:15<00:00, 12.16s/it]\n"
     ]
    },
    {
     "name": "stdout",
     "output_type": "stream",
     "text": [
      "bg 88/1000\n"
     ]
    },
    {
     "name": "stderr",
     "output_type": "stream",
     "text": [
      "bruteforce sampling: 100%|███████████████████████████████████████████████████████████| 100/100 [20:15<00:00, 12.16s/it]\n"
     ]
    },
    {
     "name": "stdout",
     "output_type": "stream",
     "text": [
      "bg 89/1000\n"
     ]
    },
    {
     "name": "stderr",
     "output_type": "stream",
     "text": [
      "bruteforce sampling: 100%|███████████████████████████████████████████████████████████| 100/100 [19:16<00:00, 11.57s/it]\n"
     ]
    },
    {
     "name": "stdout",
     "output_type": "stream",
     "text": [
      "bg 90/1000\n"
     ]
    },
    {
     "name": "stderr",
     "output_type": "stream",
     "text": [
      "bruteforce sampling: 100%|███████████████████████████████████████████████████████████| 100/100 [17:54<00:00, 10.74s/it]\n"
     ]
    },
    {
     "name": "stdout",
     "output_type": "stream",
     "text": [
      "bg 91/1000\n"
     ]
    },
    {
     "name": "stderr",
     "output_type": "stream",
     "text": [
      "bruteforce sampling: 100%|███████████████████████████████████████████████████████████| 100/100 [18:57<00:00, 11.37s/it]\n"
     ]
    },
    {
     "name": "stdout",
     "output_type": "stream",
     "text": [
      "bg 92/1000\n"
     ]
    },
    {
     "name": "stderr",
     "output_type": "stream",
     "text": [
      "bruteforce sampling: 100%|███████████████████████████████████████████████████████████| 100/100 [17:47<00:00, 10.68s/it]\n"
     ]
    },
    {
     "name": "stdout",
     "output_type": "stream",
     "text": [
      "bg 93/1000\n"
     ]
    },
    {
     "name": "stderr",
     "output_type": "stream",
     "text": [
      "bruteforce sampling: 100%|███████████████████████████████████████████████████████████| 100/100 [16:06<00:00,  9.66s/it]\n"
     ]
    },
    {
     "name": "stdout",
     "output_type": "stream",
     "text": [
      "bg 94/1000\n"
     ]
    },
    {
     "name": "stderr",
     "output_type": "stream",
     "text": [
      "bruteforce sampling: 100%|███████████████████████████████████████████████████████████| 100/100 [16:01<00:00,  9.61s/it]\n"
     ]
    },
    {
     "name": "stdout",
     "output_type": "stream",
     "text": [
      "bg 95/1000\n"
     ]
    },
    {
     "name": "stderr",
     "output_type": "stream",
     "text": [
      "bruteforce sampling: 100%|███████████████████████████████████████████████████████████| 100/100 [16:00<00:00,  9.61s/it]\n"
     ]
    },
    {
     "name": "stdout",
     "output_type": "stream",
     "text": [
      "bg 96/1000\n"
     ]
    },
    {
     "name": "stderr",
     "output_type": "stream",
     "text": [
      "bruteforce sampling: 100%|███████████████████████████████████████████████████████████| 100/100 [16:02<00:00,  9.63s/it]\n"
     ]
    },
    {
     "name": "stdout",
     "output_type": "stream",
     "text": [
      "bg 97/1000\n"
     ]
    },
    {
     "name": "stderr",
     "output_type": "stream",
     "text": [
      "bruteforce sampling: 100%|█████████████████████████████████████████████████████████| 100/100 [1:29:52<00:00, 53.92s/it]\n"
     ]
    },
    {
     "name": "stdout",
     "output_type": "stream",
     "text": [
      "bg 98/1000\n"
     ]
    },
    {
     "name": "stderr",
     "output_type": "stream",
     "text": [
      "bruteforce sampling: 100%|█████████████████████████████████████████████████████████| 100/100 [1:35:19<00:00, 57.20s/it]\n"
     ]
    },
    {
     "name": "stdout",
     "output_type": "stream",
     "text": [
      "bg 99/1000\n"
     ]
    },
    {
     "name": "stderr",
     "output_type": "stream",
     "text": [
      "bruteforce sampling: 100%|█████████████████████████████████████████████████████████| 100/100 [1:35:23<00:00, 57.23s/it]\n"
     ]
    },
    {
     "name": "stdout",
     "output_type": "stream",
     "text": [
      "bg 100/1000\n"
     ]
    },
    {
     "name": "stderr",
     "output_type": "stream",
     "text": [
      "bruteforce sampling: 100%|█████████████████████████████████████████████████████████| 100/100 [1:37:02<00:00, 58.23s/it]\n"
     ]
    },
    {
     "name": "stdout",
     "output_type": "stream",
     "text": [
      "bg 101/1000\n"
     ]
    },
    {
     "name": "stderr",
     "output_type": "stream",
     "text": [
      "bruteforce sampling: 100%|█████████████████████████████████████████████████████████| 100/100 [1:37:24<00:00, 58.44s/it]\n"
     ]
    },
    {
     "name": "stdout",
     "output_type": "stream",
     "text": [
      "bg 102/1000\n"
     ]
    },
    {
     "name": "stderr",
     "output_type": "stream",
     "text": [
      "bruteforce sampling: 100%|█████████████████████████████████████████████████████████| 100/100 [1:37:03<00:00, 58.23s/it]\n"
     ]
    },
    {
     "name": "stdout",
     "output_type": "stream",
     "text": [
      "bg 103/1000\n"
     ]
    },
    {
     "name": "stderr",
     "output_type": "stream",
     "text": [
      "bruteforce sampling: 100%|█████████████████████████████████████████████████████████| 100/100 [1:36:45<00:00, 58.05s/it]\n"
     ]
    },
    {
     "name": "stdout",
     "output_type": "stream",
     "text": [
      "bg 104/1000\n"
     ]
    },
    {
     "name": "stderr",
     "output_type": "stream",
     "text": [
      "bruteforce sampling: 100%|█████████████████████████████████████████████████████████| 100/100 [1:36:24<00:00, 57.84s/it]\n"
     ]
    },
    {
     "name": "stdout",
     "output_type": "stream",
     "text": [
      "bg 105/1000\n"
     ]
    },
    {
     "name": "stderr",
     "output_type": "stream",
     "text": [
      "bruteforce sampling: 100%|█████████████████████████████████████████████████████████| 100/100 [1:36:31<00:00, 57.91s/it]\n"
     ]
    },
    {
     "name": "stdout",
     "output_type": "stream",
     "text": [
      "bg 106/1000\n"
     ]
    },
    {
     "name": "stderr",
     "output_type": "stream",
     "text": [
      "bruteforce sampling: 100%|███████████████████████████████████████████████████████████| 100/100 [50:02<00:00, 30.03s/it]\n"
     ]
    },
    {
     "name": "stdout",
     "output_type": "stream",
     "text": [
      "bg 107/1000\n"
     ]
    },
    {
     "name": "stderr",
     "output_type": "stream",
     "text": [
      "bruteforce sampling: 100%|███████████████████████████████████████████████████████████| 100/100 [16:52<00:00, 10.13s/it]\n"
     ]
    },
    {
     "name": "stdout",
     "output_type": "stream",
     "text": [
      "bg 108/1000\n"
     ]
    },
    {
     "name": "stderr",
     "output_type": "stream",
     "text": [
      "bruteforce sampling: 100%|███████████████████████████████████████████████████████████| 100/100 [17:06<00:00, 10.26s/it]\n"
     ]
    },
    {
     "name": "stdout",
     "output_type": "stream",
     "text": [
      "bg 109/1000\n"
     ]
    },
    {
     "name": "stderr",
     "output_type": "stream",
     "text": [
      "bruteforce sampling: 100%|███████████████████████████████████████████████████████████| 100/100 [16:29<00:00,  9.89s/it]\n"
     ]
    },
    {
     "name": "stdout",
     "output_type": "stream",
     "text": [
      "bg 110/1000\n"
     ]
    },
    {
     "name": "stderr",
     "output_type": "stream",
     "text": [
      "bruteforce sampling: 100%|███████████████████████████████████████████████████████████| 100/100 [18:24<00:00, 11.05s/it]\n"
     ]
    },
    {
     "name": "stdout",
     "output_type": "stream",
     "text": [
      "bg 111/1000\n"
     ]
    },
    {
     "name": "stderr",
     "output_type": "stream",
     "text": [
      "bruteforce sampling: 100%|███████████████████████████████████████████████████████████| 100/100 [18:20<00:00, 11.01s/it]\n"
     ]
    },
    {
     "name": "stdout",
     "output_type": "stream",
     "text": [
      "bg 112/1000\n"
     ]
    },
    {
     "name": "stderr",
     "output_type": "stream",
     "text": [
      "bruteforce sampling: 100%|███████████████████████████████████████████████████████████| 100/100 [17:49<00:00, 10.70s/it]\n"
     ]
    },
    {
     "name": "stdout",
     "output_type": "stream",
     "text": [
      "bg 113/1000\n"
     ]
    },
    {
     "name": "stderr",
     "output_type": "stream",
     "text": [
      "bruteforce sampling: 100%|███████████████████████████████████████████████████████████| 100/100 [16:34<00:00,  9.95s/it]\n"
     ]
    },
    {
     "name": "stdout",
     "output_type": "stream",
     "text": [
      "bg 114/1000\n"
     ]
    },
    {
     "name": "stderr",
     "output_type": "stream",
     "text": [
      "bruteforce sampling: 100%|███████████████████████████████████████████████████████████| 100/100 [15:31<00:00,  9.32s/it]\n"
     ]
    },
    {
     "name": "stdout",
     "output_type": "stream",
     "text": [
      "bg 115/1000\n"
     ]
    },
    {
     "name": "stderr",
     "output_type": "stream",
     "text": [
      "bruteforce sampling: 100%|███████████████████████████████████████████████████████████| 100/100 [15:32<00:00,  9.33s/it]\n"
     ]
    },
    {
     "name": "stdout",
     "output_type": "stream",
     "text": [
      "bg 116/1000\n"
     ]
    },
    {
     "name": "stderr",
     "output_type": "stream",
     "text": [
      "bruteforce sampling: 100%|███████████████████████████████████████████████████████████| 100/100 [15:31<00:00,  9.31s/it]\n"
     ]
    },
    {
     "name": "stdout",
     "output_type": "stream",
     "text": [
      "bg 117/1000\n"
     ]
    },
    {
     "name": "stderr",
     "output_type": "stream",
     "text": [
      "bruteforce sampling: 100%|███████████████████████████████████████████████████████████| 100/100 [24:51<00:00, 14.91s/it]\n"
     ]
    },
    {
     "name": "stdout",
     "output_type": "stream",
     "text": [
      "bg 118/1000\n"
     ]
    },
    {
     "name": "stderr",
     "output_type": "stream",
     "text": [
      "bruteforce sampling: 100%|███████████████████████████████████████████████████████████| 100/100 [27:50<00:00, 16.71s/it]\n"
     ]
    },
    {
     "name": "stdout",
     "output_type": "stream",
     "text": [
      "bg 119/1000\n"
     ]
    },
    {
     "name": "stderr",
     "output_type": "stream",
     "text": [
      "bruteforce sampling: 100%|███████████████████████████████████████████████████████████| 100/100 [16:57<00:00, 10.17s/it]\n"
     ]
    },
    {
     "name": "stdout",
     "output_type": "stream",
     "text": [
      "bg 120/1000\n"
     ]
    },
    {
     "name": "stderr",
     "output_type": "stream",
     "text": [
      "bruteforce sampling: 100%|███████████████████████████████████████████████████████████| 100/100 [17:49<00:00, 10.69s/it]\n"
     ]
    },
    {
     "name": "stdout",
     "output_type": "stream",
     "text": [
      "bg 121/1000\n"
     ]
    },
    {
     "name": "stderr",
     "output_type": "stream",
     "text": [
      "bruteforce sampling: 100%|███████████████████████████████████████████████████████████| 100/100 [19:45<00:00, 11.86s/it]\n"
     ]
    },
    {
     "name": "stdout",
     "output_type": "stream",
     "text": [
      "bg 122/1000\n"
     ]
    },
    {
     "name": "stderr",
     "output_type": "stream",
     "text": [
      "bruteforce sampling: 100%|███████████████████████████████████████████████████████████| 100/100 [20:17<00:00, 12.18s/it]\n"
     ]
    },
    {
     "name": "stdout",
     "output_type": "stream",
     "text": [
      "bg 123/1000\n"
     ]
    },
    {
     "name": "stderr",
     "output_type": "stream",
     "text": [
      "bruteforce sampling: 100%|███████████████████████████████████████████████████████████| 100/100 [16:47<00:00, 10.08s/it]\n"
     ]
    },
    {
     "name": "stdout",
     "output_type": "stream",
     "text": [
      "bg 124/1000\n"
     ]
    },
    {
     "name": "stderr",
     "output_type": "stream",
     "text": [
      "bruteforce sampling: 100%|███████████████████████████████████████████████████████████| 100/100 [16:51<00:00, 10.12s/it]\n"
     ]
    },
    {
     "name": "stdout",
     "output_type": "stream",
     "text": [
      "bg 125/1000\n"
     ]
    },
    {
     "name": "stderr",
     "output_type": "stream",
     "text": [
      "bruteforce sampling: 100%|███████████████████████████████████████████████████████████| 100/100 [17:17<00:00, 10.38s/it]\n"
     ]
    },
    {
     "name": "stdout",
     "output_type": "stream",
     "text": [
      "bg 126/1000\n"
     ]
    },
    {
     "name": "stderr",
     "output_type": "stream",
     "text": [
      "bruteforce sampling: 100%|███████████████████████████████████████████████████████████| 100/100 [20:54<00:00, 12.54s/it]\n"
     ]
    },
    {
     "name": "stdout",
     "output_type": "stream",
     "text": [
      "bg 127/1000\n"
     ]
    },
    {
     "name": "stderr",
     "output_type": "stream",
     "text": [
      "bruteforce sampling: 100%|███████████████████████████████████████████████████████████| 100/100 [23:30<00:00, 14.11s/it]\n"
     ]
    },
    {
     "name": "stdout",
     "output_type": "stream",
     "text": [
      "bg 128/1000\n"
     ]
    },
    {
     "name": "stderr",
     "output_type": "stream",
     "text": [
      "bruteforce sampling: 100%|███████████████████████████████████████████████████████████| 100/100 [23:09<00:00, 13.90s/it]\n"
     ]
    },
    {
     "name": "stdout",
     "output_type": "stream",
     "text": [
      "bg 129/1000\n"
     ]
    },
    {
     "name": "stderr",
     "output_type": "stream",
     "text": [
      "bruteforce sampling: 100%|███████████████████████████████████████████████████████████| 100/100 [57:41<00:00, 34.62s/it]\n"
     ]
    },
    {
     "name": "stdout",
     "output_type": "stream",
     "text": [
      "bg 130/1000\n"
     ]
    },
    {
     "name": "stderr",
     "output_type": "stream",
     "text": [
      "bruteforce sampling: 100%|█████████████████████████████████████████████████████████| 100/100 [1:35:07<00:00, 57.08s/it]\n"
     ]
    },
    {
     "name": "stdout",
     "output_type": "stream",
     "text": [
      "bg 131/1000\n"
     ]
    },
    {
     "name": "stderr",
     "output_type": "stream",
     "text": [
      "bruteforce sampling: 100%|█████████████████████████████████████████████████████████| 100/100 [1:40:44<00:00, 60.44s/it]\n"
     ]
    },
    {
     "name": "stdout",
     "output_type": "stream",
     "text": [
      "bg 132/1000\n"
     ]
    },
    {
     "name": "stderr",
     "output_type": "stream",
     "text": [
      "bruteforce sampling: 100%|█████████████████████████████████████████████████████████| 100/100 [1:36:12<00:00, 57.72s/it]\n"
     ]
    },
    {
     "name": "stdout",
     "output_type": "stream",
     "text": [
      "bg 133/1000\n"
     ]
    },
    {
     "name": "stderr",
     "output_type": "stream",
     "text": [
      "bruteforce sampling: 100%|█████████████████████████████████████████████████████████| 100/100 [1:35:56<00:00, 57.56s/it]\n"
     ]
    },
    {
     "name": "stdout",
     "output_type": "stream",
     "text": [
      "bg 134/1000\n"
     ]
    },
    {
     "name": "stderr",
     "output_type": "stream",
     "text": [
      "bruteforce sampling:   9%|█████▎                                                     | 9/100 [08:43<1:28:56, 58.64s/it]"
     ]
    }
   ],
   "source": [
    "# multiple background result\n",
    "edge_credits = [] # save for each run\n",
    "for i in range(len(bg)): # average run result using linearity axiom\n",
    "    print(f'bg {i}/{len(bg)}')\n",
    "    explainer = GraphExplainer(graph, bg[i:i+1], nruns=nruns) \n",
    "    cf = explainer.shap_values(fg)\n",
    "    edge_credits.append(node_dict2str_dict(cf.edge_credit)) # use node name is more portable vs. node"
   ]
  },
  {
   "cell_type": "code",
   "execution_count": 20,
   "id": "f2d5b963",
   "metadata": {},
   "outputs": [
    {
     "data": {
      "image/svg+xml": [
       "<?xml version=\"1.0\" encoding=\"UTF-8\" standalone=\"no\"?>\r\n",
       "<!DOCTYPE svg PUBLIC \"-//W3C//DTD SVG 1.1//EN\"\r\n",
       " \"http://www.w3.org/Graphics/SVG/1.1/DTD/svg11.dtd\">\r\n",
       "<!-- Generated by graphviz version 2.38.0 (20140413.2041)\r\n",
       " -->\r\n",
       "<!-- Pages: 1 -->\r\n",
       "<svg width=\"2044pt\" height=\"131pt\"\r\n",
       " viewBox=\"0.00 0.00 2043.54 131.00\" xmlns=\"http://www.w3.org/2000/svg\" xmlns:xlink=\"http://www.w3.org/1999/xlink\">\r\n",
       "<g id=\"graph0\" class=\"graph\" transform=\"scale(1 1) rotate(0) translate(4 127)\">\r\n",
       "<polygon fill=\"white\" stroke=\"none\" points=\"-4,4 -4,-127 2039.54,-127 2039.54,4 -4,4\"/>\r\n",
       "<!-- emp_length_n -->\r\n",
       "<g id=\"node1\" class=\"node\"><title>emp_length_n</title>\r\n",
       "<ellipse fill=\"none\" stroke=\"black\" cx=\"61.7445\" cy=\"-105\" rx=\"61.99\" ry=\"18\"/>\r\n",
       "<text text-anchor=\"middle\" x=\"61.7445\" y=\"-101.3\" font-family=\"Times New Roman,serif\" font-size=\"14.00\">emp_length_n</text>\r\n",
       "</g>\r\n",
       "<!-- Outcome -->\r\n",
       "<g id=\"node2\" class=\"node\"><title>Outcome</title>\r\n",
       "<ellipse fill=\"none\" stroke=\"black\" cx=\"360.745\" cy=\"-18\" rx=\"44.393\" ry=\"18\"/>\r\n",
       "<text text-anchor=\"middle\" x=\"360.745\" y=\"-14.3\" font-family=\"Times New Roman,serif\" font-size=\"14.00\">Outcome</text>\r\n",
       "</g>\r\n",
       "<!-- emp_length_n&#45;&gt;Outcome -->\r\n",
       "<g id=\"edge1\" class=\"edge\"><title>emp_length_n&#45;&gt;Outcome</title>\r\n",
       "<path fill=\"none\" stroke=\"#ff0051\" stroke-width=\"0.05\" d=\"M103.914,-91.7954C139.138,-81.6219 190.69,-66.7807 235.745,-54 262.114,-46.5198 291.642,-38.2471 315.375,-31.6234\"/>\r\n",
       "<polygon fill=\"#ff0051\" stroke=\"#ff0051\" stroke-width=\"0.05\" points=\"316.473,-34.9507 325.166,-28.8927 314.593,-28.208 316.473,-34.9507\"/>\r\n",
       "<text text-anchor=\"middle\" x=\"248.245\" y=\"-57.8\" font-family=\"Times New Roman,serif\" font-size=\"14.00\" fill=\"#ff0051\">0.00</text>\r\n",
       "</g>\r\n",
       "<!-- term_60m -->\r\n",
       "<g id=\"node3\" class=\"node\"><title>term_60m</title>\r\n",
       "<ellipse fill=\"none\" stroke=\"black\" cx=\"188.745\" cy=\"-105\" rx=\"47.3916\" ry=\"18\"/>\r\n",
       "<text text-anchor=\"middle\" x=\"188.745\" y=\"-101.3\" font-family=\"Times New Roman,serif\" font-size=\"14.00\">term_60m</text>\r\n",
       "</g>\r\n",
       "<!-- term_60m&#45;&gt;Outcome -->\r\n",
       "<g id=\"edge2\" class=\"edge\"><title>term_60m&#45;&gt;Outcome</title>\r\n",
       "<path fill=\"none\" stroke=\"#ff0051\" stroke-width=\"0.05\" d=\"M216.379,-90.3433C245.766,-75.821 292.366,-52.7916 324.638,-36.8434\"/>\r\n",
       "<polygon fill=\"#ff0051\" stroke=\"#ff0051\" stroke-width=\"0.05\" points=\"326.331,-39.9108 333.745,-32.3426 323.23,-33.6353 326.331,-39.9108\"/>\r\n",
       "<text text-anchor=\"middle\" x=\"298.245\" y=\"-57.8\" font-family=\"Times New Roman,serif\" font-size=\"14.00\" fill=\"#ff0051\">0.00</text>\r\n",
       "</g>\r\n",
       "<!-- acc_open_past_24mths_n -->\r\n",
       "<g id=\"node4\" class=\"node\"><title>acc_open_past_24mths_n</title>\r\n",
       "<ellipse fill=\"none\" stroke=\"black\" cx=\"360.745\" cy=\"-105\" rx=\"106.681\" ry=\"18\"/>\r\n",
       "<text text-anchor=\"middle\" x=\"360.745\" y=\"-101.3\" font-family=\"Times New Roman,serif\" font-size=\"14.00\">acc_open_past_24mths_n</text>\r\n",
       "</g>\r\n",
       "<!-- acc_open_past_24mths_n&#45;&gt;Outcome -->\r\n",
       "<g id=\"edge3\" class=\"edge\"><title>acc_open_past_24mths_n&#45;&gt;Outcome</title>\r\n",
       "<path fill=\"none\" stroke=\"#ff0051\" stroke-width=\"0.0831671\" d=\"M360.745,-86.799C360.745,-75.1626 360.745,-59.5479 360.745,-46.2368\"/>\r\n",
       "<polygon fill=\"#ff0051\" stroke=\"#ff0051\" stroke-width=\"0.0831671\" points=\"364.245,-46.1754 360.745,-36.1754 357.245,-46.1755 364.245,-46.1754\"/>\r\n",
       "<text text-anchor=\"middle\" x=\"373.245\" y=\"-57.8\" font-family=\"Times New Roman,serif\" font-size=\"14.00\" fill=\"#ff0051\">0.00</text>\r\n",
       "</g>\r\n",
       "<!-- grade_n -->\r\n",
       "<g id=\"node5\" class=\"node\"><title>grade_n</title>\r\n",
       "<ellipse fill=\"none\" stroke=\"black\" cx=\"525.745\" cy=\"-105\" rx=\"40.0939\" ry=\"18\"/>\r\n",
       "<text text-anchor=\"middle\" x=\"525.745\" y=\"-101.3\" font-family=\"Times New Roman,serif\" font-size=\"14.00\">grade_n</text>\r\n",
       "</g>\r\n",
       "<!-- grade_n&#45;&gt;Outcome -->\r\n",
       "<g id=\"edge4\" class=\"edge\"><title>grade_n&#45;&gt;Outcome</title>\r\n",
       "<path fill=\"none\" stroke=\"#ff0051\" stroke-width=\"0.05\" d=\"M495.273,-93.0508C489.163,-90.962 482.769,-88.8519 476.745,-87 447.272,-77.941 436.364,-84.5603 409.745,-69 398.545,-62.4534 388.167,-52.6742 379.871,-43.4959\"/>\r\n",
       "<polygon fill=\"#ff0051\" stroke=\"#ff0051\" stroke-width=\"0.05\" points=\"382.324,-40.9802 373.15,-35.6812 377.017,-45.5449 382.324,-40.9802\"/>\r\n",
       "<text text-anchor=\"middle\" x=\"422.245\" y=\"-57.8\" font-family=\"Times New Roman,serif\" font-size=\"14.00\" fill=\"#ff0051\">0.00</text>\r\n",
       "</g>\r\n",
       "<!-- loan_amnt_n -->\r\n",
       "<g id=\"node6\" class=\"node\"><title>loan_amnt_n</title>\r\n",
       "<ellipse fill=\"none\" stroke=\"black\" cx=\"641.745\" cy=\"-105\" rx=\"57.6901\" ry=\"18\"/>\r\n",
       "<text text-anchor=\"middle\" x=\"641.745\" y=\"-101.3\" font-family=\"Times New Roman,serif\" font-size=\"14.00\">loan_amnt_n</text>\r\n",
       "</g>\r\n",
       "<!-- loan_amnt_n&#45;&gt;Outcome -->\r\n",
       "<g id=\"edge5\" class=\"edge\"><title>loan_amnt_n&#45;&gt;Outcome</title>\r\n",
       "<path fill=\"none\" stroke=\"#008bfb\" stroke-width=\"2.48067\" d=\"M599.353,-92.5915C591.217,-90.5873 582.741,-88.6258 574.745,-87 523.187,-76.5183 506.885,-87.7933 457.745,-69 446.346,-64.6406 445.396,-59.9561 434.745,-54 423.503,-47.7143 410.947,-41.4928 399.416,-36.0777\"/>\r\n",
       "<polygon fill=\"#008bfb\" stroke=\"#008bfb\" stroke-width=\"2.48067\" points=\"400.568,-32.7544 390.022,-31.735 397.631,-39.1082 400.568,-32.7544\"/>\r\n",
       "<text text-anchor=\"middle\" x=\"472.245\" y=\"-57.8\" font-family=\"Times New Roman,serif\" font-size=\"14.00\" fill=\"#008bfb\">&#45;0.00</text>\r\n",
       "</g>\r\n",
       "<!-- revol_util_n -->\r\n",
       "<g id=\"node7\" class=\"node\"><title>revol_util_n</title>\r\n",
       "<ellipse fill=\"none\" stroke=\"black\" cx=\"771.745\" cy=\"-105\" rx=\"53.8905\" ry=\"18\"/>\r\n",
       "<text text-anchor=\"middle\" x=\"771.745\" y=\"-101.3\" font-family=\"Times New Roman,serif\" font-size=\"14.00\">revol_util_n</text>\r\n",
       "</g>\r\n",
       "<!-- revol_util_n&#45;&gt;Outcome -->\r\n",
       "<g id=\"edge6\" class=\"edge\"><title>revol_util_n&#45;&gt;Outcome</title>\r\n",
       "<path fill=\"none\" stroke=\"#ff0051\" stroke-width=\"0.05\" d=\"M732.999,-92.4178C725.034,-90.3558 716.662,-88.4171 708.745,-87 621.764,-71.4316 594.492,-97.184 510.745,-69 498.823,-64.9879 498.257,-59.069 486.745,-54 462.109,-43.1527 433.267,-34.8456 409.398,-29.0526\"/>\r\n",
       "<polygon fill=\"#ff0051\" stroke=\"#ff0051\" stroke-width=\"0.05\" points=\"410.036,-25.6071 399.5,-26.7236 408.432,-32.421 410.036,-25.6071\"/>\r\n",
       "<text text-anchor=\"middle\" x=\"523.245\" y=\"-57.8\" font-family=\"Times New Roman,serif\" font-size=\"14.00\" fill=\"#ff0051\">0.00</text>\r\n",
       "</g>\r\n",
       "<!-- sub_grade_n -->\r\n",
       "<g id=\"node8\" class=\"node\"><title>sub_grade_n</title>\r\n",
       "<ellipse fill=\"none\" stroke=\"black\" cx=\"901.745\" cy=\"-105\" rx=\"57.6901\" ry=\"18\"/>\r\n",
       "<text text-anchor=\"middle\" x=\"901.745\" y=\"-101.3\" font-family=\"Times New Roman,serif\" font-size=\"14.00\">sub_grade_n</text>\r\n",
       "</g>\r\n",
       "<!-- sub_grade_n&#45;&gt;Outcome -->\r\n",
       "<g id=\"edge7\" class=\"edge\"><title>sub_grade_n&#45;&gt;Outcome</title>\r\n",
       "<path fill=\"none\" stroke=\"#ff0051\" stroke-width=\"0.05\" d=\"M860.531,-92.2853C852.061,-90.2336 843.16,-88.3326 834.745,-87 714.206,-67.9131 677.225,-105.416 560.745,-69 548.377,-65.1335 547.83,-58.6725 535.745,-54 496.159,-38.6959 448.833,-29.7489 413.383,-24.7375\"/>\r\n",
       "<polygon fill=\"#ff0051\" stroke=\"#ff0051\" stroke-width=\"0.05\" points=\"413.63,-21.2391 403.251,-23.3661 412.691,-28.1758 413.63,-21.2391\"/>\r\n",
       "<text text-anchor=\"middle\" x=\"573.245\" y=\"-57.8\" font-family=\"Times New Roman,serif\" font-size=\"14.00\" fill=\"#ff0051\">0.00</text>\r\n",
       "</g>\r\n",
       "<!-- installment_n -->\r\n",
       "<g id=\"node9\" class=\"node\"><title>installment_n</title>\r\n",
       "<ellipse fill=\"none\" stroke=\"black\" cx=\"1035.74\" cy=\"-105\" rx=\"57.6901\" ry=\"18\"/>\r\n",
       "<text text-anchor=\"middle\" x=\"1035.74\" y=\"-101.3\" font-family=\"Times New Roman,serif\" font-size=\"14.00\">installment_n</text>\r\n",
       "</g>\r\n",
       "<!-- installment_n&#45;&gt;Outcome -->\r\n",
       "<g id=\"edge8\" class=\"edge\"><title>installment_n&#45;&gt;Outcome</title>\r\n",
       "<path fill=\"none\" stroke=\"#ff0051\" stroke-width=\"5\" d=\"M994.547,-92.1858C986.075,-90.1419 977.17,-88.2691 968.745,-87 890.416,-75.2016 688.898,-90.8 612.745,-69 599.547,-65.222 598.728,-58.4575 585.745,-54 529.258,-34.6071 461.082,-25.914 414.686,-22.0458\"/>\r\n",
       "<polygon fill=\"#ff0051\" stroke=\"#ff0051\" stroke-width=\"5\" points=\"414.86,-17.671 404.548,-21.2484 414.174,-26.3941 414.86,-17.671\"/>\r\n",
       "<text text-anchor=\"middle\" x=\"625.245\" y=\"-57.8\" font-family=\"Times New Roman,serif\" font-size=\"14.00\" fill=\"#ff0051\">0.01</text>\r\n",
       "</g>\r\n",
       "<!-- all_util_n -->\r\n",
       "<g id=\"node10\" class=\"node\"><title>all_util_n</title>\r\n",
       "<ellipse fill=\"none\" stroke=\"black\" cx=\"1154.74\" cy=\"-105\" rx=\"43.5923\" ry=\"18\"/>\r\n",
       "<text text-anchor=\"middle\" x=\"1154.74\" y=\"-101.3\" font-family=\"Times New Roman,serif\" font-size=\"14.00\">all_util_n</text>\r\n",
       "</g>\r\n",
       "<!-- all_util_n&#45;&gt;Outcome -->\r\n",
       "<g id=\"edge9\" class=\"edge\"><title>all_util_n&#45;&gt;Outcome</title>\r\n",
       "<path fill=\"none\" stroke=\"#ff0051\" stroke-width=\"0.05\" d=\"M1123.76,-92.3347C1116.92,-90.197 1109.66,-88.2494 1102.74,-87 1007.75,-69.8412 762.365,-92.5122 668.745,-69 653.9,-65.2718 652.419,-58.35 637.745,-54 562.493,-31.6936 471.618,-23.6028 414.988,-20.6687\"/>\r\n",
       "<polygon fill=\"#ff0051\" stroke=\"#ff0051\" stroke-width=\"0.05\" points=\"414.981,-17.1644 404.824,-20.1786 414.644,-24.1563 414.981,-17.1644\"/>\r\n",
       "<text text-anchor=\"middle\" x=\"681.245\" y=\"-57.8\" font-family=\"Times New Roman,serif\" font-size=\"14.00\" fill=\"#ff0051\">0.00</text>\r\n",
       "</g>\r\n",
       "<!-- cover -->\r\n",
       "<g id=\"node11\" class=\"node\"><title>cover</title>\r\n",
       "<ellipse fill=\"none\" stroke=\"black\" cx=\"1247.74\" cy=\"-105\" rx=\"31.3957\" ry=\"18\"/>\r\n",
       "<text text-anchor=\"middle\" x=\"1247.74\" y=\"-101.3\" font-family=\"Times New Roman,serif\" font-size=\"14.00\">cover</text>\r\n",
       "</g>\r\n",
       "<!-- cover&#45;&gt;Outcome -->\r\n",
       "<g id=\"edge10\" class=\"edge\"><title>cover&#45;&gt;Outcome</title>\r\n",
       "<path fill=\"none\" stroke=\"#008bfb\" stroke-width=\"2.11616\" d=\"M1224.95,-92.6343C1219.45,-90.363 1213.49,-88.2835 1207.74,-87 1001.13,-40.8336 938.937,-112.486 731.745,-69 713.975,-65.2704 711.38,-58.322 693.745,-54 597.411,-30.3908 481.566,-22.7049 415.011,-20.2042\"/>\r\n",
       "<polygon fill=\"#008bfb\" stroke=\"#008bfb\" stroke-width=\"2.11616\" points=\"414.879,-16.6976 404.763,-19.8458 414.634,-23.6933 414.879,-16.6976\"/>\r\n",
       "<text text-anchor=\"middle\" x=\"746.245\" y=\"-57.8\" font-family=\"Times New Roman,serif\" font-size=\"14.00\" fill=\"#008bfb\">&#45;0.00</text>\r\n",
       "</g>\r\n",
       "<!-- tot_hi_cred_lim_n -->\r\n",
       "<g id=\"node12\" class=\"node\"><title>tot_hi_cred_lim_n</title>\r\n",
       "<ellipse fill=\"none\" stroke=\"black\" cx=\"1374.74\" cy=\"-105\" rx=\"77.1866\" ry=\"18\"/>\r\n",
       "<text text-anchor=\"middle\" x=\"1374.74\" y=\"-101.3\" font-family=\"Times New Roman,serif\" font-size=\"14.00\">tot_hi_cred_lim_n</text>\r\n",
       "</g>\r\n",
       "<!-- tot_hi_cred_lim_n&#45;&gt;Outcome -->\r\n",
       "<g id=\"edge11\" class=\"edge\"><title>tot_hi_cred_lim_n&#45;&gt;Outcome</title>\r\n",
       "<path fill=\"none\" stroke=\"#008bfb\" stroke-width=\"0.770071\" d=\"M1320.65,-92.0843C1309.8,-90.0752 1298.45,-88.2415 1287.74,-87 1078.77,-62.755 1022.61,-101.372 814.745,-69 790.132,-65.1671 785.255,-58.4376 760.745,-54 638.562,-31.8786 492.757,-23.5966 415.353,-20.6048\"/>\r\n",
       "<polygon fill=\"#008bfb\" stroke=\"#008bfb\" stroke-width=\"0.770071\" points=\"415.018,-17.0901 404.895,-20.2169 414.758,-24.0852 415.018,-17.0901\"/>\r\n",
       "<text text-anchor=\"middle\" x=\"829.245\" y=\"-57.8\" font-family=\"Times New Roman,serif\" font-size=\"14.00\" fill=\"#008bfb\">&#45;0.00</text>\r\n",
       "</g>\r\n",
       "<!-- term_36m -->\r\n",
       "<g id=\"node13\" class=\"node\"><title>term_36m</title>\r\n",
       "<ellipse fill=\"none\" stroke=\"black\" cx=\"1517.74\" cy=\"-105\" rx=\"47.3916\" ry=\"18\"/>\r\n",
       "<text text-anchor=\"middle\" x=\"1517.74\" y=\"-101.3\" font-family=\"Times New Roman,serif\" font-size=\"14.00\">term_36m</text>\r\n",
       "</g>\r\n",
       "<!-- term_36m&#45;&gt;Outcome -->\r\n",
       "<g id=\"edge12\" class=\"edge\"><title>term_36m&#45;&gt;Outcome</title>\r\n",
       "<path fill=\"none\" stroke=\"#ff0051\" stroke-width=\"0.05\" d=\"M1483.71,-92.3072C1476.23,-90.1712 1468.29,-88.2313 1460.74,-87 1227.26,-48.8802 1164.04,-93.6181 928.745,-69 890.591,-65.0082 881.814,-58.7258 843.745,-54 688.65,-34.7471 504.123,-25.0001 414.684,-21.1054\"/>\r\n",
       "<polygon fill=\"#ff0051\" stroke=\"#ff0051\" stroke-width=\"0.05\" points=\"414.656,-17.6011 404.515,-20.6701 414.356,-24.5947 414.656,-17.6011\"/>\r\n",
       "<text text-anchor=\"middle\" x=\"941.245\" y=\"-57.8\" font-family=\"Times New Roman,serif\" font-size=\"14.00\" fill=\"#ff0051\">0.00</text>\r\n",
       "</g>\r\n",
       "<!-- avg_cur_bal_n -->\r\n",
       "<g id=\"node14\" class=\"node\"><title>avg_cur_bal_n</title>\r\n",
       "<ellipse fill=\"none\" stroke=\"black\" cx=\"1647.74\" cy=\"-105\" rx=\"64.9885\" ry=\"18\"/>\r\n",
       "<text text-anchor=\"middle\" x=\"1647.74\" y=\"-101.3\" font-family=\"Times New Roman,serif\" font-size=\"14.00\">avg_cur_bal_n</text>\r\n",
       "</g>\r\n",
       "<!-- avg_cur_bal_n&#45;&gt;Outcome -->\r\n",
       "<g id=\"edge13\" class=\"edge\"><title>avg_cur_bal_n&#45;&gt;Outcome</title>\r\n",
       "<path fill=\"none\" stroke=\"#ff0051\" stroke-width=\"2.42305\" d=\"M1602.2,-92.1264C1592.85,-90.087 1583.02,-88.2311 1573.74,-87 1365.2,-59.327 1310.61,-83.6854 1100.74,-69 1035.23,-64.4157 1019.21,-59.2692 953.745,-54 755.472,-38.0402 519.352,-26.2617 414.963,-21.4235\"/>\r\n",
       "<polygon fill=\"#ff0051\" stroke=\"#ff0051\" stroke-width=\"2.42305\" points=\"414.831,-17.9138 404.681,-20.9497 414.509,-24.9064 414.831,-17.9138\"/>\r\n",
       "<text text-anchor=\"middle\" x=\"1113.24\" y=\"-57.8\" font-family=\"Times New Roman,serif\" font-size=\"14.00\" fill=\"#ff0051\">0.00</text>\r\n",
       "</g>\r\n",
       "<!-- dti_n -->\r\n",
       "<g id=\"node15\" class=\"node\"><title>dti_n</title>\r\n",
       "<ellipse fill=\"none\" stroke=\"black\" cx=\"1759.74\" cy=\"-105\" rx=\"29.4969\" ry=\"18\"/>\r\n",
       "<text text-anchor=\"middle\" x=\"1759.74\" y=\"-101.3\" font-family=\"Times New Roman,serif\" font-size=\"14.00\">dti_n</text>\r\n",
       "</g>\r\n",
       "<!-- dti_n&#45;&gt;Outcome -->\r\n",
       "<g id=\"edge14\" class=\"edge\"><title>dti_n&#45;&gt;Outcome</title>\r\n",
       "<path fill=\"none\" stroke=\"#ff0051\" stroke-width=\"4.67733\" d=\"M1738.12,-92.7004C1732.89,-90.4263 1727.22,-88.329 1721.74,-87 1721.74,-87 1125.74,-54 1125.74,-54 859.048,-40.516 539.93,-26.6456 414.82,-21.2956\"/>\r\n",
       "<polygon fill=\"#ff0051\" stroke=\"#ff0051\" stroke-width=\"4.67733\" points=\"414.9,-17.2027 404.734,-20.8647 414.55,-25.3805 414.9,-17.2027\"/>\r\n",
       "<text text-anchor=\"middle\" x=\"1401.24\" y=\"-57.8\" font-family=\"Times New Roman,serif\" font-size=\"14.00\" fill=\"#ff0051\">0.01</text>\r\n",
       "</g>\r\n",
       "<!-- annual_inc_n -->\r\n",
       "<g id=\"node16\" class=\"node\"><title>annual_inc_n</title>\r\n",
       "<ellipse fill=\"none\" stroke=\"black\" cx=\"1865.74\" cy=\"-105\" rx=\"58.4896\" ry=\"18\"/>\r\n",
       "<text text-anchor=\"middle\" x=\"1865.74\" y=\"-101.3\" font-family=\"Times New Roman,serif\" font-size=\"14.00\">annual_inc_n</text>\r\n",
       "</g>\r\n",
       "<!-- annual_inc_n&#45;&gt;Outcome -->\r\n",
       "<g id=\"edge15\" class=\"edge\"><title>annual_inc_n&#45;&gt;Outcome</title>\r\n",
       "<path fill=\"none\" stroke=\"#ff0051\" stroke-width=\"1.01125\" d=\"M1823.52,-92.3445C1815.04,-90.314 1806.15,-88.4059 1797.74,-87 1630.54,-59.0211 1586.97,-64.1421 1417.74,-54 1034.11,-31.0074 571.186,-22.2154 415.104,-19.7734\"/>\r\n",
       "<polygon fill=\"#ff0051\" stroke=\"#ff0051\" stroke-width=\"1.01125\" points=\"414.889,-16.2698 404.836,-19.6151 414.781,-23.2689 414.889,-16.2698\"/>\r\n",
       "<text text-anchor=\"middle\" x=\"1680.24\" y=\"-57.8\" font-family=\"Times New Roman,serif\" font-size=\"14.00\" fill=\"#ff0051\">0.00</text>\r\n",
       "</g>\r\n",
       "<!-- int_rate_n -->\r\n",
       "<g id=\"node17\" class=\"node\"><title>int_rate_n</title>\r\n",
       "<ellipse fill=\"none\" stroke=\"black\" cx=\"1988.74\" cy=\"-105\" rx=\"46.5926\" ry=\"18\"/>\r\n",
       "<text text-anchor=\"middle\" x=\"1988.74\" y=\"-101.3\" font-family=\"Times New Roman,serif\" font-size=\"14.00\">int_rate_n</text>\r\n",
       "</g>\r\n",
       "<!-- int_rate_n&#45;&gt;Outcome -->\r\n",
       "<g id=\"edge16\" class=\"edge\"><title>int_rate_n&#45;&gt;Outcome</title>\r\n",
       "<path fill=\"none\" stroke=\"#008bfb\" stroke-width=\"1.30504\" d=\"M1954.31,-92.629C1947.23,-90.5507 1939.79,-88.5519 1932.74,-87 1829.32,-64.2152 1802.29,-62.734 1696.74,-54 1441.51,-32.8796 632.979,-22.158 415.215,-19.6064\"/>\r\n",
       "<polygon fill=\"#008bfb\" stroke=\"#008bfb\" stroke-width=\"1.30504\" points=\"415.036,-16.1042 404.996,-19.4876 414.955,-23.1038 415.036,-16.1042\"/>\r\n",
       "<text text-anchor=\"middle\" x=\"1854.24\" y=\"-57.8\" font-family=\"Times New Roman,serif\" font-size=\"14.00\" fill=\"#008bfb\">&#45;0.00</text>\r\n",
       "</g>\r\n",
       "</g>\r\n",
       "</svg>\r\n"
      ],
      "text/plain": [
       "<graphviz.files.Source at 0x1ddc0dba430>"
      ]
     },
     "metadata": {},
     "output_type": "display_data"
    },
    {
     "data": {
      "text/plain": [
       "<AGraph <Swig Object of type 'Agraph_t *' at 0x000001DD8FCCF750>>"
      ]
     },
     "execution_count": 20,
     "metadata": {},
     "output_type": "execute_result"
    }
   ],
   "source": [
    "cf.draw(sample_ind, max_display=10, edge_credit=edge_credits2edge_credit(edge_credits, cf.graph), show_fg_val=False)"
   ]
  },
  {
   "cell_type": "markdown",
   "id": "50f6e64a",
   "metadata": {},
   "source": [
    "## On manifold SHAP"
   ]
  },
  {
   "cell_type": "code",
   "execution_count": 21,
   "id": "5728821a",
   "metadata": {},
   "outputs": [
    {
     "name": "stderr",
     "output_type": "stream",
     "text": [
      "manifold bg samples:   0%|                                                                    | 0/1000 [00:00<?, ?it/s]"
     ]
    },
    {
     "name": "stdout",
     "output_type": "stream",
     "text": [
      "bg 0/1\n"
     ]
    },
    {
     "name": "stderr",
     "output_type": "stream",
     "text": [
      "manifold bg samples:   0%|                                                                    | 0/1000 [00:30<?, ?it/s]\n"
     ]
    },
    {
     "ename": "KeyboardInterrupt",
     "evalue": "",
     "output_type": "error",
     "traceback": [
      "\u001b[1;31m---------------------------------------------------------------------------\u001b[0m",
      "\u001b[1;31mKeyboardInterrupt\u001b[0m                         Traceback (most recent call last)",
      "\u001b[1;32m<ipython-input-21-a528ccaea6c0>\u001b[0m in \u001b[0;36m<module>\u001b[1;34m\u001b[0m\n\u001b[0;32m      8\u001b[0m     \u001b[0mprint\u001b[0m\u001b[1;33m(\u001b[0m\u001b[1;34mf'bg {i}/{len(bg)}'\u001b[0m\u001b[1;33m)\u001b[0m\u001b[1;33m\u001b[0m\u001b[1;33m\u001b[0m\u001b[0m\n\u001b[0;32m      9\u001b[0m     \u001b[0mexplainer\u001b[0m \u001b[1;33m=\u001b[0m \u001b[0mOnManifoldExplainer\u001b[0m\u001b[1;33m(\u001b[0m\u001b[0mf\u001b[0m\u001b[1;33m,\u001b[0m \u001b[0mpd\u001b[0m\u001b[1;33m.\u001b[0m\u001b[0mconcat\u001b[0m\u001b[1;33m(\u001b[0m\u001b[1;33m[\u001b[0m\u001b[0mbg\u001b[0m\u001b[1;33m[\u001b[0m\u001b[0mi\u001b[0m\u001b[1;33m:\u001b[0m\u001b[0mi\u001b[0m\u001b[1;33m+\u001b[0m\u001b[1;36m1\u001b[0m\u001b[1;33m]\u001b[0m\u001b[1;33m,\u001b[0m \u001b[0mbg_on_manifold\u001b[0m\u001b[1;33m]\u001b[0m\u001b[1;33m)\u001b[0m\u001b[1;33m,\u001b[0m \u001b[0mnruns\u001b[0m\u001b[1;33m=\u001b[0m\u001b[0mnruns\u001b[0m\u001b[1;33m)\u001b[0m\u001b[1;33m\u001b[0m\u001b[1;33m\u001b[0m\u001b[0m\n\u001b[1;32m---> 10\u001b[1;33m     \u001b[0mcf_on_manifold\u001b[0m \u001b[1;33m=\u001b[0m \u001b[0mexplainer\u001b[0m\u001b[1;33m.\u001b[0m\u001b[0mshap_values\u001b[0m\u001b[1;33m(\u001b[0m\u001b[0mfg\u001b[0m\u001b[1;33m)\u001b[0m\u001b[1;33m\u001b[0m\u001b[1;33m\u001b[0m\u001b[0m\n\u001b[0m\u001b[0;32m     11\u001b[0m     \u001b[0mmanifold_edge_credits\u001b[0m\u001b[1;33m.\u001b[0m\u001b[0mappend\u001b[0m\u001b[1;33m(\u001b[0m\u001b[0mcf_on_manifold\u001b[0m\u001b[1;33m)\u001b[0m \u001b[1;31m# use node name is more portable vs. node\u001b[0m\u001b[1;33m\u001b[0m\u001b[1;33m\u001b[0m\u001b[0m\n",
      "\u001b[1;32m~\\shaply_flow\\on_manifold.py\u001b[0m in \u001b[0;36mshap_values\u001b[1;34m(self, X)\u001b[0m\n\u001b[0;32m    252\u001b[0m                 \u001b[1;32mfor\u001b[0m \u001b[0mi\u001b[0m \u001b[1;32min\u001b[0m \u001b[0morder\u001b[0m\u001b[1;33m:\u001b[0m\u001b[1;33m\u001b[0m\u001b[1;33m\u001b[0m\u001b[0m\n\u001b[0;32m    253\u001b[0m                     \u001b[0mC\u001b[0m\u001b[1;33m.\u001b[0m\u001b[0mappend\u001b[0m\u001b[1;33m(\u001b[0m\u001b[0mi\u001b[0m\u001b[1;33m)\u001b[0m\u001b[1;33m\u001b[0m\u001b[1;33m\u001b[0m\u001b[0m\n\u001b[1;32m--> 254\u001b[1;33m                     \u001b[0mv\u001b[0m \u001b[1;33m=\u001b[0m  \u001b[0mpayoff\u001b[0m\u001b[1;33m(\u001b[0m\u001b[0mC\u001b[0m\u001b[1;33m,\u001b[0m \u001b[0mx\u001b[0m\u001b[1;33m)\u001b[0m\u001b[1;33m\u001b[0m\u001b[1;33m\u001b[0m\u001b[0m\n\u001b[0m\u001b[0;32m    255\u001b[0m                     \u001b[0mself\u001b[0m\u001b[1;33m.\u001b[0m\u001b[0mvalues\u001b[0m\u001b[1;33m[\u001b[0m\u001b[0msample\u001b[0m\u001b[1;33m,\u001b[0m \u001b[0mi\u001b[0m\u001b[1;33m]\u001b[0m \u001b[1;33m+=\u001b[0m \u001b[0mv\u001b[0m \u001b[1;33m-\u001b[0m \u001b[0mv_last\u001b[0m\u001b[1;33m\u001b[0m\u001b[1;33m\u001b[0m\u001b[0m\n\u001b[0;32m    256\u001b[0m                     \u001b[0mv_last\u001b[0m \u001b[1;33m=\u001b[0m \u001b[0mv\u001b[0m\u001b[1;33m\u001b[0m\u001b[1;33m\u001b[0m\u001b[0m\n",
      "\u001b[1;32m~\\shaply_flow\\on_manifold.py\u001b[0m in \u001b[0;36mpayoff\u001b[1;34m(self, C, x)\u001b[0m\n\u001b[0;32m    198\u001b[0m         \u001b[1;32mfor\u001b[0m \u001b[0mc\u001b[0m \u001b[1;32min\u001b[0m \u001b[0mC\u001b[0m\u001b[1;33m:\u001b[0m\u001b[1;33m\u001b[0m\u001b[1;33m\u001b[0m\u001b[0m\n\u001b[0;32m    199\u001b[0m             \u001b[0mcurrent_x\u001b[0m\u001b[1;33m[\u001b[0m\u001b[1;33m:\u001b[0m\u001b[1;33m,\u001b[0m \u001b[0mc\u001b[0m\u001b[1;33m]\u001b[0m \u001b[1;33m=\u001b[0m \u001b[0mx\u001b[0m\u001b[1;33m[\u001b[0m\u001b[0mc\u001b[0m\u001b[1;33m]\u001b[0m\u001b[1;33m\u001b[0m\u001b[1;33m\u001b[0m\u001b[0m\n\u001b[1;32m--> 200\u001b[1;33m         \u001b[0mo\u001b[0m \u001b[1;33m=\u001b[0m \u001b[0mself\u001b[0m\u001b[1;33m.\u001b[0m\u001b[0mf\u001b[0m\u001b[1;33m(\u001b[0m\u001b[0mcurrent_x\u001b[0m\u001b[1;33m)\u001b[0m \u001b[1;31m# (n_bg,)\u001b[0m\u001b[1;33m\u001b[0m\u001b[1;33m\u001b[0m\u001b[0m\n\u001b[0m\u001b[0;32m    201\u001b[0m \u001b[1;33m\u001b[0m\u001b[0m\n\u001b[0;32m    202\u001b[0m         \u001b[1;31m# print(f'example {i}: coalition {C}')\u001b[0m\u001b[1;33m\u001b[0m\u001b[1;33m\u001b[0m\u001b[1;33m\u001b[0m\u001b[0m\n",
      "\u001b[1;32m<ipython-input-21-a528ccaea6c0>\u001b[0m in \u001b[0;36m<lambda>\u001b[1;34m(x)\u001b[0m\n\u001b[0;32m      1\u001b[0m \u001b[0mfeature_names\u001b[0m \u001b[1;33m=\u001b[0m \u001b[0mX\u001b[0m\u001b[1;33m.\u001b[0m\u001b[0mcolumns\u001b[0m\u001b[1;33m\u001b[0m\u001b[1;33m\u001b[0m\u001b[0m\n\u001b[1;32m----> 2\u001b[1;33m \u001b[0mf\u001b[0m \u001b[1;33m=\u001b[0m \u001b[1;32mlambda\u001b[0m \u001b[0mx\u001b[0m\u001b[1;33m:\u001b[0m \u001b[0mmodel\u001b[0m\u001b[1;33m.\u001b[0m\u001b[0mpredict\u001b[0m\u001b[1;33m(\u001b[0m\u001b[0mxgboost\u001b[0m\u001b[1;33m.\u001b[0m\u001b[0mDMatrix\u001b[0m\u001b[1;33m(\u001b[0m\u001b[0mpd\u001b[0m\u001b[1;33m.\u001b[0m\u001b[0mDataFrame\u001b[0m\u001b[1;33m(\u001b[0m\u001b[0mx\u001b[0m\u001b[1;33m,\u001b[0m \u001b[0mcolumns\u001b[0m\u001b[1;33m=\u001b[0m\u001b[0mfeature_names\u001b[0m\u001b[1;33m)\u001b[0m\u001b[1;33m)\u001b[0m\u001b[1;33m)\u001b[0m \u001b[1;31m# wrapper for the model used by on manifold explainer\u001b[0m\u001b[1;33m\u001b[0m\u001b[1;33m\u001b[0m\u001b[0m\n\u001b[0m\u001b[0;32m      3\u001b[0m \u001b[1;33m\u001b[0m\u001b[0m\n\u001b[0;32m      4\u001b[0m \u001b[1;31m# multiple background result\u001b[0m\u001b[1;33m\u001b[0m\u001b[1;33m\u001b[0m\u001b[1;33m\u001b[0m\u001b[0m\n\u001b[0;32m      5\u001b[0m \u001b[0mmanifold_edge_credits\u001b[0m \u001b[1;33m=\u001b[0m \u001b[1;33m[\u001b[0m\u001b[1;33m]\u001b[0m \u001b[1;31m# save for each run\u001b[0m\u001b[1;33m\u001b[0m\u001b[1;33m\u001b[0m\u001b[0m\n",
      "\u001b[1;32m~\\anaconda3\\lib\\site-packages\\xgboost\\core.py\u001b[0m in \u001b[0;36mpredict\u001b[1;34m(self, data, output_margin, ntree_limit, pred_leaf, pred_contribs, approx_contribs, pred_interactions, validate_features, training)\u001b[0m\n\u001b[0;32m   1487\u001b[0m         \u001b[0mlength\u001b[0m \u001b[1;33m=\u001b[0m \u001b[0mc_bst_ulong\u001b[0m\u001b[1;33m(\u001b[0m\u001b[1;33m)\u001b[0m\u001b[1;33m\u001b[0m\u001b[1;33m\u001b[0m\u001b[0m\n\u001b[0;32m   1488\u001b[0m         \u001b[0mpreds\u001b[0m \u001b[1;33m=\u001b[0m \u001b[0mctypes\u001b[0m\u001b[1;33m.\u001b[0m\u001b[0mPOINTER\u001b[0m\u001b[1;33m(\u001b[0m\u001b[0mctypes\u001b[0m\u001b[1;33m.\u001b[0m\u001b[0mc_float\u001b[0m\u001b[1;33m)\u001b[0m\u001b[1;33m(\u001b[0m\u001b[1;33m)\u001b[0m\u001b[1;33m\u001b[0m\u001b[1;33m\u001b[0m\u001b[0m\n\u001b[1;32m-> 1489\u001b[1;33m         _check_call(_LIB.XGBoosterPredict(self.handle, data.handle,\n\u001b[0m\u001b[0;32m   1490\u001b[0m                                           \u001b[0mctypes\u001b[0m\u001b[1;33m.\u001b[0m\u001b[0mc_int\u001b[0m\u001b[1;33m(\u001b[0m\u001b[0moption_mask\u001b[0m\u001b[1;33m)\u001b[0m\u001b[1;33m,\u001b[0m\u001b[1;33m\u001b[0m\u001b[1;33m\u001b[0m\u001b[0m\n\u001b[0;32m   1491\u001b[0m                                           \u001b[0mctypes\u001b[0m\u001b[1;33m.\u001b[0m\u001b[0mc_uint\u001b[0m\u001b[1;33m(\u001b[0m\u001b[0mntree_limit\u001b[0m\u001b[1;33m)\u001b[0m\u001b[1;33m,\u001b[0m\u001b[1;33m\u001b[0m\u001b[1;33m\u001b[0m\u001b[0m\n",
      "\u001b[1;31mKeyboardInterrupt\u001b[0m: "
     ]
    }
   ],
   "source": [
    "feature_names = X.columns\n",
    "f = lambda x: model.predict(xgboost.DMatrix(pd.DataFrame(x, columns=feature_names))) # wrapper for the model used by on manifold explainer\n",
    "\n",
    "# multiple background result\n",
    "manifold_edge_credits = [] # save for each run\n",
    "bg_on_manifold = X.fillna(X.mean()).sample(1000) # used to learn conditional dependence\n",
    "for i in range(len(bg)): # average run result using linearity axiom \n",
    "    print(f'bg {i}/{len(bg)}')\n",
    "    explainer = OnManifoldExplainer(f, pd.concat([bg[i:i+1], bg_on_manifold]), nruns=nruns)\n",
    "    cf_on_manifold = explainer.shap_values(fg)\n",
    "    manifold_edge_credits.append(cf_on_manifold) # use node name is more portable vs. node"
   ]
  },
  {
   "cell_type": "code",
   "execution_count": 16,
   "id": "bbdec920",
   "metadata": {},
   "outputs": [
    {
     "name": "stdout",
     "output_type": "stream",
     "text": [
      "On manifold\n"
     ]
    },
    {
     "data": {
      "image/png": "[encoded data removed]",
      "text/plain": [
       "<Figure size 432x288 with 1 Axes>"
      ]
     },
     "metadata": {
      "needs_background": "light"
     },
     "output_type": "display_data"
    }
   ],
   "source": [
    "print('On manifold')\n",
    "sum(manifold_edge_credits).draw(sample_ind, show=False, max_display=10)\n",
    "plt.tight_layout()\n",
    "plt.show()"
   ]
  },
  {
   "cell_type": "markdown",
   "id": "36dbd96f",
   "metadata": {},
   "source": [
    "## Shapley Flow"
   ]
  },
  {
   "cell_type": "code",
   "execution_count": 1,
   "id": "6354739b",
   "metadata": {},
   "outputs": [
    {
     "ename": "NameError",
     "evalue": "name 'CausalLinks' is not defined",
     "output_type": "error",
     "traceback": [
      "\u001b[1;31m---------------------------------------------------------------------------\u001b[0m",
      "\u001b[1;31mNameError\u001b[0m                                 Traceback (most recent call last)",
      "\u001b[1;32m<ipython-input-1-3ed946a20497>\u001b[0m in \u001b[0;36m<module>\u001b[1;34m\u001b[0m\n\u001b[0;32m      1\u001b[0m \u001b[1;31m## Simple causal graph\u001b[0m\u001b[1;33m\u001b[0m\u001b[1;33m\u001b[0m\u001b[1;33m\u001b[0m\u001b[0m\n\u001b[1;32m----> 2\u001b[1;33m \u001b[0mcausal_links\u001b[0m \u001b[1;33m=\u001b[0m \u001b[0mCausalLinks\u001b[0m\u001b[1;33m(\u001b[0m\u001b[1;33m)\u001b[0m\u001b[1;33m\u001b[0m\u001b[1;33m\u001b[0m\u001b[0m\n\u001b[0m\u001b[0;32m      3\u001b[0m \u001b[0mcategorical_feature_names\u001b[0m \u001b[1;33m=\u001b[0m \u001b[1;33m[\u001b[0m\u001b[1;33m]\u001b[0m \u001b[1;31m# a linear model doesn't handle categorical features\u001b[0m\u001b[1;33m\u001b[0m\u001b[1;33m\u001b[0m\u001b[0m\n\u001b[0;32m      4\u001b[0m \u001b[0mdisplay_translator\u001b[0m \u001b[1;33m=\u001b[0m \u001b[0mtranslator\u001b[0m\u001b[1;33m(\u001b[0m\u001b[0mX\u001b[0m\u001b[1;33m.\u001b[0m\u001b[0mcolumns\u001b[0m\u001b[1;33m,\u001b[0m \u001b[0mX\u001b[0m\u001b[1;33m,\u001b[0m \u001b[0mX_display\u001b[0m\u001b[1;33m)\u001b[0m\u001b[1;33m\u001b[0m\u001b[1;33m\u001b[0m\u001b[0m\n\u001b[0;32m      5\u001b[0m \u001b[0mtarget_name\u001b[0m \u001b[1;33m=\u001b[0m \u001b[1;34m'Outcome'\u001b[0m \u001b[1;31m# 'predicted hazard'\u001b[0m\u001b[1;33m\u001b[0m\u001b[1;33m\u001b[0m\u001b[0m\n",
      "\u001b[1;31mNameError\u001b[0m: name 'CausalLinks' is not defined"
     ]
    }
   ],
   "source": [
    "## Simple causal graph\n",
    "causal_links = CausalLinks()\n",
    "categorical_feature_names = [] # a linear model doesn't handle categorical features\n",
    "display_translator = translator(X.columns, X, X_display)\n",
    "target_name = 'Outcome' # 'predicted hazard'\n",
    "feature_names = list(X.columns)\n",
    "f = lambda x: x.dot(model.coef_.reshape(-1, 1)).ravel() + model.intercept_ # logit is linear log(p / 1-p)\n",
    "\n",
    "# build causal links\n",
    "causal_links.add_causes_effects(feature_names, target_name, create_linear_f(feature_names, f))\n",
    "A = ['annual_inc_n', 'emp_length_n','acc_open_past_24mths_n','all_util_n','avg_cur_bal_n']\n",
    "D = list(set(feature_names) - set(A))\n",
    "causal_links.add_causes_effects(A, D)\n",
    "\n",
    "causal_graph = build_feature_graph(X.fillna(X.mean()), causal_links, categorical_feature_names, display_translator, target_name, method='linear')\n",
    "\n",
    "causal_graph.draw()"
   ]
  },
  {
   "cell_type": "code",
   "execution_count": 11,
   "id": "ec7c10a5",
   "metadata": {},
   "outputs": [
    {
     "name": "stderr",
     "output_type": "stream",
     "text": [
      "learning dependency for Occupation: 100%|███████████████████████████████████████████████| 8/8 [00:00<00:00, 123.28it/s]\n"
     ]
    },
    {
     "data": {
      "image/svg+xml": [
       "<?xml version=\"1.0\" encoding=\"UTF-8\" standalone=\"no\"?>\r\n",
       "<!DOCTYPE svg PUBLIC \"-//W3C//DTD SVG 1.1//EN\"\r\n",
       " \"http://www.w3.org/Graphics/SVG/1.1/DTD/svg11.dtd\">\r\n",
       "<!-- Generated by graphviz version 2.38.0 (20140413.2041)\r\n",
       " -->\r\n",
       "<!-- Pages: 1 -->\r\n",
       "<svg width=\"1134pt\" height=\"188pt\"\r\n",
       " viewBox=\"0.00 0.00 1134.03 188.00\" xmlns=\"http://www.w3.org/2000/svg\" xmlns:xlink=\"http://www.w3.org/1999/xlink\">\r\n",
       "<g id=\"graph0\" class=\"graph\" transform=\"scale(1 1) rotate(0) translate(4 184)\">\r\n",
       "<polygon fill=\"white\" stroke=\"none\" points=\"-4,4 -4,-184 1130.03,-184 1130.03,4 -4,4\"/>\r\n",
       "<!-- Occupation -->\r\n",
       "<g id=\"node1\" class=\"node\"><title>Occupation</title>\r\n",
       "<ellipse fill=\"none\" stroke=\"black\" cx=\"908.042\" cy=\"-90\" rx=\"53.0913\" ry=\"18\"/>\r\n",
       "<text text-anchor=\"middle\" x=\"908.042\" y=\"-86.3\" font-family=\"Times New Roman,serif\" font-size=\"14.00\">Occupation</text>\r\n",
       "</g>\r\n",
       "<!-- predicted income &gt;50k -->\r\n",
       "<g id=\"node2\" class=\"node\"><title>predicted income &gt;50k</title>\r\n",
       "<ellipse fill=\"none\" stroke=\"black\" cx=\"587.042\" cy=\"-162\" rx=\"94.7833\" ry=\"18\"/>\r\n",
       "<text text-anchor=\"middle\" x=\"587.042\" y=\"-158.3\" font-family=\"Times New Roman,serif\" font-size=\"14.00\">predicted income &gt;50k</text>\r\n",
       "</g>\r\n",
       "<!-- Occupation&#45;&gt;predicted income &gt;50k -->\r\n",
       "<g id=\"edge1\" class=\"edge\"><title>Occupation&#45;&gt;predicted income &gt;50k</title>\r\n",
       "<path fill=\"none\" stroke=\"black\" d=\"M868.784,-102.183C861.258,-104.208 853.424,-106.235 846.042,-108 784.525,-122.711 714.183,-136.943 662.345,-146.948\"/>\r\n",
       "<polygon fill=\"black\" stroke=\"black\" points=\"661.392,-143.567 652.232,-148.891 662.713,-150.441 661.392,-143.567\"/>\r\n",
       "</g>\r\n",
       "<!-- Age -->\r\n",
       "<g id=\"node3\" class=\"node\"><title>Age</title>\r\n",
       "<ellipse fill=\"none\" stroke=\"black\" cx=\"460.042\" cy=\"-18\" rx=\"27\" ry=\"18\"/>\r\n",
       "<text text-anchor=\"middle\" x=\"460.042\" y=\"-14.3\" font-family=\"Times New Roman,serif\" font-size=\"14.00\">Age</text>\r\n",
       "</g>\r\n",
       "<!-- Age&#45;&gt;Occupation -->\r\n",
       "<g id=\"edge2\" class=\"edge\"><title>Age&#45;&gt;Occupation</title>\r\n",
       "<path fill=\"none\" stroke=\"black\" d=\"M480.52,-30.1276C485.478,-32.4088 490.849,-34.5524 496.042,-36 646.676,-77.9874 692.336,-43.2264 846.042,-72 850.482,-72.8311 855.067,-73.8243 859.641,-74.9075\"/>\r\n",
       "<polygon fill=\"black\" stroke=\"black\" points=\"859.025,-78.3611 869.576,-77.3947 860.725,-71.5707 859.025,-78.3611\"/>\r\n",
       "</g>\r\n",
       "<!-- Age&#45;&gt;predicted income &gt;50k -->\r\n",
       "<g id=\"edge3\" class=\"edge\"><title>Age&#45;&gt;predicted income &gt;50k</title>\r\n",
       "<path fill=\"none\" stroke=\"black\" d=\"M433.11,-20.114C340.09,-24.2338 36.4655,-40.0489 8.04205,-72 -2.59248,-83.9544 -2.74368,-96.1819 8.04205,-108 39.357,-142.312 325.019,-154.683 483.047,-158.926\"/>\r\n",
       "<polygon fill=\"black\" stroke=\"black\" points=\"483.179,-162.43 493.268,-159.193 483.363,-155.433 483.179,-162.43\"/>\r\n",
       "</g>\r\n",
       "<!-- Capital Gain -->\r\n",
       "<g id=\"node4\" class=\"node\"><title>Capital Gain</title>\r\n",
       "<ellipse fill=\"none\" stroke=\"black\" cx=\"1035.04\" cy=\"-90\" rx=\"55.7903\" ry=\"18\"/>\r\n",
       "<text text-anchor=\"middle\" x=\"1035.04\" y=\"-86.3\" font-family=\"Times New Roman,serif\" font-size=\"14.00\">Capital Gain</text>\r\n",
       "</g>\r\n",
       "<!-- Age&#45;&gt;Capital Gain -->\r\n",
       "<g id=\"edge4\" class=\"edge\"><title>Age&#45;&gt;Capital Gain</title>\r\n",
       "<path fill=\"none\" stroke=\"black\" d=\"M480.112,-30.0529C485.176,-32.3963 490.696,-34.5865 496.042,-36 700.296,-90.0063 761.666,-37.1298 970.042,-72 975.019,-72.8329 980.171,-73.8699 985.296,-75.0181\"/>\r\n",
       "<polygon fill=\"black\" stroke=\"black\" points=\"984.527,-78.4328 995.065,-77.339 986.145,-71.6223 984.527,-78.4328\"/>\r\n",
       "</g>\r\n",
       "<!-- Hours per week -->\r\n",
       "<g id=\"node5\" class=\"node\"><title>Hours per week</title>\r\n",
       "<ellipse fill=\"none\" stroke=\"black\" cx=\"97.042\" cy=\"-90\" rx=\"68.4888\" ry=\"18\"/>\r\n",
       "<text text-anchor=\"middle\" x=\"97.042\" y=\"-86.3\" font-family=\"Times New Roman,serif\" font-size=\"14.00\">Hours per week</text>\r\n",
       "</g>\r\n",
       "<!-- Age&#45;&gt;Hours per week -->\r\n",
       "<g id=\"edge5\" class=\"edge\"><title>Age&#45;&gt;Hours per week</title>\r\n",
       "<path fill=\"none\" stroke=\"black\" d=\"M434.055,-23.5569C383.89,-32.4145 270.253,-52.7763 175.042,-72 169.298,-73.1598 163.324,-74.4002 157.352,-75.6629\"/>\r\n",
       "<polygon fill=\"black\" stroke=\"black\" points=\"156.394,-72.2885 147.345,-77.7989 157.855,-79.1342 156.394,-72.2885\"/>\r\n",
       "</g>\r\n",
       "<!-- Marital Status -->\r\n",
       "<g id=\"node6\" class=\"node\"><title>Marital Status</title>\r\n",
       "<ellipse fill=\"none\" stroke=\"black\" cx=\"244.042\" cy=\"-90\" rx=\"60.3893\" ry=\"18\"/>\r\n",
       "<text text-anchor=\"middle\" x=\"244.042\" y=\"-86.3\" font-family=\"Times New Roman,serif\" font-size=\"14.00\">Marital Status</text>\r\n",
       "</g>\r\n",
       "<!-- Age&#45;&gt;Marital Status -->\r\n",
       "<g id=\"edge6\" class=\"edge\"><title>Age&#45;&gt;Marital Status</title>\r\n",
       "<path fill=\"none\" stroke=\"black\" d=\"M436.101,-26.7587C401.79,-37.8781 337.855,-58.5976 293.216,-73.064\"/>\r\n",
       "<polygon fill=\"black\" stroke=\"black\" points=\"291.874,-69.8197 283.44,-76.2322 294.032,-76.4787 291.874,-69.8197\"/>\r\n",
       "</g>\r\n",
       "<!-- Relationship -->\r\n",
       "<g id=\"node7\" class=\"node\"><title>Relationship</title>\r\n",
       "<ellipse fill=\"none\" stroke=\"black\" cx=\"378.042\" cy=\"-90\" rx=\"55.7903\" ry=\"18\"/>\r\n",
       "<text text-anchor=\"middle\" x=\"378.042\" y=\"-86.3\" font-family=\"Times New Roman,serif\" font-size=\"14.00\">Relationship</text>\r\n",
       "</g>\r\n",
       "<!-- Age&#45;&gt;Relationship -->\r\n",
       "<g id=\"edge7\" class=\"edge\"><title>Age&#45;&gt;Relationship</title>\r\n",
       "<path fill=\"none\" stroke=\"black\" d=\"M443.841,-32.8297C432.632,-42.3985 417.462,-55.3489 404.512,-66.4033\"/>\r\n",
       "<polygon fill=\"black\" stroke=\"black\" points=\"402.125,-63.8394 396.792,-72.9941 406.67,-69.1634 402.125,-63.8394\"/>\r\n",
       "</g>\r\n",
       "<!-- Education&#45;Num -->\r\n",
       "<g id=\"node8\" class=\"node\"><title>Education&#45;Num</title>\r\n",
       "<ellipse fill=\"none\" stroke=\"black\" cx=\"519.042\" cy=\"-90\" rx=\"67.6881\" ry=\"18\"/>\r\n",
       "<text text-anchor=\"middle\" x=\"519.042\" y=\"-86.3\" font-family=\"Times New Roman,serif\" font-size=\"14.00\">Education&#45;Num</text>\r\n",
       "</g>\r\n",
       "<!-- Age&#45;&gt;Education&#45;Num -->\r\n",
       "<g id=\"edge8\" class=\"edge\"><title>Age&#45;&gt;Education&#45;Num</title>\r\n",
       "<path fill=\"none\" stroke=\"black\" d=\"M472.844,-34.189C480.332,-43.0729 489.96,-54.4959 498.487,-64.6125\"/>\r\n",
       "<polygon fill=\"black\" stroke=\"black\" points=\"495.906,-66.9815 505.027,-72.3722 501.259,-62.4702 495.906,-66.9815\"/>\r\n",
       "</g>\r\n",
       "<!-- Workclass -->\r\n",
       "<g id=\"node9\" class=\"node\"><title>Workclass</title>\r\n",
       "<ellipse fill=\"none\" stroke=\"black\" cx=\"655.042\" cy=\"-90\" rx=\"50.0912\" ry=\"18\"/>\r\n",
       "<text text-anchor=\"middle\" x=\"655.042\" y=\"-86.3\" font-family=\"Times New Roman,serif\" font-size=\"14.00\">Workclass</text>\r\n",
       "</g>\r\n",
       "<!-- Age&#45;&gt;Workclass -->\r\n",
       "<g id=\"edge9\" class=\"edge\"><title>Age&#45;&gt;Workclass</title>\r\n",
       "<path fill=\"none\" stroke=\"black\" d=\"M481.176,-29.4943C486.013,-31.7517 491.167,-34.0444 496.042,-36 532.96,-50.8084 575.79,-64.9148 607.69,-74.8462\"/>\r\n",
       "<polygon fill=\"black\" stroke=\"black\" points=\"607.054,-78.3129 617.642,-77.9196 609.12,-71.6246 607.054,-78.3129\"/>\r\n",
       "</g>\r\n",
       "<!-- Capital Loss -->\r\n",
       "<g id=\"node10\" class=\"node\"><title>Capital Loss</title>\r\n",
       "<ellipse fill=\"none\" stroke=\"black\" cx=\"780.042\" cy=\"-90\" rx=\"56.59\" ry=\"18\"/>\r\n",
       "<text text-anchor=\"middle\" x=\"780.042\" y=\"-86.3\" font-family=\"Times New Roman,serif\" font-size=\"14.00\">Capital Loss</text>\r\n",
       "</g>\r\n",
       "<!-- Age&#45;&gt;Capital Loss -->\r\n",
       "<g id=\"edge10\" class=\"edge\"><title>Age&#45;&gt;Capital Loss</title>\r\n",
       "<path fill=\"none\" stroke=\"black\" d=\"M480.588,-29.8983C485.543,-32.1889 490.895,-34.3943 496.042,-36 589.787,-65.2474 617.955,-51.7328 714.042,-72 718.785,-73.0005 723.701,-74.1161 728.612,-75.2844\"/>\r\n",
       "<polygon fill=\"black\" stroke=\"black\" points=\"728.084,-78.7585 738.629,-77.7365 729.748,-71.9592 728.084,-78.7585\"/>\r\n",
       "</g>\r\n",
       "<!-- Capital Gain&#45;&gt;predicted income &gt;50k -->\r\n",
       "<g id=\"edge11\" class=\"edge\"><title>Capital Gain&#45;&gt;predicted income &gt;50k</title>\r\n",
       "<path fill=\"none\" stroke=\"black\" d=\"M994.298,-102.443C986.296,-104.468 977.935,-106.427 970.042,-108 871.126,-127.707 756.385,-142.539 678.471,-151.429\"/>\r\n",
       "<polygon fill=\"black\" stroke=\"black\" points=\"677.747,-147.989 668.204,-152.591 678.534,-154.944 677.747,-147.989\"/>\r\n",
       "</g>\r\n",
       "<!-- Hours per week&#45;&gt;predicted income &gt;50k -->\r\n",
       "<g id=\"edge12\" class=\"edge\"><title>Hours per week&#45;&gt;predicted income &gt;50k</title>\r\n",
       "<path fill=\"none\" stroke=\"black\" d=\"M146.43,-102.44C155.899,-104.441 165.755,-106.394 175.042,-108 284.812,-126.986 412.118,-142.356 495.83,-151.562\"/>\r\n",
       "<polygon fill=\"black\" stroke=\"black\" points=\"495.498,-155.047 505.819,-152.654 496.259,-148.088 495.498,-155.047\"/>\r\n",
       "</g>\r\n",
       "<!-- Marital Status&#45;&gt;predicted income &gt;50k -->\r\n",
       "<g id=\"edge13\" class=\"edge\"><title>Marital Status&#45;&gt;predicted income &gt;50k</title>\r\n",
       "<path fill=\"none\" stroke=\"black\" d=\"M288.506,-102.305C296.651,-104.276 305.089,-106.252 313.042,-108 379.42,-122.587 455.319,-137.101 510.377,-147.242\"/>\r\n",
       "<polygon fill=\"black\" stroke=\"black\" points=\"509.94,-150.72 520.408,-149.084 511.205,-143.835 509.94,-150.72\"/>\r\n",
       "</g>\r\n",
       "<!-- Relationship&#45;&gt;predicted income &gt;50k -->\r\n",
       "<g id=\"edge14\" class=\"edge\"><title>Relationship&#45;&gt;predicted income &gt;50k</title>\r\n",
       "<path fill=\"none\" stroke=\"black\" d=\"M415.407,-103.515C448.065,-114.453 495.893,-130.472 532.771,-142.823\"/>\r\n",
       "<polygon fill=\"black\" stroke=\"black\" points=\"531.783,-146.183 542.377,-146.04 534.006,-139.546 531.783,-146.183\"/>\r\n",
       "</g>\r\n",
       "<!-- Education&#45;Num&#45;&gt;predicted income &gt;50k -->\r\n",
       "<g id=\"edge15\" class=\"edge\"><title>Education&#45;Num&#45;&gt;predicted income &gt;50k</title>\r\n",
       "<path fill=\"none\" stroke=\"black\" d=\"M535.157,-107.589C543.586,-116.266 554.066,-127.054 563.396,-136.658\"/>\r\n",
       "<polygon fill=\"black\" stroke=\"black\" points=\"561.092,-139.31 570.57,-144.044 566.113,-134.432 561.092,-139.31\"/>\r\n",
       "</g>\r\n",
       "<!-- Workclass&#45;&gt;predicted income &gt;50k -->\r\n",
       "<g id=\"edge16\" class=\"edge\"><title>Workclass&#45;&gt;predicted income &gt;50k</title>\r\n",
       "<path fill=\"none\" stroke=\"black\" d=\"M639.271,-107.235C630.85,-115.904 620.311,-126.752 610.91,-136.43\"/>\r\n",
       "<polygon fill=\"black\" stroke=\"black\" points=\"608.134,-134.264 603.677,-143.876 613.155,-139.142 608.134,-134.264\"/>\r\n",
       "</g>\r\n",
       "<!-- Capital Loss&#45;&gt;predicted income &gt;50k -->\r\n",
       "<g id=\"edge17\" class=\"edge\"><title>Capital Loss&#45;&gt;predicted income &gt;50k</title>\r\n",
       "<path fill=\"none\" stroke=\"black\" d=\"M744.193,-104.002C714.526,-114.762 672,-130.186 638.665,-142.277\"/>\r\n",
       "<polygon fill=\"black\" stroke=\"black\" points=\"637.29,-139.052 629.083,-145.752 639.677,-145.633 637.29,-139.052\"/>\r\n",
       "</g>\r\n",
       "<!-- Sex -->\r\n",
       "<g id=\"node11\" class=\"node\"><title>Sex</title>\r\n",
       "<ellipse fill=\"none\" stroke=\"black\" cx=\"532.042\" cy=\"-18\" rx=\"27\" ry=\"18\"/>\r\n",
       "<text text-anchor=\"middle\" x=\"532.042\" y=\"-14.3\" font-family=\"Times New Roman,serif\" font-size=\"14.00\">Sex</text>\r\n",
       "</g>\r\n",
       "<!-- Sex&#45;&gt;Occupation -->\r\n",
       "<g id=\"edge18\" class=\"edge\"><title>Sex&#45;&gt;Occupation</title>\r\n",
       "<path fill=\"none\" stroke=\"black\" d=\"M555.911,-26.4306C567.102,-29.713 580.668,-33.4069 593.042,-36 704.205,-59.2949 734.831,-48.9373 846.042,-72 850.402,-72.9041 854.908,-73.9392 859.409,-75.0425\"/>\r\n",
       "<polygon fill=\"black\" stroke=\"black\" points=\"858.642,-78.4588 869.197,-77.5425 860.375,-71.6766 858.642,-78.4588\"/>\r\n",
       "</g>\r\n",
       "<!-- Sex&#45;&gt;predicted income &gt;50k -->\r\n",
       "<g id=\"edge19\" class=\"edge\"><title>Sex&#45;&gt;predicted income &gt;50k</title>\r\n",
       "<path fill=\"none\" stroke=\"black\" d=\"M511.972,-30.0541C506.908,-32.3975 501.388,-34.5874 496.042,-36 444.762,-49.5501 56.105,-33.1066 20.042,-72 9.16331,-83.7326 9.26767,-96.1715 20.042,-108 50.559,-141.503 328.208,-154.202 483.339,-158.712\"/>\r\n",
       "<polygon fill=\"black\" stroke=\"black\" points=\"483.281,-162.212 493.377,-158.997 483.48,-155.214 483.281,-162.212\"/>\r\n",
       "</g>\r\n",
       "<!-- Sex&#45;&gt;Capital Gain -->\r\n",
       "<g id=\"edge20\" class=\"edge\"><title>Sex&#45;&gt;Capital Gain</title>\r\n",
       "<path fill=\"none\" stroke=\"black\" d=\"M555.86,-26.691C567.039,-30.0282 580.611,-33.6931 593.042,-36 758.534,-66.7128 804.31,-42.6108 970.042,-72 974.816,-72.8465 979.752,-73.8662 984.674,-74.9806\"/>\r\n",
       "<polygon fill=\"black\" stroke=\"black\" points=\"984.156,-78.4555 994.696,-77.3758 985.784,-71.6472 984.156,-78.4555\"/>\r\n",
       "</g>\r\n",
       "<!-- Sex&#45;&gt;Hours per week -->\r\n",
       "<g id=\"edge21\" class=\"edge\"><title>Sex&#45;&gt;Hours per week</title>\r\n",
       "<path fill=\"none\" stroke=\"black\" d=\"M511.554,-30.0931C506.597,-32.3757 501.229,-34.5286 496.042,-36 357.931,-75.1813 316.697,-48.6835 175.042,-72 168.939,-73.0045 162.594,-74.1754 156.276,-75.4241\"/>\r\n",
       "<polygon fill=\"black\" stroke=\"black\" points=\"155.508,-72.0087 146.41,-77.4377 156.908,-78.8673 155.508,-72.0087\"/>\r\n",
       "</g>\r\n",
       "<!-- Sex&#45;&gt;Marital Status -->\r\n",
       "<g id=\"edge22\" class=\"edge\"><title>Sex&#45;&gt;Marital Status</title>\r\n",
       "<path fill=\"none\" stroke=\"black\" d=\"M511.46,-29.7845C506.506,-32.0798 501.163,-34.3158 496.042,-36 417.298,-61.8949 393.974,-54.0801 313.042,-72 308.322,-73.0452 303.43,-74.1687 298.529,-75.3222\"/>\r\n",
       "<polygon fill=\"black\" stroke=\"black\" points=\"297.423,-71.9878 288.51,-77.7162 299.05,-78.7962 297.423,-71.9878\"/>\r\n",
       "</g>\r\n",
       "<!-- Sex&#45;&gt;Relationship -->\r\n",
       "<g id=\"edge23\" class=\"edge\"><title>Sex&#45;&gt;Relationship</title>\r\n",
       "<path fill=\"none\" stroke=\"black\" d=\"M510.753,-29.1351C505.924,-31.4111 500.813,-33.8022 496.042,-36 470.43,-47.7977 441.555,-60.7726 418.78,-70.9316\"/>\r\n",
       "<polygon fill=\"black\" stroke=\"black\" points=\"417.13,-67.835 409.42,-75.1015 419.978,-74.2292 417.13,-67.835\"/>\r\n",
       "</g>\r\n",
       "<!-- Sex&#45;&gt;Education&#45;Num -->\r\n",
       "<g id=\"edge24\" class=\"edge\"><title>Sex&#45;&gt;Education&#45;Num</title>\r\n",
       "<path fill=\"none\" stroke=\"black\" d=\"M528.895,-35.945C527.463,-43.6544 525.733,-52.9731 524.124,-61.6358\"/>\r\n",
       "<polygon fill=\"black\" stroke=\"black\" points=\"520.635,-61.2537 522.25,-71.7247 527.517,-62.5319 520.635,-61.2537\"/>\r\n",
       "</g>\r\n",
       "<!-- Sex&#45;&gt;Workclass -->\r\n",
       "<g id=\"edge25\" class=\"edge\"><title>Sex&#45;&gt;Workclass</title>\r\n",
       "<path fill=\"none\" stroke=\"black\" d=\"M552.078,-30.4025C570.625,-40.9579 598.59,-56.873 620.698,-69.4544\"/>\r\n",
       "<polygon fill=\"black\" stroke=\"black\" points=\"619.04,-72.5378 629.462,-74.4422 622.502,-66.4541 619.04,-72.5378\"/>\r\n",
       "</g>\r\n",
       "<!-- Sex&#45;&gt;Capital Loss -->\r\n",
       "<g id=\"edge26\" class=\"edge\"><title>Sex&#45;&gt;Capital Loss</title>\r\n",
       "<path fill=\"none\" stroke=\"black\" d=\"M556.728,-25.9678C596.782,-37.2735 676.736,-59.8409 729.303,-74.6784\"/>\r\n",
       "<polygon fill=\"black\" stroke=\"black\" points=\"728.533,-78.0977 739.107,-77.4458 730.434,-71.3609 728.533,-78.0977\"/>\r\n",
       "</g>\r\n",
       "<!-- Country -->\r\n",
       "<g id=\"node12\" class=\"node\"><title>Country</title>\r\n",
       "<ellipse fill=\"none\" stroke=\"black\" cx=\"642.042\" cy=\"-18\" rx=\"40.0939\" ry=\"18\"/>\r\n",
       "<text text-anchor=\"middle\" x=\"642.042\" y=\"-14.3\" font-family=\"Times New Roman,serif\" font-size=\"14.00\">Country</text>\r\n",
       "</g>\r\n",
       "<!-- Country&#45;&gt;Occupation -->\r\n",
       "<g id=\"edge27\" class=\"edge\"><title>Country&#45;&gt;Occupation</title>\r\n",
       "<path fill=\"none\" stroke=\"black\" d=\"M672.565,-29.9078C678.964,-32.0447 685.695,-34.184 692.042,-36 759.62,-55.3365 777.914,-54.7034 846.042,-72 850.119,-73.0351 854.339,-74.1338 858.572,-75.2551\"/>\r\n",
       "<polygon fill=\"black\" stroke=\"black\" points=\"857.846,-78.6839 868.411,-77.8928 859.659,-71.9226 857.846,-78.6839\"/>\r\n",
       "</g>\r\n",
       "<!-- Country&#45;&gt;predicted income &gt;50k -->\r\n",
       "<g id=\"edge28\" class=\"edge\"><title>Country&#45;&gt;predicted income &gt;50k</title>\r\n",
       "<path fill=\"none\" stroke=\"black\" d=\"M671.592,-30.3493C678.236,-32.5341 685.314,-34.5808 692.042,-36 736.572,-45.3922 1069.31,-38.4355 1100.04,-72 1110.85,-83.8004 1110.76,-96.1192 1100.04,-108 1073.12,-137.846 831.57,-151.899 689.729,-157.629\"/>\r\n",
       "<polygon fill=\"black\" stroke=\"black\" points=\"689.546,-154.134 679.693,-158.028 689.824,-161.128 689.546,-154.134\"/>\r\n",
       "</g>\r\n",
       "<!-- Country&#45;&gt;Capital Gain -->\r\n",
       "<g id=\"edge29\" class=\"edge\"><title>Country&#45;&gt;Capital Gain</title>\r\n",
       "<path fill=\"none\" stroke=\"black\" d=\"M671.903,-30.2319C678.467,-32.3966 685.433,-34.4647 692.042,-36 813.398,-64.1919 847.751,-48.19 970.042,-72 974.733,-72.9133 979.587,-73.9696 984.432,-75.0998\"/>\r\n",
       "<polygon fill=\"black\" stroke=\"black\" points=\"983.765,-78.5396 994.309,-77.5014 985.419,-71.7378 983.765,-78.5396\"/>\r\n",
       "</g>\r\n",
       "<!-- Country&#45;&gt;Hours per week -->\r\n",
       "<g id=\"edge30\" class=\"edge\"><title>Country&#45;&gt;Hours per week</title>\r\n",
       "<path fill=\"none\" stroke=\"black\" d=\"M607.967,-27.8373C595.48,-30.8079 581.189,-33.8976 568.042,-36 394.845,-63.6982 348.392,-45.2738 175.042,-72 168.84,-72.9563 162.391,-74.1061 155.977,-75.3512\"/>\r\n",
       "<polygon fill=\"black\" stroke=\"black\" points=\"155.077,-71.9621 145.968,-77.3718 156.463,-78.8237 155.077,-71.9621\"/>\r\n",
       "</g>\r\n",
       "<!-- Country&#45;&gt;Marital Status -->\r\n",
       "<g id=\"edge31\" class=\"edge\"><title>Country&#45;&gt;Marital Status</title>\r\n",
       "<path fill=\"none\" stroke=\"black\" d=\"M607.535,-27.5718C595.131,-30.4819 581.004,-33.6008 568.042,-36 455.497,-56.8324 425.42,-50.2817 313.042,-72 308.023,-72.9701 302.82,-74.0715 297.626,-75.2363\"/>\r\n",
       "<polygon fill=\"black\" stroke=\"black\" points=\"296.648,-71.87 287.696,-77.5367 298.228,-78.6894 296.648,-71.87\"/>\r\n",
       "</g>\r\n",
       "<!-- Country&#45;&gt;Relationship -->\r\n",
       "<g id=\"edge32\" class=\"edge\"><title>Country&#45;&gt;Relationship</title>\r\n",
       "<path fill=\"none\" stroke=\"black\" d=\"M608.068,-27.9966C568.276,-38.5355 500.371,-56.5246 442.042,-72 437.979,-73.0779 433.771,-74.1947 429.543,-75.3173\"/>\r\n",
       "<polygon fill=\"black\" stroke=\"black\" points=\"428.464,-71.9823 419.698,-77.9315 430.261,-78.7479 428.464,-71.9823\"/>\r\n",
       "</g>\r\n",
       "<!-- Country&#45;&gt;Education&#45;Num -->\r\n",
       "<g id=\"edge33\" class=\"edge\"><title>Country&#45;&gt;Education&#45;Num</title>\r\n",
       "<path fill=\"none\" stroke=\"black\" d=\"M618.034,-32.6629C600.21,-42.8069 575.591,-56.8177 555.364,-68.329\"/>\r\n",
       "<polygon fill=\"black\" stroke=\"black\" points=\"553.38,-65.4311 546.42,-73.4192 556.842,-71.5149 553.38,-65.4311\"/>\r\n",
       "</g>\r\n",
       "<!-- Country&#45;&gt;Workclass -->\r\n",
       "<g id=\"edge34\" class=\"edge\"><title>Country&#45;&gt;Workclass</title>\r\n",
       "<path fill=\"none\" stroke=\"black\" d=\"M645.189,-35.945C646.621,-43.6544 648.351,-52.9731 649.96,-61.6358\"/>\r\n",
       "<polygon fill=\"black\" stroke=\"black\" points=\"646.567,-62.5319 651.834,-71.7247 653.449,-61.2537 646.567,-62.5319\"/>\r\n",
       "</g>\r\n",
       "<!-- Country&#45;&gt;Capital Loss -->\r\n",
       "<g id=\"edge35\" class=\"edge\"><title>Country&#45;&gt;Capital Loss</title>\r\n",
       "<path fill=\"none\" stroke=\"black\" d=\"M667.675,-32.0024C688.594,-42.6134 718.456,-57.7608 742.138,-69.7735\"/>\r\n",
       "<polygon fill=\"black\" stroke=\"black\" points=\"740.706,-72.9712 751.207,-74.3737 743.872,-66.7284 740.706,-72.9712\"/>\r\n",
       "</g>\r\n",
       "<!-- Race -->\r\n",
       "<g id=\"node13\" class=\"node\"><title>Race</title>\r\n",
       "<ellipse fill=\"none\" stroke=\"black\" cx=\"730.042\" cy=\"-18\" rx=\"29.4969\" ry=\"18\"/>\r\n",
       "<text text-anchor=\"middle\" x=\"730.042\" y=\"-14.3\" font-family=\"Times New Roman,serif\" font-size=\"14.00\">Race</text>\r\n",
       "</g>\r\n",
       "<!-- Race&#45;&gt;Occupation -->\r\n",
       "<g id=\"edge36\" class=\"edge\"><title>Race&#45;&gt;Occupation</title>\r\n",
       "<path fill=\"none\" stroke=\"black\" d=\"M754.048,-28.4405C782.499,-39.629 830.433,-58.4797 865.278,-72.1825\"/>\r\n",
       "<polygon fill=\"black\" stroke=\"black\" points=\"864.144,-75.4976 874.731,-75.9003 866.706,-68.9833 864.144,-75.4976\"/>\r\n",
       "</g>\r\n",
       "<!-- Race&#45;&gt;predicted income &gt;50k -->\r\n",
       "<g id=\"edge37\" class=\"edge\"><title>Race&#45;&gt;predicted income &gt;50k</title>\r\n",
       "<path fill=\"none\" stroke=\"black\" d=\"M759.455,-18.2951C841.732,-17.016 1071.27,-18.4071 1118.04,-72 1128.56,-84.055 1128.78,-96.1378 1118.04,-108 1089.94,-139.044 836.714,-152.673 690.341,-158.003\"/>\r\n",
       "<polygon fill=\"black\" stroke=\"black\" points=\"689.86,-154.517 679.991,-158.372 690.11,-161.513 689.86,-154.517\"/>\r\n",
       "</g>\r\n",
       "<!-- Race&#45;&gt;Capital Gain -->\r\n",
       "<g id=\"edge38\" class=\"edge\"><title>Race&#45;&gt;Capital Gain</title>\r\n",
       "<path fill=\"none\" stroke=\"black\" d=\"M757.475,-24.6994C802.139,-34.059 893.3,-53.4982 970.042,-72 974.434,-73.0589 978.985,-74.1866 983.547,-75.338\"/>\r\n",
       "<polygon fill=\"black\" stroke=\"black\" points=\"982.936,-78.7943 993.492,-77.8789 984.669,-72.0122 982.936,-78.7943\"/>\r\n",
       "</g>\r\n",
       "<!-- Race&#45;&gt;Hours per week -->\r\n",
       "<g id=\"edge39\" class=\"edge\"><title>Race&#45;&gt;Hours per week</title>\r\n",
       "<path fill=\"none\" stroke=\"black\" d=\"M708.225,-30.0626C702.742,-32.4057 696.781,-34.5934 691.042,-36 467.76,-90.7259 402.615,-39.4369 175.042,-72 168.74,-72.9018 162.187,-74.0274 155.678,-75.2674\"/>\r\n",
       "<polygon fill=\"black\" stroke=\"black\" points=\"154.647,-71.904 145.526,-77.2944 156.018,-78.7685 154.647,-71.904\"/>\r\n",
       "</g>\r\n",
       "<!-- Race&#45;&gt;Marital Status -->\r\n",
       "<g id=\"edge40\" class=\"edge\"><title>Race&#45;&gt;Marital Status</title>\r\n",
       "<path fill=\"none\" stroke=\"black\" d=\"M707.787,-30.1355C702.419,-32.4164 696.62,-34.5579 691.042,-36 527.655,-78.2436 479.419,-43.7384 313.042,-72 307.928,-72.8687 302.632,-73.9107 297.353,-75.0455\"/>\r\n",
       "<polygon fill=\"black\" stroke=\"black\" points=\"296.256,-71.7051 287.272,-77.3213 297.797,-78.5332 296.256,-71.7051\"/>\r\n",
       "</g>\r\n",
       "<!-- Race&#45;&gt;Relationship -->\r\n",
       "<g id=\"edge41\" class=\"edge\"><title>Race&#45;&gt;Relationship</title>\r\n",
       "<path fill=\"none\" stroke=\"black\" d=\"M707.734,-29.9394C702.368,-32.2284 696.583,-34.4227 691.042,-36 583.497,-66.6137 551.595,-49.6093 442.042,-72 437.614,-72.905 433.037,-73.933 428.46,-75.0247\"/>\r\n",
       "<polygon fill=\"black\" stroke=\"black\" points=\"427.366,-71.6901 418.502,-77.4939 429.051,-78.4844 427.366,-71.6901\"/>\r\n",
       "</g>\r\n",
       "<!-- Race&#45;&gt;Education&#45;Num -->\r\n",
       "<g id=\"edge42\" class=\"edge\"><title>Race&#45;&gt;Education&#45;Num</title>\r\n",
       "<path fill=\"none\" stroke=\"black\" d=\"M707.119,-29.5009C701.881,-31.758 696.306,-34.0489 691.042,-36 652.509,-50.2836 608.173,-63.8793 574.165,-73.7241\"/>\r\n",
       "<polygon fill=\"black\" stroke=\"black\" points=\"573.056,-70.4011 564.412,-76.5269 574.989,-77.1288 573.056,-70.4011\"/>\r\n",
       "</g>\r\n",
       "<!-- Race&#45;&gt;Workclass -->\r\n",
       "<g id=\"edge43\" class=\"edge\"><title>Race&#45;&gt;Workclass</title>\r\n",
       "<path fill=\"none\" stroke=\"black\" d=\"M714.502,-33.504C704.462,-42.8748 691.179,-55.2719 679.715,-65.9718\"/>\r\n",
       "<polygon fill=\"black\" stroke=\"black\" points=\"677.054,-63.6683 672.131,-73.0502 681.83,-68.7857 677.054,-63.6683\"/>\r\n",
       "</g>\r\n",
       "<!-- Race&#45;&gt;Capital Loss -->\r\n",
       "<g id=\"edge44\" class=\"edge\"><title>Race&#45;&gt;Capital Loss</title>\r\n",
       "<path fill=\"none\" stroke=\"black\" d=\"M741.388,-34.8841C747.538,-43.4949 755.28,-54.3326 762.216,-64.0433\"/>\r\n",
       "<polygon fill=\"black\" stroke=\"black\" points=\"759.383,-66.0996 768.044,-72.2027 765.08,-62.0309 759.383,-66.0996\"/>\r\n",
       "</g>\r\n",
       "</g>\r\n",
       "</svg>\r\n"
      ],
      "text/plain": [
       "<graphviz.files.Source at 0x1e944bdcd90>"
      ]
     },
     "metadata": {},
     "output_type": "display_data"
    }
   ],
   "source": [
    "causal_links = CausalLinks()\n",
    "categorical_feature_names = ['Workclass', 'Marital Status', 'Occupation',\n",
    "                             'Relationship', 'Race', 'Sex', 'Country']\n",
    "display_translator = translator(X.columns, X, X_display)\n",
    "target_name = 'predicted income >50k'\n",
    "feature_names = list(X.columns)\n",
    "\n",
    "# build causal links\n",
    "causal_links.add_causes_effects(feature_names, target_name, create_xgboost_f(feature_names, model)) # target is probability\n",
    "A = ['Age', 'Sex', 'Country', 'Race']\n",
    "D = list(set(feature_names) - set(A))\n",
    "causal_links.add_causes_effects(A, D)\n",
    "\n",
    "causal_graph = build_feature_graph(X.fillna(X.mean()), causal_links, categorical_feature_names, display_translator, target_name, method='linear')\n",
    "causal_graph.draw()"
   ]
  },
  {
   "cell_type": "code",
   "execution_count": 12,
   "id": "5f9438a8",
   "metadata": {},
   "outputs": [
    {
     "name": "stderr",
     "output_type": "stream",
     "text": [
      "bruteforce sampling:   1%|▌                                                            | 1/100 [00:00<00:18,  5.38it/s]"
     ]
    },
    {
     "name": "stdout",
     "output_type": "stream",
     "text": [
      "bg 0/1\n"
     ]
    },
    {
     "name": "stderr",
     "output_type": "stream",
     "text": [
      "bruteforce sampling: 100%|███████████████████████████████████████████████████████████| 100/100 [00:29<00:00,  3.40it/s]\n"
     ]
    }
   ],
   "source": [
    "# multiple background result\n",
    "causal_edge_credits = [] # save for each run\n",
    "for i in range(len(bg)): # average run result using linearity axiom\n",
    "    print(f'bg {i}/{len(bg)}')\n",
    "    cf_c = GraphExplainer(causal_graph, bg[i:i+1], nruns=nruns).shap_values(fg)\n",
    "    causal_edge_credits.append(node_dict2str_dict(cf_c.edge_credit)) # use node name is more portable vs. node"
   ]
  },
  {
   "cell_type": "code",
   "execution_count": 13,
   "id": "88a06a9d",
   "metadata": {},
   "outputs": [
    {
     "data": {
      "image/svg+xml": [
       "<?xml version=\"1.0\" encoding=\"UTF-8\" standalone=\"no\"?>\r\n",
       "<!DOCTYPE svg PUBLIC \"-//W3C//DTD SVG 1.1//EN\"\r\n",
       " \"http://www.w3.org/Graphics/SVG/1.1/DTD/svg11.dtd\">\r\n",
       "<!-- Generated by graphviz version 2.38.0 (20140413.2041)\r\n",
       " -->\r\n",
       "<!-- Pages: 1 -->\r\n",
       "<svg width=\"567pt\" height=\"260pt\"\r\n",
       " viewBox=\"0.00 0.00 567.14 260.00\" xmlns=\"http://www.w3.org/2000/svg\" xmlns:xlink=\"http://www.w3.org/1999/xlink\">\r\n",
       "<g id=\"graph0\" class=\"graph\" transform=\"scale(1 1) rotate(0) translate(4 256)\">\r\n",
       "<polygon fill=\"white\" stroke=\"none\" points=\"-4,4 -4,-256 563.136,-256 563.136,4 -4,4\"/>\r\n",
       "<!-- Education&#45;Num -->\r\n",
       "<g id=\"node1\" class=\"node\"><title>Education&#45;Num</title>\r\n",
       "<ellipse fill=\"none\" stroke=\"black\" cx=\"87.8916\" cy=\"-180\" rx=\"67.6881\" ry=\"18\"/>\r\n",
       "<text text-anchor=\"middle\" x=\"87.8916\" y=\"-176.3\" font-family=\"Times New Roman,serif\" font-size=\"14.00\">Education&#45;Num</text>\r\n",
       "</g>\r\n",
       "<!-- predicted income &gt;50k -->\r\n",
       "<g id=\"node2\" class=\"node\"><title>predicted income &gt;50k</title>\r\n",
       "<ellipse fill=\"none\" stroke=\"black\" cx=\"94.8916\" cy=\"-18\" rx=\"94.7833\" ry=\"18\"/>\r\n",
       "<text text-anchor=\"middle\" x=\"94.8916\" y=\"-14.3\" font-family=\"Times New Roman,serif\" font-size=\"14.00\">predicted income &gt;50k</text>\r\n",
       "</g>\r\n",
       "<!-- Education&#45;Num&#45;&gt;predicted income &gt;50k -->\r\n",
       "<g id=\"edge1\" class=\"edge\"><title>Education&#45;Num&#45;&gt;predicted income &gt;50k</title>\r\n",
       "<path fill=\"none\" stroke=\"#008bfb\" stroke-width=\"4.51192\" d=\"M88.6407,-161.877C89.8512,-134.209 92.2475,-79.4355 93.696,-46.3268\"/>\r\n",
       "<polygon fill=\"#008bfb\" stroke=\"#008bfb\" stroke-width=\"4.51192\" points=\"97.6548,-46.1627 94.1478,-35.9997 89.7665,-45.8175 97.6548,-46.1627\"/>\r\n",
       "<text text-anchor=\"middle\" x=\"106.392\" y=\"-122.3\" font-family=\"Times New Roman,serif\" font-size=\"14.00\" fill=\"#008bfb\">&#45;0.05</text>\r\n",
       "</g>\r\n",
       "<!-- Occupation -->\r\n",
       "<g id=\"node3\" class=\"node\"><title>Occupation</title>\r\n",
       "<polygon fill=\"none\" stroke=\"black\" points=\"247.892,-198 165.892,-198 165.892,-162 247.892,-162 247.892,-198\"/>\r\n",
       "<text text-anchor=\"middle\" x=\"206.892\" y=\"-176.3\" font-family=\"Times New Roman,serif\" font-size=\"14.00\">Occupation</text>\r\n",
       "</g>\r\n",
       "<!-- Occupation&#45;&gt;predicted income &gt;50k -->\r\n",
       "<g id=\"edge2\" class=\"edge\"><title>Occupation&#45;&gt;predicted income &gt;50k</title>\r\n",
       "<path fill=\"none\" stroke=\"#008bfb\" stroke-width=\"1.92652\" d=\"M180.977,-161.802C174.26,-156.59 167.381,-150.505 161.892,-144 136.407,-113.798 116.542,-72.3341 105.268,-45.6004\"/>\r\n",
       "<polygon fill=\"#008bfb\" stroke=\"#008bfb\" stroke-width=\"1.92652\" points=\"108.414,-44.0473 101.374,-36.1298 101.94,-46.7095 108.414,-44.0473\"/>\r\n",
       "<text text-anchor=\"middle\" x=\"176.392\" y=\"-122.3\" font-family=\"Times New Roman,serif\" font-size=\"14.00\" fill=\"#008bfb\">&#45;0.02</text>\r\n",
       "</g>\r\n",
       "<!-- Capital Gain -->\r\n",
       "<g id=\"node4\" class=\"node\"><title>Capital Gain</title>\r\n",
       "<ellipse fill=\"none\" stroke=\"black\" cx=\"312.892\" cy=\"-126\" rx=\"55.7903\" ry=\"18\"/>\r\n",
       "<text text-anchor=\"middle\" x=\"312.892\" y=\"-122.3\" font-family=\"Times New Roman,serif\" font-size=\"14.00\">Capital Gain</text>\r\n",
       "</g>\r\n",
       "<!-- Capital Gain&#45;&gt;predicted income &gt;50k -->\r\n",
       "<g id=\"edge3\" class=\"edge\"><title>Capital Gain&#45;&gt;predicted income &gt;50k</title>\r\n",
       "<path fill=\"none\" stroke=\"#ff0051\" stroke-width=\"3.43202\" d=\"M283.037,-110.483C245.23,-92.1004 179.863,-60.3162 136.998,-39.4737\"/>\r\n",
       "<polygon fill=\"#ff0051\" stroke=\"#ff0051\" stroke-width=\"3.43202\" points=\"138.469,-36.2974 127.946,-35.0721 135.408,-42.5927 138.469,-36.2974\"/>\r\n",
       "<text text-anchor=\"middle\" x=\"249.392\" y=\"-68.3\" font-family=\"Times New Roman,serif\" font-size=\"14.00\" fill=\"#ff0051\">0.04</text>\r\n",
       "</g>\r\n",
       "<!-- Relationship -->\r\n",
       "<g id=\"node5\" class=\"node\"><title>Relationship</title>\r\n",
       "<polygon fill=\"none\" stroke=\"black\" points=\"473.892,-144 387.892,-144 387.892,-108 473.892,-108 473.892,-144\"/>\r\n",
       "<text text-anchor=\"middle\" x=\"430.892\" y=\"-122.3\" font-family=\"Times New Roman,serif\" font-size=\"14.00\">Relationship</text>\r\n",
       "</g>\r\n",
       "<!-- Relationship&#45;&gt;predicted income &gt;50k -->\r\n",
       "<g id=\"edge4\" class=\"edge\"><title>Relationship&#45;&gt;predicted income &gt;50k</title>\r\n",
       "<path fill=\"none\" stroke=\"#ff0051\" stroke-width=\"5\" d=\"M396.907,-107.936C364.081,-92.0439 312.606,-68.6616 265.892,-54 236.925,-44.9086 204.441,-37.5725 175.628,-32.0104\"/>\r\n",
       "<polygon fill=\"#ff0051\" stroke=\"#ff0051\" stroke-width=\"5\" points=\"176.24,-27.6736 165.602,-30.1169 174.616,-36.2717 176.24,-27.6736\"/>\r\n",
       "<text text-anchor=\"middle\" x=\"369.392\" y=\"-68.3\" font-family=\"Times New Roman,serif\" font-size=\"14.00\" fill=\"#ff0051\">0.05</text>\r\n",
       "</g>\r\n",
       "<!-- Age -->\r\n",
       "<g id=\"node6\" class=\"node\"><title>Age</title>\r\n",
       "<ellipse fill=\"none\" stroke=\"black\" cx=\"270.892\" cy=\"-234\" rx=\"27\" ry=\"18\"/>\r\n",
       "<text text-anchor=\"middle\" x=\"270.892\" y=\"-230.3\" font-family=\"Times New Roman,serif\" font-size=\"14.00\">Age</text>\r\n",
       "</g>\r\n",
       "<!-- Age&#45;&gt;predicted income &gt;50k -->\r\n",
       "<g id=\"edge5\" class=\"edge\"><title>Age&#45;&gt;predicted income &gt;50k</title>\r\n",
       "<path fill=\"none\" stroke=\"#ff0051\" stroke-width=\"3.21192\" d=\"M269.856,-215.983C268.157,-200.561 263.677,-177.883 251.892,-162 242.852,-149.818 234.496,-153.771 222.892,-144 206.516,-130.212 206.495,-122.656 190.892,-108 181.43,-99.1131 177.61,-98.6051 167.892,-90 150.951,-74.9997 148.112,-69.7763 131.892,-54 128.183,-50.3935 124.238,-46.6076 120.357,-42.9126\"/>\r\n",
       "<polygon fill=\"#ff0051\" stroke=\"#ff0051\" stroke-width=\"3.21192\" points=\"122.719,-40.329 113.054,-35.9902 117.904,-45.4096 122.719,-40.329\"/>\r\n",
       "<text text-anchor=\"middle\" x=\"235.392\" y=\"-122.3\" font-family=\"Times New Roman,serif\" font-size=\"14.00\" fill=\"#ff0051\">0.03</text>\r\n",
       "</g>\r\n",
       "<!-- Age&#45;&gt;Capital Gain -->\r\n",
       "<g id=\"edge6\" class=\"edge\"><title>Age&#45;&gt;Capital Gain</title>\r\n",
       "<path fill=\"none\" stroke=\"#008bfb\" stroke-width=\"1.19889\" d=\"M277.026,-216.283C282.376,-201.847 290.429,-180.462 297.892,-162 299.006,-159.242 300.193,-156.372 301.391,-153.515\"/>\r\n",
       "<polygon fill=\"#008bfb\" stroke=\"#008bfb\" stroke-width=\"1.19889\" points=\"304.732,-154.603 305.425,-144.031 298.29,-151.863 304.732,-154.603\"/>\r\n",
       "<text text-anchor=\"middle\" x=\"312.392\" y=\"-176.3\" font-family=\"Times New Roman,serif\" font-size=\"14.00\" fill=\"#008bfb\">&#45;0.01</text>\r\n",
       "</g>\r\n",
       "<!-- Race -->\r\n",
       "<g id=\"node7\" class=\"node\"><title>Race</title>\r\n",
       "<polygon fill=\"none\" stroke=\"black\" points=\"374.892,-252 320.892,-252 320.892,-216 374.892,-216 374.892,-252\"/>\r\n",
       "<text text-anchor=\"middle\" x=\"347.892\" y=\"-230.3\" font-family=\"Times New Roman,serif\" font-size=\"14.00\">Race</text>\r\n",
       "</g>\r\n",
       "<!-- Race&#45;&gt;Capital Gain -->\r\n",
       "<g id=\"edge7\" class=\"edge\"><title>Race&#45;&gt;Capital Gain</title>\r\n",
       "<path fill=\"none\" stroke=\"#ff0051\" stroke-width=\"2.50853\" d=\"M344.961,-215.731C342.201,-201.139 337.5,-179.827 330.892,-162 329.81,-159.083 328.544,-156.096 327.193,-153.157\"/>\r\n",
       "<polygon fill=\"#ff0051\" stroke=\"#ff0051\" stroke-width=\"2.50853\" points=\"330.275,-151.493 322.711,-144.074 323.997,-154.59 330.275,-151.493\"/>\r\n",
       "<text text-anchor=\"middle\" x=\"354.392\" y=\"-176.3\" font-family=\"Times New Roman,serif\" font-size=\"14.00\" fill=\"#ff0051\">0.03</text>\r\n",
       "</g>\r\n",
       "<!-- Sex -->\r\n",
       "<g id=\"node8\" class=\"node\"><title>Sex</title>\r\n",
       "<polygon fill=\"none\" stroke=\"black\" points=\"462.892,-252 408.892,-252 408.892,-216 462.892,-216 462.892,-252\"/>\r\n",
       "<text text-anchor=\"middle\" x=\"435.892\" y=\"-230.3\" font-family=\"Times New Roman,serif\" font-size=\"14.00\">Sex</text>\r\n",
       "</g>\r\n",
       "<!-- Sex&#45;&gt;Capital Gain -->\r\n",
       "<g id=\"edge8\" class=\"edge\"><title>Sex&#45;&gt;Capital Gain</title>\r\n",
       "<path fill=\"none\" stroke=\"#008bfb\" stroke-width=\"1.15103\" d=\"M417.517,-215.969C411.729,-210.386 405.409,-204.058 399.892,-198 386.056,-182.811 386.367,-175.514 370.892,-162 364.663,-156.561 357.48,-151.469 350.338,-146.945\"/>\r\n",
       "<polygon fill=\"#008bfb\" stroke=\"#008bfb\" stroke-width=\"1.15103\" points=\"351.755,-143.712 341.387,-141.533 348.133,-149.702 351.755,-143.712\"/>\r\n",
       "<text text-anchor=\"middle\" x=\"414.392\" y=\"-176.3\" font-family=\"Times New Roman,serif\" font-size=\"14.00\" fill=\"#008bfb\">&#45;0.01</text>\r\n",
       "</g>\r\n",
       "<!-- Sex&#45;&gt;Relationship -->\r\n",
       "<g id=\"edge9\" class=\"edge\"><title>Sex&#45;&gt;Relationship</title>\r\n",
       "<path fill=\"none\" stroke=\"#ff0051\" stroke-width=\"1.77273\" d=\"M435.088,-215.969C434.306,-199.378 433.103,-173.883 432.185,-154.431\"/>\r\n",
       "<polygon fill=\"#ff0051\" stroke=\"#ff0051\" stroke-width=\"1.77273\" points=\"435.677,-154.165 431.71,-144.341 428.685,-154.494 435.677,-154.165\"/>\r\n",
       "<text text-anchor=\"middle\" x=\"447.392\" y=\"-176.3\" font-family=\"Times New Roman,serif\" font-size=\"14.00\" fill=\"#ff0051\">0.02</text>\r\n",
       "</g>\r\n",
       "<!-- Hours per week -->\r\n",
       "<g id=\"node9\" class=\"node\"><title>Hours per week</title>\r\n",
       "<ellipse fill=\"none\" stroke=\"black\" cx=\"490.892\" cy=\"-72\" rx=\"68.4888\" ry=\"18\"/>\r\n",
       "<text text-anchor=\"middle\" x=\"490.892\" y=\"-68.3\" font-family=\"Times New Roman,serif\" font-size=\"14.00\">Hours per week</text>\r\n",
       "</g>\r\n",
       "<!-- Sex&#45;&gt;Hours per week -->\r\n",
       "<g id=\"edge10\" class=\"edge\"><title>Sex&#45;&gt;Hours per week</title>\r\n",
       "<path fill=\"none\" stroke=\"#ff0051\" stroke-width=\"1.25255\" d=\"M451.657,-215.661C456.025,-210.268 460.494,-204.124 463.892,-198 480.932,-167.286 487.222,-126.796 489.542,-100.342\"/>\r\n",
       "<polygon fill=\"#ff0051\" stroke=\"#ff0051\" stroke-width=\"1.25255\" points=\"493.039,-100.502 490.292,-90.2696 486.059,-99.982 493.039,-100.502\"/>\r\n",
       "<text text-anchor=\"middle\" x=\"491.392\" y=\"-176.3\" font-family=\"Times New Roman,serif\" font-size=\"14.00\" fill=\"#ff0051\">0.01</text>\r\n",
       "</g>\r\n",
       "</g>\r\n",
       "</svg>\r\n"
      ],
      "text/plain": [
       "<graphviz.files.Source at 0x1e93f171d90>"
      ]
     },
     "metadata": {},
     "output_type": "display_data"
    },
    {
     "data": {
      "text/plain": [
       "<AGraph <Swig Object of type 'Agraph_t *' at 0x000001E937D755A0>>"
      ]
     },
     "execution_count": 13,
     "metadata": {},
     "output_type": "execute_result"
    }
   ],
   "source": [
    "cf_c.draw(sample_ind, max_display=10, show_fg_val=False, edge_credit=edge_credits2edge_credit(causal_edge_credits, cf_c.graph))"
   ]
  },
  {
   "cell_type": "markdown",
   "id": "d8195c14",
   "metadata": {},
   "source": [
    "## Methods comparison: flow, independent, on-manifold, ASV"
   ]
  },
  {
   "cell_type": "code",
   "execution_count": 14,
   "id": "36dea3e8",
   "metadata": {},
   "outputs": [
    {
     "data": {
      "image/svg+xml": [
       "<?xml version=\"1.0\" encoding=\"UTF-8\" standalone=\"no\"?>\r\n",
       "<!DOCTYPE svg PUBLIC \"-//W3C//DTD SVG 1.1//EN\"\r\n",
       " \"http://www.w3.org/Graphics/SVG/1.1/DTD/svg11.dtd\">\r\n",
       "<!-- Generated by graphviz version 2.38.0 (20140413.2041)\r\n",
       " -->\r\n",
       "<!-- Pages: 1 -->\r\n",
       "<svg width=\"547pt\" height=\"239pt\"\r\n",
       " viewBox=\"0.00 0.00 546.89 239.00\" xmlns=\"http://www.w3.org/2000/svg\" xmlns:xlink=\"http://www.w3.org/1999/xlink\">\r\n",
       "<g id=\"graph0\" class=\"graph\" transform=\"scale(1 1) rotate(0) translate(4 235)\">\r\n",
       "<polygon fill=\"white\" stroke=\"none\" points=\"-4,4 -4,-235 542.892,-235 542.892,4 -4,4\"/>\r\n",
       "<!-- Marital Status -->\r\n",
       "<g id=\"node1\" class=\"node\"><title>Marital Status</title>\r\n",
       "<polygon fill=\"none\" stroke=\"black\" points=\"101.392,-177 8.39158,-177 8.39158,-141 101.392,-141 101.392,-177\"/>\r\n",
       "<text text-anchor=\"middle\" x=\"54.8916\" y=\"-155.3\" font-family=\"Times New Roman,serif\" font-size=\"14.00\">Marital Status</text>\r\n",
       "</g>\r\n",
       "<!-- predicted income &gt;50k -->\r\n",
       "<g id=\"node2\" class=\"node\"><title>predicted income &gt;50k</title>\r\n",
       "<ellipse fill=\"none\" stroke=\"black\" cx=\"94.8916\" cy=\"-18\" rx=\"94.7833\" ry=\"18\"/>\r\n",
       "<text text-anchor=\"middle\" x=\"94.8916\" y=\"-14.3\" font-family=\"Times New Roman,serif\" font-size=\"14.00\">predicted income &gt;50k</text>\r\n",
       "</g>\r\n",
       "<!-- Marital Status&#45;&gt;predicted income &gt;50k -->\r\n",
       "<g id=\"edge1\" class=\"edge\"><title>Marital Status&#45;&gt;predicted income &gt;50k</title>\r\n",
       "<path fill=\"none\" stroke=\"#ff0051\" stroke-width=\"3.77294\" d=\"M59.7964,-140.956C66.6038,-117.3 78.9893,-74.2603 87.0777,-46.1532\"/>\r\n",
       "<polygon fill=\"#ff0051\" stroke=\"#ff0051\" stroke-width=\"3.77294\" points=\"90.5446,-46.7615 89.9467,-36.1835 83.8176,-44.8256 90.5446,-46.7615\"/>\r\n",
       "<text text-anchor=\"middle\" x=\"87.3916\" y=\"-101.3\" font-family=\"Times New Roman,serif\" font-size=\"14.00\" fill=\"#ff0051\">0.02</text>\r\n",
       "</g>\r\n",
       "<!-- Workclass -->\r\n",
       "<g id=\"node3\" class=\"node\"><title>Workclass</title>\r\n",
       "<polygon fill=\"none\" stroke=\"black\" points=\"149.392,-231 72.3916,-231 72.3916,-195 149.392,-195 149.392,-231\"/>\r\n",
       "<text text-anchor=\"middle\" x=\"110.892\" y=\"-209.3\" font-family=\"Times New Roman,serif\" font-size=\"14.00\">Workclass</text>\r\n",
       "</g>\r\n",
       "<!-- Workclass&#45;&gt;predicted income &gt;50k -->\r\n",
       "<g id=\"edge2\" class=\"edge\"><title>Workclass&#45;&gt;predicted income &gt;50k</title>\r\n",
       "<path fill=\"none\" stroke=\"#ff0051\" stroke-width=\"3.66431\" d=\"M111.17,-194.762C111.277,-180.371 111.144,-159.325 109.892,-141 107.662,-108.359 102.723,-71.0582 99.1195,-46.3857\"/>\r\n",
       "<polygon fill=\"#ff0051\" stroke=\"#ff0051\" stroke-width=\"3.66431\" points=\"102.555,-45.6936 97.6206,-36.318 95.6314,-46.7244 102.555,-45.6936\"/>\r\n",
       "<text text-anchor=\"middle\" x=\"121.392\" y=\"-101.3\" font-family=\"Times New Roman,serif\" font-size=\"14.00\" fill=\"#ff0051\">0.01</text>\r\n",
       "</g>\r\n",
       "<!-- Occupation -->\r\n",
       "<g id=\"node4\" class=\"node\"><title>Occupation</title>\r\n",
       "<polygon fill=\"none\" stroke=\"black\" points=\"308.892,-123 226.892,-123 226.892,-87 308.892,-87 308.892,-123\"/>\r\n",
       "<text text-anchor=\"middle\" x=\"267.892\" y=\"-101.3\" font-family=\"Times New Roman,serif\" font-size=\"14.00\">Occupation</text>\r\n",
       "</g>\r\n",
       "<!-- Occupation&#45;&gt;predicted income &gt;50k -->\r\n",
       "<g id=\"edge3\" class=\"edge\"><title>Occupation&#45;&gt;predicted income &gt;50k</title>\r\n",
       "<path fill=\"none\" stroke=\"#ff0051\" stroke-width=\"2.11225\" d=\"M237.636,-86.9321C219.604,-76.9618 196.155,-64.3466 174.892,-54 164.243,-48.8185 152.644,-43.5402 141.666,-38.7067\"/>\r\n",
       "<polygon fill=\"#ff0051\" stroke=\"#ff0051\" stroke-width=\"2.11225\" points=\"142.784,-35.3759 132.218,-34.5872 139.986,-41.7924 142.784,-35.3759\"/>\r\n",
       "<text text-anchor=\"middle\" x=\"216.392\" y=\"-57.8\" font-family=\"Times New Roman,serif\" font-size=\"14.00\" fill=\"#ff0051\">0.01</text>\r\n",
       "</g>\r\n",
       "<!-- Capital Gain -->\r\n",
       "<g id=\"node5\" class=\"node\"><title>Capital Gain</title>\r\n",
       "<ellipse fill=\"none\" stroke=\"black\" cx=\"449.892\" cy=\"-159\" rx=\"55.7903\" ry=\"18\"/>\r\n",
       "<text text-anchor=\"middle\" x=\"449.892\" y=\"-155.3\" font-family=\"Times New Roman,serif\" font-size=\"14.00\">Capital Gain</text>\r\n",
       "</g>\r\n",
       "<!-- Capital Gain&#45;&gt;predicted income &gt;50k -->\r\n",
       "<g id=\"edge4\" class=\"edge\"><title>Capital Gain&#45;&gt;predicted income &gt;50k</title>\r\n",
       "<path fill=\"none\" stroke=\"#ff0051\" stroke-width=\"5\" d=\"M462.941,-141.419C473.484,-125.877 484.649,-102.739 471.892,-87 438.083,-45.2916 296.963,-29.145 197.339,-22.9074\"/>\r\n",
       "<polygon fill=\"#ff0051\" stroke=\"#ff0051\" stroke-width=\"5\" points=\"197.472,-18.5326 187.227,-22.2992 196.947,-27.2668 197.472,-18.5326\"/>\r\n",
       "<text text-anchor=\"middle\" x=\"489.392\" y=\"-101.3\" font-family=\"Times New Roman,serif\" font-size=\"14.00\" fill=\"#ff0051\">0.02</text>\r\n",
       "</g>\r\n",
       "<!-- Hours per week -->\r\n",
       "<g id=\"node6\" class=\"node\"><title>Hours per week</title>\r\n",
       "<ellipse fill=\"none\" stroke=\"black\" cx=\"394.892\" cy=\"-105\" rx=\"68.4888\" ry=\"18\"/>\r\n",
       "<text text-anchor=\"middle\" x=\"394.892\" y=\"-101.3\" font-family=\"Times New Roman,serif\" font-size=\"14.00\">Hours per week</text>\r\n",
       "</g>\r\n",
       "<!-- Hours per week&#45;&gt;predicted income &gt;50k -->\r\n",
       "<g id=\"edge5\" class=\"edge\"><title>Hours per week&#45;&gt;predicted income &gt;50k</title>\r\n",
       "<path fill=\"none\" stroke=\"#008bfb\" stroke-width=\"2.59799\" d=\"M353.445,-90.5693C320.816,-80.1511 274.122,-65.5831 232.892,-54 209.572,-47.4488 183.884,-40.7844 161.058,-35.0534\"/>\r\n",
       "<polygon fill=\"#008bfb\" stroke=\"#008bfb\" stroke-width=\"2.59799\" points=\"161.679,-31.6012 151.129,-32.5739 159.983,-38.3926 161.679,-31.6012\"/>\r\n",
       "<text text-anchor=\"middle\" x=\"297.392\" y=\"-57.8\" font-family=\"Times New Roman,serif\" font-size=\"14.00\" fill=\"#008bfb\">&#45;0.01</text>\r\n",
       "</g>\r\n",
       "<!-- Age -->\r\n",
       "<g id=\"node7\" class=\"node\"><title>Age</title>\r\n",
       "<ellipse fill=\"none\" stroke=\"black\" cx=\"330.892\" cy=\"-213\" rx=\"27\" ry=\"18\"/>\r\n",
       "<text text-anchor=\"middle\" x=\"330.892\" y=\"-209.3\" font-family=\"Times New Roman,serif\" font-size=\"14.00\">Age</text>\r\n",
       "</g>\r\n",
       "<!-- Age&#45;&gt;predicted income &gt;50k -->\r\n",
       "<g id=\"edge6\" class=\"edge\"><title>Age&#45;&gt;predicted income &gt;50k</title>\r\n",
       "<path fill=\"none\" stroke=\"#ff0051\" stroke-width=\"2.60693\" d=\"M358.078,-210.927C404.345,-208.468 495.298,-200.672 514.892,-177 525.664,-163.985 507.643,-89.419 505.892,-87 470.774,-38.5017 309.143,-24.293 199.347,-20.3061\"/>\r\n",
       "<polygon fill=\"#ff0051\" stroke=\"#ff0051\" stroke-width=\"2.60693\" points=\"199.334,-16.8038 189.221,-19.9619 199.096,-23.7997 199.334,-16.8038\"/>\r\n",
       "<text text-anchor=\"middle\" x=\"526.392\" y=\"-101.3\" font-family=\"Times New Roman,serif\" font-size=\"14.00\" fill=\"#ff0051\">0.01</text>\r\n",
       "</g>\r\n",
       "<!-- Sex -->\r\n",
       "<g id=\"node8\" class=\"node\"><title>Sex</title>\r\n",
       "<polygon fill=\"none\" stroke=\"black\" points=\"232.892,-231 178.892,-231 178.892,-195 232.892,-195 232.892,-231\"/>\r\n",
       "<text text-anchor=\"middle\" x=\"205.892\" y=\"-209.3\" font-family=\"Times New Roman,serif\" font-size=\"14.00\">Sex</text>\r\n",
       "</g>\r\n",
       "<!-- Sex&#45;&gt;predicted income &gt;50k -->\r\n",
       "<g id=\"edge7\" class=\"edge\"><title>Sex&#45;&gt;predicted income &gt;50k</title>\r\n",
       "<path fill=\"none\" stroke=\"#ff0051\" stroke-width=\"3.20843\" d=\"M197.003,-194.819C184.338,-170.539 160.162,-124.918 137.892,-87 129.581,-72.85 119.842,-57.366 111.736,-44.7525\"/>\r\n",
       "<polygon fill=\"#ff0051\" stroke=\"#ff0051\" stroke-width=\"3.20843\" points=\"114.534,-42.6337 106.166,-36.1354 108.655,-46.4337 114.534,-42.6337\"/>\r\n",
       "<text text-anchor=\"middle\" x=\"171.392\" y=\"-101.3\" font-family=\"Times New Roman,serif\" font-size=\"14.00\" fill=\"#ff0051\">0.01</text>\r\n",
       "</g>\r\n",
       "<!-- Sex&#45;&gt;Occupation -->\r\n",
       "<g id=\"edge8\" class=\"edge\"><title>Sex&#45;&gt;Occupation</title>\r\n",
       "<path fill=\"none\" stroke=\"#ff0051\" stroke-width=\"2.33726\" d=\"M215.853,-194.969C225.782,-177.994 241.163,-151.698 252.632,-132.09\"/>\r\n",
       "<polygon fill=\"#ff0051\" stroke=\"#ff0051\" stroke-width=\"2.33726\" points=\"255.721,-133.74 257.749,-123.341 249.679,-130.205 255.721,-133.74\"/>\r\n",
       "<text text-anchor=\"middle\" x=\"259.392\" y=\"-155.3\" font-family=\"Times New Roman,serif\" font-size=\"14.00\" fill=\"#ff0051\">0.01</text>\r\n",
       "</g>\r\n",
       "<!-- Sex&#45;&gt;Hours per week -->\r\n",
       "<g id=\"edge9\" class=\"edge\"><title>Sex&#45;&gt;Hours per week</title>\r\n",
       "<path fill=\"none\" stroke=\"#ff0051\" stroke-width=\"3.25325\" d=\"M233.059,-199C246.127,-192.599 261.947,-184.633 275.892,-177 305.083,-161.022 337.473,-141.582 361.081,-127.085\"/>\r\n",
       "<polygon fill=\"#ff0051\" stroke=\"#ff0051\" stroke-width=\"3.25325\" points=\"362.997,-130.015 369.674,-121.789 359.324,-124.056 362.997,-130.015\"/>\r\n",
       "<text text-anchor=\"middle\" x=\"351.392\" y=\"-155.3\" font-family=\"Times New Roman,serif\" font-size=\"14.00\" fill=\"#ff0051\">0.01</text>\r\n",
       "</g>\r\n",
       "</g>\r\n",
       "</svg>\r\n"
      ],
      "text/plain": [
       "<graphviz.files.Source at 0x1e93f003ee0>"
      ]
     },
     "metadata": {},
     "output_type": "display_data"
    }
   ],
   "source": [
    "sample_ind = 33\n",
    "cf_c.fold_noise = True\n",
    "g = cf_c.draw(sample_ind, max_display=9, show_fg_val=False, edge_credit=edge_credits2edge_credit(causal_edge_credits, cf_c.graph))"
   ]
  },
  {
   "cell_type": "code",
   "execution_count": 17,
   "id": "4d0c54c1",
   "metadata": {},
   "outputs": [
    {
     "data": {
      "image/svg+xml": [
       "<?xml version=\"1.0\" encoding=\"UTF-8\" standalone=\"no\"?>\r\n",
       "<!DOCTYPE svg PUBLIC \"-//W3C//DTD SVG 1.1//EN\"\r\n",
       " \"http://www.w3.org/Graphics/SVG/1.1/DTD/svg11.dtd\">\r\n",
       "<!-- Generated by graphviz version 2.38.0 (20140413.2041)\r\n",
       " -->\r\n",
       "<!-- Pages: 1 -->\r\n",
       "<svg width=\"1310pt\" height=\"131pt\"\r\n",
       " viewBox=\"0.00 0.00 1309.89 131.00\" xmlns=\"http://www.w3.org/2000/svg\" xmlns:xlink=\"http://www.w3.org/1999/xlink\">\r\n",
       "<g id=\"graph0\" class=\"graph\" transform=\"scale(1 1) rotate(0) translate(4 127)\">\r\n",
       "<polygon fill=\"white\" stroke=\"none\" points=\"-4,4 -4,-127 1305.89,-127 1305.89,4 -4,4\"/>\r\n",
       "<!-- Age -->\r\n",
       "<g id=\"node1\" class=\"node\"><title>Age</title>\r\n",
       "<ellipse fill=\"none\" stroke=\"black\" cx=\"70.8916\" cy=\"-105\" rx=\"27\" ry=\"18\"/>\r\n",
       "<text text-anchor=\"middle\" x=\"70.8916\" y=\"-101.3\" font-family=\"Times New Roman,serif\" font-size=\"14.00\">Age</text>\r\n",
       "</g>\r\n",
       "<!-- predicted income &gt;50k -->\r\n",
       "<g id=\"node2\" class=\"node\"><title>predicted income &gt;50k</title>\r\n",
       "<ellipse fill=\"none\" stroke=\"black\" cx=\"94.8916\" cy=\"-18\" rx=\"94.7833\" ry=\"18\"/>\r\n",
       "<text text-anchor=\"middle\" x=\"94.8916\" y=\"-14.3\" font-family=\"Times New Roman,serif\" font-size=\"14.00\">predicted income &gt;50k</text>\r\n",
       "</g>\r\n",
       "<!-- Age&#45;&gt;predicted income &gt;50k -->\r\n",
       "<g id=\"edge1\" class=\"edge\"><title>Age&#45;&gt;predicted income &gt;50k</title>\r\n",
       "<path fill=\"none\" stroke=\"#ff0051\" stroke-width=\"2.37444\" d=\"M68.9229,-86.961C68.3501,-77.1147 68.6001,-64.6147 71.8916,-54 72.8822,-50.8054 74.2594,-47.6288 75.8523,-44.5669\"/>\r\n",
       "<polygon fill=\"#ff0051\" stroke=\"#ff0051\" stroke-width=\"2.37444\" points=\"78.9566,-46.1961 81.1072,-35.8218 72.9565,-42.5906 78.9566,-46.1961\"/>\r\n",
       "<text text-anchor=\"middle\" x=\"84.3916\" y=\"-57.8\" font-family=\"Times New Roman,serif\" font-size=\"14.00\" fill=\"#ff0051\">0.01</text>\r\n",
       "</g>\r\n",
       "<!-- Education&#45;Num -->\r\n",
       "<g id=\"node3\" class=\"node\"><title>Education&#45;Num</title>\r\n",
       "<ellipse fill=\"none\" stroke=\"black\" cx=\"183.892\" cy=\"-105\" rx=\"67.6881\" ry=\"18\"/>\r\n",
       "<text text-anchor=\"middle\" x=\"183.892\" y=\"-101.3\" font-family=\"Times New Roman,serif\" font-size=\"14.00\">Education&#45;Num</text>\r\n",
       "</g>\r\n",
       "<!-- Education&#45;Num&#45;&gt;predicted income &gt;50k -->\r\n",
       "<g id=\"edge2\" class=\"edge\"><title>Education&#45;Num&#45;&gt;predicted income &gt;50k</title>\r\n",
       "<path fill=\"none\" stroke=\"#ff0051\" stroke-width=\"0.05\" d=\"M149.335,-89.4705C139.312,-84.0919 128.918,-77.251 120.892,-69 114.419,-62.3463 109.173,-53.757 105.133,-45.5806\"/>\r\n",
       "<polygon fill=\"#ff0051\" stroke=\"#ff0051\" stroke-width=\"0.05\" points=\"108.252,-43.9834 100.944,-36.3127 101.874,-46.8667 108.252,-43.9834\"/>\r\n",
       "<text text-anchor=\"middle\" x=\"133.392\" y=\"-57.8\" font-family=\"Times New Roman,serif\" font-size=\"14.00\" fill=\"#ff0051\">0.00</text>\r\n",
       "</g>\r\n",
       "<!-- Marital Status -->\r\n",
       "<g id=\"node4\" class=\"node\"><title>Marital Status</title>\r\n",
       "<polygon fill=\"none\" stroke=\"black\" points=\"362.392,-123 269.392,-123 269.392,-87 362.392,-87 362.392,-123\"/>\r\n",
       "<text text-anchor=\"middle\" x=\"315.892\" y=\"-101.3\" font-family=\"Times New Roman,serif\" font-size=\"14.00\">Marital Status</text>\r\n",
       "</g>\r\n",
       "<!-- Marital Status&#45;&gt;predicted income &gt;50k -->\r\n",
       "<g id=\"edge3\" class=\"edge\"><title>Marital Status&#45;&gt;predicted income &gt;50k</title>\r\n",
       "<path fill=\"none\" stroke=\"#ff0051\" stroke-width=\"5\" d=\"M269.178,-89.1972C266.382,-88.4247 263.605,-87.6856 260.892,-87 220.92,-76.8988 207.998,-84.737 169.892,-69 167.461,-67.9964 146.907,-54.2625 127.931,-41.4433\"/>\r\n",
       "<polygon fill=\"#ff0051\" stroke=\"#ff0051\" stroke-width=\"5\" points=\"130.128,-37.6474 119.394,-35.6667 125.224,-44.8943 130.128,-37.6474\"/>\r\n",
       "<text text-anchor=\"middle\" x=\"182.392\" y=\"-57.8\" font-family=\"Times New Roman,serif\" font-size=\"14.00\" fill=\"#ff0051\">0.02</text>\r\n",
       "</g>\r\n",
       "<!-- Country -->\r\n",
       "<g id=\"node5\" class=\"node\"><title>Country</title>\r\n",
       "<polygon fill=\"none\" stroke=\"black\" points=\"442.892,-123 380.892,-123 380.892,-87 442.892,-87 442.892,-123\"/>\r\n",
       "<text text-anchor=\"middle\" x=\"411.892\" y=\"-101.3\" font-family=\"Times New Roman,serif\" font-size=\"14.00\">Country</text>\r\n",
       "</g>\r\n",
       "<!-- Country&#45;&gt;predicted income &gt;50k -->\r\n",
       "<g id=\"edge4\" class=\"edge\"><title>Country&#45;&gt;predicted income &gt;50k</title>\r\n",
       "<path fill=\"none\" stroke=\"#ff0051\" stroke-width=\"0.05\" d=\"M380.857,-90.1019C377.535,-88.9254 374.171,-87.8593 370.892,-87 305.939,-69.9822 284.599,-90.2078 220.892,-69 208.234,-64.7863 207.018,-59.5611 194.892,-54 181.307,-47.7702 166.272,-41.9693 152.076,-36.9525\"/>\r\n",
       "<polygon fill=\"#ff0051\" stroke=\"#ff0051\" stroke-width=\"0.05\" points=\"153.005,-33.5704 142.41,-33.609 150.717,-40.1858 153.005,-33.5704\"/>\r\n",
       "<text text-anchor=\"middle\" x=\"233.392\" y=\"-57.8\" font-family=\"Times New Roman,serif\" font-size=\"14.00\" fill=\"#ff0051\">0.00</text>\r\n",
       "</g>\r\n",
       "<!-- Race -->\r\n",
       "<g id=\"node6\" class=\"node\"><title>Race</title>\r\n",
       "<polygon fill=\"none\" stroke=\"black\" points=\"514.892,-123 460.892,-123 460.892,-87 514.892,-87 514.892,-123\"/>\r\n",
       "<text text-anchor=\"middle\" x=\"487.892\" y=\"-101.3\" font-family=\"Times New Roman,serif\" font-size=\"14.00\">Race</text>\r\n",
       "</g>\r\n",
       "<!-- Race&#45;&gt;predicted income &gt;50k -->\r\n",
       "<g id=\"edge5\" class=\"edge\"><title>Race&#45;&gt;predicted income &gt;50k</title>\r\n",
       "<path fill=\"none\" stroke=\"#ff0051\" stroke-width=\"0.05\" d=\"M460.745,-90.0088C457.808,-88.8505 454.822,-87.8141 451.892,-87 375.279,-65.7159 349.941,-92.2166 273.892,-69 260.389,-64.8779 259.105,-58.9705 245.892,-54 222.641,-45.2539 196.524,-38.2644 172.631,-32.9019\"/>\r\n",
       "<polygon fill=\"#ff0051\" stroke=\"#ff0051\" stroke-width=\"0.05\" points=\"173.058,-29.4129 162.542,-30.7029 171.567,-36.2523 173.058,-29.4129\"/>\r\n",
       "<text text-anchor=\"middle\" x=\"286.392\" y=\"-57.8\" font-family=\"Times New Roman,serif\" font-size=\"14.00\" fill=\"#ff0051\">0.00</text>\r\n",
       "</g>\r\n",
       "<!-- Hours per week -->\r\n",
       "<g id=\"node7\" class=\"node\"><title>Hours per week</title>\r\n",
       "<ellipse fill=\"none\" stroke=\"black\" cx=\"600.892\" cy=\"-105\" rx=\"68.4888\" ry=\"18\"/>\r\n",
       "<text text-anchor=\"middle\" x=\"600.892\" y=\"-101.3\" font-family=\"Times New Roman,serif\" font-size=\"14.00\">Hours per week</text>\r\n",
       "</g>\r\n",
       "<!-- Hours per week&#45;&gt;predicted income &gt;50k -->\r\n",
       "<g id=\"edge6\" class=\"edge\"><title>Hours per week&#45;&gt;predicted income &gt;50k</title>\r\n",
       "<path fill=\"none\" stroke=\"#ff0051\" stroke-width=\"1.79478\" d=\"M552.184,-92.2921C542.833,-90.3155 533.089,-88.4407 523.892,-87 439.217,-73.7359 414.717,-91.0381 331.892,-69 316.323,-64.8574 314.291,-58.7344 298.892,-54 262.159,-42.7067 220.514,-34.7409 184.473,-29.2933\"/>\r\n",
       "<polygon fill=\"#ff0051\" stroke=\"#ff0051\" stroke-width=\"1.79478\" points=\"184.867,-25.8138 174.465,-27.8229 183.85,-32.7394 184.867,-25.8138\"/>\r\n",
       "<text text-anchor=\"middle\" x=\"344.392\" y=\"-57.8\" font-family=\"Times New Roman,serif\" font-size=\"14.00\" fill=\"#ff0051\">0.01</text>\r\n",
       "</g>\r\n",
       "<!-- Capital Loss -->\r\n",
       "<g id=\"node8\" class=\"node\"><title>Capital Loss</title>\r\n",
       "<ellipse fill=\"none\" stroke=\"black\" cx=\"743.892\" cy=\"-105\" rx=\"56.59\" ry=\"18\"/>\r\n",
       "<text text-anchor=\"middle\" x=\"743.892\" y=\"-101.3\" font-family=\"Times New Roman,serif\" font-size=\"14.00\">Capital Loss</text>\r\n",
       "</g>\r\n",
       "<!-- Capital Loss&#45;&gt;predicted income &gt;50k -->\r\n",
       "<g id=\"edge7\" class=\"edge\"><title>Capital Loss&#45;&gt;predicted income &gt;50k</title>\r\n",
       "<path fill=\"none\" stroke=\"#ff0051\" stroke-width=\"0.05\" d=\"M703.302,-92.2749C694.958,-90.224 686.187,-88.3259 677.892,-87 556.067,-67.5283 521.883,-93.1135 400.892,-69 380.629,-64.9618 377.005,-58.7238 356.892,-54 302.244,-41.1657 240.002,-32.6054 189.9,-27.165\"/>\r\n",
       "<polygon fill=\"#ff0051\" stroke=\"#ff0051\" stroke-width=\"0.05\" points=\"190.037,-23.66 179.724,-26.0846 189.298,-30.6209 190.037,-23.66\"/>\r\n",
       "<text text-anchor=\"middle\" x=\"413.392\" y=\"-57.8\" font-family=\"Times New Roman,serif\" font-size=\"14.00\" fill=\"#ff0051\">0.00</text>\r\n",
       "</g>\r\n",
       "<!-- Relationship -->\r\n",
       "<g id=\"node9\" class=\"node\"><title>Relationship</title>\r\n",
       "<polygon fill=\"none\" stroke=\"black\" points=\"904.892,-123 818.892,-123 818.892,-87 904.892,-87 904.892,-123\"/>\r\n",
       "<text text-anchor=\"middle\" x=\"861.892\" y=\"-101.3\" font-family=\"Times New Roman,serif\" font-size=\"14.00\">Relationship</text>\r\n",
       "</g>\r\n",
       "<!-- Relationship&#45;&gt;predicted income &gt;50k -->\r\n",
       "<g id=\"edge8\" class=\"edge\"><title>Relationship&#45;&gt;predicted income &gt;50k</title>\r\n",
       "<path fill=\"none\" stroke=\"#ff0051\" stroke-width=\"0.480611\" d=\"M818.7,-88.9499C815.74,-88.2068 812.785,-87.5447 809.892,-87 669.904,-60.6461 630.88,-89.3295 489.892,-69 460.975,-64.8305 454.697,-58.8789 425.892,-54 347.719,-40.7594 258.26,-31.6578 192.068,-26.0619\"/>\r\n",
       "<polygon fill=\"#ff0051\" stroke=\"#ff0051\" stroke-width=\"0.480611\" points=\"192.319,-22.5708 182.063,-25.2278 191.738,-29.5466 192.319,-22.5708\"/>\r\n",
       "<text text-anchor=\"middle\" x=\"502.392\" y=\"-57.8\" font-family=\"Times New Roman,serif\" font-size=\"14.00\" fill=\"#ff0051\">0.00</text>\r\n",
       "</g>\r\n",
       "<!-- Sex -->\r\n",
       "<g id=\"node10\" class=\"node\"><title>Sex</title>\r\n",
       "<polygon fill=\"none\" stroke=\"black\" points=\"976.892,-123 922.892,-123 922.892,-87 976.892,-87 976.892,-123\"/>\r\n",
       "<text text-anchor=\"middle\" x=\"949.892\" y=\"-101.3\" font-family=\"Times New Roman,serif\" font-size=\"14.00\">Sex</text>\r\n",
       "</g>\r\n",
       "<!-- Sex&#45;&gt;predicted income &gt;50k -->\r\n",
       "<g id=\"edge9\" class=\"edge\"><title>Sex&#45;&gt;predicted income &gt;50k</title>\r\n",
       "<path fill=\"none\" stroke=\"#ff0051\" stroke-width=\"4.77407\" d=\"M922.777,-89.8896C919.834,-88.7546 916.837,-87.7561 913.892,-87 787.521,-54.5615 750.695,-82.1505 620.892,-69 573.553,-64.2041 562.175,-59.3112 514.892,-54 404.843,-41.6386 278.118,-31.6602 192.899,-25.5676\"/>\r\n",
       "<polygon fill=\"#ff0051\" stroke=\"#ff0051\" stroke-width=\"4.77407\" points=\"192.987,-21.3861 182.716,-24.844 192.395,-29.7197 192.987,-21.3861\"/>\r\n",
       "<text text-anchor=\"middle\" x=\"633.392\" y=\"-57.8\" font-family=\"Times New Roman,serif\" font-size=\"14.00\" fill=\"#ff0051\">0.02</text>\r\n",
       "</g>\r\n",
       "<!-- Capital Gain -->\r\n",
       "<g id=\"node11\" class=\"node\"><title>Capital Gain</title>\r\n",
       "<ellipse fill=\"none\" stroke=\"black\" cx=\"1050.89\" cy=\"-105\" rx=\"55.7903\" ry=\"18\"/>\r\n",
       "<text text-anchor=\"middle\" x=\"1050.89\" y=\"-101.3\" font-family=\"Times New Roman,serif\" font-size=\"14.00\">Capital Gain</text>\r\n",
       "</g>\r\n",
       "<!-- Capital Gain&#45;&gt;predicted income &gt;50k -->\r\n",
       "<g id=\"edge10\" class=\"edge\"><title>Capital Gain&#45;&gt;predicted income &gt;50k</title>\r\n",
       "<path fill=\"none\" stroke=\"#ff0051\" stroke-width=\"0.05\" d=\"M1010.54,-92.3857C1002.43,-90.3518 993.93,-88.4319 985.892,-87 911.157,-73.6875 721.559,-60.0736 645.892,-54 488.614,-41.3757 305.78,-30.5153 195.285,-24.3701\"/>\r\n",
       "<polygon fill=\"#ff0051\" stroke=\"#ff0051\" stroke-width=\"0.05\" points=\"195.329,-20.8673 185.151,-23.8084 194.942,-27.8565 195.329,-20.8673\"/>\r\n",
       "<text text-anchor=\"middle\" x=\"837.392\" y=\"-57.8\" font-family=\"Times New Roman,serif\" font-size=\"14.00\" fill=\"#ff0051\">0.00</text>\r\n",
       "</g>\r\n",
       "<!-- Workclass -->\r\n",
       "<g id=\"node12\" class=\"node\"><title>Workclass</title>\r\n",
       "<polygon fill=\"none\" stroke=\"black\" points=\"1201.39,-123 1124.39,-123 1124.39,-87 1201.39,-87 1201.39,-123\"/>\r\n",
       "<text text-anchor=\"middle\" x=\"1162.89\" y=\"-101.3\" font-family=\"Times New Roman,serif\" font-size=\"14.00\">Workclass</text>\r\n",
       "</g>\r\n",
       "<!-- Workclass&#45;&gt;predicted income &gt;50k -->\r\n",
       "<g id=\"edge11\" class=\"edge\"><title>Workclass&#45;&gt;predicted income &gt;50k</title>\r\n",
       "<path fill=\"none\" stroke=\"#ff0051\" stroke-width=\"4.68965\" d=\"M1124.37,-89.2999C1121.52,-88.4498 1118.68,-87.67 1115.89,-87 1001.79,-59.5381 970.825,-64.0444 853.892,-54 620.301,-33.9351 345.211,-24.8607 198.841,-21.1876\"/>\r\n",
       "<polygon fill=\"#ff0051\" stroke=\"#ff0051\" stroke-width=\"4.68965\" points=\"198.625,-17.0776 188.527,-20.9324 198.422,-25.282 198.625,-17.0776\"/>\r\n",
       "<text text-anchor=\"middle\" x=\"1039.39\" y=\"-57.8\" font-family=\"Times New Roman,serif\" font-size=\"14.00\" fill=\"#ff0051\">0.02</text>\r\n",
       "</g>\r\n",
       "<!-- Occupation -->\r\n",
       "<g id=\"node13\" class=\"node\"><title>Occupation</title>\r\n",
       "<polygon fill=\"none\" stroke=\"black\" points=\"1301.89,-123 1219.89,-123 1219.89,-87 1301.89,-87 1301.89,-123\"/>\r\n",
       "<text text-anchor=\"middle\" x=\"1260.89\" y=\"-101.3\" font-family=\"Times New Roman,serif\" font-size=\"14.00\">Occupation</text>\r\n",
       "</g>\r\n",
       "<!-- Occupation&#45;&gt;predicted income &gt;50k -->\r\n",
       "<g id=\"edge12\" class=\"edge\"><title>Occupation&#45;&gt;predicted income &gt;50k</title>\r\n",
       "<path fill=\"none\" stroke=\"#ff0051\" stroke-width=\"0.05\" d=\"M1219.82,-89.8739C1216.47,-88.8566 1213.13,-87.8846 1209.89,-87 1142.36,-68.5708 1125.35,-62.6401 1055.89,-54 892.989,-33.7374 413.275,-23.9519 199.617,-20.5039\"/>\r\n",
       "<polygon fill=\"#ff0051\" stroke=\"#ff0051\" stroke-width=\"0.05\" points=\"199.391,-16.9999 189.336,-20.3396 199.279,-23.9991 199.391,-16.9999\"/>\r\n",
       "<text text-anchor=\"middle\" x=\"1154.39\" y=\"-57.8\" font-family=\"Times New Roman,serif\" font-size=\"14.00\" fill=\"#ff0051\">0.00</text>\r\n",
       "</g>\r\n",
       "</g>\r\n",
       "</svg>\r\n"
      ],
      "text/plain": [
       "<graphviz.files.Source at 0x1e944b806d0>"
      ]
     },
     "metadata": {},
     "output_type": "display_data"
    },
    {
     "data": {
      "text/plain": [
       "<AGraph <Swig Object of type 'Agraph_t *' at 0x000001E944BA0DE0>>"
      ]
     },
     "execution_count": 17,
     "metadata": {},
     "output_type": "execute_result"
    }
   ],
   "source": [
    "cf.draw(sample_ind, max_display=10, show_fg_val=False, edge_credit=edge_credits2edge_credit(edge_credits, cf.graph))"
   ]
  },
  {
   "cell_type": "code",
   "execution_count": 18,
   "id": "ec0e1e55",
   "metadata": {},
   "outputs": [
    {
     "data": {
      "image/png": "[encoded data removed]",
      "text/plain": [
       "<Figure size 432x288 with 1 Axes>"
      ]
     },
     "metadata": {
      "needs_background": "light"
     },
     "output_type": "display_data"
    }
   ],
   "source": [
    "sum(manifold_edge_credits).draw(sample_ind, max_display=10)"
   ]
  },
  {
   "cell_type": "code",
   "execution_count": 19,
   "id": "2aed34f6",
   "metadata": {},
   "outputs": [
    {
     "data": {
      "image/svg+xml": [
       "<?xml version=\"1.0\" encoding=\"UTF-8\" standalone=\"no\"?>\r\n",
       "<!DOCTYPE svg PUBLIC \"-//W3C//DTD SVG 1.1//EN\"\r\n",
       " \"http://www.w3.org/Graphics/SVG/1.1/DTD/svg11.dtd\">\r\n",
       "<!-- Generated by graphviz version 2.38.0 (20140413.2041)\r\n",
       " -->\r\n",
       "<!-- Pages: 1 -->\r\n",
       "<svg width=\"1709pt\" height=\"131pt\"\r\n",
       " viewBox=\"0.00 0.00 1709.04 131.00\" xmlns=\"http://www.w3.org/2000/svg\" xmlns:xlink=\"http://www.w3.org/1999/xlink\">\r\n",
       "<g id=\"graph0\" class=\"graph\" transform=\"scale(1 1) rotate(0) translate(4 127)\">\r\n",
       "<polygon fill=\"white\" stroke=\"none\" points=\"-4,4 -4,-127 1705.04,-127 1705.04,4 -4,4\"/>\r\n",
       "<!-- Education&#45;Num noise -->\r\n",
       "<g id=\"node1\" class=\"node\"><title>Education&#45;Num noise</title>\r\n",
       "<ellipse fill=\"none\" stroke=\"black\" cx=\"89.0421\" cy=\"-105\" rx=\"89.0842\" ry=\"18\"/>\r\n",
       "<text text-anchor=\"middle\" x=\"89.0421\" y=\"-101.3\" font-family=\"Times New Roman,serif\" font-size=\"14.00\">Education&#45;Num noise</text>\r\n",
       "</g>\r\n",
       "<!-- predicted income &gt;50k -->\r\n",
       "<g id=\"node2\" class=\"node\"><title>predicted income &gt;50k</title>\r\n",
       "<ellipse fill=\"none\" stroke=\"black\" cx=\"113.042\" cy=\"-18\" rx=\"94.7833\" ry=\"18\"/>\r\n",
       "<text text-anchor=\"middle\" x=\"113.042\" y=\"-14.3\" font-family=\"Times New Roman,serif\" font-size=\"14.00\">predicted income &gt;50k</text>\r\n",
       "</g>\r\n",
       "<!-- Education&#45;Num noise&#45;&gt;predicted income &gt;50k -->\r\n",
       "<g id=\"edge1\" class=\"edge\"><title>Education&#45;Num noise&#45;&gt;predicted income &gt;50k</title>\r\n",
       "<path fill=\"none\" stroke=\"#ff0051\" stroke-width=\"0.05\" d=\"M87.5729,-86.9661C87.2498,-77.1215 87.7498,-64.6215 91.0421,-54 92.0195,-50.8465 93.3561,-47.6963 94.891,-44.6499\"/>\r\n",
       "<polygon fill=\"#ff0051\" stroke=\"#ff0051\" stroke-width=\"0.05\" points=\"97.9606,-46.3332 99.9307,-35.9231 91.8988,-42.8325 97.9606,-46.3332\"/>\r\n",
       "<text text-anchor=\"middle\" x=\"103.542\" y=\"-57.8\" font-family=\"Times New Roman,serif\" font-size=\"14.00\" fill=\"#ff0051\">0.00</text>\r\n",
       "</g>\r\n",
       "<!-- Country -->\r\n",
       "<g id=\"node3\" class=\"node\"><title>Country</title>\r\n",
       "<polygon fill=\"none\" stroke=\"black\" points=\"258.042,-123 196.042,-123 196.042,-87 258.042,-87 258.042,-123\"/>\r\n",
       "<text text-anchor=\"middle\" x=\"227.042\" y=\"-101.3\" font-family=\"Times New Roman,serif\" font-size=\"14.00\">Country</text>\r\n",
       "</g>\r\n",
       "<!-- Country&#45;&gt;predicted income &gt;50k -->\r\n",
       "<g id=\"edge2\" class=\"edge\"><title>Country&#45;&gt;predicted income &gt;50k</title>\r\n",
       "<path fill=\"none\" stroke=\"#ff0051\" stroke-width=\"0.05\" d=\"M195.644,-90.5292C192.741,-89.3222 189.841,-88.1302 187.042,-87 166.301,-78.624 156.848,-83.7612 140.042,-69 132.826,-62.6616 127.193,-53.9126 122.983,-45.5032\"/>\r\n",
       "<polygon fill=\"#ff0051\" stroke=\"#ff0051\" stroke-width=\"0.05\" points=\"126.132,-43.9725 118.826,-36.2997 119.753,-46.8539 126.132,-43.9725\"/>\r\n",
       "<text text-anchor=\"middle\" x=\"152.542\" y=\"-57.8\" font-family=\"Times New Roman,serif\" font-size=\"14.00\" fill=\"#ff0051\">0.00</text>\r\n",
       "</g>\r\n",
       "<!-- Capital Gain noise -->\r\n",
       "<g id=\"node4\" class=\"node\"><title>Capital Gain noise</title>\r\n",
       "<ellipse fill=\"none\" stroke=\"black\" cx=\"353.042\" cy=\"-105\" rx=\"77.1866\" ry=\"18\"/>\r\n",
       "<text text-anchor=\"middle\" x=\"353.042\" y=\"-101.3\" font-family=\"Times New Roman,serif\" font-size=\"14.00\">Capital Gain noise</text>\r\n",
       "</g>\r\n",
       "<!-- Capital Gain noise&#45;&gt;predicted income &gt;50k -->\r\n",
       "<g id=\"edge3\" class=\"edge\"><title>Capital Gain noise&#45;&gt;predicted income &gt;50k</title>\r\n",
       "<path fill=\"none\" stroke=\"#ff0051\" stroke-width=\"4.93338\" d=\"M295.769,-92.7617C252.866,-84.1643 199.932,-73.1083 190.042,-69 185.16,-66.9718 164.655,-53.6152 146.033,-41.2176\"/>\r\n",
       "<polygon fill=\"#ff0051\" stroke=\"#ff0051\" stroke-width=\"4.93338\" points=\"148.385,-37.5979 137.672,-35.6331 143.59,-44.7771 148.385,-37.5979\"/>\r\n",
       "<text text-anchor=\"middle\" x=\"202.542\" y=\"-57.8\" font-family=\"Times New Roman,serif\" font-size=\"14.00\" fill=\"#ff0051\">0.03</text>\r\n",
       "</g>\r\n",
       "<!-- Age -->\r\n",
       "<g id=\"node5\" class=\"node\"><title>Age</title>\r\n",
       "<ellipse fill=\"none\" stroke=\"black\" cx=\"475.042\" cy=\"-105\" rx=\"27\" ry=\"18\"/>\r\n",
       "<text text-anchor=\"middle\" x=\"475.042\" y=\"-101.3\" font-family=\"Times New Roman,serif\" font-size=\"14.00\">Age</text>\r\n",
       "</g>\r\n",
       "<!-- Age&#45;&gt;predicted income &gt;50k -->\r\n",
       "<g id=\"edge4\" class=\"edge\"><title>Age&#45;&gt;predicted income &gt;50k</title>\r\n",
       "<path fill=\"none\" stroke=\"#ff0051\" stroke-width=\"1.45535\" d=\"M454.576,-92.8295C449.617,-90.5501 444.243,-88.418 439.042,-87 354.217,-63.8754 326.059,-94.9073 242.042,-69 228.924,-64.9549 227.583,-59.5828 215.042,-54 200.942,-47.723 185.345,-41.8591 170.677,-36.7931\"/>\r\n",
       "<polygon fill=\"#ff0051\" stroke=\"#ff0051\" stroke-width=\"1.45535\" points=\"171.793,-33.4756 161.198,-33.583 169.547,-40.1057 171.793,-33.4756\"/>\r\n",
       "<text text-anchor=\"middle\" x=\"254.542\" y=\"-57.8\" font-family=\"Times New Roman,serif\" font-size=\"14.00\" fill=\"#ff0051\">0.01</text>\r\n",
       "</g>\r\n",
       "<!-- Marital Status noise -->\r\n",
       "<g id=\"node6\" class=\"node\"><title>Marital Status noise</title>\r\n",
       "<ellipse fill=\"none\" stroke=\"black\" cx=\"602.042\" cy=\"-105\" rx=\"81.7856\" ry=\"18\"/>\r\n",
       "<text text-anchor=\"middle\" x=\"602.042\" y=\"-101.3\" font-family=\"Times New Roman,serif\" font-size=\"14.00\">Marital Status noise</text>\r\n",
       "</g>\r\n",
       "<!-- Marital Status noise&#45;&gt;predicted income &gt;50k -->\r\n",
       "<g id=\"edge5\" class=\"edge\"><title>Marital Status noise&#45;&gt;predicted income &gt;50k</title>\r\n",
       "<path fill=\"none\" stroke=\"#ff0051\" stroke-width=\"2.6438\" d=\"M543.928,-92.2449C533.032,-90.2965 521.713,-88.4439 511.042,-87 416.896,-74.2609 389.668,-94.1101 298.042,-69 283.28,-64.9546 281.487,-59.062 267.042,-54 242.595,-45.4326 215.216,-38.4217 190.4,-32.9853\"/>\r\n",
       "<polygon fill=\"#ff0051\" stroke=\"#ff0051\" stroke-width=\"2.6438\" points=\"190.813,-29.4948 180.303,-30.828 189.351,-36.3403 190.813,-29.4948\"/>\r\n",
       "<text text-anchor=\"middle\" x=\"310.542\" y=\"-57.8\" font-family=\"Times New Roman,serif\" font-size=\"14.00\" fill=\"#ff0051\">0.02</text>\r\n",
       "</g>\r\n",
       "<!-- Capital Loss noise -->\r\n",
       "<g id=\"node7\" class=\"node\"><title>Capital Loss noise</title>\r\n",
       "<ellipse fill=\"none\" stroke=\"black\" cx=\"780.042\" cy=\"-105\" rx=\"77.9862\" ry=\"18\"/>\r\n",
       "<text text-anchor=\"middle\" x=\"780.042\" y=\"-101.3\" font-family=\"Times New Roman,serif\" font-size=\"14.00\">Capital Loss noise</text>\r\n",
       "</g>\r\n",
       "<!-- Capital Loss noise&#45;&gt;predicted income &gt;50k -->\r\n",
       "<g id=\"edge6\" class=\"edge\"><title>Capital Loss noise&#45;&gt;predicted income &gt;50k</title>\r\n",
       "<path fill=\"none\" stroke=\"#ff0051\" stroke-width=\"0.05\" d=\"M725.465,-92.1357C714.758,-90.1484 703.58,-88.3097 693.042,-87 546.838,-68.8294 506.111,-99.8202 362.042,-69 343.882,-65.115 340.959,-58.8848 323.042,-54 283.761,-43.2907 239.402,-35.3173 201.608,-29.7082\"/>\r\n",
       "<polygon fill=\"#ff0051\" stroke=\"#ff0051\" stroke-width=\"0.05\" points=\"202.041,-26.2345 191.642,-28.2609 201.035,-33.1618 202.041,-26.2345\"/>\r\n",
       "<text text-anchor=\"middle\" x=\"374.542\" y=\"-57.8\" font-family=\"Times New Roman,serif\" font-size=\"14.00\" fill=\"#ff0051\">0.00</text>\r\n",
       "</g>\r\n",
       "<!-- Occupation noise -->\r\n",
       "<g id=\"node8\" class=\"node\"><title>Occupation noise</title>\r\n",
       "<ellipse fill=\"none\" stroke=\"black\" cx=\"951.042\" cy=\"-105\" rx=\"74.9875\" ry=\"18\"/>\r\n",
       "<text text-anchor=\"middle\" x=\"951.042\" y=\"-101.3\" font-family=\"Times New Roman,serif\" font-size=\"14.00\">Occupation noise</text>\r\n",
       "</g>\r\n",
       "<!-- Occupation noise&#45;&gt;predicted income &gt;50k -->\r\n",
       "<g id=\"edge7\" class=\"edge\"><title>Occupation noise&#45;&gt;predicted income &gt;50k</title>\r\n",
       "<path fill=\"none\" stroke=\"#008bfb\" stroke-width=\"0.206764\" d=\"M898.823,-92.1099C888.347,-90.0987 877.381,-88.2578 867.042,-87 679.808,-64.2229 629.48,-97.5722 443.042,-69 417.573,-65.0968 412.323,-58.977 387.042,-54 327.367,-42.2519 259.57,-33.5539 206.345,-27.7673\"/>\r\n",
       "<polygon fill=\"#008bfb\" stroke=\"#008bfb\" stroke-width=\"0.206764\" points=\"206.558,-24.2702 196.242,-26.6847 205.812,-31.2303 206.558,-24.2702\"/>\r\n",
       "<text text-anchor=\"middle\" x=\"457.542\" y=\"-57.8\" font-family=\"Times New Roman,serif\" font-size=\"14.00\" fill=\"#008bfb\">&#45;0.00</text>\r\n",
       "</g>\r\n",
       "<!-- Race -->\r\n",
       "<g id=\"node9\" class=\"node\"><title>Race</title>\r\n",
       "<polygon fill=\"none\" stroke=\"black\" points=\"1098.04,-123 1044.04,-123 1044.04,-87 1098.04,-87 1098.04,-123\"/>\r\n",
       "<text text-anchor=\"middle\" x=\"1071.04\" y=\"-101.3\" font-family=\"Times New Roman,serif\" font-size=\"14.00\">Race</text>\r\n",
       "</g>\r\n",
       "<!-- Race&#45;&gt;predicted income &gt;50k -->\r\n",
       "<g id=\"edge8\" class=\"edge\"><title>Race&#45;&gt;predicted income &gt;50k</title>\r\n",
       "<path fill=\"none\" stroke=\"#ff0051\" stroke-width=\"0.05\" d=\"M1043.95,-89.8184C1041,-88.6972 1038,-87.7215 1035.04,-87 932.427,-61.9396 665.11,-79.898 560.042,-69 520.579,-64.9067 511.367,-59.2616 472.042,-54 383.27,-42.1223 281.635,-32.5919 209.218,-26.4934\"/>\r\n",
       "<polygon fill=\"#ff0051\" stroke=\"#ff0051\" stroke-width=\"0.05\" points=\"209.455,-23.001 199.198,-25.6557 208.872,-29.9767 209.455,-23.001\"/>\r\n",
       "<text text-anchor=\"middle\" x=\"572.542\" y=\"-57.8\" font-family=\"Times New Roman,serif\" font-size=\"14.00\" fill=\"#ff0051\">0.00</text>\r\n",
       "</g>\r\n",
       "<!-- Hours per week noise -->\r\n",
       "<g id=\"node10\" class=\"node\"><title>Hours per week noise</title>\r\n",
       "<ellipse fill=\"none\" stroke=\"black\" cx=\"1206.04\" cy=\"-105\" rx=\"89.8845\" ry=\"18\"/>\r\n",
       "<text text-anchor=\"middle\" x=\"1206.04\" y=\"-101.3\" font-family=\"Times New Roman,serif\" font-size=\"14.00\">Hours per week noise</text>\r\n",
       "</g>\r\n",
       "<!-- Hours per week noise&#45;&gt;predicted income &gt;50k -->\r\n",
       "<g id=\"edge9\" class=\"edge\"><title>Hours per week noise&#45;&gt;predicted income &gt;50k</title>\r\n",
       "<path fill=\"none\" stroke=\"#008bfb\" stroke-width=\"4.0574\" d=\"M1143.36,-92.0572C1131.34,-90.1023 1118.83,-88.2955 1107.04,-87 944.271,-69.1105 902.357,-80.9408 739.042,-69 670.457,-63.9854 653.559,-59.8764 585.042,-54 455.892,-42.9233 306.681,-32.2076 211.174,-25.614\"/>\r\n",
       "<polygon fill=\"#008bfb\" stroke=\"#008bfb\" stroke-width=\"4.0574\" points=\"211.172,-22.0553 200.952,-24.9099 210.684,-29.139 211.172,-22.0553\"/>\r\n",
       "<text text-anchor=\"middle\" x=\"753.542\" y=\"-57.8\" font-family=\"Times New Roman,serif\" font-size=\"14.00\" fill=\"#008bfb\">&#45;0.02</text>\r\n",
       "</g>\r\n",
       "<!-- Workclass noise -->\r\n",
       "<g id=\"node11\" class=\"node\"><title>Workclass noise</title>\r\n",
       "<ellipse fill=\"none\" stroke=\"black\" cx=\"1385.04\" cy=\"-105\" rx=\"71.4873\" ry=\"18\"/>\r\n",
       "<text text-anchor=\"middle\" x=\"1385.04\" y=\"-101.3\" font-family=\"Times New Roman,serif\" font-size=\"14.00\">Workclass noise</text>\r\n",
       "</g>\r\n",
       "<!-- Workclass noise&#45;&gt;predicted income &gt;50k -->\r\n",
       "<g id=\"edge10\" class=\"edge\"><title>Workclass noise&#45;&gt;predicted income &gt;50k</title>\r\n",
       "<path fill=\"none\" stroke=\"#ff0051\" stroke-width=\"2.56811\" d=\"M1334.88,-92.156C1325.04,-90.1668 1314.75,-88.3223 1305.04,-87 1245.81,-78.9318 827.723,-57.4282 768.042,-54 571.701,-42.7216 342.182,-30.732 213.601,-24.1234\"/>\r\n",
       "<polygon fill=\"#ff0051\" stroke=\"#ff0051\" stroke-width=\"2.56811\" points=\"213.545,-20.616 203.379,-23.5985 213.186,-27.6068 213.545,-20.616\"/>\r\n",
       "<text text-anchor=\"middle\" x=\"1049.54\" y=\"-57.8\" font-family=\"Times New Roman,serif\" font-size=\"14.00\" fill=\"#ff0051\">0.01</text>\r\n",
       "</g>\r\n",
       "<!-- Relationship noise -->\r\n",
       "<g id=\"node12\" class=\"node\"><title>Relationship noise</title>\r\n",
       "<ellipse fill=\"none\" stroke=\"black\" cx=\"1552.04\" cy=\"-105\" rx=\"77.1866\" ry=\"18\"/>\r\n",
       "<text text-anchor=\"middle\" x=\"1552.04\" y=\"-101.3\" font-family=\"Times New Roman,serif\" font-size=\"14.00\">Relationship noise</text>\r\n",
       "</g>\r\n",
       "<!-- Relationship noise&#45;&gt;predicted income &gt;50k -->\r\n",
       "<g id=\"edge11\" class=\"edge\"><title>Relationship noise&#45;&gt;predicted income &gt;50k</title>\r\n",
       "<path fill=\"none\" stroke=\"#008bfb\" stroke-width=\"0.255243\" d=\"M1496.97,-92.2861C1486.41,-90.31 1475.41,-88.437 1465.04,-87 1288.79,-62.5673 1243.66,-64.6014 1066.04,-54 757.557,-35.588 392.281,-25.4185 217.029,-21.2601\"/>\r\n",
       "<polygon fill=\"#008bfb\" stroke=\"#008bfb\" stroke-width=\"0.255243\" points=\"216.864,-17.7553 206.784,-21.0187 216.699,-24.7534 216.864,-17.7553\"/>\r\n",
       "<text text-anchor=\"middle\" x=\"1321.54\" y=\"-57.8\" font-family=\"Times New Roman,serif\" font-size=\"14.00\" fill=\"#008bfb\">&#45;0.00</text>\r\n",
       "</g>\r\n",
       "<!-- Sex -->\r\n",
       "<g id=\"node13\" class=\"node\"><title>Sex</title>\r\n",
       "<polygon fill=\"none\" stroke=\"black\" points=\"1701.04,-123 1647.04,-123 1647.04,-87 1701.04,-87 1701.04,-123\"/>\r\n",
       "<text text-anchor=\"middle\" x=\"1674.04\" y=\"-101.3\" font-family=\"Times New Roman,serif\" font-size=\"14.00\">Sex</text>\r\n",
       "</g>\r\n",
       "<!-- Sex&#45;&gt;predicted income &gt;50k -->\r\n",
       "<g id=\"edge12\" class=\"edge\"><title>Sex&#45;&gt;predicted income &gt;50k</title>\r\n",
       "<path fill=\"none\" stroke=\"#ff0051\" stroke-width=\"5\" d=\"M1646.89,-90.0374C1643.95,-88.8735 1640.97,-87.828 1638.04,-87 1509.82,-50.7211 1472.98,-63.2408 1340.04,-54 925.365,-25.1739 430.272,-19.9559 218.046,-19.1052\"/>\r\n",
       "<polygon fill=\"#ff0051\" stroke=\"#ff0051\" stroke-width=\"5\" points=\"217.865,-14.7296 207.849,-19.0669 217.832,-23.4796 217.865,-14.7296\"/>\r\n",
       "<text text-anchor=\"middle\" x=\"1571.54\" y=\"-57.8\" font-family=\"Times New Roman,serif\" font-size=\"14.00\" fill=\"#ff0051\">0.03</text>\r\n",
       "</g>\r\n",
       "</g>\r\n",
       "</svg>\r\n"
      ],
      "text/plain": [
       "<graphviz.files.Source at 0x1e93f1c2f40>"
      ]
     },
     "metadata": {},
     "output_type": "display_data"
    }
   ],
   "source": [
    "## ASV\n",
    "cf_c.fold_noise = False\n",
    "g = cf_c.draw_asv(sample_ind, max_display=10, show_fg_val=False, flow_credit=edge_credits2edge_credit(causal_edge_credits, cf_c.graph))"
   ]
  },
  {
   "cell_type": "markdown",
   "id": "e412609a",
   "metadata": {},
   "source": [
    "## Investigate the background and foreground samples"
   ]
  },
  {
   "cell_type": "code",
   "execution_count": 20,
   "id": "5f76693d",
   "metadata": {},
   "outputs": [
    {
     "data": {
      "text/html": [
       "<div>\n",
       "<style scoped>\n",
       "    .dataframe tbody tr th:only-of-type {\n",
       "        vertical-align: middle;\n",
       "    }\n",
       "\n",
       "    .dataframe tbody tr th {\n",
       "        vertical-align: top;\n",
       "    }\n",
       "\n",
       "    .dataframe thead th {\n",
       "        text-align: right;\n",
       "    }\n",
       "</style>\n",
       "<table border=\"1\" class=\"dataframe\">\n",
       "  <thead>\n",
       "    <tr style=\"text-align: right;\">\n",
       "      <th></th>\n",
       "      <th>Age</th>\n",
       "      <th>Workclass</th>\n",
       "      <th>Education-Num</th>\n",
       "      <th>Marital Status</th>\n",
       "      <th>Occupation</th>\n",
       "      <th>Relationship</th>\n",
       "      <th>Race</th>\n",
       "      <th>Sex</th>\n",
       "      <th>Capital Gain</th>\n",
       "      <th>Capital Loss</th>\n",
       "      <th>Hours per week</th>\n",
       "      <th>Country</th>\n",
       "    </tr>\n",
       "  </thead>\n",
       "  <tbody>\n",
       "    <tr>\n",
       "      <th>background sample</th>\n",
       "      <td>27.0</td>\n",
       "      <td>Private</td>\n",
       "      <td>10.0</td>\n",
       "      <td>Divorced</td>\n",
       "      <td>Adm-clerical</td>\n",
       "      <td>Not-in-family</td>\n",
       "      <td>White</td>\n",
       "      <td>Female</td>\n",
       "      <td>0.0</td>\n",
       "      <td>0.0</td>\n",
       "      <td>38.0</td>\n",
       "      <td>United-States</td>\n",
       "    </tr>\n",
       "    <tr>\n",
       "      <th>foreground sample</th>\n",
       "      <td>30.0</td>\n",
       "      <td>Federal-gov</td>\n",
       "      <td>10.0</td>\n",
       "      <td>Married-civ-spouse</td>\n",
       "      <td>Adm-clerical</td>\n",
       "      <td>Own-child</td>\n",
       "      <td>White</td>\n",
       "      <td>Male</td>\n",
       "      <td>0.0</td>\n",
       "      <td>0.0</td>\n",
       "      <td>40.0</td>\n",
       "      <td>United-States</td>\n",
       "    </tr>\n",
       "  </tbody>\n",
       "</table>\n",
       "</div>"
      ],
      "text/plain": [
       "                    Age     Workclass Education-Num       Marital Status  \\\n",
       "background sample  27.0       Private          10.0             Divorced   \n",
       "foreground sample  30.0   Federal-gov          10.0   Married-civ-spouse   \n",
       "\n",
       "                      Occupation    Relationship    Race      Sex  \\\n",
       "background sample   Adm-clerical   Not-in-family   White   Female   \n",
       "foreground sample   Adm-clerical       Own-child   White     Male   \n",
       "\n",
       "                  Capital Gain Capital Loss Hours per week         Country  \n",
       "background sample          0.0          0.0           38.0   United-States  \n",
       "foreground sample          0.0          0.0           40.0   United-States  "
      ]
     },
     "execution_count": 20,
     "metadata": {},
     "output_type": "execute_result"
    }
   ],
   "source": [
    "bg_sample = bg.iloc[0]\n",
    "pd.concat([X_display.iloc[bg_sample.name], X_display.iloc[sample_ind]], 1).rename(columns={bg_sample.name: \"background sample\", sample_ind: 'foreground sample'}).T"
   ]
  },
  {
   "cell_type": "markdown",
   "id": "2056892f",
   "metadata": {},
   "source": [
    "This example is interesting because although Capital Gain is the same between background and the foreground sample, Shapley Flow and on manifold SHAP and ASV all give non-zero attribution to it because we are modeling the relationship among input features. Whether such attribution should be warranteed is not clear. Future work should dive into the implication of such phenonmena. Moreover, note that this phenonmena only occurs in non-linear models."
   ]
  },
  {
   "cell_type": "code",
   "execution_count": null,
   "id": "53fb2cc6",
   "metadata": {},
   "outputs": [],
   "source": []
  }
 ],
 "metadata": {
  "kernelspec": {
   "display_name": "Python 3 (ipykernel)",
   "language": "python",
   "name": "python3"
  },
  "language_info": {
   "codemirror_mode": {
    "name": "ipython",
    "version": 3
   },
   "file_extension": ".py",
   "mimetype": "text/x-python",
   "name": "python",
   "nbconvert_exporter": "python",
   "pygments_lexer": "ipython3",
   "version": "3.8.5"
  }
 },
 "nbformat": 4,
 "nbformat_minor": 5
}
